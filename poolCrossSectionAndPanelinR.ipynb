{
 "cells": [
  {
   "cell_type": "markdown",
   "metadata": {},
   "source": [
    "## 混合横截面和面板数据回归"
   ]
  },
  {
   "cell_type": "markdown",
   "metadata": {},
   "source": [
    "### 跨时独立横截面的混合\n",
    "\n",
    "例13.2 教育回报和工资中性别差异的变化"
   ]
  },
  {
   "cell_type": "code",
   "execution_count": 3,
   "metadata": {},
   "outputs": [
    {
     "data": {
      "text/plain": [
       "\n",
       "Call:\n",
       "lm(formula = lwage ~ y85 * (educ + female) + exper + I(exper^2) + \n",
       "    union, data = cps)\n",
       "\n",
       "Residuals:\n",
       "     Min       1Q   Median       3Q      Max \n",
       "-2.56098 -0.25828  0.00864  0.26571  2.11669 \n",
       "\n",
       "Coefficients:\n",
       "              Estimate Std. Error t value Pr(>|t|)    \n",
       "(Intercept)  4.589e-01  9.345e-02   4.911 1.05e-06 ***\n",
       "y85          1.178e-01  1.238e-01   0.952   0.3415    \n",
       "educ         7.472e-02  6.676e-03  11.192  < 2e-16 ***\n",
       "female      -3.167e-01  3.662e-02  -8.648  < 2e-16 ***\n",
       "exper        2.958e-02  3.567e-03   8.293 3.27e-16 ***\n",
       "I(exper^2)  -3.994e-04  7.754e-05  -5.151 3.08e-07 ***\n",
       "union        2.021e-01  3.029e-02   6.672 4.03e-11 ***\n",
       "y85:educ     1.846e-02  9.354e-03   1.974   0.0487 *  \n",
       "y85:female   8.505e-02  5.131e-02   1.658   0.0977 .  \n",
       "---\n",
       "Signif. codes:  0 '***' 0.001 '**' 0.01 '*' 0.05 '.' 0.1 ' ' 1\n",
       "\n",
       "Residual standard error: 0.4127 on 1075 degrees of freedom\n",
       "Multiple R-squared:  0.4262,\tAdjusted R-squared:  0.4219 \n",
       "F-statistic:  99.8 on 8 and 1075 DF,  p-value: < 2.2e-16\n"
      ]
     },
     "metadata": {},
     "output_type": "display_data"
    }
   ],
   "source": [
    "library(foreign)\n",
    "cps <- read.dta(\"http://fmwww.bc.edu/ec-p/data/wooldridge/cps78_85.dta\")\n",
    "\n",
    "# Detailed OLS results including interaction terms\n",
    "summary( lm(lwage ~ y85*(educ+female) +exper+ I(exper^2) + union, \n",
    "                                                            data=cps) )"
   ]
  },
  {
   "cell_type": "markdown",
   "metadata": {},
   "source": [
    "### 利用混合横截面作政策分析\n",
    "\n",
    "$$y = \\beta_{0} + \\delta_{0}d2 + \\beta_{1}dT + \\delta_{1}d2 \\cdot dT + other factors$$ \n",
    "\n",
    "例13.3 垃圾焚化炉的区位对住房价格的影响"
   ]
  },
  {
   "cell_type": "code",
   "execution_count": 5,
   "metadata": {},
   "outputs": [],
   "source": [
    "library(foreign)\n",
    "kielmc <- read.dta(\"http://fmwww.bc.edu/ec-p/data/wooldridge/kielmc.dta\")"
   ]
  },
  {
   "cell_type": "code",
   "execution_count": 8,
   "metadata": {},
   "outputs": [
    {
     "data": {
      "text/html": [
       "<dl class=dl-horizontal>\n",
       "\t<dt>(Intercept)</dt>\n",
       "\t\t<dd>82517.2276422764</dd>\n",
       "\t<dt>nearinc</dt>\n",
       "\t\t<dd>-18824.3704994193</dd>\n",
       "</dl>\n"
      ],
      "text/latex": [
       "\\begin{description*}\n",
       "\\item[(Intercept)] 82517.2276422764\n",
       "\\item[nearinc] -18824.3704994193\n",
       "\\end{description*}\n"
      ],
      "text/markdown": [
       "(Intercept)\n",
       ":   82517.2276422764nearinc\n",
       ":   -18824.3704994193\n",
       "\n"
      ],
      "text/plain": [
       "(Intercept)     nearinc \n",
       "   82517.23   -18824.37 "
      ]
     },
     "metadata": {},
     "output_type": "display_data"
    },
    {
     "data": {
      "text/html": [
       "<dl class=dl-horizontal>\n",
       "\t<dt>(Intercept)</dt>\n",
       "\t\t<dd>101307.514093137</dd>\n",
       "\t<dt>nearinc</dt>\n",
       "\t\t<dd>-30688.2739564185</dd>\n",
       "</dl>\n"
      ],
      "text/latex": [
       "\\begin{description*}\n",
       "\\item[(Intercept)] 101307.514093137\n",
       "\\item[nearinc] -30688.2739564185\n",
       "\\end{description*}\n"
      ],
      "text/markdown": [
       "(Intercept)\n",
       ":   101307.514093137nearinc\n",
       ":   -30688.2739564185\n",
       "\n"
      ],
      "text/plain": [
       "(Intercept)     nearinc \n",
       "  101307.51   -30688.27 "
      ]
     },
     "metadata": {},
     "output_type": "display_data"
    },
    {
     "data": {
      "text/plain": [
       "\n",
       "t test of coefficients:\n",
       "\n",
       "            Estimate Std. Error t value  Pr(>|t|)    \n",
       "(Intercept)  82517.2     2726.9 30.2603 < 2.2e-16 ***\n",
       "nearinc     -18824.4     4875.3 -3.8612 0.0001368 ***\n",
       "y81          18790.3     4050.1  4.6395 5.117e-06 ***\n",
       "nearinc:y81 -11863.9     7456.6 -1.5911 0.1125948    \n",
       "---\n",
       "Signif. codes:  0 '***' 0.001 '**' 0.01 '*' 0.05 '.' 0.1 ' ' 1\n"
      ]
     },
     "metadata": {},
     "output_type": "display_data"
    }
   ],
   "source": [
    "# Separate regressions for 1978 and 1981: report coeeficients only\n",
    "coef( lm(rprice~nearinc, data=kielmc, subset=(year==1978)) )\n",
    "coef( lm(rprice~nearinc, data=kielmc, subset=(year==1981)) )\n",
    "\n",
    "# Joint regression including an interaction term \n",
    "library(lmtest)\n",
    "coeftest( lm(rprice~nearinc*y81, data=kielmc) )"
   ]
  },
  {
   "cell_type": "code",
   "execution_count": 10,
   "metadata": {},
   "outputs": [
    {
     "name": "stdout",
     "output_type": "stream",
     "text": [
      "\n",
      "====================================================================\n",
      "                                  Dependent variable:               \n",
      "                    ------------------------------------------------\n",
      "                                      log(rprice)                   \n",
      "                              (1)                     (2)           \n",
      "--------------------------------------------------------------------\n",
      "nearinc                    -0.340***                 0.032          \n",
      "                            (0.055)                 (0.047)         \n",
      "                                                                    \n",
      "y81                        0.193***                 0.162***        \n",
      "                            (0.045)                 (0.028)         \n",
      "                                                                    \n",
      "age                                                -0.008***        \n",
      "                                                    (0.001)         \n",
      "                                                                    \n",
      "I(age2)                                            0.00004***       \n",
      "                                                   (0.00001)        \n",
      "                                                                    \n",
      "log(intst)                                          -0.061*         \n",
      "                                                    (0.032)         \n",
      "                                                                    \n",
      "log(land)                                           0.100***        \n",
      "                                                    (0.024)         \n",
      "                                                                    \n",
      "log(area)                                           0.351***        \n",
      "                                                    (0.051)         \n",
      "                                                                    \n",
      "rooms                                               0.047***        \n",
      "                                                    (0.017)         \n",
      "                                                                    \n",
      "baths                                               0.094***        \n",
      "                                                    (0.028)         \n",
      "                                                                    \n",
      "nearinc:y81                 -0.063                  -0.132**        \n",
      "                            (0.083)                 (0.052)         \n",
      "                                                                    \n",
      "Constant                   11.285***                7.652***        \n",
      "                            (0.031)                 (0.416)         \n",
      "                                                                    \n",
      "--------------------------------------------------------------------\n",
      "Observations                  321                     321           \n",
      "R2                           0.246                   0.733          \n",
      "Adjusted R2                  0.239                   0.724          \n",
      "Residual Std. Error    0.338 (df = 317)         0.204 (df = 310)    \n",
      "F Statistic         34.470*** (df = 3; 317) 84.915*** (df = 10; 310)\n",
      "====================================================================\n",
      "Note:                                    *p<0.1; **p<0.05; ***p<0.01\n"
     ]
    }
   ],
   "source": [
    "DiD      <- lm(log(rprice)~nearinc*y81                     , data=kielmc)\n",
    "DiDcontr <- lm(log(rprice)~nearinc*y81+age+I(age^2)+log(intst)+\n",
    "                            log(land)+log(area)+rooms+baths, data=kielmc)\n",
    "library(stargazer)\n",
    "stargazer(DiD,DiDcontr,type=\"text\")"
   ]
  },
  {
   "cell_type": "markdown",
   "metadata": {},
   "source": [
    "### 面板数据回归\n",
    "\n",
    "假设面板数据模型\n",
    "$$y_{it} = \\beta_{1}x_{it} + \\alpha_{i} + \\mu_{it}$$\n",
    "\n",
    "- 一阶差分估计量\n",
    "- 固定效应估计量\n",
    "- 随机效应估计量"
   ]
  },
  {
   "cell_type": "markdown",
   "metadata": {},
   "source": [
    "例14.4 使用面板数据的一个工资方程"
   ]
  },
  {
   "cell_type": "code",
   "execution_count": 13,
   "metadata": {},
   "outputs": [],
   "source": [
    "library(foreign);library(plm);library(stargazer)\n",
    "wagepan<-read.dta(\"http://fmwww.bc.edu/ec-p/data/wooldridge/wagepan.dta\")"
   ]
  },
  {
   "cell_type": "code",
   "execution_count": 14,
   "metadata": {},
   "outputs": [
    {
     "data": {
      "text/plain": [
       "Balanced Panel: n = 545, T = 8, N = 4360"
      ]
     },
     "metadata": {},
     "output_type": "display_data"
    },
    {
     "data": {
      "text/plain": [
       "no time variation:       nr black hisp educ \n",
       "no individual variation: year d81 d82 d83 d84 d85 d86 d87 "
      ]
     },
     "metadata": {},
     "output_type": "display_data"
    }
   ],
   "source": [
    "# Generate pdata.frame:\n",
    "wagepan.p <- pdata.frame(wagepan, index=c(\"nr\",\"year\") )\n",
    "\n",
    "pdim(wagepan.p)\n",
    "\n",
    "# Check variation of variables within individuals\n",
    "pvar(wagepan.p)"
   ]
  },
  {
   "cell_type": "code",
   "execution_count": 15,
   "metadata": {},
   "outputs": [
    {
     "name": "stdout",
     "output_type": "stream",
     "text": [
      "\n",
      "==========================================\n",
      "                  Dependent variable:     \n",
      "             -----------------------------\n",
      "                         lwage            \n",
      "                OLS       RE        FE    \n",
      "                (1)       (2)       (3)   \n",
      "------------------------------------------\n",
      "educ         0.091***  0.092***           \n",
      "              (0.005)   (0.011)           \n",
      "                                          \n",
      "black        -0.139*** -0.139***          \n",
      "              (0.024)   (0.048)           \n",
      "                                          \n",
      "hisp           0.016     0.022            \n",
      "              (0.021)   (0.043)           \n",
      "                                          \n",
      "exper        0.067***  0.106***           \n",
      "              (0.014)   (0.015)           \n",
      "                                          \n",
      "I(exper2)    -0.002*** -0.005*** -0.005***\n",
      "              (0.001)   (0.001)   (0.001) \n",
      "                                          \n",
      "married      0.108***  0.064***   0.047** \n",
      "              (0.016)   (0.017)   (0.018) \n",
      "                                          \n",
      "union        0.182***  0.106***  0.080*** \n",
      "              (0.017)   (0.018)   (0.019) \n",
      "                                          \n",
      "------------------------------------------\n",
      "Observations   4,360     4,360     4,360  \n",
      "R2             0.189     0.181     0.181  \n",
      "==========================================\n",
      "Note:          *p<0.1; **p<0.05; ***p<0.01\n"
     ]
    }
   ],
   "source": [
    "# Estimate different models\n",
    "wagepan.p$yr<-factor(wagepan.p$year)\n",
    "\n",
    "reg.ols<- (plm(lwage~educ+black+hisp+exper+I(exper^2)+married+union+yr, \n",
    "                                      data=wagepan.p, model=\"pooling\") )\n",
    "reg.re <- (plm(lwage~educ+black+hisp+exper+I(exper^2)+married+union+yr, \n",
    "                                      data=wagepan.p, model=\"random\") )\n",
    "reg.fe <- (plm(lwage~                      I(exper^2)+married+union+yr, \n",
    "                                      data=wagepan.p, model=\"within\") )\n",
    "\n",
    "# Pretty table of selected results (not reporting year dummies)\n",
    "stargazer(reg.ols,reg.re,reg.fe, type=\"text\", \n",
    "          column.labels=c(\"OLS\",\"RE\",\"FE\"),keep.stat=c(\"n\",\"rsq\"),\n",
    "          keep=c(\"ed\",\"bl\",\"hi\",\"exp\",\"mar\",\"un\"))"
   ]
  }
 ],
 "metadata": {
  "kernelspec": {
   "display_name": "R",
   "language": "R",
   "name": "ir"
  },
  "language_info": {
   "codemirror_mode": "r",
   "file_extension": ".r",
   "mimetype": "text/x-r-source",
   "name": "R",
   "pygments_lexer": "r",
   "version": "3.4.2"
  }
 },
 "nbformat": 4,
 "nbformat_minor": 2
}
