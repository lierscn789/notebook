{
 "cells": [
  {
   "cell_type": "markdown",
   "metadata": {},
   "source": [
    "# 1. 空间模型初步"
   ]
  },
  {
   "cell_type": "markdown",
   "metadata": {},
   "source": [
    "## 1.1 空间相互作用\n",
    "\n",
    "空间模型的基础往往基于一个基本的假定：观测单位的距离越远，它们之间的联系就越弱。\n",
    "\n",
    "例子\n",
    "- 国家或城市人均警察开支的影响因素（Ajilore and Smith，2011; Di Tella and Schargrodsky，2004等）\n",
    "- 地区或城市的人均教育支出的影响因素（Hondroyiannis et al., 2009）\n",
    "- 地区或城市的污染状况（马大来等，2014）"
   ]
  },
  {
   "cell_type": "markdown",
   "metadata": {},
   "source": [
    "## 1.2 邻居和空间权重矩阵\n",
    "\n",
    "自Moran（1948）以来，空间相互作用常用“权重矩阵(W)”来表达。\n",
    "\n",
    "权重矩阵中$(i,j)$位置的元素$w_{ij}$表示空间单位$i$与$j$的“接近性”。\n",
    "\n",
    "如果$w_{ij} \\neq=0$，空间单位$i$被认为是$j$的邻居，否则，就不是。\n",
    "\n",
    "若$\\sum_{j=1}^{N} w_{ij} =1$，那么权重矩阵就被称为行正规化。"
   ]
  },
  {
   "cell_type": "markdown",
   "metadata": {},
   "source": [
    "**空间模型(SLX)示例**\n",
    "\n",
    "$$y_{i} = \\beta_{0} + \\beta_{1}X + \\beta_{2}W_{i}X + \\varepsilon$$\n",
    "或\n",
    "$$y_{i} = \\beta_{0} + \\beta_{1}x_{i} + \\beta_{2}\\sum_{j=1}^{N}w_{ij}x_{j} + \\varepsilon$$"
   ]
  },
  {
   "cell_type": "markdown",
   "metadata": {},
   "source": [
    "### 空间权重矩阵示例\n",
    "\n",
    "**邻接矩阵**\n",
    "\n",
    "**地理距离矩阵**\n",
    "\n",
    "$$w_{ij} = 1/d_{ij}$$\n",
    "\n",
    "**经济距离矩阵**\n",
    "\n",
    "$$w_{ij} = |INC_{i}-INC_{j}|^{-1}$$\n",
    "\n",
    "改进\n",
    "\n",
    "$$w_{ij} = 1 - \\frac{|INC_{i}-INC_{j}|}{INC_{i}+INC_{j}}$$\n",
    "\n",
    "参见http://47.96.41.8:3838/spatialweightmatrix/"
   ]
  },
  {
   "cell_type": "markdown",
   "metadata": {},
   "source": [
    "# 2. 空间模型的设定和估计"
   ]
  },
  {
   "cell_type": "markdown",
   "metadata": {},
   "source": [
    "## 2.1 模型设定\n",
    "\n",
    "**空间相关性检验**\n",
    "\n",
    "- Moran I test\n",
    "- LM test\n",
    "- Wald test\n",
    "\n",
    "例如B是真实模型，而错误的估计了A\n",
    "\n",
    "$$A: y = X \\beta + \\varepsilon$$\n",
    "\n",
    "$$B: y = X \\beta + \\delta Wy + \\varepsilon$$"
   ]
  },
  {
   "cell_type": "markdown",
   "metadata": {},
   "source": [
    "![空间计量模型](https://cl.ly/2m240i3L3u2R/spatialmodels.png)"
   ]
  },
  {
   "cell_type": "markdown",
   "metadata": {},
   "source": [
    "## 2.2 估计方法\n",
    "\n",
    "- 极大似然法(ML)\n",
    "- 工具变量和广义矩估计(IV/GMM) - 例如，Kelejian等（2004）建议用$[X WX ... W^{g}X]$作工具。\n",
    "\n",
    "空间权重矩阵$W$不能被估计，需要提前对其进行设定。所以检验W的设定是否稳健成为了一个惯例（Elhorst，2014）。"
   ]
  },
  {
   "cell_type": "markdown",
   "metadata": {},
   "source": [
    "## 2.3 空间模型的直接和间接效应\n",
    "\n",
    "例如SAR模型\n",
    "\n",
    "$y=X\\beta + \\delta Wy + \\mu$$\n",
    "\n",
    "方程的解可以写为\n",
    "\n",
    "$y = (I - \\delta W)^{-1} [X\\beta + \\mu]$\n",
    "\n",
    "假设\n",
    "\n",
    "$G=(I - \\delta W)^{-1}$\n",
    "\n",
    "那么$x_{1}$变化的对于$E(y)$的影响可以表示为\n",
    "\n",
    "$\\frac{\\partial E(y_{j})}{\\partial x_{1}} = G_{j1} \\beta$\n",
    "\n",
    "<center>\n",
    "<img src=\"https://cl.ly/2V3e1x3j1I0w/spatial01.png\" width=\"40%\" height=\"40%\" />\n",
    "</center>"
   ]
  },
  {
   "cell_type": "markdown",
   "metadata": {},
   "source": [
    "**自身的溢出效应(own spillover effect)**\n",
    "\n",
    "$$\\frac{\\partial E(y_{1})}{\\partial x_{1}} = G_{11} \\beta$$"
   ]
  },
  {
   "cell_type": "markdown",
   "metadata": {},
   "source": [
    "同样的SAR模型，假设使用的是跨国数据，$y$是出口，$x$是GDP。除了第一个国家，所有其他国家GDP的变动对于第一个国家出口的效应可以表示为\n",
    "\n",
    "$$V_{1}=\\sum_{j=2}^{N} \\frac{\\partial E(y_{1})}{\\partial x_{j}} = \\sum_{j=2}^{N} G_{1j} \\beta$$"
   ]
  },
  {
   "cell_type": "markdown",
   "metadata": {},
   "source": [
    "**总结**\n",
    "\n",
    "![直接和间接效应](https://cl.ly/3x1r323a3F2p/spatialeffects.png)"
   ]
  },
  {
   "cell_type": "markdown",
   "metadata": {},
   "source": [
    "# 3. 应用Stata进行空间计量分析"
   ]
  },
  {
   "cell_type": "markdown",
   "metadata": {},
   "source": [
    "## 3.1 空间数据的预处理\n",
    "\n",
    "- 数据清洗\n",
    "- 数据空间结构的构建"
   ]
  },
  {
   "cell_type": "code",
   "execution_count": 2,
   "metadata": {},
   "outputs": [],
   "source": [
    "# 导入python调用stata的包\n",
    "import ipystata"
   ]
  },
  {
   "cell_type": "markdown",
   "metadata": {},
   "source": [
    "**设置工作路径**"
   ]
  },
  {
   "cell_type": "code",
   "execution_count": 2,
   "metadata": {},
   "outputs": [
    {
     "name": "stdout",
     "output_type": "stream",
     "text": [
      "\n",
      "E:\\cyberspace\\notebook\\Project\\spatial econometrics summer\n",
      "\n"
     ]
    }
   ],
   "source": [
    "%%stata\n",
    "\n",
    "cd \"E:\\cyberspace\\notebook\\Project\\spatial econometrics summer\""
   ]
  },
  {
   "cell_type": "markdown",
   "metadata": {},
   "source": [
    "**处理shp格式的空间数据**\n",
    "\n",
    "用spshape2dta命令把shp格式的文件转换为dta格式。这里province_2004是中国省级区域的地图文件。"
   ]
  },
  {
   "cell_type": "code",
   "execution_count": 3,
   "metadata": {},
   "outputs": [
    {
     "name": "stdout",
     "output_type": "stream",
     "text": [
      "  (importing .shp file)\n",
      "  (importing .dbf file)\n",
      "  (creating _ID spatial-unit id)\n",
      "  (creating _CX coordinate)\n",
      "  (creating _CY coordinate)\n",
      "\n",
      "  file province_2004_shp.dta created\n",
      "  file province_2004.dta     created\n",
      "\n"
     ]
    }
   ],
   "source": [
    "%%stata\n",
    "\n",
    "spshape2dta province_2004, replace"
   ]
  },
  {
   "cell_type": "markdown",
   "metadata": {},
   "source": [
    "**stata14以上转码**（非必须）"
   ]
  },
  {
   "cell_type": "code",
   "execution_count": 4,
   "metadata": {},
   "outputs": [
    {
     "name": "stdout",
     "output_type": "stream",
     "text": [
      "\n",
      "  File summary (before starting):\n",
      "        1  file(s) specified\n",
      "        1  file(s) already translated        in previous runs\n",
      "        0  file(s) to be examined ...\n",
      "  (nothing to do)\n",
      "\n",
      "  (default encoding now gb18030)\n",
      "\n",
      "  (using gb18030 encoding)\n",
      "\n",
      "  File summary (before starting):\n",
      "        1  file(s) specified\n",
      "        1  file(s) already translated        in previous runs\n",
      "        0  file(s) to be examined ...\n",
      "  (nothing to do)\n",
      "\n"
     ]
    }
   ],
   "source": [
    "%%stata\n",
    "\n",
    "clear\n",
    "unicode analyze province_2004.dta\n",
    "unicode encoding set gb18030\n",
    "unicode translate province_2004.dta"
   ]
  },
  {
   "cell_type": "markdown",
   "metadata": {},
   "source": [
    "**导入新创建的province_2004.dta文件**"
   ]
  },
  {
   "cell_type": "code",
   "execution_count": 5,
   "metadata": {},
   "outputs": [
    {
     "name": "stdout",
     "output_type": "stream",
     "text": [
      "\n",
      "Contains data from province_2004.dta\n",
      "  obs:            37                          \n",
      " vars:             9                          10 Jul 2018 23:26\n",
      " size:         1,739                          \n",
      "----------------------------------------------------------------------------------------------------------------------------------------------------------------------------------\n",
      "              storage   display    value\n",
      "variable name   type    format     label      variable label\n",
      "----------------------------------------------------------------------------------------------------------------------------------------------------------------------------------\n",
      "_ID             byte    %12.0g                Spatial-unit ID\n",
      "_CX             double  %10.0g                x-coordinate of area centroid\n",
      "_CY             double  %10.0g                y-coordinate of area centroid\n",
      "AREA            float   %13.11f               AREA\n",
      "PERIMETER       float   %13.11f               PERIMETER\n",
      "LEVEL1_         byte    %9.0f                 LEVEL1_\n",
      "LEVEL1_ID       byte    %9.0f                 LEVEL1_ID\n",
      "AD2004          long    %6.0f                 AD2004\n",
      "NAME2004        str16   %16s                  NAME2004\n",
      "----------------------------------------------------------------------------------------------------------------------------------------------------------------------------------\n",
      "Sorted by: _ID\n",
      "\n"
     ]
    }
   ],
   "source": [
    "%%stata -o province_2004\n",
    "\n",
    "use province_2004, clear\n",
    "describe"
   ]
  },
  {
   "cell_type": "markdown",
   "metadata": {},
   "source": [
    "**设置新变量acode保存省份代码，并根据此变量排序**"
   ]
  },
  {
   "cell_type": "code",
   "execution_count": 7,
   "metadata": {},
   "outputs": [
    {
     "name": "stdout",
     "output_type": "stream",
     "text": [
      "\n",
      "  (_shp.dta file saved)\n",
      "  (data in memory saved)\n",
      "  Sp dataset data_output.dta\n",
      "                data:  cross sectional\n",
      "     spatial-unit id:  _ID (equal to acode)\n",
      "         coordinates:  _CX, _CY (planar)\n",
      "    linked shapefile:  province_2004_shp.dta\n",
      "\n",
      "file province_2004.dta saved\n",
      "\n"
     ]
    }
   ],
   "source": [
    "%%stata\n",
    "\n",
    "gen acode = AD2004\n",
    "sort acode\n",
    "spset acode, modify replace\n",
    "\n",
    "save province_2004, replace"
   ]
  },
  {
   "cell_type": "markdown",
   "metadata": {},
   "source": [
    "**导入统计数据文件**"
   ]
  },
  {
   "cell_type": "code",
   "execution_count": 8,
   "metadata": {},
   "outputs": [
    {
     "name": "stdout",
     "output_type": "stream",
     "text": [
      "\n",
      "Contains data\n",
      "  obs:            31                          \n",
      " vars:            12                          \n",
      " size:         2,852                          \n",
      "----------------------------------------------------------------------------------------------------------------------------------------------------------------------------------\n",
      "              storage   display    value\n",
      "variable name   type    format     label      variable label\n",
      "----------------------------------------------------------------------------------------------------------------------------------------------------------------------------------\n",
      "acode           long    %10.0g                acode\n",
      "GDP             double  %10.0g                GDP\n",
      "capital         double  %10.0g                capital\n",
      "labour          double  %10.0g                labour\n",
      "humancapital    double  %10.0g                humancapital\n",
      "perGDP          double  %10.0g                perGDP\n",
      "perCapital      double  %10.0g                perCapital\n",
      "perHumancapital double  %10.0g                perHumancapital\n",
      "perGDPgrowth    double  %10.0g                perGDPgrowth\n",
      "perCapitalgrw~h double  %10.0g                perCapitalgrwoth\n",
      "perHumancapit~h double  %10.0g                perHumancapitalgrowth\n",
      "initperGDP      double  %10.0g                initperGDP\n",
      "----------------------------------------------------------------------------------------------------------------------------------------------------------------------------------\n",
      "Sorted by: \n",
      "     Note: Dataset has changed since last saved.\n",
      "\n"
     ]
    }
   ],
   "source": [
    "%%stata\n",
    "\n",
    "import excel \"prov_data.xls\", sheet(\"Sheet1\") firstrow clear\n",
    "describe"
   ]
  },
  {
   "cell_type": "markdown",
   "metadata": {},
   "source": [
    "**合并地理格式信息与统计数据信息，要求省份代码一一对应**"
   ]
  },
  {
   "cell_type": "code",
   "execution_count": 9,
   "metadata": {},
   "outputs": [
    {
     "name": "stdout",
     "output_type": "stream",
     "text": [
      "(note: variable acode was long, now double to accommodate using data's values)\n",
      "\n",
      "    Result                           # of obs.\n",
      "    -----------------------------------------\n",
      "    not matched                             6\n",
      "        from master                         0  (_merge==1)\n",
      "        from using                          6  (_merge==2)\n",
      "\n",
      "    matched                                31  (_merge==3)\n",
      "    -----------------------------------------\n",
      "\n"
     ]
    }
   ],
   "source": [
    "%%stata\n",
    "\n",
    "merge 1:1 acode using province_2004"
   ]
  },
  {
   "cell_type": "markdown",
   "metadata": {},
   "source": [
    "**创建空间权重矩阵，并对回归的残差做Moran I检验**"
   ]
  },
  {
   "cell_type": "code",
   "execution_count": 10,
   "metadata": {},
   "outputs": [
    {
     "name": "stdout",
     "output_type": "stream",
     "text": [
      "(6 observations deleted)\n",
      "\n",
      "      Source |       SS           df       MS      Number of obs   =        31\n",
      "-------------+----------------------------------   F(3, 27)        =     11.19\n",
      "       Model |  101.263053         3   33.754351   Prob > F        =    0.0001\n",
      "    Residual |  81.4103685        27  3.01519883   R-squared       =    0.5543\n",
      "-------------+----------------------------------   Adj R-squared   =    0.5048\n",
      "       Total |  182.673422        30  6.08911405   Root MSE        =    1.7364\n",
      "\n",
      "---------------------------------------------------------------------------------------\n",
      "         perGDPgrowth |      Coef.   Std. Err.      t    P>|t|     [95% Conf. Interval]\n",
      "----------------------+----------------------------------------------------------------\n",
      "          linitperGDP |  -.6955203   .7393406    -0.94   0.355    -2.212522    .8214813\n",
      "     perCapitalgrwoth |   .2374025   .0458477     5.18   0.000     .1433308    .3314741\n",
      "perHumancapitalgrowth |   6.502551   3.240351     2.01   0.055    -.1460996     13.1512\n",
      "                _cons |   9.678207    8.61998     1.12   0.271    -8.008531    27.36495\n",
      "---------------------------------------------------------------------------------------\n",
      "\n",
      "  weighting matrix in W contains 1 island\n",
      "\n",
      "Moran test for spatial dependence\n",
      "         Ho: error is i.i.d. \n",
      "         Errorlags:  W\n",
      "\n",
      "         chi2(1)      =     0.02\n",
      "         Prob > chi2  =   0.8757\n",
      "\n"
     ]
    }
   ],
   "source": [
    "%%stata\n",
    "\n",
    "keep if _merge==3\n",
    "drop _merge\n",
    "\n",
    "gen linitperGDP = ln(initperGDP)\n",
    "\n",
    "regress perGDPgrowth linitperGDP perCapitalgrwoth perHumancapitalgrowth\n",
    "\n",
    "spmatrix clear\n",
    "spmatrix create contiguity W, normalize(none)\n",
    "\n",
    "estat moran, errorlag(W)"
   ]
  },
  {
   "cell_type": "markdown",
   "metadata": {},
   "source": [
    "**导出空间权重矩阵到文件**"
   ]
  },
  {
   "cell_type": "code",
   "execution_count": 31,
   "metadata": {},
   "outputs": [
    {
     "name": "stdout",
     "output_type": "stream",
     "text": [
      "  (matrix W saved in file province2004W.txt)\n",
      "\n"
     ]
    }
   ],
   "source": [
    "%%stata\n",
    "\n",
    "spmatrix export W using province2004W.txt"
   ]
  },
  {
   "cell_type": "markdown",
   "metadata": {},
   "source": [
    "**用pysal包导入空间权重矩阵文件**"
   ]
  },
  {
   "cell_type": "code",
   "execution_count": 35,
   "metadata": {},
   "outputs": [
    {
     "name": "stderr",
     "output_type": "stream",
     "text": [
      "c:\\python\\lib\\site-packages\\pysal\\weights\\weights.py:186: UserWarning: There is one disconnected observation (no neighbors)\n",
      "  warnings.warn(\"There is one disconnected observation (no neighbors)\")\n",
      "c:\\python\\lib\\site-packages\\pysal\\weights\\weights.py:187: UserWarning: Island id: 460000\n",
      "  warnings.warn(\"Island id: %s\" % str(self.islands[0]))\n"
     ]
    },
    {
     "data": {
      "text/plain": [
       "31"
      ]
     },
     "execution_count": 35,
     "metadata": {},
     "output_type": "execute_result"
    }
   ],
   "source": [
    "import pysal\n",
    "\n",
    "stata_txt = pysal.open(r'E:\\cyberspace\\notebook\\Project\\spatial econometrics summer\\province2004W.txt','r','stata_text')\n",
    "w = stata_txt.read()\n",
    "stata_txt.close()\n",
    "w.n"
   ]
  },
  {
   "cell_type": "markdown",
   "metadata": {},
   "source": [
    "**读取省级代码和名称对应表**"
   ]
  },
  {
   "cell_type": "code",
   "execution_count": 43,
   "metadata": {},
   "outputs": [
    {
     "data": {
      "text/plain": [
       "{'110000': '北京市',\n",
       " '120000': '天津市',\n",
       " '130000': '河北省',\n",
       " '140000': '山西省',\n",
       " '150000': '内蒙古自治区',\n",
       " '210000': '辽宁省',\n",
       " '220000': '吉林省',\n",
       " '230000': '黑龙江省',\n",
       " '310000': '上海市',\n",
       " '320000': '江苏省',\n",
       " '330000': '浙江省',\n",
       " '340000': '安徽省',\n",
       " '350000': '福建省',\n",
       " '360000': '江西省',\n",
       " '370000': '山东省',\n",
       " '410000': '河南省',\n",
       " '420000': '湖北省',\n",
       " '430000': '湖南省',\n",
       " '440000': '广东省',\n",
       " '450000': '广西壮族自治区',\n",
       " '460000': '海南省',\n",
       " '500000': '重庆市',\n",
       " '510000': '四川省',\n",
       " '520000': '贵州省',\n",
       " '530000': '云南省',\n",
       " '540000': '西藏自治区',\n",
       " '610000': '陕西省',\n",
       " '620000': '甘肃省',\n",
       " '630000': '青海省',\n",
       " '640000': '宁夏回族自治区',\n",
       " '650000': '新疆维吾尔自治区'}"
      ]
     },
     "execution_count": 43,
     "metadata": {},
     "output_type": "execute_result"
    }
   ],
   "source": [
    "import sys\n",
    "\n",
    "sys.path.append(\"D:\\\\github\\\\pluto\")\n",
    "from application.dataworld.admindivision.class_admindivision import AdminDivision\n",
    "\n",
    "adivision = AdminDivision(year='2011')\n",
    "adivision.province\n",
    "\n",
    "region_dict = dict(zip(adivision.province['acode'],adivision.province['region']))\n",
    "region_dict"
   ]
  },
  {
   "cell_type": "markdown",
   "metadata": {},
   "source": [
    "**查看空间权重矩阵信息**"
   ]
  },
  {
   "cell_type": "code",
   "execution_count": 47,
   "metadata": {},
   "outputs": [
    {
     "data": {
      "text/plain": [
       "{'北京市': ['天津市', '河北省'],\n",
       " '天津市': ['北京市', '河北省'],\n",
       " '河北省': ['北京市', '天津市', '山西省', '内蒙古自治区', '辽宁省', '山东省', '河南省'],\n",
       " '山西省': ['河北省', '内蒙古自治区', '河南省', '陕西省'],\n",
       " '内蒙古自治区': ['河北省', '山西省', '辽宁省', '吉林省', '黑龙江省', '陕西省', '甘肃省', '宁夏回族自治区'],\n",
       " '辽宁省': ['河北省', '内蒙古自治区', '吉林省'],\n",
       " '吉林省': ['内蒙古自治区', '辽宁省', '黑龙江省'],\n",
       " '黑龙江省': ['内蒙古自治区', '吉林省'],\n",
       " '上海市': ['江苏省', '浙江省'],\n",
       " '江苏省': ['上海市', '浙江省', '安徽省', '山东省'],\n",
       " '浙江省': ['上海市', '江苏省', '安徽省', '福建省', '江西省'],\n",
       " '安徽省': ['江苏省', '浙江省', '江西省', '山东省', '河南省', '湖北省'],\n",
       " '福建省': ['浙江省', '江西省', '广东省'],\n",
       " '江西省': ['浙江省', '安徽省', '福建省', '湖北省', '湖南省', '广东省'],\n",
       " '山东省': ['河北省', '江苏省', '安徽省', '河南省'],\n",
       " '河南省': ['河北省', '山西省', '安徽省', '山东省', '湖北省', '陕西省'],\n",
       " '湖北省': ['安徽省', '江西省', '河南省', '湖南省', '重庆市', '陕西省'],\n",
       " '湖南省': ['江西省', '湖北省', '广东省', '广西壮族自治区', '重庆市', '贵州省'],\n",
       " '广东省': ['福建省', '江西省', '湖南省', '广西壮族自治区'],\n",
       " '广西壮族自治区': ['湖南省', '广东省', '贵州省', '云南省'],\n",
       " '海南省': [],\n",
       " '重庆市': ['湖北省', '湖南省', '四川省', '贵州省', '陕西省'],\n",
       " '四川省': ['重庆市', '贵州省', '云南省', '西藏自治区', '陕西省', '甘肃省', '青海省'],\n",
       " '贵州省': ['湖南省', '广西壮族自治区', '重庆市', '四川省', '云南省'],\n",
       " '云南省': ['广西壮族自治区', '四川省', '贵州省', '西藏自治区'],\n",
       " '西藏自治区': ['四川省', '云南省', '青海省', '新疆维吾尔自治区'],\n",
       " '陕西省': ['山西省', '内蒙古自治区', '河南省', '湖北省', '重庆市', '四川省', '甘肃省', '宁夏回族自治区'],\n",
       " '甘肃省': ['内蒙古自治区', '四川省', '陕西省', '青海省', '宁夏回族自治区', '新疆维吾尔自治区'],\n",
       " '青海省': ['四川省', '西藏自治区', '甘肃省', '新疆维吾尔自治区'],\n",
       " '宁夏回族自治区': ['内蒙古自治区', '陕西省', '甘肃省'],\n",
       " '新疆维吾尔自治区': ['西藏自治区', '甘肃省', '青海省']}"
      ]
     },
     "execution_count": 47,
     "metadata": {},
     "output_type": "execute_result"
    }
   ],
   "source": [
    "neighbors = dict()\n",
    "for key in w.neighbors:\n",
    "    neighbors[region_dict[str(key)]] = [region_dict[str(item)] for item in w.neighbors[key]]\n",
    "neighbors"
   ]
  },
  {
   "cell_type": "markdown",
   "metadata": {},
   "source": [
    "## 实例：项目制治理模式与中国地区经济发展的截面空间回归模型\n",
    "- 案例数据来自于郑世林和应珊珊（2017）的论文“项目制治理模式与中国地区经济发展”（中国工业经济）"
   ]
  },
  {
   "cell_type": "markdown",
   "metadata": {},
   "source": [
    "**数据预处理：shp格式文件转dta，并设置新变量acode**"
   ]
  },
  {
   "cell_type": "code",
   "execution_count": 3,
   "metadata": {},
   "outputs": [
    {
     "name": "stdout",
     "output_type": "stream",
     "text": [
      "\n",
      "E:\\cyberspace\\notebook\\Project\\spatial econometrics summer\n",
      "\n",
      "  (importing .shp file)\n",
      "  (importing .dbf file)\n",
      "  (creating _ID spatial-unit id)\n",
      "  (creating _CX coordinate)\n",
      "  (creating _CY coordinate)\n",
      "\n",
      "  file city_shp.dta created\n",
      "  file city.dta     created\n",
      "\n",
      "  (_shp.dta file saved)\n",
      "  (data in memory saved)\n",
      "  Sp dataset city.dta\n",
      "                data:  cross sectional\n",
      "     spatial-unit id:  _ID (equal to acode)\n",
      "         coordinates:  _CX, _CY (planar)\n",
      "    linked shapefile:  city_shp.dta\n",
      "\n",
      "file city.dta saved\n",
      "\n"
     ]
    }
   ],
   "source": [
    "%%stata\n",
    "\n",
    "cd \"E:\\cyberspace\\notebook\\Project\\spatial econometrics summer\"\n",
    "\n",
    "spshape2dta city, replace\n",
    "\n",
    "use city, clear\n",
    "gen acode = AD2004\n",
    "sort acode\n",
    "\n",
    "spset acode, modify replace\n",
    "\n",
    "save, replace"
   ]
  },
  {
   "cell_type": "markdown",
   "metadata": {},
   "source": [
    "**关联地理信息与统计数据的地区**"
   ]
  },
  {
   "cell_type": "code",
   "execution_count": 4,
   "metadata": {},
   "outputs": [
    {
     "name": "stdout",
     "output_type": "stream",
     "text": [
      "\n",
      "(2,802 observations deleted)\n",
      "\n",
      "(1 observation deleted)\n",
      "\n",
      "(note: variable acode was long, now double to accommodate using data's values)\n",
      "\n",
      "    Result                           # of obs.\n",
      "    -----------------------------------------\n",
      "    not matched                             7\n",
      "        from master                         0  (_merge==1)\n",
      "        from using                          7  (_merge==2)\n",
      "\n",
      "    matched                               280  (_merge==3)\n",
      "    -----------------------------------------\n",
      "\n",
      "(7 observations deleted)\n",
      "\n",
      "file spatial_project.dta saved\n",
      "\n"
     ]
    }
   ],
   "source": [
    "%%stata\n",
    "\n",
    "use project_open, clear\n",
    "keep if year == 2009\n",
    "drop if y == .\n",
    "rename code acode\n",
    "\n",
    "merge 1:1 acode using city\n",
    "keep if _merge==3\n",
    "drop _merge\n",
    "\n",
    "save spatial_project, replace"
   ]
  },
  {
   "cell_type": "markdown",
   "metadata": {},
   "source": [
    "**不包含空间作用的回归模型，并检验**"
   ]
  },
  {
   "cell_type": "code",
   "execution_count": 5,
   "metadata": {},
   "outputs": [
    {
     "name": "stdout",
     "output_type": "stream",
     "text": [
      "\n",
      "      Source |       SS           df       MS      Number of obs   =       280\n",
      "-------------+----------------------------------   F(1, 278)       =     31.54\n",
      "       Model |  340.541661         1  340.541661   Prob > F        =    0.0000\n",
      "    Residual |  3001.99407       278  10.7985398   R-squared       =    0.1019\n",
      "-------------+----------------------------------   Adj R-squared   =    0.0987\n",
      "       Total |  3342.53573       279  11.9804148   Root MSE        =    3.2861\n",
      "\n",
      "------------------------------------------------------------------------------\n",
      "           y |      Coef.   Std. Err.      t    P>|t|     [95% Conf. Interval]\n",
      "-------------+----------------------------------------------------------------\n",
      "     project |    .123953   .0220726     5.62   0.000     .0805022    .1674038\n",
      "       _cons |   6.938091    .995225     6.97   0.000     4.978957    8.897225\n",
      "------------------------------------------------------------------------------\n",
      "\n",
      "  weighting matrix in W contains 6 islands\n",
      "\n",
      "Moran test for spatial dependence\n",
      "         Ho: error is i.i.d. \n",
      "         Errorlags:  W\n",
      "\n",
      "         chi2(1)      =    63.52\n",
      "         Prob > chi2  =   0.0000\n",
      "\n"
     ]
    }
   ],
   "source": [
    "%%stata\n",
    "\n",
    "use spatial_project, clear\n",
    "\n",
    "reg y project\n",
    "\n",
    "spmatrix clear\n",
    "spmatrix create contiguity W, normalize(row)\n",
    "\n",
    "estat moran, errorlag(W)"
   ]
  },
  {
   "cell_type": "markdown",
   "metadata": {},
   "source": [
    "**SAR模型估计**"
   ]
  },
  {
   "cell_type": "code",
   "execution_count": 10,
   "metadata": {},
   "outputs": [
    {
     "name": "stdout",
     "output_type": "stream",
     "text": [
      "  (280 observations)\n",
      "  (280 observations (places) used)\n",
      "  (weighting matrix defines 280 places)\n",
      "\n",
      "Spatial autoregressive model                    Number of obs     =        280\n",
      "GS2SLS estimates                                Wald chi2(2)      =      67.29\n",
      "                                                Prob > chi2       =     0.0000\n",
      "                                                Pseudo R2         =     0.1550\n",
      "\n",
      "------------------------------------------------------------------------------\n",
      "           y |      Coef.   Std. Err.      z    P>|z|     [95% Conf. Interval]\n",
      "-------------+----------------------------------------------------------------\n",
      "y            |\n",
      "     project |   .0952824   .0198693     4.80   0.000     .0563392    .1342256\n",
      "       _cons |   3.038352   1.161154     2.62   0.009     .7625322    5.314172\n",
      "-------------+----------------------------------------------------------------\n",
      "W            |\n",
      "           y |   .4221614   .0847593     4.98   0.000     .2560362    .5882866\n",
      "------------------------------------------------------------------------------\n",
      "Wald test of spatial terms:          chi2(1) = 24.81      Prob > chi2 = 0.0000\n",
      "\n",
      "progress   :100% \n",
      "\n",
      "Average impacts                                 Number of obs     =        280\n",
      "\n",
      "------------------------------------------------------------------------------\n",
      "             |            Delta-Method\n",
      "             |      dy/dx   Std. Err.      z    P>|z|     [95% Conf. Interval]\n",
      "-------------+----------------------------------------------------------------\n",
      "direct       |\n",
      "     project |   .0997753   .0202946     4.92   0.000     .0599986    .1395521\n",
      "-------------+----------------------------------------------------------------\n",
      "indirect     |\n",
      "     project |   .0636275   .0217922     2.92   0.004     .0209155    .1063395\n",
      "-------------+----------------------------------------------------------------\n",
      "total        |\n",
      "     project |   .1634028   .0354117     4.61   0.000     .0939971    .2328085\n",
      "------------------------------------------------------------------------------\n",
      "\n"
     ]
    }
   ],
   "source": [
    "%%stata\n",
    "\n",
    "spregress y project, gs2sls dvarlag(W)\n",
    "estat impact"
   ]
  },
  {
   "cell_type": "markdown",
   "metadata": {},
   "source": [
    "**SDM回归模型**"
   ]
  },
  {
   "cell_type": "code",
   "execution_count": 12,
   "metadata": {},
   "outputs": [
    {
     "name": "stdout",
     "output_type": "stream",
     "text": [
      "  (280 observations)\n",
      "  (280 observations (places) used)\n",
      "  (weighting matrix defines 280 places)\n",
      "\n",
      "Spatial autoregressive model                    Number of obs     =        280\n",
      "GS2SLS estimates                                Wald chi2(3)      =      79.72\n",
      "                                                Prob > chi2       =     0.0000\n",
      "                                                Pseudo R2         =     0.1002\n",
      "\n",
      "------------------------------------------------------------------------------\n",
      "           y |      Coef.   Std. Err.      z    P>|z|     [95% Conf. Interval]\n",
      "-------------+----------------------------------------------------------------\n",
      "y            |\n",
      "     project |   .1025992    .019755     5.19   0.000     .0638801    .1413183\n",
      "       _cons |   2.286735   1.152446     1.98   0.047     .0279817    4.545487\n",
      "-------------+----------------------------------------------------------------\n",
      "W            |\n",
      "     project |  -.0974891   .0570565    -1.71   0.088    -.2093178    .0143397\n",
      "           y |   .8018516   .2238634     3.58   0.000     .3630875    1.240616\n",
      "------------------------------------------------------------------------------\n",
      "Wald test of spatial terms:          chi2(2) = 33.69      Prob > chi2 = 0.0000\n",
      "\n",
      "progress   :100% \n",
      "\n",
      "Average impacts                                 Number of obs     =        280\n",
      "\n",
      "------------------------------------------------------------------------------\n",
      "             |            Delta-Method\n",
      "             |      dy/dx   Std. Err.      z    P>|z|     [95% Conf. Interval]\n",
      "-------------+----------------------------------------------------------------\n",
      "direct       |\n",
      "     project |   .0969696   .0267965     3.62   0.000     .0444495    .1494897\n",
      "-------------+----------------------------------------------------------------\n",
      "indirect     |\n",
      "     project |  -.0695342   .2286594    -0.30   0.761    -.5176984    .3786301\n",
      "-------------+----------------------------------------------------------------\n",
      "total        |\n",
      "     project |   .0274354   .2472864     0.11   0.912    -.4572369    .5121078\n",
      "------------------------------------------------------------------------------\n",
      "\n"
     ]
    }
   ],
   "source": [
    "%%stata\n",
    "\n",
    "spregress y project, gs2sls dvarlag(W) ivarlag(W:project)\n",
    "estat impact"
   ]
  },
  {
   "cell_type": "markdown",
   "metadata": {},
   "source": [
    "**加入更多控制变量**\n",
    "\n",
    "- rgdpc_lag1: 滞后一期人均GDP\n",
    "- popgrow：人口自然增长率\n",
    "- edu：高中以上在校人数占人口比率"
   ]
  },
  {
   "cell_type": "markdown",
   "metadata": {},
   "source": [
    "**不包括空间作用的回归模型**"
   ]
  },
  {
   "cell_type": "code",
   "execution_count": 13,
   "metadata": {},
   "outputs": [
    {
     "name": "stdout",
     "output_type": "stream",
     "text": [
      "\n",
      "      Source |       SS           df       MS      Number of obs   =       272\n",
      "-------------+----------------------------------   F(4, 267)       =     13.61\n",
      "       Model |  550.837999         4    137.7095   Prob > F        =    0.0000\n",
      "    Residual |  2701.04296       267  10.1162658   R-squared       =    0.1694\n",
      "-------------+----------------------------------   Adj R-squared   =    0.1569\n",
      "       Total |  3251.88096       271  11.9995607   Root MSE        =    3.1806\n",
      "\n",
      "------------------------------------------------------------------------------\n",
      "           y |      Coef.   Std. Err.      t    P>|t|     [95% Conf. Interval]\n",
      "-------------+----------------------------------------------------------------\n",
      "     project |   .0934196   .0235719     3.96   0.000     .0470091      .13983\n",
      "  rgdpc_lag1 |  -.1894917   .3622769    -0.52   0.601    -.9027746    .5237912\n",
      "     popgrow |  -.1696845   .0586289    -2.89   0.004    -.2851183   -.0542507\n",
      "         edu |  -25.27467   8.629811    -2.93   0.004     -42.2658   -8.283529\n",
      "       _cons |   12.98728   3.936949     3.30   0.001     5.235869     20.7387\n",
      "------------------------------------------------------------------------------\n",
      "\n",
      "(8 observations deleted)\n",
      "\n",
      "  weighting matrix in M contains 6 islands\n",
      "\n",
      "Moran test for spatial dependence\n",
      "         Ho: error is i.i.d. \n",
      "         Errorlags:  M\n",
      "\n",
      "         chi2(1)      =    45.23\n",
      "         Prob > chi2  =   0.0000\n",
      "\n"
     ]
    }
   ],
   "source": [
    "%%stata\n",
    "\n",
    "reg y project rgdpc_lag1 popgrow edu\n",
    "\n",
    "drop if edu == . | popgrow == . | y == .\n",
    "spmatrix create contiguity M, normalize(row)\n",
    "\n",
    "estat moran, errorlag(M)"
   ]
  },
  {
   "cell_type": "markdown",
   "metadata": {},
   "source": [
    "**SAR回归模型**"
   ]
  },
  {
   "cell_type": "code",
   "execution_count": 14,
   "metadata": {},
   "outputs": [
    {
     "name": "stdout",
     "output_type": "stream",
     "text": [
      "  (272 observations)\n",
      "  (272 observations (places) used)\n",
      "  (weighting matrix defines 272 places)\n",
      "\n",
      "Spatial autoregressive model                    Number of obs     =        272\n",
      "GS2SLS estimates                                Wald chi2(5)      =      96.83\n",
      "                                                Prob > chi2       =     0.0000\n",
      "                                                Pseudo R2         =     0.2221\n",
      "\n",
      "------------------------------------------------------------------------------\n",
      "           y |      Coef.   Std. Err.      z    P>|z|     [95% Conf. Interval]\n",
      "-------------+----------------------------------------------------------------\n",
      "y            |\n",
      "     project |    .074747    .020882     3.58   0.000      .033819     .115675\n",
      "  rgdpc_lag1 |  -.1543023   .3158765    -0.49   0.625    -.7734089    .4648043\n",
      "     popgrow |  -.1123624   .0523684    -2.15   0.032    -.2150027   -.0097222\n",
      "         edu |  -16.00962   7.745965    -2.07   0.039    -31.19143   -.8278031\n",
      "       _cons |     7.3796   3.609255     2.04   0.041      .305591    14.45361\n",
      "-------------+----------------------------------------------------------------\n",
      "M            |\n",
      "           y |   .4138646   .0824836     5.02   0.000     .2521997    .5755296\n",
      "------------------------------------------------------------------------------\n",
      "Wald test of spatial terms:          chi2(1) = 25.18      Prob > chi2 = 0.0000\n",
      "\n",
      "progress   : 25%  50%  75% 100% \n",
      "\n",
      "Average impacts                                 Number of obs     =        272\n",
      "\n",
      "------------------------------------------------------------------------------\n",
      "             |            Delta-Method\n",
      "             |      dy/dx   Std. Err.      z    P>|z|     [95% Conf. Interval]\n",
      "-------------+----------------------------------------------------------------\n",
      "direct       |\n",
      "     project |   .0781839   .0216148     3.62   0.000     .0358197    .1205482\n",
      "  rgdpc_lag1 |  -.1613973   .3303442    -0.49   0.625      -.80886    .4860653\n",
      "     popgrow |   -.117529   .0543033    -2.16   0.030    -.2239615   -.0110966\n",
      "         edu |  -16.74576   8.027472    -2.09   0.037    -32.47931     -1.0122\n",
      "-------------+----------------------------------------------------------------\n",
      "indirect     |\n",
      "     project |    .048177   .0189505     2.54   0.011     .0110347    .0853192\n",
      "  rgdpc_lag1 |  -.0994531   .2055163    -0.48   0.628    -.5022577    .3033516\n",
      "     popgrow |  -.0724214   .0368947    -1.96   0.050    -.1447336   -.0001092\n",
      "         edu |  -10.31874   5.335482    -1.93   0.053    -20.77609    .1386149\n",
      "-------------+----------------------------------------------------------------\n",
      "total        |\n",
      "     project |   .1263609   .0365154     3.46   0.001     .0547921    .1979297\n",
      "  rgdpc_lag1 |  -.2608504   .5344185    -0.49   0.625    -1.308291    .7865905\n",
      "     popgrow |  -.1899504   .0866861    -2.19   0.028     -.359852   -.0200489\n",
      "         edu |   -27.0645   12.73312    -2.13   0.034    -52.02094   -2.108046\n",
      "------------------------------------------------------------------------------\n",
      "\n"
     ]
    }
   ],
   "source": [
    "%%stata\n",
    "\n",
    "spregress y project rgdpc_lag1 popgrow edu, gs2sls dvarlag(M)\n",
    "estat impact"
   ]
  },
  {
   "cell_type": "markdown",
   "metadata": {},
   "source": [
    "**SDM回归模型**"
   ]
  },
  {
   "cell_type": "code",
   "execution_count": 17,
   "metadata": {},
   "outputs": [
    {
     "name": "stdout",
     "output_type": "stream",
     "text": [
      "  (272 observations)\n",
      "  (272 observations (places) used)\n",
      "  (weighting matrix defines 272 places)\n",
      "\n",
      "Spatial autoregressive model                    Number of obs     =        272\n",
      "GS2SLS estimates                                Wald chi2(9)      =     113.01\n",
      "                                                Prob > chi2       =     0.0000\n",
      "                                                Pseudo R2         =     0.1918\n",
      "\n",
      "------------------------------------------------------------------------------\n",
      "           y |      Coef.   Std. Err.      z    P>|z|     [95% Conf. Interval]\n",
      "-------------+----------------------------------------------------------------\n",
      "y            |\n",
      "     project |   .0748499   .0222839     3.36   0.001     .0311742    .1185256\n",
      "  rgdpc_lag1 |  -.1079625   .3567822    -0.30   0.762    -.8072428    .5913177\n",
      "     popgrow |  -.0431387   .0664679    -0.65   0.516    -.1734134    .0871361\n",
      "         edu |  -9.710028   8.242513    -1.18   0.239    -25.86506    6.445001\n",
      "       _cons |   6.451394   3.769611     1.71   0.087    -.9369082     13.8397\n",
      "-------------+----------------------------------------------------------------\n",
      "M            |\n",
      "     project |  -.0815204   .0499254    -1.63   0.103    -.1793723    .0163315\n",
      "  rgdpc_lag1 |  -.2738868   .3098522    -0.88   0.377    -.8811859    .3334124\n",
      "     popgrow |  -.0381366   .0907441    -0.42   0.674    -.2159918    .1397186\n",
      "         edu |   2.846082   16.76871     0.17   0.865    -30.01999    35.71215\n",
      "           y |   .8812402   .2547919     3.46   0.001     .3818572    1.380623\n",
      "------------------------------------------------------------------------------\n",
      "Wald test of spatial terms:          chi2(5) = 37.17      Prob > chi2 = 0.0000\n",
      "\n",
      "progress   : 25%  50%  75% 100% \n",
      "\n",
      "Average impacts                                 Number of obs     =        272\n",
      "\n",
      "------------------------------------------------------------------------------\n",
      "             |            Delta-Method\n",
      "             |      dy/dx   Std. Err.      z    P>|z|     [95% Conf. Interval]\n",
      "-------------+----------------------------------------------------------------\n",
      "direct       |\n",
      "     project |   .0663341   .0381345     1.74   0.082    -.0084082    .1410763\n",
      "  rgdpc_lag1 |  -.3099321   .5580659    -0.56   0.579    -1.403721    .7838569\n",
      "     popgrow |  -.0848169   .0810267    -1.05   0.295    -.2436263    .0739925\n",
      "         edu |  -12.83555   11.90672    -1.08   0.281     -36.1723     10.5012\n",
      "-------------+----------------------------------------------------------------\n",
      "indirect     |\n",
      "     project |  -.1196119   .4738852    -0.25   0.801     -1.04841     .809186\n",
      "  rgdpc_lag1 |  -2.836832   7.840721    -0.36   0.717    -18.20436     12.5307\n",
      "     popgrow |  -.5854053   1.226427    -0.48   0.633    -2.989158    1.818348\n",
      "         edu |  -43.90059   107.9642    -0.41   0.684    -255.5065    167.7053\n",
      "-------------+----------------------------------------------------------------\n",
      "total        |\n",
      "     project |  -.0532778   .5048903    -0.11   0.916    -1.042845    .9362889\n",
      "  rgdpc_lag1 |  -3.146764   8.246925    -0.38   0.703    -19.31044    13.01691\n",
      "     popgrow |  -.6702222   1.272378    -0.53   0.598    -3.164038    1.823593\n",
      "         edu |  -56.73614   116.0801    -0.49   0.625     -284.249    170.7768\n",
      "------------------------------------------------------------------------------\n",
      "\n"
     ]
    }
   ],
   "source": [
    "%%stata\n",
    "\n",
    "spregress y project rgdpc_lag1 popgrow edu, gs2sls dvarlag(M) ivarlag(M:project rgdpc_lag1 popgrow edu)\n",
    "estat impact"
   ]
  }
 ],
 "metadata": {
  "kernelspec": {
   "display_name": "Python 3",
   "language": "python",
   "name": "python3"
  },
  "language_info": {
   "codemirror_mode": {
    "name": "ipython",
    "version": 3
   },
   "file_extension": ".py",
   "mimetype": "text/x-python",
   "name": "python",
   "nbconvert_exporter": "python",
   "pygments_lexer": "ipython3",
   "version": "3.6.1"
  }
 },
 "nbformat": 4,
 "nbformat_minor": 2
}
