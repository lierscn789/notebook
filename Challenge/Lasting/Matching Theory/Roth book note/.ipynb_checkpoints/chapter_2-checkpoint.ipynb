{
 "cells": [
  {
   "cell_type": "markdown",
   "metadata": {},
   "source": [
    "# Stable matchings"
   ]
  },
  {
   "cell_type": "markdown",
   "metadata": {},
   "source": [
    "## The formal (cooperative) model\n",
    "\n",
    "**Marriage Problem**\n",
    "\n",
    "The elements of the formal model are as follows. \n",
    "婚姻匹配模型的基本结构如下\n",
    "\n",
    "- **Men and Women**\n",
    "男性和女性\n",
    "\n",
    "There are two finite and disjoint sets $M$ and $W$: $M=\\left\\{m_{1}, m_{2}, \\dots, m_{n}\\right\\}$ is the set of men, and $W=\\left\\{w_{1}, w_{2}, \\dots, w_{p}\\right\\}$ is the set of women.\n",
    "\n",
    "男性和女性用不相交的两个集合表示。\n",
    "\n",
    "- **Preference**\n",
    "偏好\n",
    "\n",
    "Each man has preferences over the women, and each woman has preferences over the men. \n",
    "他们分别对异性具有偏好。\n",
    "\n",
    "These preferences may be such that, say, a man $m$ would prefer to remain single rather than be married to some woman $w$ he doesn't care for.\n",
    "当然他（她）也可以更偏好单身。\n",
    "\n",
    "An individual's preferences are meant to represent how he or she would choose among different alternatives, if he or she were faced with a choice.\n",
    "个体偏好代表了他（她）在面临选择时会如何进行抉择。\n",
    "\n",
    "when we say some individual **prefers alternative a to alternative b**, we mean that if that individual were faced with a choice between the two, he or she would choose a and not b, and if faced with a choice from a set of alternatives that included b, then he or she would not choose b if a were also available.\n",
    "定义偏好$a$甚于$b$，在于面临两者的选择时，会选择$a$而非$b$。\n",
    "\n",
    "When we say an individual is **indifferent between the two**, we mean that he or she might choose either one.\n",
    "定义无差异偏好。\n",
    "\n",
    "We will say an individual **likes $a$ at least as well as $b$** if he or she either prefers $a$ to $b$ or is indifferent between them.\n",
    "定义喜欢$a$至少和喜欢$b$一样多。\n",
    "\n",
    "**数学表达**\n",
    "\n",
    "To express these preferences concisely, the preferences of each man $m$ will be represented by **an ordered list of preferences**, $P(m)$, on the set $W \\cup\\{m\\}$. \n",
    "\n",
    "A man $m$'s preferences might be of the form\n",
    "\n",
    "$$P(m)=w_{1}, w_{2}, m, w_{3}, \\dots, w_{p}$$\n",
    "\n",
    "indicating that his first choice is to be married to woman $w_{1}$ his second choice is to be married to woman $w_{2}$, and his third choice is to remain single.\n",
    "\n",
    "这意味着他的第一选择是和$w_{1}$结婚，第二选择是和和$w_{2}$结婚，第三选择是保持单身。\n",
    "\n",
    "A man $m$' may be indifferent between several possible mates. This will be denoted by brackets in the preference list, so for example the list\n",
    "\n",
    "$$P\\left(m^{\\prime}\\right)=w_{2},\\left[w_{1}, w_{7}\\right], m^{\\prime}, w_{3}, \\dots, w_{k}$$\n",
    "\n",
    "indicates that man $m$' prefers woman $w_{2}$ to wu but that he is indifferent between $w_{1}$ and $w_{7}$, and he prefers remaining single to marrying anyone else.\n",
    "\n",
    "无差异的数学表达用方括号。"
   ]
  }
 ],
 "metadata": {
  "kernelspec": {
   "display_name": "Python 3",
   "language": "python",
   "name": "python3"
  },
  "language_info": {
   "codemirror_mode": {
    "name": "ipython",
    "version": 3
   },
   "file_extension": ".py",
   "mimetype": "text/x-python",
   "name": "python",
   "nbconvert_exporter": "python",
   "pygments_lexer": "ipython3",
   "version": "3.6.1"
  }
 },
 "nbformat": 4,
 "nbformat_minor": 2
}
