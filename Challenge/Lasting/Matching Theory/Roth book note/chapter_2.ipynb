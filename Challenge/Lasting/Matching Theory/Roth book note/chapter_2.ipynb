{
 "cells": [
  {
   "cell_type": "markdown",
   "metadata": {},
   "source": [
    "# Stable matchings"
   ]
  },
  {
   "cell_type": "markdown",
   "metadata": {},
   "source": [
    "## The formal (cooperative) model\n",
    "\n",
    "**Marriage Problem**\n",
    "\n",
    "The elements of the formal model are as follows. \n",
    "婚姻匹配模型的基本结构如下\n",
    "\n",
    "- **Men and Women**\n",
    "男性和女性\n",
    "\n",
    "There are two finite and disjoint sets $M$ and $W$: $M=\\left\\{m_{1}, m_{2}, \\dots, m_{n}\\right\\}$ is the set of men, and $W=\\left\\{w_{1}, w_{2}, \\dots, w_{p}\\right\\}$ is the set of women.\n",
    "\n",
    "男性和女性分别用不相交的两个集合表示。\n",
    "\n",
    "- **Preference**\n",
    "偏好\n",
    "\n",
    "Each man has preferences over the women, and each woman has preferences over the men. \n",
    "他们分别对异性具有偏好。\n",
    "\n",
    "These preferences may be such that, say, a man $m$ would prefer to remain single rather than be married to some woman $w$ he doesn't care for.\n",
    "当然他（她）也可以更偏好单身。\n",
    "\n"
   ]
  }
 ],
 "metadata": {
  "kernelspec": {
   "display_name": "Python 3",
   "language": "python",
   "name": "python3"
  },
  "language_info": {
   "codemirror_mode": {
    "name": "ipython",
    "version": 3
   },
   "file_extension": ".py",
   "mimetype": "text/x-python",
   "name": "python",
   "nbconvert_exporter": "python",
   "pygments_lexer": "ipython3",
   "version": "3.6.1"
  }
 },
 "nbformat": 4,
 "nbformat_minor": 2
}
