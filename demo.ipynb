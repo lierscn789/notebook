{
 "cells": [
  {
   "cell_type": "code",
   "execution_count": 1,
   "metadata": {},
   "outputs": [
    {
     "name": "stdout",
     "output_type": "stream",
     "text": [
      "hello\n"
     ]
    }
   ],
   "source": [
    "print('hello')"
   ]
  },
  {
   "cell_type": "code",
   "execution_count": 1,
   "metadata": {},
   "outputs": [],
   "source": [
    "import ipystata"
   ]
  },
  {
   "cell_type": "code",
   "execution_count": 2,
   "metadata": {},
   "outputs": [
    {
     "name": "stdout",
     "output_type": "stream",
     "text": [
      "\n",
      "Hello, I am printed in Stata.\n",
      "\n"
     ]
    }
   ],
   "source": [
    "%%stata  \n",
    "display \"Hello, I am printed in Stata.\""
   ]
  },
  {
   "cell_type": "code",
   "execution_count": 3,
   "metadata": {},
   "outputs": [
    {
     "name": "stdout",
     "output_type": "stream",
     "text": [
      "(1978 Automobile Data)\n",
      "\n",
      "      Source |       SS           df       MS      Number of obs   =        74\n",
      "-------------+----------------------------------   F(2, 71)        =     69.75\n",
      "       Model |   1619.2877         2  809.643849   Prob > F        =    0.0000\n",
      "    Residual |  824.171761        71   11.608053   R-squared       =    0.6627\n",
      "-------------+----------------------------------   Adj R-squared   =    0.6532\n",
      "       Total |  2443.45946        73  33.4720474   Root MSE        =    3.4071\n",
      "\n",
      "------------------------------------------------------------------------------\n",
      "         mpg |      Coef.   Std. Err.      t    P>|t|     [95% Conf. Interval]\n",
      "-------------+----------------------------------------------------------------\n",
      "      weight |  -.0065879   .0006371   -10.34   0.000    -.0078583   -.0053175\n",
      "     foreign |  -1.650029   1.075994    -1.53   0.130      -3.7955    .4954422\n",
      "       _cons |    41.6797   2.165547    19.25   0.000     37.36172    45.99768\n",
      "------------------------------------------------------------------------------\n",
      "\n"
     ]
    }
   ],
   "source": [
    "%%stata\n",
    "sysuse auto\n",
    "regress mpg weight foreign"
   ]
  },
  {
   "cell_type": "code",
   "execution_count": 2,
   "metadata": {},
   "outputs": [
    {
     "data": {
      "text/plain": [
       "['',\n",
       " 'c:\\\\python\\\\python36.zip',\n",
       " 'c:\\\\python\\\\DLLs',\n",
       " 'c:\\\\python\\\\lib',\n",
       " 'c:\\\\python',\n",
       " 'E:\\\\cyberspace\\\\pythonlib',\n",
       " 'c:\\\\python\\\\lib\\\\site-packages',\n",
       " 'c:\\\\python\\\\lib\\\\site-packages\\\\win32',\n",
       " 'c:\\\\python\\\\lib\\\\site-packages\\\\win32\\\\lib',\n",
       " 'c:\\\\python\\\\lib\\\\site-packages\\\\Pythonwin',\n",
       " 'c:\\\\python\\\\lib\\\\site-packages\\\\IPython\\\\extensions',\n",
       " 'C:\\\\Users\\\\plutoese\\\\.ipython']"
      ]
     },
     "execution_count": 2,
     "metadata": {},
     "output_type": "execute_result"
    }
   ],
   "source": [
    "import sys\n",
    "\n",
    "sys.path"
   ]
  }
 ],
 "metadata": {
  "kernelspec": {
   "display_name": "Python 3",
   "language": "python",
   "name": "python3"
  },
  "language_info": {
   "codemirror_mode": {
    "name": "ipython",
    "version": 3
   },
   "file_extension": ".py",
   "mimetype": "text/x-python",
   "name": "python",
   "nbconvert_exporter": "python",
   "pygments_lexer": "ipython3",
   "version": "3.6.1"
  }
 },
 "nbformat": 4,
 "nbformat_minor": 2
}
