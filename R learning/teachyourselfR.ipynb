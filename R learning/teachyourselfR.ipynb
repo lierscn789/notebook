{
 "cells": [
  {
   "cell_type": "markdown",
   "metadata": {},
   "source": [
    "# R语言入门经典"
   ]
  },
  {
   "cell_type": "markdown",
   "metadata": {},
   "source": [
    "## 1. R语言环境"
   ]
  },
  {
   "cell_type": "code",
   "execution_count": 1,
   "metadata": {},
   "outputs": [
    {
     "data": {
      "text/html": [
       "<ol class=list-inline>\n",
       "\t<li>'.GlobalEnv'</li>\n",
       "\t<li>'jupyter:irkernel'</li>\n",
       "\t<li>'package:stats'</li>\n",
       "\t<li>'package:graphics'</li>\n",
       "\t<li>'package:grDevices'</li>\n",
       "\t<li>'package:utils'</li>\n",
       "\t<li>'package:datasets'</li>\n",
       "\t<li>'package:methods'</li>\n",
       "\t<li>'Autoloads'</li>\n",
       "\t<li>'package:base'</li>\n",
       "</ol>\n"
      ],
      "text/latex": [
       "\\begin{enumerate*}\n",
       "\\item '.GlobalEnv'\n",
       "\\item 'jupyter:irkernel'\n",
       "\\item 'package:stats'\n",
       "\\item 'package:graphics'\n",
       "\\item 'package:grDevices'\n",
       "\\item 'package:utils'\n",
       "\\item 'package:datasets'\n",
       "\\item 'package:methods'\n",
       "\\item 'Autoloads'\n",
       "\\item 'package:base'\n",
       "\\end{enumerate*}\n"
      ],
      "text/markdown": [
       "1. '.GlobalEnv'\n",
       "2. 'jupyter:irkernel'\n",
       "3. 'package:stats'\n",
       "4. 'package:graphics'\n",
       "5. 'package:grDevices'\n",
       "6. 'package:utils'\n",
       "7. 'package:datasets'\n",
       "8. 'package:methods'\n",
       "9. 'Autoloads'\n",
       "10. 'package:base'\n",
       "\n",
       "\n"
      ],
      "text/plain": [
       " [1] \".GlobalEnv\"        \"jupyter:irkernel\"  \"package:stats\"    \n",
       " [4] \"package:graphics\"  \"package:grDevices\" \"package:utils\"    \n",
       " [7] \"package:datasets\"  \"package:methods\"   \"Autoloads\"        \n",
       "[10] \"package:base\"     "
      ]
     },
     "metadata": {},
     "output_type": "display_data"
    }
   ],
   "source": [
    "# 搜索路径\n",
    "search()"
   ]
  },
  {
   "cell_type": "code",
   "execution_count": 2,
   "metadata": {},
   "outputs": [
    {
     "data": {
      "text/html": [
       "<ol class=list-inline>\n",
       "\t<li>'.GlobalEnv'</li>\n",
       "\t<li>'jupyter:irkernel'</li>\n",
       "\t<li>'C:/Program Files/R/R-3.4.2/library/stats'</li>\n",
       "\t<li>'C:/Program Files/R/R-3.4.2/library/graphics'</li>\n",
       "\t<li>'C:/Program Files/R/R-3.4.2/library/grDevices'</li>\n",
       "\t<li>'C:/Program Files/R/R-3.4.2/library/utils'</li>\n",
       "\t<li>'C:/Program Files/R/R-3.4.2/library/datasets'</li>\n",
       "\t<li>'C:/Program Files/R/R-3.4.2/library/methods'</li>\n",
       "\t<li>'Autoloads'</li>\n",
       "\t<li>'C:/PROGRA~1/R/R-34~1.2/library/base'</li>\n",
       "</ol>\n"
      ],
      "text/latex": [
       "\\begin{enumerate*}\n",
       "\\item '.GlobalEnv'\n",
       "\\item 'jupyter:irkernel'\n",
       "\\item 'C:/Program Files/R/R-3.4.2/library/stats'\n",
       "\\item 'C:/Program Files/R/R-3.4.2/library/graphics'\n",
       "\\item 'C:/Program Files/R/R-3.4.2/library/grDevices'\n",
       "\\item 'C:/Program Files/R/R-3.4.2/library/utils'\n",
       "\\item 'C:/Program Files/R/R-3.4.2/library/datasets'\n",
       "\\item 'C:/Program Files/R/R-3.4.2/library/methods'\n",
       "\\item 'Autoloads'\n",
       "\\item 'C:/PROGRA\\textasciitilde{}1/R/R-34\\textasciitilde{}1.2/library/base'\n",
       "\\end{enumerate*}\n"
      ],
      "text/markdown": [
       "1. '.GlobalEnv'\n",
       "2. 'jupyter:irkernel'\n",
       "3. 'C:/Program Files/R/R-3.4.2/library/stats'\n",
       "4. 'C:/Program Files/R/R-3.4.2/library/graphics'\n",
       "5. 'C:/Program Files/R/R-3.4.2/library/grDevices'\n",
       "6. 'C:/Program Files/R/R-3.4.2/library/utils'\n",
       "7. 'C:/Program Files/R/R-3.4.2/library/datasets'\n",
       "8. 'C:/Program Files/R/R-3.4.2/library/methods'\n",
       "9. 'Autoloads'\n",
       "10. 'C:/PROGRA~1/R/R-34~1.2/library/base'\n",
       "\n",
       "\n"
      ],
      "text/plain": [
       " [1] \".GlobalEnv\"                                  \n",
       " [2] \"jupyter:irkernel\"                            \n",
       " [3] \"C:/Program Files/R/R-3.4.2/library/stats\"    \n",
       " [4] \"C:/Program Files/R/R-3.4.2/library/graphics\" \n",
       " [5] \"C:/Program Files/R/R-3.4.2/library/grDevices\"\n",
       " [6] \"C:/Program Files/R/R-3.4.2/library/utils\"    \n",
       " [7] \"C:/Program Files/R/R-3.4.2/library/datasets\" \n",
       " [8] \"C:/Program Files/R/R-3.4.2/library/methods\"  \n",
       " [9] \"Autoloads\"                                   \n",
       "[10] \"C:/PROGRA~1/R/R-34~1.2/library/base\"         "
      ]
     },
     "metadata": {},
     "output_type": "display_data"
    }
   ],
   "source": [
    "# 搜索路径\n",
    "searchpaths()"
   ]
  },
  {
   "cell_type": "code",
   "execution_count": 6,
   "metadata": {},
   "outputs": [
    {
     "data": {
      "text/html": [
       "'x'"
      ],
      "text/latex": [
       "'x'"
      ],
      "text/markdown": [
       "'x'"
      ],
      "text/plain": [
       "[1] \"x\""
      ]
     },
     "metadata": {},
     "output_type": "display_data"
    },
    {
     "data": {
      "text/plain": [
       "x :  num 3"
      ]
     },
     "metadata": {},
     "output_type": "display_data"
    }
   ],
   "source": [
    "# 列出对象\n",
    "x <- 3\n",
    "objects()\n",
    "ls.str()"
   ]
  }
 ],
 "metadata": {
  "kernelspec": {
   "display_name": "R",
   "language": "R",
   "name": "ir"
  },
  "language_info": {
   "codemirror_mode": "r",
   "file_extension": ".r",
   "mimetype": "text/x-r-source",
   "name": "R",
   "pygments_lexer": "r",
   "version": "3.4.2"
  }
 },
 "nbformat": 4,
 "nbformat_minor": 2
}
