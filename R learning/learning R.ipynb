{
 "cells": [
  {
   "cell_type": "markdown",
   "metadata": {},
   "source": [
    "## 学习R"
   ]
  },
  {
   "cell_type": "markdown",
   "metadata": {},
   "source": [
    "## 1. 从R中获得帮助\n",
    "\n",
    "- 获得函数或数据集的信息，可以输入？,后面加上函数名。如果想要查找某个函数，输入两个问好(??)，后面加上与此函数相关的关键词\n",
    "- help以及help.search分别等同于?及??"
   ]
  },
  {
   "cell_type": "code",
   "execution_count": 2,
   "metadata": {},
   "outputs": [
    {
     "data": {
      "text/html": [
       "\n",
       "<table width=\"100%\" summary=\"page for mean {base}\"><tr><td>mean {base}</td><td style=\"text-align: right;\">R Documentation</td></tr></table>\n",
       "\n",
       "<h2>Arithmetic Mean</h2>\n",
       "\n",
       "<h3>Description</h3>\n",
       "\n",
       "<p>Generic function for the (trimmed) arithmetic mean.\n",
       "</p>\n",
       "\n",
       "\n",
       "<h3>Usage</h3>\n",
       "\n",
       "<pre>\n",
       "mean(x, ...)\n",
       "\n",
       "## Default S3 method:\n",
       "mean(x, trim = 0, na.rm = FALSE, ...)\n",
       "</pre>\n",
       "\n",
       "\n",
       "<h3>Arguments</h3>\n",
       "\n",
       "<table summary=\"R argblock\">\n",
       "<tr valign=\"top\"><td><code>x</code></td>\n",
       "<td>\n",
       "<p>An <span style=\"font-family: Courier New, Courier; color: #666666;\"><b>R</b></span> object.  Currently there are methods for\n",
       "numeric/logical vectors and date,\n",
       "date-time and time interval objects.  Complex vectors\n",
       "are allowed for <code>trim = 0</code>, only.</p>\n",
       "</td></tr>\n",
       "<tr valign=\"top\"><td><code>trim</code></td>\n",
       "<td>\n",
       "<p>the fraction (0 to 0.5) of observations to be\n",
       "trimmed from each end of <code>x</code> before the mean is computed.\n",
       "Values of trim outside that range are taken as the nearest endpoint.\n",
       "</p>\n",
       "</td></tr>\n",
       "<tr valign=\"top\"><td><code>na.rm</code></td>\n",
       "<td>\n",
       "<p>a logical value indicating whether <code>NA</code>\n",
       "values should be stripped before the computation proceeds.</p>\n",
       "</td></tr>\n",
       "<tr valign=\"top\"><td><code>...</code></td>\n",
       "<td>\n",
       "<p>further arguments passed to or from other methods.</p>\n",
       "</td></tr>\n",
       "</table>\n",
       "\n",
       "\n",
       "<h3>Value</h3>\n",
       "\n",
       "<p>If <code>trim</code> is zero (the default), the arithmetic mean of the\n",
       "values in <code>x</code> is computed, as a numeric or complex vector of\n",
       "length one.  If <code>x</code> is not logical (coerced to numeric), numeric\n",
       "(including integer) or complex, <code>NA_real_</code> is returned, with a warning.\n",
       "</p>\n",
       "<p>If <code>trim</code> is non-zero, a symmetrically trimmed mean is computed\n",
       "with a fraction of <code>trim</code> observations deleted from each end\n",
       "before the mean is computed.\n",
       "</p>\n",
       "\n",
       "\n",
       "<h3>References</h3>\n",
       "\n",
       "<p>Becker, R. A., Chambers, J. M. and Wilks, A. R. (1988)\n",
       "<em>The New S Language</em>.\n",
       "Wadsworth &amp; Brooks/Cole.\n",
       "</p>\n",
       "\n",
       "\n",
       "<h3>See Also</h3>\n",
       "\n",
       "<p><code>weighted.mean</code>, <code>mean.POSIXct</code>,\n",
       "<code>colMeans</code> for row and column means.\n",
       "</p>\n",
       "\n",
       "\n",
       "<h3>Examples</h3>\n",
       "\n",
       "<pre>\n",
       "x &lt;- c(0:10, 50)\n",
       "xm &lt;- mean(x)\n",
       "c(xm, mean(x, trim = 0.10))\n",
       "</pre>\n",
       "\n",
       "<hr /><div style=\"text-align: center;\">[Package <em>base</em> version 3.4.2 ]</div>"
      ],
      "text/latex": [
       "\\inputencoding{utf8}\n",
       "\\HeaderA{mean}{Arithmetic Mean}{mean}\n",
       "\\methaliasA{mean.default}{mean}{mean.default}\n",
       "\\keyword{univar}{mean}\n",
       "%\n",
       "\\begin{Description}\\relax\n",
       "Generic function for the (trimmed) arithmetic mean.\n",
       "\\end{Description}\n",
       "%\n",
       "\\begin{Usage}\n",
       "\\begin{verbatim}\n",
       "mean(x, ...)\n",
       "\n",
       "## Default S3 method:\n",
       "mean(x, trim = 0, na.rm = FALSE, ...)\n",
       "\\end{verbatim}\n",
       "\\end{Usage}\n",
       "%\n",
       "\\begin{Arguments}\n",
       "\\begin{ldescription}\n",
       "\\item[\\code{x}] An \\R{} object.  Currently there are methods for\n",
       "numeric/logical vectors and \\LinkA{date}{Dates},\n",
       "\\LinkA{date-time}{date.Rdash.time} and \\LinkA{time interval}{time interval} objects.  Complex vectors\n",
       "are allowed for \\code{trim = 0}, only.\n",
       "\\item[\\code{trim}] the fraction (0 to 0.5) of observations to be\n",
       "trimmed from each end of \\code{x} before the mean is computed.\n",
       "Values of trim outside that range are taken as the nearest endpoint.\n",
       "\n",
       "\\item[\\code{na.rm}] a logical value indicating whether \\code{NA}\n",
       "values should be stripped before the computation proceeds.\n",
       "\\item[\\code{...}] further arguments passed to or from other methods.\n",
       "\\end{ldescription}\n",
       "\\end{Arguments}\n",
       "%\n",
       "\\begin{Value}\n",
       "If \\code{trim} is zero (the default), the arithmetic mean of the\n",
       "values in \\code{x} is computed, as a numeric or complex vector of\n",
       "length one.  If \\code{x} is not logical (coerced to numeric), numeric\n",
       "(including integer) or complex, \\code{NA\\_real\\_} is returned, with a warning.\n",
       "\n",
       "If \\code{trim} is non-zero, a symmetrically trimmed mean is computed\n",
       "with a fraction of \\code{trim} observations deleted from each end\n",
       "before the mean is computed.\n",
       "\\end{Value}\n",
       "%\n",
       "\\begin{References}\\relax\n",
       "Becker, R. A., Chambers, J. M. and Wilks, A. R. (1988)\n",
       "\\emph{The New S Language}.\n",
       "Wadsworth \\& Brooks/Cole.\n",
       "\\end{References}\n",
       "%\n",
       "\\begin{SeeAlso}\\relax\n",
       "\\code{\\LinkA{weighted.mean}{weighted.mean}}, \\code{\\LinkA{mean.POSIXct}{mean.POSIXct}},\n",
       "\\code{\\LinkA{colMeans}{colMeans}} for row and column means.\n",
       "\\end{SeeAlso}\n",
       "%\n",
       "\\begin{Examples}\n",
       "\\begin{ExampleCode}\n",
       "x <- c(0:10, 50)\n",
       "xm <- mean(x)\n",
       "c(xm, mean(x, trim = 0.10))\n",
       "\\end{ExampleCode}\n",
       "\\end{Examples}"
      ],
      "text/plain": [
       "mean                   package:base                    R Documentation\n",
       "\n",
       "_\bA_\br_\bi_\bt_\bh_\bm_\be_\bt_\bi_\bc _\bM_\be_\ba_\bn\n",
       "\n",
       "_\bD_\be_\bs_\bc_\br_\bi_\bp_\bt_\bi_\bo_\bn:\n",
       "\n",
       "     Generic function for the (trimmed) arithmetic mean.\n",
       "\n",
       "_\bU_\bs_\ba_\bg_\be:\n",
       "\n",
       "     mean(x, ...)\n",
       "     \n",
       "     ## Default S3 method:\n",
       "     mean(x, trim = 0, na.rm = FALSE, ...)\n",
       "     \n",
       "_\bA_\br_\bg_\bu_\bm_\be_\bn_\bt_\bs:\n",
       "\n",
       "       x: An R object.  Currently there are methods for numeric/logical\n",
       "          vectors and date, date-time and time interval objects.\n",
       "          Complex vectors are allowed for 'trim = 0', only.\n",
       "\n",
       "    trim: the fraction (0 to 0.5) of observations to be trimmed from\n",
       "          each end of 'x' before the mean is computed.  Values of trim\n",
       "          outside that range are taken as the nearest endpoint.\n",
       "\n",
       "   na.rm: a logical value indicating whether 'NA' values should be\n",
       "          stripped before the computation proceeds.\n",
       "\n",
       "     ...: further arguments passed to or from other methods.\n",
       "\n",
       "_\bV_\ba_\bl_\bu_\be:\n",
       "\n",
       "     If 'trim' is zero (the default), the arithmetic mean of the values\n",
       "     in 'x' is computed, as a numeric or complex vector of length one.\n",
       "     If 'x' is not logical (coerced to numeric), numeric (including\n",
       "     integer) or complex, 'NA_real_' is returned, with a warning.\n",
       "\n",
       "     If 'trim' is non-zero, a symmetrically trimmed mean is computed\n",
       "     with a fraction of 'trim' observations deleted from each end\n",
       "     before the mean is computed.\n",
       "\n",
       "_\bR_\be_\bf_\be_\br_\be_\bn_\bc_\be_\bs:\n",
       "\n",
       "     Becker, R. A., Chambers, J. M. and Wilks, A. R. (1988) _The New S\n",
       "     Language_.  Wadsworth & Brooks/Cole.\n",
       "\n",
       "_\bS_\be_\be _\bA_\bl_\bs_\bo:\n",
       "\n",
       "     'weighted.mean', 'mean.POSIXct', 'colMeans' for row and column\n",
       "     means.\n",
       "\n",
       "_\bE_\bx_\ba_\bm_\bp_\bl_\be_\bs:\n",
       "\n",
       "     x <- c(0:10, 50)\n",
       "     xm <- mean(x)\n",
       "     c(xm, mean(x, trim = 0.10))\n",
       "     "
      ]
     },
     "metadata": {},
     "output_type": "display_data"
    }
   ],
   "source": [
    "?mean"
   ]
  },
  {
   "cell_type": "markdown",
   "metadata": {},
   "source": [
    "- apropos能找到匹配其输入的变量（以及函数）"
   ]
  },
  {
   "cell_type": "code",
   "execution_count": 3,
   "metadata": {},
   "outputs": [
    {
     "data": {
      "text/html": [
       "<ol class=list-inline>\n",
       "\t<li>'SSgompertz'</li>\n",
       "\t<li>'toeplitz'</li>\n",
       "\t<li>'unz'</li>\n",
       "</ol>\n"
      ],
      "text/latex": [
       "\\begin{enumerate*}\n",
       "\\item 'SSgompertz'\n",
       "\\item 'toeplitz'\n",
       "\\item 'unz'\n",
       "\\end{enumerate*}\n"
      ],
      "text/markdown": [
       "1. 'SSgompertz'\n",
       "2. 'toeplitz'\n",
       "3. 'unz'\n",
       "\n",
       "\n"
      ],
      "text/plain": [
       "[1] \"SSgompertz\" \"toeplitz\"   \"unz\"       "
      ]
     },
     "metadata": {},
     "output_type": "display_data"
    }
   ],
   "source": [
    "apropos(\"z$\")"
   ]
  },
  {
   "cell_type": "markdown",
   "metadata": {},
   "source": [
    "- 查找“任何”包，可以使用RsiteSearch，它会查询整个http://search.r-project.org 网站的包\n",
    "- RSeek(http://rseek.org) 是一个R的网页搜索引擎，能查找出各种函数、R邮件列表归档中的讨论和博客文章\n",
    "- R博客(http://www.r-bloggers.com) 是R主要的博客社区"
   ]
  },
  {
   "cell_type": "markdown",
   "metadata": {},
   "source": [
    "## 2.科学计算器"
   ]
  },
  {
   "cell_type": "markdown",
   "metadata": {},
   "source": [
    "### 向量化\n",
    "\n",
    "- 冒号运算符\n",
    "- c函数\n",
    "\n",
    "向量化的含义\n",
    "- 无需显示地编写循环语句\n",
    "- 能计算汇总统计"
   ]
  },
  {
   "cell_type": "code",
   "execution_count": 1,
   "metadata": {},
   "outputs": [
    {
     "data": {
      "text/html": [
       "15"
      ],
      "text/latex": [
       "15"
      ],
      "text/markdown": [
       "15"
      ],
      "text/plain": [
       "[1] 15"
      ]
     },
     "metadata": {},
     "output_type": "display_data"
    },
    {
     "data": {
      "text/html": [
       "TRUE"
      ],
      "text/latex": [
       "TRUE"
      ],
      "text/markdown": [
       "TRUE"
      ],
      "text/plain": [
       "[1] TRUE"
      ]
     },
     "metadata": {},
     "output_type": "display_data"
    }
   ],
   "source": [
    "sum(1:5)\n",
    "\n",
    "identical(2 ^ 3, 2 ** 3)"
   ]
  },
  {
   "cell_type": "markdown",
   "metadata": {},
   "source": [
    "要检查两个数字是否一样，不要使用==，而使用**all.equal**函数。我们也可以使用==来比较字符串。"
   ]
  },
  {
   "cell_type": "code",
   "execution_count": 5,
   "metadata": {},
   "outputs": [
    {
     "data": {
      "text/html": [
       "FALSE"
      ],
      "text/latex": [
       "FALSE"
      ],
      "text/markdown": [
       "FALSE"
      ],
      "text/plain": [
       "[1] FALSE"
      ]
     },
     "metadata": {},
     "output_type": "display_data"
    },
    {
     "data": {
      "text/html": [
       "TRUE"
      ],
      "text/latex": [
       "TRUE"
      ],
      "text/markdown": [
       "TRUE"
      ],
      "text/plain": [
       "[1] TRUE"
      ]
     },
     "metadata": {},
     "output_type": "display_data"
    }
   ],
   "source": [
    "sqrt(2)^2 == 2\n",
    "\n",
    "all.equal(sqrt(2)^2,2)"
   ]
  },
  {
   "cell_type": "markdown",
   "metadata": {},
   "source": [
    "### 变量赋值\n",
    "\n",
    "- 我们不能声明任何类型，因为在R中不存在这种概念\n",
    "- 我们可以使用<-或=给变量赋值，虽然由于历史原因，<-是首先\n",
    "- 我们还可以使用<<-来对全局变量赋值\n",
    "- 另一种变量赋值的方法是通过assign函数赋值\n",
    "\n",
    "赋值和打印在同一行\n",
    "- 多个语句放在一行，中间用分号;分开\n",
    "- 把赋值语句写在括号()中"
   ]
  },
  {
   "cell_type": "code",
   "execution_count": 2,
   "metadata": {},
   "outputs": [
    {
     "data": {
      "text/html": [
       "1729"
      ],
      "text/latex": [
       "1729"
      ],
      "text/markdown": [
       "1729"
      ],
      "text/plain": [
       "[1] 1729"
      ]
     },
     "metadata": {},
     "output_type": "display_data"
    }
   ],
   "source": [
    "assign(\"my_local_variable\", 9 ^ 3 + 10 ^ 3)\n",
    "\n",
    "my_local_variable"
   ]
  },
  {
   "cell_type": "code",
   "execution_count": 6,
   "metadata": {},
   "outputs": [
    {
     "data": {
      "text/html": [
       "0.733851553686886"
      ],
      "text/latex": [
       "0.733851553686886"
      ],
      "text/markdown": [
       "0.733851553686886"
      ],
      "text/plain": [
       "[1] 0.7338516"
      ]
     },
     "metadata": {},
     "output_type": "display_data"
    },
    {
     "data": {
      "text/html": [
       "0.631836027570956"
      ],
      "text/latex": [
       "0.631836027570956"
      ],
      "text/markdown": [
       "0.631836027570956"
      ],
      "text/plain": [
       "[1] 0.631836"
      ]
     },
     "metadata": {},
     "output_type": "display_data"
    }
   ],
   "source": [
    "z <- rnorm(1);z\n",
    "(zz <- rlnorm(1))"
   ]
  },
  {
   "cell_type": "markdown",
   "metadata": {},
   "source": [
    "### 特殊数字\n",
    "\n",
    "- Inf和-Inf, 正负无穷\n",
    "- NaN, 不是一个数，意味着我们的计算或没有数学意义，或无法正确执行\n",
    "- NA, 不可用，代表缺失值"
   ]
  },
  {
   "cell_type": "markdown",
   "metadata": {},
   "source": [
    "### 逻辑向量\n",
    "\n",
    "- !代表非操作\n",
    "- &代表与操作\n",
    "- |代表或操作"
   ]
  },
  {
   "cell_type": "code",
   "execution_count": 7,
   "metadata": {},
   "outputs": [
    {
     "data": {
      "text/html": [
       "<table>\n",
       "<thead><tr><th scope=col>x</th><th scope=col>y</th><th scope=col>not.x</th><th scope=col>not.y</th><th scope=col>or</th><th scope=col>and</th></tr></thead>\n",
       "<tbody>\n",
       "\t<tr><td> TRUE</td><td> TRUE</td><td>FALSE</td><td>FALSE</td><td> TRUE</td><td> TRUE</td></tr>\n",
       "\t<tr><td>FALSE</td><td> TRUE</td><td> TRUE</td><td>FALSE</td><td> TRUE</td><td>FALSE</td></tr>\n",
       "\t<tr><td>   NA</td><td> TRUE</td><td>   NA</td><td>FALSE</td><td> TRUE</td><td>   NA</td></tr>\n",
       "\t<tr><td> TRUE</td><td>FALSE</td><td>FALSE</td><td> TRUE</td><td> TRUE</td><td>FALSE</td></tr>\n",
       "\t<tr><td>FALSE</td><td>FALSE</td><td> TRUE</td><td> TRUE</td><td>FALSE</td><td>FALSE</td></tr>\n",
       "\t<tr><td>   NA</td><td>FALSE</td><td>   NA</td><td> TRUE</td><td>   NA</td><td>FALSE</td></tr>\n",
       "\t<tr><td> TRUE</td><td>   NA</td><td>FALSE</td><td>   NA</td><td> TRUE</td><td>   NA</td></tr>\n",
       "\t<tr><td>FALSE</td><td>   NA</td><td> TRUE</td><td>   NA</td><td>   NA</td><td>FALSE</td></tr>\n",
       "\t<tr><td>   NA</td><td>   NA</td><td>   NA</td><td>   NA</td><td>   NA</td><td>   NA</td></tr>\n",
       "</tbody>\n",
       "</table>\n"
      ],
      "text/latex": [
       "\\begin{tabular}{r|llllll}\n",
       " x & y & not.x & not.y & or & and\\\\\n",
       "\\hline\n",
       "\t  TRUE &  TRUE & FALSE & FALSE &  TRUE &  TRUE\\\\\n",
       "\t FALSE &  TRUE &  TRUE & FALSE &  TRUE & FALSE\\\\\n",
       "\t    NA &  TRUE &    NA & FALSE &  TRUE &    NA\\\\\n",
       "\t  TRUE & FALSE & FALSE &  TRUE &  TRUE & FALSE\\\\\n",
       "\t FALSE & FALSE &  TRUE &  TRUE & FALSE & FALSE\\\\\n",
       "\t    NA & FALSE &    NA &  TRUE &    NA & FALSE\\\\\n",
       "\t  TRUE &    NA & FALSE &    NA &  TRUE &    NA\\\\\n",
       "\t FALSE &    NA &  TRUE &    NA &    NA & FALSE\\\\\n",
       "\t    NA &    NA &    NA &    NA &    NA &    NA\\\\\n",
       "\\end{tabular}\n"
      ],
      "text/markdown": [
       "\n",
       "x | y | not.x | not.y | or | and | \n",
       "|---|---|---|---|---|---|---|---|---|\n",
       "|  TRUE |  TRUE | FALSE | FALSE |  TRUE |  TRUE | \n",
       "| FALSE |  TRUE |  TRUE | FALSE |  TRUE | FALSE | \n",
       "|    NA |  TRUE |    NA | FALSE |  TRUE |    NA | \n",
       "|  TRUE | FALSE | FALSE |  TRUE |  TRUE | FALSE | \n",
       "| FALSE | FALSE |  TRUE |  TRUE | FALSE | FALSE | \n",
       "|    NA | FALSE |    NA |  TRUE |    NA | FALSE | \n",
       "|  TRUE |    NA | FALSE |    NA |  TRUE |    NA | \n",
       "| FALSE |    NA |  TRUE |    NA |    NA | FALSE | \n",
       "|    NA |    NA |    NA |    NA |    NA |    NA | \n",
       "\n",
       "\n"
      ],
      "text/plain": [
       "  x     y     not.x not.y or    and  \n",
       "1  TRUE  TRUE FALSE FALSE  TRUE  TRUE\n",
       "2 FALSE  TRUE  TRUE FALSE  TRUE FALSE\n",
       "3    NA  TRUE    NA FALSE  TRUE    NA\n",
       "4  TRUE FALSE FALSE  TRUE  TRUE FALSE\n",
       "5 FALSE FALSE  TRUE  TRUE FALSE FALSE\n",
       "6    NA FALSE    NA  TRUE    NA FALSE\n",
       "7  TRUE    NA FALSE    NA  TRUE    NA\n",
       "8 FALSE    NA  TRUE    NA    NA FALSE\n",
       "9    NA    NA    NA    NA    NA    NA"
      ]
     },
     "metadata": {},
     "output_type": "display_data"
    }
   ],
   "source": [
    "x <- c(TRUE, FALSE, NA)\n",
    "xy <- expand.grid(x=x, y=x)\n",
    "within(\n",
    "    xy,\n",
    "    {\n",
    "        and <- x & y\n",
    "        or <- x | y\n",
    "        not.y <- !y\n",
    "        not.x <- !x\n",
    "    }\n",
    ")"
   ]
  },
  {
   "cell_type": "code",
   "execution_count": 8,
   "metadata": {},
   "outputs": [
    {
     "data": {
      "text/html": [
       "FALSE"
      ],
      "text/latex": [
       "FALSE"
      ],
      "text/markdown": [
       "FALSE"
      ],
      "text/plain": [
       "[1] FALSE"
      ]
     },
     "metadata": {},
     "output_type": "display_data"
    },
    {
     "data": {
      "text/html": [
       "TRUE"
      ],
      "text/latex": [
       "TRUE"
      ],
      "text/markdown": [
       "TRUE"
      ],
      "text/plain": [
       "[1] TRUE"
      ]
     },
     "metadata": {},
     "output_type": "display_data"
    },
    {
     "data": {
      "text/html": [
       "FALSE"
      ],
      "text/latex": [
       "FALSE"
      ],
      "text/markdown": [
       "FALSE"
      ],
      "text/plain": [
       "[1] FALSE"
      ]
     },
     "metadata": {},
     "output_type": "display_data"
    },
    {
     "data": {
      "text/html": [
       "TRUE"
      ],
      "text/latex": [
       "TRUE"
      ],
      "text/markdown": [
       "TRUE"
      ],
      "text/plain": [
       "[1] TRUE"
      ]
     },
     "metadata": {},
     "output_type": "display_data"
    }
   ],
   "source": [
    "none_true <- c(FALSE, FALSE, FALSE)\n",
    "some_true <- c(FALSE, TRUE, FALSE)\n",
    "all_true <- c(TRUE, TRUE, TRUE)\n",
    "any(none_true)\n",
    "any(some_true)\n",
    "all(some_true)\n",
    "all(all_true)"
   ]
  },
  {
   "cell_type": "markdown",
   "metadata": {},
   "source": [
    "## 检查变量和工作区"
   ]
  },
  {
   "cell_type": "markdown",
   "metadata": {},
   "source": [
    "### 类\n",
    "\n",
    "R中所有变量都有一个类。例如大部分的数字是numeric类。可以使用**class**函数来找出变量的类名。所有的变量除了类之外，还有一个内部存储类型(通过typeof访问)、一个模式(mode)，以及一个存储模式(storage.mode)。"
   ]
  },
  {
   "cell_type": "markdown",
   "metadata": {},
   "source": [
    "### 其他通用类\n",
    "\n",
    "除了数字类和逻辑类外，向量还有其他三个类\n",
    "- 用于存储文本的字符类character\n",
    "- 用于存储类别数据的因子类factor\n",
    "- 用于存储二进制数据的原始类raw"
   ]
  },
  {
   "cell_type": "code",
   "execution_count": 9,
   "metadata": {},
   "outputs": [
    {
     "data": {
      "text/html": [
       "<ol class=list-inline>\n",
       "\t<li>male</li>\n",
       "\t<li>female</li>\n",
       "\t<li>female</li>\n",
       "\t<li>male</li>\n",
       "\t<li>female</li>\n",
       "</ol>\n"
      ],
      "text/latex": [
       "\\begin{enumerate*}\n",
       "\\item male\n",
       "\\item female\n",
       "\\item female\n",
       "\\item male\n",
       "\\item female\n",
       "\\end{enumerate*}\n"
      ],
      "text/markdown": [
       "1. male\n",
       "2. female\n",
       "3. female\n",
       "4. male\n",
       "5. female\n",
       "\n",
       "\n"
      ],
      "text/plain": [
       "[1] male   female female male   female\n",
       "Levels: female male"
      ]
     },
     "metadata": {},
     "output_type": "display_data"
    },
    {
     "data": {
      "text/html": [
       "<ol class=list-inline>\n",
       "\t<li>'female'</li>\n",
       "\t<li>'male'</li>\n",
       "</ol>\n"
      ],
      "text/latex": [
       "\\begin{enumerate*}\n",
       "\\item 'female'\n",
       "\\item 'male'\n",
       "\\end{enumerate*}\n"
      ],
      "text/markdown": [
       "1. 'female'\n",
       "2. 'male'\n",
       "\n",
       "\n"
      ],
      "text/plain": [
       "[1] \"female\" \"male\"  "
      ]
     },
     "metadata": {},
     "output_type": "display_data"
    },
    {
     "data": {
      "text/html": [
       "2"
      ],
      "text/latex": [
       "2"
      ],
      "text/markdown": [
       "2"
      ],
      "text/plain": [
       "[1] 2"
      ]
     },
     "metadata": {},
     "output_type": "display_data"
    },
    {
     "data": {
      "text/html": [
       "<ol class=list-inline>\n",
       "\t<li>2</li>\n",
       "\t<li>1</li>\n",
       "\t<li>1</li>\n",
       "\t<li>2</li>\n",
       "\t<li>1</li>\n",
       "</ol>\n"
      ],
      "text/latex": [
       "\\begin{enumerate*}\n",
       "\\item 2\n",
       "\\item 1\n",
       "\\item 1\n",
       "\\item 2\n",
       "\\item 1\n",
       "\\end{enumerate*}\n"
      ],
      "text/markdown": [
       "1. 2\n",
       "2. 1\n",
       "3. 1\n",
       "4. 2\n",
       "5. 1\n",
       "\n",
       "\n"
      ],
      "text/plain": [
       "[1] 2 1 1 2 1"
      ]
     },
     "metadata": {},
     "output_type": "display_data"
    }
   ],
   "source": [
    "(gender <- factor(c('male', 'female', 'female', 'male', 'female')))\n",
    "\n",
    "levels(gender)\n",
    "nlevels(gender)\n",
    "as.integer(gender)"
   ]
  },
  {
   "cell_type": "markdown",
   "metadata": {},
   "source": [
    "### 检查和更改类\n",
    "\n",
    "- 测试对象的类型，最好用is函数"
   ]
  },
  {
   "cell_type": "code",
   "execution_count": 10,
   "metadata": {},
   "outputs": [
    {
     "data": {
      "text/html": [
       "TRUE"
      ],
      "text/latex": [
       "TRUE"
      ],
      "text/markdown": [
       "TRUE"
      ],
      "text/plain": [
       "[1] TRUE"
      ]
     },
     "metadata": {},
     "output_type": "display_data"
    },
    {
     "data": {
      "text/html": [
       "TRUE"
      ],
      "text/latex": [
       "TRUE"
      ],
      "text/markdown": [
       "TRUE"
      ],
      "text/plain": [
       "[1] TRUE"
      ]
     },
     "metadata": {},
     "output_type": "display_data"
    },
    {
     "data": {
      "text/html": [
       "<ol class=list-inline>\n",
       "\t<li>'is.array'</li>\n",
       "\t<li>'is.atomic'</li>\n",
       "\t<li>'is.call'</li>\n",
       "\t<li>'is.character'</li>\n",
       "\t<li>'is.complex'</li>\n",
       "\t<li>'is.data.frame'</li>\n",
       "\t<li>'is.double'</li>\n",
       "\t<li>'is.element'</li>\n",
       "\t<li>'is.environment'</li>\n",
       "\t<li>'is.expression'</li>\n",
       "\t<li>'is.factor'</li>\n",
       "\t<li>'is.finite'</li>\n",
       "\t<li>'is.function'</li>\n",
       "\t<li>'is.infinite'</li>\n",
       "\t<li>'is.integer'</li>\n",
       "\t<li>'is.language'</li>\n",
       "\t<li>'is.list'</li>\n",
       "\t<li>'is.loaded'</li>\n",
       "\t<li>'is.logical'</li>\n",
       "\t<li>'is.matrix'</li>\n",
       "\t<li>'is.na'</li>\n",
       "\t<li>'is.na.data.frame'</li>\n",
       "\t<li>'is.na.numeric_version'</li>\n",
       "\t<li>'is.na.POSIXlt'</li>\n",
       "\t<li>'is.na&lt;-'</li>\n",
       "\t<li>'is.na&lt;-.default'</li>\n",
       "\t<li>'is.na&lt;-.factor'</li>\n",
       "\t<li>'is.na&lt;-.numeric_version'</li>\n",
       "\t<li>'is.name'</li>\n",
       "\t<li>'is.nan'</li>\n",
       "\t<li>'is.null'</li>\n",
       "\t<li>'is.numeric'</li>\n",
       "\t<li>'is.numeric.Date'</li>\n",
       "\t<li>'is.numeric.difftime'</li>\n",
       "\t<li>'is.numeric.POSIXt'</li>\n",
       "\t<li>'is.numeric_version'</li>\n",
       "\t<li>'is.object'</li>\n",
       "\t<li>'is.ordered'</li>\n",
       "\t<li>'is.package_version'</li>\n",
       "\t<li>'is.pairlist'</li>\n",
       "\t<li>'is.primitive'</li>\n",
       "\t<li>'is.qr'</li>\n",
       "\t<li>'is.R'</li>\n",
       "\t<li>'is.raw'</li>\n",
       "\t<li>'is.recursive'</li>\n",
       "\t<li>'is.single'</li>\n",
       "\t<li>'is.symbol'</li>\n",
       "\t<li>'is.table'</li>\n",
       "\t<li>'is.unsorted'</li>\n",
       "\t<li>'is.vector'</li>\n",
       "\t<li>'isatty'</li>\n",
       "\t<li>'isBaseNamespace'</li>\n",
       "\t<li>'isdebugged'</li>\n",
       "\t<li>'isIncomplete'</li>\n",
       "\t<li>'isNamespace'</li>\n",
       "\t<li>'isNamespaceLoaded'</li>\n",
       "\t<li>'isOpen'</li>\n",
       "\t<li>'isRestart'</li>\n",
       "\t<li>'isS4'</li>\n",
       "\t<li>'isSeekable'</li>\n",
       "\t<li>'isSymmetric'</li>\n",
       "\t<li>'isSymmetric.matrix'</li>\n",
       "\t<li>'isTRUE'</li>\n",
       "</ol>\n"
      ],
      "text/latex": [
       "\\begin{enumerate*}\n",
       "\\item 'is.array'\n",
       "\\item 'is.atomic'\n",
       "\\item 'is.call'\n",
       "\\item 'is.character'\n",
       "\\item 'is.complex'\n",
       "\\item 'is.data.frame'\n",
       "\\item 'is.double'\n",
       "\\item 'is.element'\n",
       "\\item 'is.environment'\n",
       "\\item 'is.expression'\n",
       "\\item 'is.factor'\n",
       "\\item 'is.finite'\n",
       "\\item 'is.function'\n",
       "\\item 'is.infinite'\n",
       "\\item 'is.integer'\n",
       "\\item 'is.language'\n",
       "\\item 'is.list'\n",
       "\\item 'is.loaded'\n",
       "\\item 'is.logical'\n",
       "\\item 'is.matrix'\n",
       "\\item 'is.na'\n",
       "\\item 'is.na.data.frame'\n",
       "\\item 'is.na.numeric\\_version'\n",
       "\\item 'is.na.POSIXlt'\n",
       "\\item 'is.na<-'\n",
       "\\item 'is.na<-.default'\n",
       "\\item 'is.na<-.factor'\n",
       "\\item 'is.na<-.numeric\\_version'\n",
       "\\item 'is.name'\n",
       "\\item 'is.nan'\n",
       "\\item 'is.null'\n",
       "\\item 'is.numeric'\n",
       "\\item 'is.numeric.Date'\n",
       "\\item 'is.numeric.difftime'\n",
       "\\item 'is.numeric.POSIXt'\n",
       "\\item 'is.numeric\\_version'\n",
       "\\item 'is.object'\n",
       "\\item 'is.ordered'\n",
       "\\item 'is.package\\_version'\n",
       "\\item 'is.pairlist'\n",
       "\\item 'is.primitive'\n",
       "\\item 'is.qr'\n",
       "\\item 'is.R'\n",
       "\\item 'is.raw'\n",
       "\\item 'is.recursive'\n",
       "\\item 'is.single'\n",
       "\\item 'is.symbol'\n",
       "\\item 'is.table'\n",
       "\\item 'is.unsorted'\n",
       "\\item 'is.vector'\n",
       "\\item 'isatty'\n",
       "\\item 'isBaseNamespace'\n",
       "\\item 'isdebugged'\n",
       "\\item 'isIncomplete'\n",
       "\\item 'isNamespace'\n",
       "\\item 'isNamespaceLoaded'\n",
       "\\item 'isOpen'\n",
       "\\item 'isRestart'\n",
       "\\item 'isS4'\n",
       "\\item 'isSeekable'\n",
       "\\item 'isSymmetric'\n",
       "\\item 'isSymmetric.matrix'\n",
       "\\item 'isTRUE'\n",
       "\\end{enumerate*}\n"
      ],
      "text/markdown": [
       "1. 'is.array'\n",
       "2. 'is.atomic'\n",
       "3. 'is.call'\n",
       "4. 'is.character'\n",
       "5. 'is.complex'\n",
       "6. 'is.data.frame'\n",
       "7. 'is.double'\n",
       "8. 'is.element'\n",
       "9. 'is.environment'\n",
       "10. 'is.expression'\n",
       "11. 'is.factor'\n",
       "12. 'is.finite'\n",
       "13. 'is.function'\n",
       "14. 'is.infinite'\n",
       "15. 'is.integer'\n",
       "16. 'is.language'\n",
       "17. 'is.list'\n",
       "18. 'is.loaded'\n",
       "19. 'is.logical'\n",
       "20. 'is.matrix'\n",
       "21. 'is.na'\n",
       "22. 'is.na.data.frame'\n",
       "23. 'is.na.numeric_version'\n",
       "24. 'is.na.POSIXlt'\n",
       "25. 'is.na&lt;-'\n",
       "26. 'is.na&lt;-.default'\n",
       "27. 'is.na&lt;-.factor'\n",
       "28. 'is.na&lt;-.numeric_version'\n",
       "29. 'is.name'\n",
       "30. 'is.nan'\n",
       "31. 'is.null'\n",
       "32. 'is.numeric'\n",
       "33. 'is.numeric.Date'\n",
       "34. 'is.numeric.difftime'\n",
       "35. 'is.numeric.POSIXt'\n",
       "36. 'is.numeric_version'\n",
       "37. 'is.object'\n",
       "38. 'is.ordered'\n",
       "39. 'is.package_version'\n",
       "40. 'is.pairlist'\n",
       "41. 'is.primitive'\n",
       "42. 'is.qr'\n",
       "43. 'is.R'\n",
       "44. 'is.raw'\n",
       "45. 'is.recursive'\n",
       "46. 'is.single'\n",
       "47. 'is.symbol'\n",
       "48. 'is.table'\n",
       "49. 'is.unsorted'\n",
       "50. 'is.vector'\n",
       "51. 'isatty'\n",
       "52. 'isBaseNamespace'\n",
       "53. 'isdebugged'\n",
       "54. 'isIncomplete'\n",
       "55. 'isNamespace'\n",
       "56. 'isNamespaceLoaded'\n",
       "57. 'isOpen'\n",
       "58. 'isRestart'\n",
       "59. 'isS4'\n",
       "60. 'isSeekable'\n",
       "61. 'isSymmetric'\n",
       "62. 'isSymmetric.matrix'\n",
       "63. 'isTRUE'\n",
       "\n",
       "\n"
      ],
      "text/plain": [
       " [1] \"is.array\"                \"is.atomic\"              \n",
       " [3] \"is.call\"                 \"is.character\"           \n",
       " [5] \"is.complex\"              \"is.data.frame\"          \n",
       " [7] \"is.double\"               \"is.element\"             \n",
       " [9] \"is.environment\"          \"is.expression\"          \n",
       "[11] \"is.factor\"               \"is.finite\"              \n",
       "[13] \"is.function\"             \"is.infinite\"            \n",
       "[15] \"is.integer\"              \"is.language\"            \n",
       "[17] \"is.list\"                 \"is.loaded\"              \n",
       "[19] \"is.logical\"              \"is.matrix\"              \n",
       "[21] \"is.na\"                   \"is.na.data.frame\"       \n",
       "[23] \"is.na.numeric_version\"   \"is.na.POSIXlt\"          \n",
       "[25] \"is.na<-\"                 \"is.na<-.default\"        \n",
       "[27] \"is.na<-.factor\"          \"is.na<-.numeric_version\"\n",
       "[29] \"is.name\"                 \"is.nan\"                 \n",
       "[31] \"is.null\"                 \"is.numeric\"             \n",
       "[33] \"is.numeric.Date\"         \"is.numeric.difftime\"    \n",
       "[35] \"is.numeric.POSIXt\"       \"is.numeric_version\"     \n",
       "[37] \"is.object\"               \"is.ordered\"             \n",
       "[39] \"is.package_version\"      \"is.pairlist\"            \n",
       "[41] \"is.primitive\"            \"is.qr\"                  \n",
       "[43] \"is.R\"                    \"is.raw\"                 \n",
       "[45] \"is.recursive\"            \"is.single\"              \n",
       "[47] \"is.symbol\"               \"is.table\"               \n",
       "[49] \"is.unsorted\"             \"is.vector\"              \n",
       "[51] \"isatty\"                  \"isBaseNamespace\"        \n",
       "[53] \"isdebugged\"              \"isIncomplete\"           \n",
       "[55] \"isNamespace\"             \"isNamespaceLoaded\"      \n",
       "[57] \"isOpen\"                  \"isRestart\"              \n",
       "[59] \"isS4\"                    \"isSeekable\"             \n",
       "[61] \"isSymmetric\"             \"isSymmetric.matrix\"     \n",
       "[63] \"isTRUE\"                 "
      ]
     },
     "metadata": {},
     "output_type": "display_data"
    }
   ],
   "source": [
    "is.character('red lorry, yellow lorry')\n",
    "is.logical(FALSE)\n",
    "\n",
    "# 查看在base包中所有的is函数\n",
    "ls(pattern='^is', baseenv())"
   ]
  },
  {
   "cell_type": "markdown",
   "metadata": {},
   "source": [
    "- 改变一个对象的类型，就是所谓的转型(casting)，尽可能使用特定的as\\*函数而非单纯的as函数"
   ]
  },
  {
   "cell_type": "code",
   "execution_count": 11,
   "metadata": {},
   "outputs": [
    {
     "data": {
      "text/html": [
       "123.456"
      ],
      "text/latex": [
       "123.456"
      ],
      "text/markdown": [
       "123.456"
      ],
      "text/plain": [
       "[1] 123.456"
      ]
     },
     "metadata": {},
     "output_type": "display_data"
    }
   ],
   "source": [
    "x <- '123.456'\n",
    "as.numeric(x)"
   ]
  },
  {
   "cell_type": "markdown",
   "metadata": {},
   "source": [
    "### 检查变量\n",
    "\n",
    "- print函数\n",
    "- 大部分print函数的实现建立在调用底层的cat函数上\n",
    "- summary函数为不同的数据类型提供汇总信息\n",
    "- head函数显示前几行信息\n",
    "- str函数能显示对象的结构\n",
    "- 每个类都有自己的打印(print)方法，一次控制如何显示到控制台，unclass函数可用绕开这一点\n",
    "- attributes函数能显示当前对象的所有属性列表\n",
    "- view,edit和fix函数可以浏览和编辑数据框"
   ]
  },
  {
   "cell_type": "markdown",
   "metadata": {},
   "source": [
    "### 工作区\n",
    "\n",
    "- ls函数可列出现有变量的名称\n",
    "- ls.str函数查看变量的结构\n",
    "- rm函数删除变量"
   ]
  },
  {
   "cell_type": "markdown",
   "metadata": {},
   "source": [
    "## 3. 向量、矩阵和数组"
   ]
  },
  {
   "cell_type": "markdown",
   "metadata": {},
   "source": [
    "### 向量\n",
    "\n",
    "创建向量\n",
    "- 冒号运算符\n",
    "- c函数\n",
    "- vector函数"
   ]
  },
  {
   "cell_type": "code",
   "execution_count": 12,
   "metadata": {},
   "outputs": [
    {
     "data": {
      "text/html": [
       "<ol class=list-inline>\n",
       "\t<li>0</li>\n",
       "\t<li>0</li>\n",
       "\t<li>0</li>\n",
       "\t<li>0</li>\n",
       "\t<li>0</li>\n",
       "</ol>\n"
      ],
      "text/latex": [
       "\\begin{enumerate*}\n",
       "\\item 0\n",
       "\\item 0\n",
       "\\item 0\n",
       "\\item 0\n",
       "\\item 0\n",
       "\\end{enumerate*}\n"
      ],
      "text/markdown": [
       "1. 0\n",
       "2. 0\n",
       "3. 0\n",
       "4. 0\n",
       "5. 0\n",
       "\n",
       "\n"
      ],
      "text/plain": [
       "[1] 0 0 0 0 0"
      ]
     },
     "metadata": {},
     "output_type": "display_data"
    }
   ],
   "source": [
    "vector('numeric',5)"
   ]
  },
  {
   "cell_type": "markdown",
   "metadata": {},
   "source": [
    "#### 序列\n",
    "\n",
    "- seq函数：seq.int, seq_len(创建一个从1到它的输入值的序列), seq_along(创建一个从1开始，长度为其输入值的序列)\n"
   ]
  },
  {
   "cell_type": "code",
   "execution_count": 13,
   "metadata": {},
   "outputs": [
    {
     "data": {
      "text/html": [
       "<ol class=list-inline>\n",
       "\t<li>3</li>\n",
       "\t<li>5</li>\n",
       "\t<li>7</li>\n",
       "\t<li>9</li>\n",
       "\t<li>11</li>\n",
       "</ol>\n"
      ],
      "text/latex": [
       "\\begin{enumerate*}\n",
       "\\item 3\n",
       "\\item 5\n",
       "\\item 7\n",
       "\\item 9\n",
       "\\item 11\n",
       "\\end{enumerate*}\n"
      ],
      "text/markdown": [
       "1. 3\n",
       "2. 5\n",
       "3. 7\n",
       "4. 9\n",
       "5. 11\n",
       "\n",
       "\n"
      ],
      "text/plain": [
       "[1]  3  5  7  9 11"
      ]
     },
     "metadata": {},
     "output_type": "display_data"
    }
   ],
   "source": [
    "seq.int(3,12,2)"
   ]
  },
  {
   "cell_type": "markdown",
   "metadata": {},
   "source": [
    "#### 长度\n",
    "\n",
    "- length函数\n",
    "- nchar函数"
   ]
  },
  {
   "cell_type": "code",
   "execution_count": 14,
   "metadata": {},
   "outputs": [
    {
     "data": {
      "text/html": [
       "4"
      ],
      "text/latex": [
       "4"
      ],
      "text/markdown": [
       "4"
      ],
      "text/plain": [
       "[1] 4"
      ]
     },
     "metadata": {},
     "output_type": "display_data"
    },
    {
     "data": {
      "text/html": [
       "<ol class=list-inline>\n",
       "\t<li>6</li>\n",
       "\t<li>5</li>\n",
       "\t<li>6</li>\n",
       "\t<li>5</li>\n",
       "</ol>\n"
      ],
      "text/latex": [
       "\\begin{enumerate*}\n",
       "\\item 6\n",
       "\\item 5\n",
       "\\item 6\n",
       "\\item 5\n",
       "\\end{enumerate*}\n"
      ],
      "text/markdown": [
       "1. 6\n",
       "2. 5\n",
       "3. 6\n",
       "4. 5\n",
       "\n",
       "\n"
      ],
      "text/plain": [
       "[1] 6 5 6 5"
      ]
     },
     "metadata": {},
     "output_type": "display_data"
    }
   ],
   "source": [
    "sn <- c('SHeena', 'leads', 'Sheila', 'needs')\n",
    "length(sn)\n",
    "nchar(sn)"
   ]
  },
  {
   "cell_type": "markdown",
   "metadata": {},
   "source": [
    "#### 命名\n",
    "\n",
    "R向量的一大特性是能给每个元素命名。你也可以在向量创建后用names函数为元素添加名字。"
   ]
  },
  {
   "cell_type": "code",
   "execution_count": 15,
   "metadata": {},
   "outputs": [
    {
     "data": {
      "text/html": [
       "<dl class=dl-horizontal>\n",
       "\t<dt>apple</dt>\n",
       "\t\t<dd>1</dd>\n",
       "\t<dt>banana</dt>\n",
       "\t\t<dd>2</dd>\n",
       "\t<dt>kiwi fruit</dt>\n",
       "\t\t<dd>3</dd>\n",
       "\t<dt>4</dt>\n",
       "\t\t<dd>4</dd>\n",
       "</dl>\n"
      ],
      "text/latex": [
       "\\begin{description*}\n",
       "\\item[apple] 1\n",
       "\\item[banana] 2\n",
       "\\item[kiwi fruit] 3\n",
       "\\item[4] 4\n",
       "\\end{description*}\n"
      ],
      "text/markdown": [
       "apple\n",
       ":   1banana\n",
       ":   2kiwi fruit\n",
       ":   34\n",
       ":   4\n",
       "\n"
      ],
      "text/plain": [
       "     apple     banana kiwi fruit            \n",
       "         1          2          3          4 "
      ]
     },
     "metadata": {},
     "output_type": "display_data"
    },
    {
     "data": {
      "text/html": [
       "<ol class=list-inline>\n",
       "\t<li>'one'</li>\n",
       "\t<li>'two'</li>\n",
       "\t<li>'three'</li>\n",
       "\t<li>'four'</li>\n",
       "</ol>\n"
      ],
      "text/latex": [
       "\\begin{enumerate*}\n",
       "\\item 'one'\n",
       "\\item 'two'\n",
       "\\item 'three'\n",
       "\\item 'four'\n",
       "\\end{enumerate*}\n"
      ],
      "text/markdown": [
       "1. 'one'\n",
       "2. 'two'\n",
       "3. 'three'\n",
       "4. 'four'\n",
       "\n",
       "\n"
      ],
      "text/plain": [
       "[1] \"one\"   \"two\"   \"three\" \"four\" "
      ]
     },
     "metadata": {},
     "output_type": "display_data"
    }
   ],
   "source": [
    "c(apple=1, banana=2, 'kiwi fruit'=3,4)\n",
    "\n",
    "x <- 1:4\n",
    "names(x) <- c('one', 'two', 'three', 'four')\n",
    "names(x)"
   ]
  },
  {
   "cell_type": "markdown",
   "metadata": {},
   "source": [
    "#### 索引向量\n",
    "\n",
    "- 索引向量用方括号[]来实现\n",
    "- which函数将返回逻辑向量中为TRUE的位置"
   ]
  },
  {
   "cell_type": "code",
   "execution_count": 16,
   "metadata": {},
   "outputs": [
    {
     "data": {
      "text/html": [
       "<ol class=list-inline>\n",
       "\t<li>1</li>\n",
       "\t<li>9</li>\n",
       "\t<li>25</li>\n",
       "</ol>\n"
      ],
      "text/latex": [
       "\\begin{enumerate*}\n",
       "\\item 1\n",
       "\\item 9\n",
       "\\item 25\n",
       "\\end{enumerate*}\n"
      ],
      "text/markdown": [
       "1. 1\n",
       "2. 9\n",
       "3. 25\n",
       "\n",
       "\n"
      ],
      "text/plain": [
       "[1]  1  9 25"
      ]
     },
     "metadata": {},
     "output_type": "display_data"
    },
    {
     "data": {
      "text/html": [
       "<ol class=list-inline>\n",
       "\t<li>1</li>\n",
       "\t<li>9</li>\n",
       "\t<li>25</li>\n",
       "</ol>\n"
      ],
      "text/latex": [
       "\\begin{enumerate*}\n",
       "\\item 1\n",
       "\\item 9\n",
       "\\item 25\n",
       "\\end{enumerate*}\n"
      ],
      "text/markdown": [
       "1. 1\n",
       "2. 9\n",
       "3. 25\n",
       "\n",
       "\n"
      ],
      "text/plain": [
       "[1]  1  9 25"
      ]
     },
     "metadata": {},
     "output_type": "display_data"
    },
    {
     "data": {
      "text/html": [
       "<ol class=list-inline>\n",
       "\t<li>1</li>\n",
       "\t<li>9</li>\n",
       "\t<li>25</li>\n",
       "</ol>\n"
      ],
      "text/latex": [
       "\\begin{enumerate*}\n",
       "\\item 1\n",
       "\\item 9\n",
       "\\item 25\n",
       "\\end{enumerate*}\n"
      ],
      "text/markdown": [
       "1. 1\n",
       "2. 9\n",
       "3. 25\n",
       "\n",
       "\n"
      ],
      "text/plain": [
       "[1]  1  9 25"
      ]
     },
     "metadata": {},
     "output_type": "display_data"
    },
    {
     "data": {
      "text/html": [
       "<ol class=list-inline>\n",
       "\t<li>4</li>\n",
       "\t<li>5</li>\n",
       "</ol>\n"
      ],
      "text/latex": [
       "\\begin{enumerate*}\n",
       "\\item 4\n",
       "\\item 5\n",
       "\\end{enumerate*}\n"
      ],
      "text/markdown": [
       "1. 4\n",
       "2. 5\n",
       "\n",
       "\n"
      ],
      "text/plain": [
       "[1] 4 5"
      ]
     },
     "metadata": {},
     "output_type": "display_data"
    },
    {
     "data": {
      "text/html": [
       "1"
      ],
      "text/latex": [
       "1"
      ],
      "text/markdown": [
       "1"
      ],
      "text/plain": [
       "[1] 1"
      ]
     },
     "metadata": {},
     "output_type": "display_data"
    },
    {
     "data": {
      "text/html": [
       "5"
      ],
      "text/latex": [
       "5"
      ],
      "text/markdown": [
       "5"
      ],
      "text/plain": [
       "[1] 5"
      ]
     },
     "metadata": {},
     "output_type": "display_data"
    }
   ],
   "source": [
    "x <- (1:5)^2\n",
    "\n",
    "x[c(1,3,5)]\n",
    "x[c(-2,-4)]\n",
    "x[c(TRUE, FALSE, TRUE, FALSE, TRUE)]\n",
    "\n",
    "which(x > 10)\n",
    "which.min(x)\n",
    "which.max(x)"
   ]
  },
  {
   "cell_type": "markdown",
   "metadata": {},
   "source": [
    "#### 向量循环和重复\n",
    "\n",
    "- 向量和标量的运算\n",
    "- rep函数，它允许我们重复使用元素来创建向量"
   ]
  },
  {
   "cell_type": "code",
   "execution_count": 17,
   "metadata": {},
   "outputs": [
    {
     "data": {
      "text/html": [
       "<ol class=list-inline>\n",
       "\t<li>2</li>\n",
       "\t<li>3</li>\n",
       "\t<li>4</li>\n",
       "\t<li>5</li>\n",
       "\t<li>6</li>\n",
       "</ol>\n"
      ],
      "text/latex": [
       "\\begin{enumerate*}\n",
       "\\item 2\n",
       "\\item 3\n",
       "\\item 4\n",
       "\\item 5\n",
       "\\item 6\n",
       "\\end{enumerate*}\n"
      ],
      "text/markdown": [
       "1. 2\n",
       "2. 3\n",
       "3. 4\n",
       "4. 5\n",
       "5. 6\n",
       "\n",
       "\n"
      ],
      "text/plain": [
       "[1] 2 3 4 5 6"
      ]
     },
     "metadata": {},
     "output_type": "display_data"
    },
    {
     "data": {
      "text/html": [
       "<ol class=list-inline>\n",
       "\t<li>1</li>\n",
       "\t<li>2</li>\n",
       "\t<li>3</li>\n",
       "\t<li>4</li>\n",
       "\t<li>5</li>\n",
       "\t<li>1</li>\n",
       "\t<li>2</li>\n",
       "\t<li>3</li>\n",
       "\t<li>4</li>\n",
       "\t<li>5</li>\n",
       "\t<li>1</li>\n",
       "\t<li>2</li>\n",
       "\t<li>3</li>\n",
       "\t<li>4</li>\n",
       "\t<li>5</li>\n",
       "</ol>\n"
      ],
      "text/latex": [
       "\\begin{enumerate*}\n",
       "\\item 1\n",
       "\\item 2\n",
       "\\item 3\n",
       "\\item 4\n",
       "\\item 5\n",
       "\\item 1\n",
       "\\item 2\n",
       "\\item 3\n",
       "\\item 4\n",
       "\\item 5\n",
       "\\item 1\n",
       "\\item 2\n",
       "\\item 3\n",
       "\\item 4\n",
       "\\item 5\n",
       "\\end{enumerate*}\n"
      ],
      "text/markdown": [
       "1. 1\n",
       "2. 2\n",
       "3. 3\n",
       "4. 4\n",
       "5. 5\n",
       "6. 1\n",
       "7. 2\n",
       "8. 3\n",
       "9. 4\n",
       "10. 5\n",
       "11. 1\n",
       "12. 2\n",
       "13. 3\n",
       "14. 4\n",
       "15. 5\n",
       "\n",
       "\n"
      ],
      "text/plain": [
       " [1] 1 2 3 4 5 1 2 3 4 5 1 2 3 4 5"
      ]
     },
     "metadata": {},
     "output_type": "display_data"
    }
   ],
   "source": [
    "1:5 + 1\n",
    "\n",
    "rep(1:5, 3)"
   ]
  },
  {
   "cell_type": "markdown",
   "metadata": {},
   "source": [
    "### 矩阵和数组"
   ]
  },
  {
   "cell_type": "markdown",
   "metadata": {},
   "source": [
    "#### 创建数组和矩阵\n",
    "\n",
    "- array函数\n",
    "- matrix函数"
   ]
  },
  {
   "cell_type": "code",
   "execution_count": 18,
   "metadata": {},
   "outputs": [
    {
     "data": {
      "text/html": [
       "<table>\n",
       "<tbody>\n",
       "\t<tr><td>1 </td><td>5 </td><td> 9</td></tr>\n",
       "\t<tr><td>2 </td><td>6 </td><td>10</td></tr>\n",
       "\t<tr><td>3 </td><td>7 </td><td>11</td></tr>\n",
       "\t<tr><td>4 </td><td>8 </td><td>12</td></tr>\n",
       "</tbody>\n",
       "</table>\n"
      ],
      "text/latex": [
       "\\begin{tabular}{lll}\n",
       "\t 1  & 5  &  9\\\\\n",
       "\t 2  & 6  & 10\\\\\n",
       "\t 3  & 7  & 11\\\\\n",
       "\t 4  & 8  & 12\\\\\n",
       "\\end{tabular}\n"
      ],
      "text/markdown": [
       "\n",
       "| 1  | 5  |  9 | \n",
       "| 2  | 6  | 10 | \n",
       "| 3  | 7  | 11 | \n",
       "| 4  | 8  | 12 | \n",
       "\n",
       "\n"
      ],
      "text/plain": [
       "     [,1] [,2] [,3]\n",
       "[1,] 1    5     9  \n",
       "[2,] 2    6    10  \n",
       "[3,] 3    7    11  \n",
       "[4,] 4    8    12  "
      ]
     },
     "metadata": {},
     "output_type": "display_data"
    },
    {
     "data": {
      "text/html": [
       "<table>\n",
       "<tbody>\n",
       "\t<tr><td>1 </td><td>5 </td><td> 9</td></tr>\n",
       "\t<tr><td>2 </td><td>6 </td><td>10</td></tr>\n",
       "\t<tr><td>3 </td><td>7 </td><td>11</td></tr>\n",
       "\t<tr><td>4 </td><td>8 </td><td>12</td></tr>\n",
       "</tbody>\n",
       "</table>\n"
      ],
      "text/latex": [
       "\\begin{tabular}{lll}\n",
       "\t 1  & 5  &  9\\\\\n",
       "\t 2  & 6  & 10\\\\\n",
       "\t 3  & 7  & 11\\\\\n",
       "\t 4  & 8  & 12\\\\\n",
       "\\end{tabular}\n"
      ],
      "text/markdown": [
       "\n",
       "| 1  | 5  |  9 | \n",
       "| 2  | 6  | 10 | \n",
       "| 3  | 7  | 11 | \n",
       "| 4  | 8  | 12 | \n",
       "\n",
       "\n"
      ],
      "text/plain": [
       "     [,1] [,2] [,3]\n",
       "[1,] 1    5     9  \n",
       "[2,] 2    6    10  \n",
       "[3,] 3    7    11  \n",
       "[4,] 4    8    12  "
      ]
     },
     "metadata": {},
     "output_type": "display_data"
    },
    {
     "data": {
      "text/html": [
       "TRUE"
      ],
      "text/latex": [
       "TRUE"
      ],
      "text/markdown": [
       "TRUE"
      ],
      "text/plain": [
       "[1] TRUE"
      ]
     },
     "metadata": {},
     "output_type": "display_data"
    }
   ],
   "source": [
    "(array_one <- array(1:12, dim=c(4,3)))\n",
    "(matrix_one <- matrix(1:12, nrow=4))\n",
    "identical(array_one, matrix_one)"
   ]
  },
  {
   "cell_type": "markdown",
   "metadata": {},
   "source": [
    "#### 行、列和维度\n",
    "\n",
    "- dim函数返回其维度的整数值向量\n",
    "- nrow和ncol函数返回行数和列数\n",
    "- length函数将返回所有维度的乘积"
   ]
  },
  {
   "cell_type": "markdown",
   "metadata": {},
   "source": [
    "#### 行名、列名和维度名\n",
    "\n",
    "- rownames和colnames函数返回矩阵的行名和列名"
   ]
  },
  {
   "cell_type": "markdown",
   "metadata": {},
   "source": [
    "#### 索引数组\n",
    "\n",
    "索引数组与索引向量类似"
   ]
  },
  {
   "cell_type": "code",
   "execution_count": 19,
   "metadata": {},
   "outputs": [
    {
     "data": {
      "text/html": [
       "<table>\n",
       "<thead><tr><th></th><th scope=col>ein</th><th scope=col>zwei</th><th scope=col>drei</th></tr></thead>\n",
       "<tbody>\n",
       "\t<tr><th scope=row>one</th><td>1 </td><td>5 </td><td> 9</td></tr>\n",
       "\t<tr><th scope=row>two</th><td>2 </td><td>6 </td><td>10</td></tr>\n",
       "\t<tr><th scope=row>three</th><td>3 </td><td>7 </td><td>11</td></tr>\n",
       "\t<tr><th scope=row>four</th><td>4 </td><td>8 </td><td>12</td></tr>\n",
       "</tbody>\n",
       "</table>\n"
      ],
      "text/latex": [
       "\\begin{tabular}{r|lll}\n",
       "  & ein & zwei & drei\\\\\n",
       "\\hline\n",
       "\tone & 1  & 5  &  9\\\\\n",
       "\ttwo & 2  & 6  & 10\\\\\n",
       "\tthree & 3  & 7  & 11\\\\\n",
       "\tfour & 4  & 8  & 12\\\\\n",
       "\\end{tabular}\n"
      ],
      "text/markdown": [
       "\n",
       "| <!--/--> | ein | zwei | drei | \n",
       "|---|---|---|---|\n",
       "| one | 1  | 5  |  9 | \n",
       "| two | 2  | 6  | 10 | \n",
       "| three | 3  | 7  | 11 | \n",
       "| four | 4  | 8  | 12 | \n",
       "\n",
       "\n"
      ],
      "text/plain": [
       "      ein zwei drei\n",
       "one   1   5     9  \n",
       "two   2   6    10  \n",
       "three 3   7    11  \n",
       "four  4   8    12  "
      ]
     },
     "metadata": {},
     "output_type": "display_data"
    },
    {
     "data": {
      "text/html": [
       "<dl class=dl-horizontal>\n",
       "\t<dt>ein</dt>\n",
       "\t\t<dd>1</dd>\n",
       "\t<dt>zwei</dt>\n",
       "\t\t<dd>5</dd>\n",
       "\t<dt>drei</dt>\n",
       "\t\t<dd>9</dd>\n",
       "</dl>\n"
      ],
      "text/latex": [
       "\\begin{description*}\n",
       "\\item[ein] 1\n",
       "\\item[zwei] 5\n",
       "\\item[drei] 9\n",
       "\\end{description*}\n"
      ],
      "text/markdown": [
       "ein\n",
       ":   1zwei\n",
       ":   5drei\n",
       ":   9\n",
       "\n"
      ],
      "text/plain": [
       " ein zwei drei \n",
       "   1    5    9 "
      ]
     },
     "metadata": {},
     "output_type": "display_data"
    },
    {
     "data": {
      "text/html": [
       "<dl class=dl-horizontal>\n",
       "\t<dt>zwei</dt>\n",
       "\t\t<dd>5</dd>\n",
       "\t<dt>drei</dt>\n",
       "\t\t<dd>9</dd>\n",
       "</dl>\n"
      ],
      "text/latex": [
       "\\begin{description*}\n",
       "\\item[zwei] 5\n",
       "\\item[drei] 9\n",
       "\\end{description*}\n"
      ],
      "text/markdown": [
       "zwei\n",
       ":   5drei\n",
       ":   9\n",
       "\n"
      ],
      "text/plain": [
       "zwei drei \n",
       "   5    9 "
      ]
     },
     "metadata": {},
     "output_type": "display_data"
    }
   ],
   "source": [
    "(a_matrix <- \n",
    " matrix(1:12, nrow=4, dimnames=list(c('one','two','three','four'),c('ein','zwei','drei'))))\n",
    "\n",
    "a_matrix[1,]\n",
    "a_matrix[1, c('zwei','drei')]"
   ]
  },
  {
   "cell_type": "markdown",
   "metadata": {},
   "source": [
    "#### 合并矩阵\n",
    "\n",
    "- c函数能在拼接矩阵之前把它们转换成向量\n",
    "- cbind和rbind函数按行和列来绑定两个矩阵，能更自然地合并它们"
   ]
  },
  {
   "cell_type": "markdown",
   "metadata": {},
   "source": [
    "#### 数组算术\n",
    "\n",
    "- 标准算术运算符(+,-,\\*,/)将以相同的方式按元素来处理矩阵和数组\n",
    "- t函数用于转置矩阵\n",
    "- 矩阵内乘和外乘运算，有特殊运算符%\\*%和%o%\n",
    "- 幂运算符^将作用于矩阵中的每个元素\n",
    "- 求逆矩阵用solve函数"
   ]
  },
  {
   "cell_type": "code",
   "execution_count": 20,
   "metadata": {},
   "outputs": [
    {
     "data": {
      "text/html": [
       "<table>\n",
       "<tbody>\n",
       "\t<tr><td>1 </td><td> 5</td><td>2 </td></tr>\n",
       "\t<tr><td>0 </td><td>-3</td><td>4 </td></tr>\n",
       "\t<tr><td>1 </td><td> 1</td><td>7 </td></tr>\n",
       "</tbody>\n",
       "</table>\n"
      ],
      "text/latex": [
       "\\begin{tabular}{lll}\n",
       "\t 1  &  5 & 2 \\\\\n",
       "\t 0  & -3 & 4 \\\\\n",
       "\t 1  &  1 & 7 \\\\\n",
       "\\end{tabular}\n"
      ],
      "text/markdown": [
       "\n",
       "| 1  |  5 | 2  | \n",
       "| 0  | -3 | 4  | \n",
       "| 1  |  1 | 7  | \n",
       "\n",
       "\n"
      ],
      "text/plain": [
       "     [,1] [,2] [,3]\n",
       "[1,] 1     5   2   \n",
       "[2,] 0    -3   4   \n",
       "[3,] 1     1   7   "
      ]
     },
     "metadata": {},
     "output_type": "display_data"
    },
    {
     "data": {
      "text/html": [
       "<table>\n",
       "<tbody>\n",
       "\t<tr><td>-25</td><td>-33</td><td>26 </td></tr>\n",
       "\t<tr><td>  4</td><td>  5</td><td>-4 </td></tr>\n",
       "\t<tr><td>  3</td><td>  4</td><td>-3 </td></tr>\n",
       "</tbody>\n",
       "</table>\n"
      ],
      "text/latex": [
       "\\begin{tabular}{lll}\n",
       "\t -25 & -33 & 26 \\\\\n",
       "\t   4 &   5 & -4 \\\\\n",
       "\t   3 &   4 & -3 \\\\\n",
       "\\end{tabular}\n"
      ],
      "text/markdown": [
       "\n",
       "| -25 | -33 | 26  | \n",
       "|   4 |   5 | -4  | \n",
       "|   3 |   4 | -3  | \n",
       "\n",
       "\n"
      ],
      "text/plain": [
       "     [,1] [,2] [,3]\n",
       "[1,] -25  -33  26  \n",
       "[2,]   4    5  -4  \n",
       "[3,]   3    4  -3  "
      ]
     },
     "metadata": {},
     "output_type": "display_data"
    },
    {
     "data": {
      "text/html": [
       "<table>\n",
       "<tbody>\n",
       "\t<tr><td>1</td><td>0</td><td>0</td></tr>\n",
       "\t<tr><td>0</td><td>1</td><td>0</td></tr>\n",
       "\t<tr><td>0</td><td>0</td><td>1</td></tr>\n",
       "</tbody>\n",
       "</table>\n"
      ],
      "text/latex": [
       "\\begin{tabular}{lll}\n",
       "\t 1 & 0 & 0\\\\\n",
       "\t 0 & 1 & 0\\\\\n",
       "\t 0 & 0 & 1\\\\\n",
       "\\end{tabular}\n"
      ],
      "text/markdown": [
       "\n",
       "| 1 | 0 | 0 | \n",
       "| 0 | 1 | 0 | \n",
       "| 0 | 0 | 1 | \n",
       "\n",
       "\n"
      ],
      "text/plain": [
       "     [,1] [,2] [,3]\n",
       "[1,] 1    0    0   \n",
       "[2,] 0    1    0   \n",
       "[3,] 0    0    1   "
      ]
     },
     "metadata": {},
     "output_type": "display_data"
    }
   ],
   "source": [
    "(m <- matrix(c(1,0,1,5,-3,1,2,4,7), nrow=3))\n",
    "(inverse_of_m <- solve(m))\n",
    "(m %*% inverse_of_m)"
   ]
  },
  {
   "cell_type": "markdown",
   "metadata": {},
   "source": [
    "## 4. 列表和数据框"
   ]
  },
  {
   "cell_type": "markdown",
   "metadata": {},
   "source": [
    "### 列表"
   ]
  },
  {
   "cell_type": "markdown",
   "metadata": {},
   "source": [
    "#### 创建列表\n",
    "\n",
    "- 列表由list函数创建"
   ]
  },
  {
   "cell_type": "code",
   "execution_count": 21,
   "metadata": {},
   "outputs": [
    {
     "data": {
      "text/html": [
       "<ol>\n",
       "\t<li><ol class=list-inline>\n",
       "\t<li>1</li>\n",
       "\t<li>1</li>\n",
       "\t<li>2</li>\n",
       "\t<li>5</li>\n",
       "\t<li>14</li>\n",
       "\t<li>42</li>\n",
       "</ol>\n",
       "</li>\n",
       "\t<li><ol class=list-inline>\n",
       "\t<li>'Jan'</li>\n",
       "\t<li>'Feb'</li>\n",
       "\t<li>'Mar'</li>\n",
       "\t<li>'Apr'</li>\n",
       "\t<li>'May'</li>\n",
       "\t<li>'Jun'</li>\n",
       "\t<li>'Jul'</li>\n",
       "\t<li>'Aug'</li>\n",
       "\t<li>'Sep'</li>\n",
       "\t<li>'Oct'</li>\n",
       "\t<li>'Nov'</li>\n",
       "\t<li>'Dec'</li>\n",
       "</ol>\n",
       "</li>\n",
       "\t<li><table>\n",
       "<tbody>\n",
       "\t<tr><td> 3</td><td> 1</td></tr>\n",
       "\t<tr><td>-8</td><td>-3</td></tr>\n",
       "</tbody>\n",
       "</table>\n",
       "</li>\n",
       "\t<li><pre class=language-r><code>.Primitive(\"asin\")</code></pre></li>\n",
       "</ol>\n"
      ],
      "text/latex": [
       "\\begin{enumerate}\n",
       "\\item \\begin{enumerate*}\n",
       "\\item 1\n",
       "\\item 1\n",
       "\\item 2\n",
       "\\item 5\n",
       "\\item 14\n",
       "\\item 42\n",
       "\\end{enumerate*}\n",
       "\n",
       "\\item \\begin{enumerate*}\n",
       "\\item 'Jan'\n",
       "\\item 'Feb'\n",
       "\\item 'Mar'\n",
       "\\item 'Apr'\n",
       "\\item 'May'\n",
       "\\item 'Jun'\n",
       "\\item 'Jul'\n",
       "\\item 'Aug'\n",
       "\\item 'Sep'\n",
       "\\item 'Oct'\n",
       "\\item 'Nov'\n",
       "\\item 'Dec'\n",
       "\\end{enumerate*}\n",
       "\n",
       "\\item \\begin{tabular}{ll}\n",
       "\t  3 &  1\\\\\n",
       "\t -8 & -3\\\\\n",
       "\\end{tabular}\n",
       "\n",
       "\\item \\begin{minted}{r}\n",
       ".Primitive(\"asin\")\n",
       "\\end{minted}\n",
       "\\end{enumerate}\n"
      ],
      "text/markdown": [
       "1. 1. 1\n",
       "2. 1\n",
       "3. 2\n",
       "4. 5\n",
       "5. 14\n",
       "6. 42\n",
       "\n",
       "\n",
       "\n",
       "2. 1. 'Jan'\n",
       "2. 'Feb'\n",
       "3. 'Mar'\n",
       "4. 'Apr'\n",
       "5. 'May'\n",
       "6. 'Jun'\n",
       "7. 'Jul'\n",
       "8. 'Aug'\n",
       "9. 'Sep'\n",
       "10. 'Oct'\n",
       "11. 'Nov'\n",
       "12. 'Dec'\n",
       "\n",
       "\n",
       "\n",
       "3. \n",
       "|  3 |  1 | \n",
       "| -8 | -3 | \n",
       "\n",
       "\n",
       "\n",
       "4. ```r\n",
       ".Primitive(\"asin\")\n",
       "```\n",
       "\n",
       "\n"
      ],
      "text/plain": [
       "[[1]]\n",
       "[1]  1  1  2  5 14 42\n",
       "\n",
       "[[2]]\n",
       " [1] \"Jan\" \"Feb\" \"Mar\" \"Apr\" \"May\" \"Jun\" \"Jul\" \"Aug\" \"Sep\" \"Oct\" \"Nov\" \"Dec\"\n",
       "\n",
       "[[3]]\n",
       "     [,1] [,2]\n",
       "[1,]    3    1\n",
       "[2,]   -8   -3\n",
       "\n",
       "[[4]]\n",
       "function (x)  .Primitive(\"asin\")\n"
      ]
     },
     "metadata": {},
     "output_type": "display_data"
    }
   ],
   "source": [
    "(a_list <- list(\n",
    "    c(1,1,2,5,14,42),\n",
    "    month.abb,\n",
    "    matrix(c(3,-8,1,-3), nrow=2),\n",
    "    asin\n",
    ")\n",
    ")"
   ]
  },
  {
   "cell_type": "markdown",
   "metadata": {},
   "source": [
    "#### 原子变量和递归变量\n",
    "\n",
    "- 由于列表具有把其他列表包含在内的能力，它被认为是递归变量。\n",
    "- 与之相对，向量、矩阵和数组则是原子变量\n",
    "- is.recursive和is.atomic函数可测试它们的类型"
   ]
  },
  {
   "cell_type": "markdown",
   "metadata": {},
   "source": [
    "#### 索引列表\n",
    "\n",
    "- 与向量类似，我们可以通过方括号[]、正或负的下标数字、元素名称或逻辑索引这四种方法访问列表中的元素\n",
    "- 如果要访问列表元素中的内容，可以通过[[]]\n",
    "- 对于列表中的命名元素，也可以使用美元符号运算符$"
   ]
  },
  {
   "cell_type": "code",
   "execution_count": 22,
   "metadata": {},
   "outputs": [
    {
     "data": {
      "text/html": [
       "<dl>\n",
       "\t<dt>$first</dt>\n",
       "\t\t<dd>1</dd>\n",
       "\t<dt>$second</dt>\n",
       "\t\t<dd>2</dd>\n",
       "</dl>\n"
      ],
      "text/latex": [
       "\\begin{description}\n",
       "\\item[\\$first] 1\n",
       "\\item[\\$second] 2\n",
       "\\end{description}\n"
      ],
      "text/markdown": [
       "$first\n",
       ":   1\n",
       "$second\n",
       ":   2\n",
       "\n",
       "\n"
      ],
      "text/plain": [
       "$first\n",
       "[1] 1\n",
       "\n",
       "$second\n",
       "[1] 2\n"
      ]
     },
     "metadata": {},
     "output_type": "display_data"
    },
    {
     "data": {
      "text/html": [
       "<dl>\n",
       "\t<dt>$first</dt>\n",
       "\t\t<dd>1</dd>\n",
       "\t<dt>$second</dt>\n",
       "\t\t<dd>2</dd>\n",
       "</dl>\n"
      ],
      "text/latex": [
       "\\begin{description}\n",
       "\\item[\\$first] 1\n",
       "\\item[\\$second] 2\n",
       "\\end{description}\n"
      ],
      "text/markdown": [
       "$first\n",
       ":   1\n",
       "$second\n",
       ":   2\n",
       "\n",
       "\n"
      ],
      "text/plain": [
       "$first\n",
       "[1] 1\n",
       "\n",
       "$second\n",
       "[1] 2\n"
      ]
     },
     "metadata": {},
     "output_type": "display_data"
    },
    {
     "data": {
      "text/html": [
       "<dl>\n",
       "\t<dt>$first</dt>\n",
       "\t\t<dd>1</dd>\n",
       "\t<dt>$second</dt>\n",
       "\t\t<dd>2</dd>\n",
       "</dl>\n"
      ],
      "text/latex": [
       "\\begin{description}\n",
       "\\item[\\$first] 1\n",
       "\\item[\\$second] 2\n",
       "\\end{description}\n"
      ],
      "text/markdown": [
       "$first\n",
       ":   1\n",
       "$second\n",
       ":   2\n",
       "\n",
       "\n"
      ],
      "text/plain": [
       "$first\n",
       "[1] 1\n",
       "\n",
       "$second\n",
       "[1] 2\n"
      ]
     },
     "metadata": {},
     "output_type": "display_data"
    },
    {
     "data": {
      "text/html": [
       "1"
      ],
      "text/latex": [
       "1"
      ],
      "text/markdown": [
       "1"
      ],
      "text/plain": [
       "[1] 1"
      ]
     },
     "metadata": {},
     "output_type": "display_data"
    },
    {
     "data": {
      "text/html": [
       "1"
      ],
      "text/latex": [
       "1"
      ],
      "text/markdown": [
       "1"
      ],
      "text/plain": [
       "[1] 1"
      ]
     },
     "metadata": {},
     "output_type": "display_data"
    },
    {
     "data": {
      "text/html": [
       "1"
      ],
      "text/latex": [
       "1"
      ],
      "text/markdown": [
       "1"
      ],
      "text/plain": [
       "[1] 1"
      ]
     },
     "metadata": {},
     "output_type": "display_data"
    },
    {
     "data": {
      "text/html": [
       "3.2"
      ],
      "text/latex": [
       "3.2"
      ],
      "text/markdown": [
       "3.2"
      ],
      "text/plain": [
       "[1] 3.2"
      ]
     },
     "metadata": {},
     "output_type": "display_data"
    }
   ],
   "source": [
    "l <- list(\n",
    "    first=1,\n",
    "    second=2,\n",
    "    third = list(\n",
    "        alpha=3.1,\n",
    "        beta=3.2\n",
    "    )\n",
    ")\n",
    "\n",
    "l[1:2]\n",
    "l[c('first','second')]\n",
    "l[c(TRUE,TRUE,FALSE)]\n",
    "\n",
    "l[[1]]\n",
    "l[['first']]\n",
    "\n",
    "l$first\n",
    "\n",
    "l[[c('third','beta')]]"
   ]
  },
  {
   "cell_type": "markdown",
   "metadata": {},
   "source": [
    "#### 向量和列表之间的转换\n",
    "\n",
    "- 向量可使用函数as.list函数来转换成列表\n",
    "- 如果列表中每个元素都是标量值，可使用之前出现过的函数(as.numeric, as.character等)将其转换成向量"
   ]
  },
  {
   "cell_type": "code",
   "execution_count": 23,
   "metadata": {},
   "outputs": [
    {
     "data": {
      "text/html": [
       "<ol>\n",
       "\t<li>1</li>\n",
       "\t<li>6</li>\n",
       "\t<li>21</li>\n",
       "\t<li>107</li>\n",
       "</ol>\n"
      ],
      "text/latex": [
       "\\begin{enumerate}\n",
       "\\item 1\n",
       "\\item 6\n",
       "\\item 21\n",
       "\\item 107\n",
       "\\end{enumerate}\n"
      ],
      "text/markdown": [
       "1. 1\n",
       "2. 6\n",
       "3. 21\n",
       "4. 107\n",
       "\n",
       "\n"
      ],
      "text/plain": [
       "[[1]]\n",
       "[1] 1\n",
       "\n",
       "[[2]]\n",
       "[1] 6\n",
       "\n",
       "[[3]]\n",
       "[1] 21\n",
       "\n",
       "[[4]]\n",
       "[1] 107\n"
      ]
     },
     "metadata": {},
     "output_type": "display_data"
    },
    {
     "data": {
      "text/html": [
       "<ol class=list-inline>\n",
       "\t<li>1</li>\n",
       "\t<li>6</li>\n",
       "\t<li>21</li>\n",
       "\t<li>107</li>\n",
       "</ol>\n"
      ],
      "text/latex": [
       "\\begin{enumerate*}\n",
       "\\item 1\n",
       "\\item 6\n",
       "\\item 21\n",
       "\\item 107\n",
       "\\end{enumerate*}\n"
      ],
      "text/markdown": [
       "1. 1\n",
       "2. 6\n",
       "3. 21\n",
       "4. 107\n",
       "\n",
       "\n"
      ],
      "text/plain": [
       "[1]   1   6  21 107"
      ]
     },
     "metadata": {},
     "output_type": "display_data"
    }
   ],
   "source": [
    "busy_beaver <- c(1,6,21,107)\n",
    "as.list(busy_beaver)\n",
    "\n",
    "as.numeric(list(1,6,21,107))"
   ]
  },
  {
   "cell_type": "markdown",
   "metadata": {},
   "source": [
    "#### 组合列表\n",
    "\n",
    "- c函数既能用于拼接向量，亦能用于拼接列表"
   ]
  },
  {
   "cell_type": "markdown",
   "metadata": {},
   "source": [
    "### NULL\n",
    "\n",
    "- NULL是个特殊值，它标识一个空的变量\n",
    "- 在创建列表时，你可能会想指定一个元素，表明它必须存在但没有赋值\n",
    "- NULL和缺失值NA之间的最大区别是，NA是一个标量值，而NULL不会占用任何空间，它的长度为零"
   ]
  },
  {
   "cell_type": "code",
   "execution_count": 24,
   "metadata": {},
   "outputs": [
    {
     "data": {
      "text/html": [
       "TRUE"
      ],
      "text/latex": [
       "TRUE"
      ],
      "text/markdown": [
       "TRUE"
      ],
      "text/plain": [
       "[1] TRUE"
      ]
     },
     "metadata": {},
     "output_type": "display_data"
    }
   ],
   "source": [
    "is.null(NULL)"
   ]
  },
  {
   "cell_type": "markdown",
   "metadata": {},
   "source": [
    "### 数据框"
   ]
  },
  {
   "cell_type": "markdown",
   "metadata": {},
   "source": [
    "#### 创建数据框\n",
    "\n",
    "- 用data.frame函数创建数据框"
   ]
  },
  {
   "cell_type": "code",
   "execution_count": 25,
   "metadata": {},
   "outputs": [
    {
     "data": {
      "text/html": [
       "<table>\n",
       "<thead><tr><th scope=col>x</th><th scope=col>y</th><th scope=col>z</th></tr></thead>\n",
       "<tbody>\n",
       "\t<tr><td>a          </td><td>-0.35626139</td><td>FALSE      </td></tr>\n",
       "\t<tr><td>b          </td><td>-0.04642748</td><td>FALSE      </td></tr>\n",
       "\t<tr><td>c          </td><td>-1.03722049</td><td> TRUE      </td></tr>\n",
       "\t<tr><td>d          </td><td> 0.74940529</td><td> TRUE      </td></tr>\n",
       "\t<tr><td>e          </td><td>-0.33567867</td><td> TRUE      </td></tr>\n",
       "</tbody>\n",
       "</table>\n"
      ],
      "text/latex": [
       "\\begin{tabular}{r|lll}\n",
       " x & y & z\\\\\n",
       "\\hline\n",
       "\t a           & -0.35626139 & FALSE      \\\\\n",
       "\t b           & -0.04642748 & FALSE      \\\\\n",
       "\t c           & -1.03722049 &  TRUE      \\\\\n",
       "\t d           &  0.74940529 &  TRUE      \\\\\n",
       "\t e           & -0.33567867 &  TRUE      \\\\\n",
       "\\end{tabular}\n"
      ],
      "text/markdown": [
       "\n",
       "x | y | z | \n",
       "|---|---|---|---|---|\n",
       "| a           | -0.35626139 | FALSE       | \n",
       "| b           | -0.04642748 | FALSE       | \n",
       "| c           | -1.03722049 |  TRUE       | \n",
       "| d           |  0.74940529 |  TRUE       | \n",
       "| e           | -0.33567867 |  TRUE       | \n",
       "\n",
       "\n"
      ],
      "text/plain": [
       "  x y           z    \n",
       "1 a -0.35626139 FALSE\n",
       "2 b -0.04642748 FALSE\n",
       "3 c -1.03722049  TRUE\n",
       "4 d  0.74940529  TRUE\n",
       "5 e -0.33567867  TRUE"
      ]
     },
     "metadata": {},
     "output_type": "display_data"
    }
   ],
   "source": [
    "(a_data_frame <- data.frame(\n",
    "    x = letters[1:5],\n",
    "    y = rnorm(5),\n",
    "    z = runif(5) > 0.5\n",
    "))"
   ]
  },
  {
   "cell_type": "markdown",
   "metadata": {},
   "source": [
    "#### 索引数据框\n",
    "\n",
    "- 和矩阵索引的方式一样\n",
    "- 数据框子集"
   ]
  },
  {
   "cell_type": "code",
   "execution_count": 26,
   "metadata": {},
   "outputs": [
    {
     "data": {
      "text/html": [
       "<table>\n",
       "<thead><tr><th></th><th scope=col>x</th><th scope=col>y</th></tr></thead>\n",
       "<tbody>\n",
       "\t<tr><th scope=row>2</th><td>b          </td><td>-0.04642748</td></tr>\n",
       "\t<tr><th scope=row>3</th><td>c          </td><td>-1.03722049</td></tr>\n",
       "</tbody>\n",
       "</table>\n"
      ],
      "text/latex": [
       "\\begin{tabular}{r|ll}\n",
       "  & x & y\\\\\n",
       "\\hline\n",
       "\t2 & b           & -0.04642748\\\\\n",
       "\t3 & c           & -1.03722049\\\\\n",
       "\\end{tabular}\n"
      ],
      "text/markdown": [
       "\n",
       "| <!--/--> | x | y | \n",
       "|---|---|\n",
       "| 2 | b           | -0.04642748 | \n",
       "| 3 | c           | -1.03722049 | \n",
       "\n",
       "\n"
      ],
      "text/plain": [
       "  x y          \n",
       "2 b -0.04642748\n",
       "3 c -1.03722049"
      ]
     },
     "metadata": {},
     "output_type": "display_data"
    },
    {
     "data": {
      "text/html": [
       "<table>\n",
       "<thead><tr><th></th><th scope=col>x</th><th scope=col>y</th></tr></thead>\n",
       "<tbody>\n",
       "\t<tr><th scope=row>2</th><td>b          </td><td>-0.04642748</td></tr>\n",
       "\t<tr><th scope=row>3</th><td>c          </td><td>-1.03722049</td></tr>\n",
       "</tbody>\n",
       "</table>\n"
      ],
      "text/latex": [
       "\\begin{tabular}{r|ll}\n",
       "  & x & y\\\\\n",
       "\\hline\n",
       "\t2 & b           & -0.04642748\\\\\n",
       "\t3 & c           & -1.03722049\\\\\n",
       "\\end{tabular}\n"
      ],
      "text/markdown": [
       "\n",
       "| <!--/--> | x | y | \n",
       "|---|---|\n",
       "| 2 | b           | -0.04642748 | \n",
       "| 3 | c           | -1.03722049 | \n",
       "\n",
       "\n"
      ],
      "text/plain": [
       "  x y          \n",
       "2 b -0.04642748\n",
       "3 c -1.03722049"
      ]
     },
     "metadata": {},
     "output_type": "display_data"
    },
    {
     "data": {
      "text/html": [
       "<table>\n",
       "<thead><tr><th></th><th scope=col>x</th></tr></thead>\n",
       "<tbody>\n",
       "\t<tr><th scope=row>3</th><td>c</td></tr>\n",
       "\t<tr><th scope=row>4</th><td>d</td></tr>\n",
       "\t<tr><th scope=row>5</th><td>e</td></tr>\n",
       "</tbody>\n",
       "</table>\n"
      ],
      "text/latex": [
       "\\begin{tabular}{r|l}\n",
       "  & x\\\\\n",
       "\\hline\n",
       "\t3 & c\\\\\n",
       "\t4 & d\\\\\n",
       "\t5 & e\\\\\n",
       "\\end{tabular}\n"
      ],
      "text/markdown": [
       "\n",
       "| <!--/--> | x | \n",
       "|---|---|---|\n",
       "| 3 | c | \n",
       "| 4 | d | \n",
       "| 5 | e | \n",
       "\n",
       "\n"
      ],
      "text/plain": [
       "  x\n",
       "3 c\n",
       "4 d\n",
       "5 e"
      ]
     },
     "metadata": {},
     "output_type": "display_data"
    }
   ],
   "source": [
    "a_data_frame[2:3,-3]\n",
    "a_data_frame[c(FALSE,TRUE,TRUE,FALSE,FALSE),c('x','y')]\n",
    "\n",
    "subset(a_data_frame, y>0 | z, x)"
   ]
  },
  {
   "cell_type": "markdown",
   "metadata": {},
   "source": [
    "#### 基本数据框操作\n",
    "\n",
    "- 数据框可以使用cbind和rbind进行连接(join)\n",
    "- 当两个数据框有相同的列时，可使用merge函数合并"
   ]
  },
  {
   "cell_type": "markdown",
   "metadata": {},
   "source": [
    "## 5. 环境和函数"
   ]
  },
  {
   "cell_type": "markdown",
   "metadata": {},
   "source": [
    "### 环境\n",
    "\n",
    "- 我们所创建的所有变量都需要存储在某处，即环境\n",
    "- 环境本身也是另一种类型的变量\n",
    "- 通常情况下，你不需要直接与环境打交道\n",
    "- 环境的创建是使用new.env函数\n",
    "- 可以把环境参数传入ls和ls.str函数中，列出它的所有内容\n",
    "- 可用exists函数测试变量是否在环境中\n",
    "- 全局环境globalen()"
   ]
  },
  {
   "cell_type": "code",
   "execution_count": 27,
   "metadata": {},
   "outputs": [
    {
     "data": {
      "text/html": [
       "<ol class=list-inline>\n",
       "\t<li>'pythag'</li>\n",
       "\t<li>'root'</li>\n",
       "</ol>\n"
      ],
      "text/latex": [
       "\\begin{enumerate*}\n",
       "\\item 'pythag'\n",
       "\\item 'root'\n",
       "\\end{enumerate*}\n"
      ],
      "text/markdown": [
       "1. 'pythag'\n",
       "2. 'root'\n",
       "\n",
       "\n"
      ],
      "text/plain": [
       "[1] \"pythag\" \"root\"  "
      ]
     },
     "metadata": {},
     "output_type": "display_data"
    },
    {
     "data": {
      "text/plain": [
       "pythag :  num [1:4] 12 15 20 21\n",
       "root :  cplx [1:2] 2+0i 3-0i"
      ]
     },
     "metadata": {},
     "output_type": "display_data"
    },
    {
     "data": {
      "text/html": [
       "TRUE"
      ],
      "text/latex": [
       "TRUE"
      ],
      "text/markdown": [
       "TRUE"
      ],
      "text/plain": [
       "[1] TRUE"
      ]
     },
     "metadata": {},
     "output_type": "display_data"
    },
    {
     "data": {
      "text/html": [
       "<dl>\n",
       "\t<dt>$pythag</dt>\n",
       "\t\t<dd><ol class=list-inline>\n",
       "\t<li>12</li>\n",
       "\t<li>15</li>\n",
       "\t<li>20</li>\n",
       "\t<li>21</li>\n",
       "</ol>\n",
       "</dd>\n",
       "\t<dt>$root</dt>\n",
       "\t\t<dd><ol class=list-inline>\n",
       "\t<li>2+0i</li>\n",
       "\t<li>3-0i</li>\n",
       "</ol>\n",
       "</dd>\n",
       "</dl>\n"
      ],
      "text/latex": [
       "\\begin{description}\n",
       "\\item[\\$pythag] \\begin{enumerate*}\n",
       "\\item 12\n",
       "\\item 15\n",
       "\\item 20\n",
       "\\item 21\n",
       "\\end{enumerate*}\n",
       "\n",
       "\\item[\\$root] \\begin{enumerate*}\n",
       "\\item 2+0i\n",
       "\\item 3-0i\n",
       "\\end{enumerate*}\n",
       "\n",
       "\\end{description}\n"
      ],
      "text/markdown": [
       "$pythag\n",
       ":   1. 12\n",
       "2. 15\n",
       "3. 20\n",
       "4. 21\n",
       "\n",
       "\n",
       "\n",
       "$root\n",
       ":   1. 2+0i\n",
       "2. 3-0i\n",
       "\n",
       "\n",
       "\n",
       "\n",
       "\n"
      ],
      "text/plain": [
       "$pythag\n",
       "[1] 12 15 20 21\n",
       "\n",
       "$root\n",
       "[1] 2+0i 3-0i\n"
      ]
     },
     "metadata": {},
     "output_type": "display_data"
    },
    {
     "data": {
      "text/html": [
       "<ol class=list-inline>\n",
       "\t<li>'-'</li>\n",
       "\t<li>'-.Date'</li>\n",
       "\t<li>'-.POSIXt'</li>\n",
       "\t<li>'!'</li>\n",
       "\t<li>'!.hexmode'</li>\n",
       "</ol>\n"
      ],
      "text/latex": [
       "\\begin{enumerate*}\n",
       "\\item '-'\n",
       "\\item '-.Date'\n",
       "\\item '-.POSIXt'\n",
       "\\item '!'\n",
       "\\item '!.hexmode'\n",
       "\\end{enumerate*}\n"
      ],
      "text/markdown": [
       "1. '-'\n",
       "2. '-.Date'\n",
       "3. '-.POSIXt'\n",
       "4. '!'\n",
       "5. '!.hexmode'\n",
       "\n",
       "\n"
      ],
      "text/plain": [
       "[1] \"-\"         \"-.Date\"    \"-.POSIXt\"  \"!\"         \"!.hexmode\""
      ]
     },
     "metadata": {},
     "output_type": "display_data"
    }
   ],
   "source": [
    "an_environment <- new.env()\n",
    "an_environment[['pythag']] <- c(12,15,20,21)\n",
    "an_environment$root <- polyroot(c(6,-5,1))\n",
    "\n",
    "ls(envir=an_environment)\n",
    "ls.str(envir=an_environment)\n",
    "\n",
    "exists('pythag',an_environment)\n",
    "\n",
    "(a_list <- as.list(an_environment))\n",
    "\n",
    "head(ls(envir = baseenv()),5)"
   ]
  },
  {
   "cell_type": "markdown",
   "metadata": {},
   "source": [
    "### 函数\n",
    "\n"
   ]
  },
  {
   "cell_type": "markdown",
   "metadata": {},
   "source": [
    "#### 创建和调用函数\n",
    "\n",
    "- formals函数能取得函数的参数并返回一个列表\n",
    "- body函数可用于返回函数体\n",
    "- R提供了一个特殊参数..., 它包括了所有不能被位置或名称匹配的参数"
   ]
  },
  {
   "cell_type": "code",
   "execution_count": 28,
   "metadata": {},
   "outputs": [
    {
     "data": {
      "text/html": [
       "5"
      ],
      "text/latex": [
       "5"
      ],
      "text/markdown": [
       "5"
      ],
      "text/plain": [
       "[1] 5"
      ]
     },
     "metadata": {},
     "output_type": "display_data"
    },
    {
     "data": {
      "text/html": [
       "<ol class=list-inline>\n",
       "\t<li>-1.0215078369105</li>\n",
       "\t<li>-0.510753918455249</li>\n",
       "\t<li>0.255376959227625</li>\n",
       "\t<li>1.27688479613812</li>\n",
       "\t<li>&lt;NA&gt;</li>\n",
       "</ol>\n"
      ],
      "text/latex": [
       "\\begin{enumerate*}\n",
       "\\item -1.0215078369105\n",
       "\\item -0.510753918455249\n",
       "\\item 0.255376959227625\n",
       "\\item 1.27688479613812\n",
       "\\item <NA>\n",
       "\\end{enumerate*}\n"
      ],
      "text/markdown": [
       "1. -1.0215078369105\n",
       "2. -0.510753918455249\n",
       "3. 0.255376959227625\n",
       "4. 1.27688479613812\n",
       "5. &lt;NA&gt;\n",
       "\n",
       "\n"
      ],
      "text/plain": [
       "[1] -1.0215078 -0.5107539  0.2553770  1.2768848         NA"
      ]
     },
     "metadata": {},
     "output_type": "display_data"
    }
   ],
   "source": [
    "hypotenuse <- function(x, y){\n",
    "    sqrt(x^2 + y^2)\n",
    "}\n",
    "\n",
    "hypotenuse(3, 4)\n",
    "\n",
    "normalize <- function(x, m=mean(x,...), s=sd(x,...),...){\n",
    "    (x-m)/s\n",
    "}\n",
    "\n",
    "normalize(c(1,3,6,10,NA), na.rm=TRUE)"
   ]
  },
  {
   "cell_type": "markdown",
   "metadata": {},
   "source": [
    "#### 向其他函数传递和接收函数\n",
    "\n",
    "- 函数可以像其他变量类型一样地使用，我们可将之作为其他函数的参数，并且从函数中返回。一个常见的例子是do.call函数。"
   ]
  },
  {
   "cell_type": "code",
   "execution_count": 30,
   "metadata": {},
   "outputs": [
    {
     "data": {
      "text/html": [
       "5"
      ],
      "text/latex": [
       "5"
      ],
      "text/markdown": [
       "5"
      ],
      "text/plain": [
       "[1] 5"
      ]
     },
     "metadata": {},
     "output_type": "display_data"
    }
   ],
   "source": [
    "do.call(hypotenuse,list(x=3,y=4))  # 和hypotenuse(3,4)一样"
   ]
  },
  {
   "cell_type": "markdown",
   "metadata": {},
   "source": [
    "## 6. 字符串和因子"
   ]
  },
  {
   "cell_type": "markdown",
   "metadata": {},
   "source": [
    "### 字符串"
   ]
  },
  {
   "cell_type": "markdown",
   "metadata": {},
   "source": [
    "#### 创建和打印字符串\n",
    "\n",
    "- 字符串向量可用c函数创建\n",
    "- paste函数能将不同字符串组合在一起\n",
    "- toString函数是paste的变种，它在打印向量时非常有用\n",
    "- cat是一个低级函数，类似于paste，不过格式功能更少。很少直接调用它，但是它是大部分print函数的基础。\n",
    "- noquote函数在打印到控制台时，会去掉引号"
   ]
  },
  {
   "cell_type": "code",
   "execution_count": 32,
   "metadata": {},
   "outputs": [
    {
     "data": {
      "text/html": [
       "<ol class=list-inline>\n",
       "\t<li>'red lorry'</li>\n",
       "\t<li>'yellow lorry'</li>\n",
       "</ol>\n"
      ],
      "text/latex": [
       "\\begin{enumerate*}\n",
       "\\item 'red lorry'\n",
       "\\item 'yellow lorry'\n",
       "\\end{enumerate*}\n"
      ],
      "text/markdown": [
       "1. 'red lorry'\n",
       "2. 'yellow lorry'\n",
       "\n",
       "\n"
      ],
      "text/plain": [
       "[1] \"red lorry\"    \"yellow lorry\""
      ]
     },
     "metadata": {},
     "output_type": "display_data"
    },
    {
     "data": {
      "text/html": [
       "'1, 4, 9, 16, 25, 36, 49, 64, 81, 100, 121, 144, 169, 196, 225'"
      ],
      "text/latex": [
       "'1, 4, 9, 16, 25, 36, 49, 64, 81, 100, 121, 144, 169, 196, 225'"
      ],
      "text/markdown": [
       "'1, 4, 9, 16, 25, 36, 49, 64, 81, 100, 121, 144, 169, 196, 225'"
      ],
      "text/plain": [
       "[1] \"1, 4, 9, 16, 25, 36, 49, 64, 81, 100, 121, 144, 169, 196, 225\""
      ]
     },
     "metadata": {},
     "output_type": "display_data"
    }
   ],
   "source": [
    "paste(c(\"red\", \"yellow\"), \"lorry\")\n",
    "\n",
    "x <- (1:15)^2\n",
    "toString(x)"
   ]
  },
  {
   "cell_type": "markdown",
   "metadata": {},
   "source": [
    "#### 格式化数字\n",
    "\n",
    "- formatC函数可让你使用C语言的格式化风格\n",
    "- 更通用的C风格的格式化函数sprintf函数\n",
    "- 其他格式化数字的方法有format和prettyNum函数"
   ]
  },
  {
   "cell_type": "code",
   "execution_count": 37,
   "metadata": {},
   "outputs": [
    {
     "data": {
      "text/html": [
       "<ol class=list-inline>\n",
       "\t<li>2.71828182845905</li>\n",
       "\t<li>7.38905609893065</li>\n",
       "\t<li>20.0855369231877</li>\n",
       "</ol>\n"
      ],
      "text/latex": [
       "\\begin{enumerate*}\n",
       "\\item 2.71828182845905\n",
       "\\item 7.38905609893065\n",
       "\\item 20.0855369231877\n",
       "\\end{enumerate*}\n"
      ],
      "text/markdown": [
       "1. 2.71828182845905\n",
       "2. 7.38905609893065\n",
       "3. 20.0855369231877\n",
       "\n",
       "\n"
      ],
      "text/plain": [
       "[1]  2.718282  7.389056 20.085537"
      ]
     },
     "metadata": {},
     "output_type": "display_data"
    },
    {
     "data": {
      "text/html": [
       "<ol class=list-inline>\n",
       "\t<li>'2.72'</li>\n",
       "\t<li>'7.39'</li>\n",
       "\t<li>'20.1'</li>\n",
       "</ol>\n"
      ],
      "text/latex": [
       "\\begin{enumerate*}\n",
       "\\item '2.72'\n",
       "\\item '7.39'\n",
       "\\item '20.1'\n",
       "\\end{enumerate*}\n"
      ],
      "text/markdown": [
       "1. '2.72'\n",
       "2. '7.39'\n",
       "3. '20.1'\n",
       "\n",
       "\n"
      ],
      "text/plain": [
       "[1] \"2.72\" \"7.39\" \"20.1\""
      ]
     },
     "metadata": {},
     "output_type": "display_data"
    },
    {
     "data": {
      "text/html": [
       "<ol class=list-inline>\n",
       "\t<li>'To three decimal places, e ^ 1 = 2.718'</li>\n",
       "\t<li>'To three decimal places, e ^ 2 = 7.389'</li>\n",
       "\t<li>'To three decimal places, e ^ 3 = 20.086'</li>\n",
       "</ol>\n"
      ],
      "text/latex": [
       "\\begin{enumerate*}\n",
       "\\item 'To three decimal places, e \\textasciicircum{} 1 = 2.718'\n",
       "\\item 'To three decimal places, e \\textasciicircum{} 2 = 7.389'\n",
       "\\item 'To three decimal places, e \\textasciicircum{} 3 = 20.086'\n",
       "\\end{enumerate*}\n"
      ],
      "text/markdown": [
       "1. 'To three decimal places, e ^ 1 = 2.718'\n",
       "2. 'To three decimal places, e ^ 2 = 7.389'\n",
       "3. 'To three decimal places, e ^ 3 = 20.086'\n",
       "\n",
       "\n"
      ],
      "text/plain": [
       "[1] \"To three decimal places, e ^ 1 = 2.718\" \n",
       "[2] \"To three decimal places, e ^ 2 = 7.389\" \n",
       "[3] \"To three decimal places, e ^ 3 = 20.086\""
      ]
     },
     "metadata": {},
     "output_type": "display_data"
    },
    {
     "data": {
      "text/html": [
       "<ol class=list-inline>\n",
       "\t<li>'2.72'</li>\n",
       "\t<li>'7.39'</li>\n",
       "\t<li>'20.09'</li>\n",
       "</ol>\n"
      ],
      "text/latex": [
       "\\begin{enumerate*}\n",
       "\\item '2.72'\n",
       "\\item '7.39'\n",
       "\\item '20.09'\n",
       "\\end{enumerate*}\n"
      ],
      "text/markdown": [
       "1. '2.72'\n",
       "2. '7.39'\n",
       "3. '20.09'\n",
       "\n",
       "\n"
      ],
      "text/plain": [
       "[1] \"2.72\"  \"7.39\"  \"20.09\""
      ]
     },
     "metadata": {},
     "output_type": "display_data"
    },
    {
     "data": {
      "text/html": [
       "<ol class=list-inline>\n",
       "\t<li>'10,000,000,000'</li>\n",
       "\t<li>'0.00000 00000 00000 00001'</li>\n",
       "</ol>\n"
      ],
      "text/latex": [
       "\\begin{enumerate*}\n",
       "\\item '10,000,000,000'\n",
       "\\item '0.00000 00000 00000 00001'\n",
       "\\end{enumerate*}\n"
      ],
      "text/markdown": [
       "1. '10,000,000,000'\n",
       "2. '0.00000 00000 00000 00001'\n",
       "\n",
       "\n"
      ],
      "text/plain": [
       "[1] \"10,000,000,000\"            \"0.00000 00000 00000 00001\""
      ]
     },
     "metadata": {},
     "output_type": "display_data"
    }
   ],
   "source": [
    "pow <- 1:3\n",
    "(powers_of_e <- exp(pow))\n",
    "\n",
    "formatC(powers_of_e, digits=3)\n",
    "\n",
    "sprintf(\"To three decimal places, e ^ %d = %.3f\", pow, powers_of_e)\n",
    "\n",
    "format(powers_of_e, digits=3, trim=TRUE)\n",
    "\n",
    "prettyNum(\n",
    "    c(1e10, 1e-20),\n",
    "    big.mark = \",\",\n",
    "    small.mark = \" \",\n",
    "    preserve.width = \"individual\",\n",
    "    scientific = FALSE\n",
    ")"
   ]
  },
  {
   "cell_type": "markdown",
   "metadata": {},
   "source": [
    "#### 特殊字符\n",
    "\n",
    "- 有一些特殊的字符可以被包含在字符串中，使用cat而非print函数"
   ]
  },
  {
   "cell_type": "code",
   "execution_count": 38,
   "metadata": {},
   "outputs": [
    {
     "name": "stdout",
     "output_type": "stream",
     "text": [
      "foo\n",
      "bar\n"
     ]
    }
   ],
   "source": [
    "cat(\"foo\\nbar\", fill=TRUE)"
   ]
  },
  {
   "cell_type": "markdown",
   "metadata": {},
   "source": [
    "#### 更改大小写\n",
    "\n",
    "- 使用toupper和tolower函数"
   ]
  },
  {
   "cell_type": "markdown",
   "metadata": {},
   "source": [
    "#### 截取字符串\n",
    "\n",
    "- 使用substring和substr函数"
   ]
  },
  {
   "cell_type": "markdown",
   "metadata": {},
   "source": [
    "#### 分割字符串\n",
    "\n",
    "- 使用strsplit函数"
   ]
  },
  {
   "cell_type": "markdown",
   "metadata": {},
   "source": [
    "#### 文件路径\n",
    "\n",
    "- 使用getwd函数查看工作路径，并使用setwd函数来改变它\n",
    "- 使用file.path函数来创建文件路径\n",
    "- path.expand函数能将相对路径转换为绝对路径\n",
    "- basename函数只返回文件名，而dirname函数只返回文件的目录"
   ]
  },
  {
   "cell_type": "markdown",
   "metadata": {},
   "source": [
    "### 因子"
   ]
  },
  {
   "cell_type": "markdown",
   "metadata": {},
   "source": [
    "#### 创建因子\n",
    "\n",
    "- 使用factor函数创建"
   ]
  },
  {
   "cell_type": "markdown",
   "metadata": {},
   "source": [
    "#### 更改因子水平\n",
    "\n",
    "- 通过指定levels参数来更改因子水平\n",
    "- relevel函数是另一种改变因子水平顺序的方法"
   ]
  },
  {
   "cell_type": "markdown",
   "metadata": {},
   "source": [
    "#### 去掉因子水平\n",
    "\n",
    "- 使用droplevels函数"
   ]
  },
  {
   "cell_type": "code",
   "execution_count": 44,
   "metadata": {},
   "outputs": [
    {
     "data": {
      "text/html": [
       "<table>\n",
       "<thead><tr><th></th><th scope=col>mode</th><th scope=col>time_mins</th></tr></thead>\n",
       "<tbody>\n",
       "\t<tr><th scope=row>1</th><td>bike</td><td>25  </td></tr>\n",
       "\t<tr><th scope=row>2</th><td>car </td><td>13  </td></tr>\n",
       "\t<tr><th scope=row>4</th><td>car </td><td>22  </td></tr>\n",
       "\t<tr><th scope=row>5</th><td>walk</td><td>65  </td></tr>\n",
       "\t<tr><th scope=row>6</th><td>bike</td><td>28  </td></tr>\n",
       "\t<tr><th scope=row>7</th><td>car </td><td>15  </td></tr>\n",
       "\t<tr><th scope=row>8</th><td>bike</td><td>24  </td></tr>\n",
       "\t<tr><th scope=row>10</th><td>car </td><td>14  </td></tr>\n",
       "</tbody>\n",
       "</table>\n"
      ],
      "text/latex": [
       "\\begin{tabular}{r|ll}\n",
       "  & mode & time\\_mins\\\\\n",
       "\\hline\n",
       "\t1 & bike & 25  \\\\\n",
       "\t2 & car  & 13  \\\\\n",
       "\t4 & car  & 22  \\\\\n",
       "\t5 & walk & 65  \\\\\n",
       "\t6 & bike & 28  \\\\\n",
       "\t7 & car  & 15  \\\\\n",
       "\t8 & bike & 24  \\\\\n",
       "\t10 & car  & 14  \\\\\n",
       "\\end{tabular}\n"
      ],
      "text/markdown": [
       "\n",
       "| <!--/--> | mode | time_mins | \n",
       "|---|---|---|---|---|---|---|---|\n",
       "| 1 | bike | 25   | \n",
       "| 2 | car  | 13   | \n",
       "| 4 | car  | 22   | \n",
       "| 5 | walk | 65   | \n",
       "| 6 | bike | 28   | \n",
       "| 7 | car  | 15   | \n",
       "| 8 | bike | 24   | \n",
       "| 10 | car  | 14   | \n",
       "\n",
       "\n"
      ],
      "text/plain": [
       "   mode time_mins\n",
       "1  bike 25       \n",
       "2  car  13       \n",
       "4  car  22       \n",
       "5  walk 65       \n",
       "6  bike 28       \n",
       "7  car  15       \n",
       "8  bike 24       \n",
       "10 car  14       "
      ]
     },
     "metadata": {},
     "output_type": "display_data"
    },
    {
     "data": {
      "text/html": [
       "<ol class=list-inline>\n",
       "\t<li>bike</li>\n",
       "\t<li>car</li>\n",
       "\t<li>walk</li>\n",
       "</ol>\n"
      ],
      "text/latex": [
       "\\begin{enumerate*}\n",
       "\\item bike\n",
       "\\item car\n",
       "\\item walk\n",
       "\\end{enumerate*}\n"
      ],
      "text/markdown": [
       "1. bike\n",
       "2. car\n",
       "3. walk\n",
       "\n",
       "\n"
      ],
      "text/plain": [
       "[1] bike car  walk\n",
       "Levels: bike bus car walk"
      ]
     },
     "metadata": {},
     "output_type": "display_data"
    },
    {
     "data": {
      "text/html": [
       "<ol class=list-inline>\n",
       "\t<li>'bike'</li>\n",
       "\t<li>'bus'</li>\n",
       "\t<li>'car'</li>\n",
       "\t<li>'walk'</li>\n",
       "</ol>\n"
      ],
      "text/latex": [
       "\\begin{enumerate*}\n",
       "\\item 'bike'\n",
       "\\item 'bus'\n",
       "\\item 'car'\n",
       "\\item 'walk'\n",
       "\\end{enumerate*}\n"
      ],
      "text/markdown": [
       "1. 'bike'\n",
       "2. 'bus'\n",
       "3. 'car'\n",
       "4. 'walk'\n",
       "\n",
       "\n"
      ],
      "text/plain": [
       "[1] \"bike\" \"bus\"  \"car\"  \"walk\""
      ]
     },
     "metadata": {},
     "output_type": "display_data"
    },
    {
     "data": {
      "text/html": [
       "<ol class=list-inline>\n",
       "\t<li>'bike'</li>\n",
       "\t<li>'car'</li>\n",
       "\t<li>'walk'</li>\n",
       "</ol>\n"
      ],
      "text/latex": [
       "\\begin{enumerate*}\n",
       "\\item 'bike'\n",
       "\\item 'car'\n",
       "\\item 'walk'\n",
       "\\end{enumerate*}\n"
      ],
      "text/markdown": [
       "1. 'bike'\n",
       "2. 'car'\n",
       "3. 'walk'\n",
       "\n",
       "\n"
      ],
      "text/plain": [
       "[1] \"bike\" \"car\"  \"walk\""
      ]
     },
     "metadata": {},
     "output_type": "display_data"
    }
   ],
   "source": [
    "getting_to_work <- data.frame(\n",
    "    mode=c(\n",
    "        \"bike\",\"car\",\"bus\",\"car\",\"walk\",\"bike\",\"car\",\"bike\",\"car\",\"car\"\n",
    "    ),\n",
    "    time_mins = c(25,13,NA,22,65,28,15,24,NA,14)\n",
    ")\n",
    "\n",
    "#去掉那些time_mins是NA的行\n",
    "(getting_to_work <- subset(getting_to_work, !is.na(time_mins)))\n",
    "\n",
    "unique(getting_to_work$mode)\n",
    "levels(getting_to_work$mode)\n",
    "\n",
    "getting_to_work$mode <- droplevels(getting_to_work$mode)\n",
    "levels(getting_to_work$mode)"
   ]
  },
  {
   "cell_type": "markdown",
   "metadata": {},
   "source": [
    "#### 有序因子\n",
    "\n",
    "- 使用ordered函数\n",
    "- 或通过给factor传入order=TRUE参数"
   ]
  },
  {
   "cell_type": "code",
   "execution_count": 49,
   "metadata": {},
   "outputs": [
    {
     "data": {
      "text/html": [
       "<ol class=list-inline>\n",
       "\t<li>depressed</li>\n",
       "\t<li>cheery</li>\n",
       "\t<li>grumpy</li>\n",
       "\t<li>so-so</li>\n",
       "\t<li>grumpy</li>\n",
       "\t<li>so-so</li>\n",
       "</ol>\n"
      ],
      "text/latex": [
       "\\begin{enumerate*}\n",
       "\\item depressed\n",
       "\\item cheery\n",
       "\\item grumpy\n",
       "\\item so-so\n",
       "\\item grumpy\n",
       "\\item so-so\n",
       "\\end{enumerate*}\n"
      ],
      "text/markdown": [
       "1. depressed\n",
       "2. cheery\n",
       "3. grumpy\n",
       "4. so-so\n",
       "5. grumpy\n",
       "6. so-so\n",
       "\n",
       "\n"
      ],
      "text/plain": [
       "[1] depressed cheery    grumpy    so-so     grumpy    so-so    \n",
       "Levels: depressed grumpy so-so cheery ecstatic"
      ]
     },
     "metadata": {},
     "output_type": "display_data"
    },
    {
     "data": {
      "text/html": [
       "<ol class=list-inline>\n",
       "\t<li>depressed</li>\n",
       "\t<li>cheery</li>\n",
       "\t<li>grumpy</li>\n",
       "\t<li>so-so</li>\n",
       "\t<li>grumpy</li>\n",
       "\t<li>so-so</li>\n",
       "</ol>\n"
      ],
      "text/latex": [
       "\\begin{enumerate*}\n",
       "\\item depressed\n",
       "\\item cheery\n",
       "\\item grumpy\n",
       "\\item so-so\n",
       "\\item grumpy\n",
       "\\item so-so\n",
       "\\end{enumerate*}\n"
      ],
      "text/markdown": [
       "1. depressed\n",
       "2. cheery\n",
       "3. grumpy\n",
       "4. so-so\n",
       "5. grumpy\n",
       "6. so-so\n",
       "\n",
       "\n"
      ],
      "text/plain": [
       "[1] depressed cheery    grumpy    so-so     grumpy    so-so    \n",
       "Levels: depressed < grumpy < so-so < cheery < ecstatic"
      ]
     },
     "metadata": {},
     "output_type": "display_data"
    }
   ],
   "source": [
    "happy_choices <- c(\"depressed\", \"grumpy\", \"so-so\", \"cheery\", \"ecstatic\")\n",
    "happy_values <- sample(happy_choices, 10000, replace=TRUE)\n",
    "happy_fac <- factor(happy_values, happy_choices)\n",
    "head(happy_fac)\n",
    "\n",
    "happy_ord <- ordered(happy_values, happy_choices)\n",
    "head(happy_ord)"
   ]
  },
  {
   "cell_type": "markdown",
   "metadata": {},
   "source": [
    "#### 将连续变量转换为类别\n",
    "\n",
    "- cut函数能将数值变量切成不同的块，然后返回一个因子"
   ]
  },
  {
   "cell_type": "code",
   "execution_count": 52,
   "metadata": {},
   "outputs": [
    {
     "data": {
      "text/plain": [
       "grouped_ages\n",
       "(16,26] (26,36] (36,46] (46,56] (56,66] \n",
       "   3167    3262    2175     686      15 "
      ]
     },
     "metadata": {},
     "output_type": "display_data"
    }
   ],
   "source": [
    "ages <- 10 + 50 * rbeta(10000,2,3)\n",
    "grouped_ages <- cut(ages, seq.int(16,66,10))\n",
    "table(grouped_ages)"
   ]
  },
  {
   "cell_type": "markdown",
   "metadata": {},
   "source": [
    "#### 生成因子水平\n",
    "\n",
    "-gl函数生成因子"
   ]
  },
  {
   "cell_type": "code",
   "execution_count": 53,
   "metadata": {},
   "outputs": [
    {
     "data": {
      "text/html": [
       "<ol class=list-inline>\n",
       "\t<li>placebo</li>\n",
       "\t<li>placebo</li>\n",
       "\t<li>drug A</li>\n",
       "\t<li>drug A</li>\n",
       "\t<li>drug B</li>\n",
       "\t<li>drug B</li>\n",
       "</ol>\n"
      ],
      "text/latex": [
       "\\begin{enumerate*}\n",
       "\\item placebo\n",
       "\\item placebo\n",
       "\\item drug A\n",
       "\\item drug A\n",
       "\\item drug B\n",
       "\\item drug B\n",
       "\\end{enumerate*}\n"
      ],
      "text/markdown": [
       "1. placebo\n",
       "2. placebo\n",
       "3. drug A\n",
       "4. drug A\n",
       "5. drug B\n",
       "6. drug B\n",
       "\n",
       "\n"
      ],
      "text/plain": [
       "[1] placebo placebo drug A  drug A  drug B  drug B \n",
       "Levels: placebo drug A drug B"
      ]
     },
     "metadata": {},
     "output_type": "display_data"
    }
   ],
   "source": [
    "gl(3,2,labels=c(\"placebo\", \"drug A\", \"drug B\"))"
   ]
  },
  {
   "cell_type": "markdown",
   "metadata": {},
   "source": [
    "#### 合并因子\n",
    "\n",
    "- interaction函数"
   ]
  }
 ],
 "metadata": {
  "kernelspec": {
   "display_name": "R",
   "language": "R",
   "name": "ir"
  },
  "language_info": {
   "codemirror_mode": "r",
   "file_extension": ".r",
   "mimetype": "text/x-r-source",
   "name": "R",
   "pygments_lexer": "r",
   "version": "3.4.2"
  }
 },
 "nbformat": 4,
 "nbformat_minor": 2
}
