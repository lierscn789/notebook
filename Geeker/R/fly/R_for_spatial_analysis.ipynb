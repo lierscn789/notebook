{
  "cells": [
    {
      "cell_type": "markdown",
      "source": [
        "## R空间统计与计量\n",
        "---"
      ],
      "metadata": {}
    },
    {
      "cell_type": "code",
      "source": [
        "library('spdep')\n",
        "library('maptools')\n",
        "library(\"tidyverse\")"
      ],
      "outputs": [
        {
          "output_type": "stream",
          "name": "stderr",
          "text": [
            "Registered S3 methods overwritten by 'ggplot2':\n",
            "  method         from \n",
            "  [.quosures     rlang\n",
            "  c.quosures     rlang\n",
            "  print.quosures rlang\n",
            "-- \u001b[1mAttaching packages\u001b[22m --------------------------------------- tidyverse 1.2.1 --\n",
            "\u001b[32m√\u001b[39m \u001b[34mggplot2\u001b[39m 3.1.1     \u001b[32m√\u001b[39m \u001b[34mpurrr  \u001b[39m 0.3.2\n",
            "\u001b[32m√\u001b[39m \u001b[34mtibble \u001b[39m 2.1.2     \u001b[32m√\u001b[39m \u001b[34mdplyr  \u001b[39m 0.8.1\n",
            "\u001b[32m√\u001b[39m \u001b[34mtidyr  \u001b[39m 0.8.3     \u001b[32m√\u001b[39m \u001b[34mstringr\u001b[39m 1.4.0\n",
            "\u001b[32m√\u001b[39m \u001b[34mreadr  \u001b[39m 1.3.1     \u001b[32m√\u001b[39m \u001b[34mforcats\u001b[39m 0.4.0\n",
            "-- \u001b[1mConflicts\u001b[22m ------------------------------------------ tidyverse_conflicts() --\n",
            "\u001b[31mx\u001b[39m \u001b[34mdplyr\u001b[39m::\u001b[32mfilter()\u001b[39m masks \u001b[34mstats\u001b[39m::filter()\n",
            "\u001b[31mx\u001b[39m \u001b[34mdplyr\u001b[39m::\u001b[32mlag()\u001b[39m    masks \u001b[34mstats\u001b[39m::lag()\n"
          ]
        }
      ],
      "execution_count": 9,
      "metadata": {}
    },
    {
      "cell_type": "code",
      "source": [
        "china_map <- readShapePoly('d:/down/map/province_2004', IDvar='AD2004')\n",
        "\n",
        "not_20000 <- !row.names(china_map) == '20000'\n",
        "china_map <- china_map[not_20000,]\n",
        "not_910000 <- !row.names(china_map) == '910000'\n",
        "china_map <- china_map[not_910000,]\n",
        "not_920000 <- !row.names(china_map) == '920000'\n",
        "china_map <- china_map[not_920000,]\n",
        "not_710000 <- !row.names(china_map) == '710000'\n",
        "china_map <- china_map[not_710000,]\n",
        "not_810000 <- !row.names(china_map) == '810000'\n",
        "china_map <- china_map[not_810000,]\n",
        "not_820000 <- !row.names(china_map) == '820000'\n",
        "china_map <- china_map[not_820000,]"
      ],
      "outputs": [
        {
          "output_type": "stream",
          "name": "stderr",
          "text": [
            "Warning message:\n",
            "\"readShapePoly is deprecated; use rgdal::readOGR or sf::st_read\""
          ]
        }
      ],
      "execution_count": 6,
      "metadata": {}
    },
    {
      "cell_type": "code",
      "source": [
        "china_prov <- tibble(id=1:31, acode=as.character(china_map$AD2004), region=as.character(china_map$NAME2004))\n",
        "china_nb <- poly2nb(china_map, queen=TRUE)\n",
        "W <- nb2listw(china_nb, zero.policy=TRUE, style='B')\n",
        "china_prov"
      ],
      "outputs": [
        {
          "output_type": "display_data",
          "data": {
            "text/html": [
              "<table>\n",
              "<caption>A tibble: 31 × 3</caption>\n",
              "<thead>\n",
              "\t<tr><th scope=col>id</th><th scope=col>acode</th><th scope=col>region</th></tr>\n",
              "\t<tr><th scope=col>&lt;int&gt;</th><th scope=col>&lt;chr&gt;</th><th scope=col>&lt;chr&gt;</th></tr>\n",
              "</thead>\n",
              "<tbody>\n",
              "\t<tr><td> 1</td><td>110000</td><td>北京市          </td></tr>\n",
              "\t<tr><td> 2</td><td>120000</td><td>天津市          </td></tr>\n",
              "\t<tr><td> 3</td><td>130000</td><td>河北省          </td></tr>\n",
              "\t<tr><td> 4</td><td>140000</td><td>山西省          </td></tr>\n",
              "\t<tr><td> 5</td><td>150000</td><td>内蒙古自治区    </td></tr>\n",
              "\t<tr><td> 6</td><td>210000</td><td>辽宁省          </td></tr>\n",
              "\t<tr><td> 7</td><td>220000</td><td>吉林省          </td></tr>\n",
              "\t<tr><td> 8</td><td>230000</td><td>黑龙江省        </td></tr>\n",
              "\t<tr><td> 9</td><td>310000</td><td>上海市          </td></tr>\n",
              "\t<tr><td>10</td><td>320000</td><td>江苏省          </td></tr>\n",
              "\t<tr><td>11</td><td>330000</td><td>浙江省          </td></tr>\n",
              "\t<tr><td>12</td><td>340000</td><td>安徽省          </td></tr>\n",
              "\t<tr><td>13</td><td>350000</td><td>福建省          </td></tr>\n",
              "\t<tr><td>14</td><td>360000</td><td>江西省          </td></tr>\n",
              "\t<tr><td>15</td><td>370000</td><td>山东省          </td></tr>\n",
              "\t<tr><td>16</td><td>410000</td><td>河南省          </td></tr>\n",
              "\t<tr><td>17</td><td>420000</td><td>湖北省          </td></tr>\n",
              "\t<tr><td>18</td><td>430000</td><td>湖南省          </td></tr>\n",
              "\t<tr><td>19</td><td>440000</td><td>广东省          </td></tr>\n",
              "\t<tr><td>20</td><td>450000</td><td>广西壮族自治区  </td></tr>\n",
              "\t<tr><td>21</td><td>460000</td><td>海南省          </td></tr>\n",
              "\t<tr><td>22</td><td>500000</td><td>重庆市          </td></tr>\n",
              "\t<tr><td>23</td><td>510000</td><td>四川省          </td></tr>\n",
              "\t<tr><td>24</td><td>520000</td><td>贵州省          </td></tr>\n",
              "\t<tr><td>25</td><td>530000</td><td>云南省          </td></tr>\n",
              "\t<tr><td>26</td><td>540000</td><td>西藏自治区      </td></tr>\n",
              "\t<tr><td>27</td><td>610000</td><td>陕西省          </td></tr>\n",
              "\t<tr><td>28</td><td>620000</td><td>甘肃省          </td></tr>\n",
              "\t<tr><td>29</td><td>630000</td><td>青海省          </td></tr>\n",
              "\t<tr><td>30</td><td>640000</td><td>宁夏回族自治区  </td></tr>\n",
              "\t<tr><td>31</td><td>650000</td><td>新疆维吾尔自治区</td></tr>\n",
              "</tbody>\n",
              "</table>\n"
            ],
            "text/latex": [
              "A tibble: 31 × 3\n",
              "\\begin{tabular}{r|lll}\n",
              " id & acode & region\\\\\n",
              " <int> & <chr> & <chr>\\\\\n",
              "\\hline\n",
              "\t  1 & 110000 & 北京市          \\\\\n",
              "\t  2 & 120000 & 天津市          \\\\\n",
              "\t  3 & 130000 & 河北省          \\\\\n",
              "\t  4 & 140000 & 山西省          \\\\\n",
              "\t  5 & 150000 & 内蒙古自治区    \\\\\n",
              "\t  6 & 210000 & 辽宁省          \\\\\n",
              "\t  7 & 220000 & 吉林省          \\\\\n",
              "\t  8 & 230000 & 黑龙江省        \\\\\n",
              "\t  9 & 310000 & 上海市          \\\\\n",
              "\t 10 & 320000 & 江苏省          \\\\\n",
              "\t 11 & 330000 & 浙江省          \\\\\n",
              "\t 12 & 340000 & 安徽省          \\\\\n",
              "\t 13 & 350000 & 福建省          \\\\\n",
              "\t 14 & 360000 & 江西省          \\\\\n",
              "\t 15 & 370000 & 山东省          \\\\\n",
              "\t 16 & 410000 & 河南省          \\\\\n",
              "\t 17 & 420000 & 湖北省          \\\\\n",
              "\t 18 & 430000 & 湖南省          \\\\\n",
              "\t 19 & 440000 & 广东省          \\\\\n",
              "\t 20 & 450000 & 广西壮族自治区  \\\\\n",
              "\t 21 & 460000 & 海南省          \\\\\n",
              "\t 22 & 500000 & 重庆市          \\\\\n",
              "\t 23 & 510000 & 四川省          \\\\\n",
              "\t 24 & 520000 & 贵州省          \\\\\n",
              "\t 25 & 530000 & 云南省          \\\\\n",
              "\t 26 & 540000 & 西藏自治区      \\\\\n",
              "\t 27 & 610000 & 陕西省          \\\\\n",
              "\t 28 & 620000 & 甘肃省          \\\\\n",
              "\t 29 & 630000 & 青海省          \\\\\n",
              "\t 30 & 640000 & 宁夏回族自治区  \\\\\n",
              "\t 31 & 650000 & 新疆维吾尔自治区\\\\\n",
              "\\end{tabular}\n"
            ],
            "text/markdown": [
              "\n",
              "A tibble: 31 × 3\n",
              "\n",
              "| id &lt;int&gt; | acode &lt;chr&gt; | region &lt;chr&gt; |\n",
              "|---|---|---|\n",
              "|  1 | 110000 | 北京市           |\n",
              "|  2 | 120000 | 天津市           |\n",
              "|  3 | 130000 | 河北省           |\n",
              "|  4 | 140000 | 山西省           |\n",
              "|  5 | 150000 | 内蒙古自治区     |\n",
              "|  6 | 210000 | 辽宁省           |\n",
              "|  7 | 220000 | 吉林省           |\n",
              "|  8 | 230000 | 黑龙江省         |\n",
              "|  9 | 310000 | 上海市           |\n",
              "| 10 | 320000 | 江苏省           |\n",
              "| 11 | 330000 | 浙江省           |\n",
              "| 12 | 340000 | 安徽省           |\n",
              "| 13 | 350000 | 福建省           |\n",
              "| 14 | 360000 | 江西省           |\n",
              "| 15 | 370000 | 山东省           |\n",
              "| 16 | 410000 | 河南省           |\n",
              "| 17 | 420000 | 湖北省           |\n",
              "| 18 | 430000 | 湖南省           |\n",
              "| 19 | 440000 | 广东省           |\n",
              "| 20 | 450000 | 广西壮族自治区   |\n",
              "| 21 | 460000 | 海南省           |\n",
              "| 22 | 500000 | 重庆市           |\n",
              "| 23 | 510000 | 四川省           |\n",
              "| 24 | 520000 | 贵州省           |\n",
              "| 25 | 530000 | 云南省           |\n",
              "| 26 | 540000 | 西藏自治区       |\n",
              "| 27 | 610000 | 陕西省           |\n",
              "| 28 | 620000 | 甘肃省           |\n",
              "| 29 | 630000 | 青海省           |\n",
              "| 30 | 640000 | 宁夏回族自治区   |\n",
              "| 31 | 650000 | 新疆维吾尔自治区 |\n",
              "\n"
            ],
            "text/plain": [
              "   id acode  region          \n",
              "1   1 110000 北京市          \n",
              "2   2 120000 天津市          \n",
              "3   3 130000 河北省          \n",
              "4   4 140000 山西省          \n",
              "5   5 150000 内蒙古自治区    \n",
              "6   6 210000 辽宁省          \n",
              "7   7 220000 吉林省          \n",
              "8   8 230000 黑龙江省        \n",
              "9   9 310000 上海市          \n",
              "10 10 320000 江苏省          \n",
              "11 11 330000 浙江省          \n",
              "12 12 340000 安徽省          \n",
              "13 13 350000 福建省          \n",
              "14 14 360000 江西省          \n",
              "15 15 370000 山东省          \n",
              "16 16 410000 河南省          \n",
              "17 17 420000 湖北省          \n",
              "18 18 430000 湖南省          \n",
              "19 19 440000 广东省          \n",
              "20 20 450000 广西壮族自治区  \n",
              "21 21 460000 海南省          \n",
              "22 22 500000 重庆市          \n",
              "23 23 510000 四川省          \n",
              "24 24 520000 贵州省          \n",
              "25 25 530000 云南省          \n",
              "26 26 540000 西藏自治区      \n",
              "27 27 610000 陕西省          \n",
              "28 28 620000 甘肃省          \n",
              "29 29 630000 青海省          \n",
              "30 30 640000 宁夏回族自治区  \n",
              "31 31 650000 新疆维吾尔自治区"
            ]
          },
          "metadata": {}
        }
      ],
      "execution_count": 14,
      "metadata": {}
    }
  ],
  "metadata": {
    "kernelspec": {
      "name": "ir",
      "language": "R",
      "display_name": "R"
    },
    "language_info": {
      "name": "R",
      "codemirror_mode": "r",
      "pygments_lexer": "r",
      "mimetype": "text/x-r-source",
      "file_extension": ".r",
      "version": "3.6.1"
    },
    "kernel_info": {
      "name": "ir"
    },
    "nteract": {
      "version": "0.15.0"
    }
  },
  "nbformat": 4,
  "nbformat_minor": 2
}