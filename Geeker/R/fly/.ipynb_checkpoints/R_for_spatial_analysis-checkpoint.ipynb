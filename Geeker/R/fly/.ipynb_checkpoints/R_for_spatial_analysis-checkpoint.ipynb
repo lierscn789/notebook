{
 "cells": [
  {
   "cell_type": "markdown",
   "metadata": {},
   "source": [
    "## R空间统计与计量\n",
    "---"
   ]
  },
  {
   "cell_type": "code",
   "execution_count": 9,
   "metadata": {},
   "outputs": [
    {
     "name": "stderr",
     "output_type": "stream",
     "text": [
      "Registered S3 methods overwritten by 'ggplot2':\n",
      "  method         from \n",
      "  [.quosures     rlang\n",
      "  c.quosures     rlang\n",
      "  print.quosures rlang\n",
      "-- \u001b[1mAttaching packages\u001b[22m --------------------------------------- tidyverse 1.2.1 --\n",
      "\u001b[32m√\u001b[39m \u001b[34mggplot2\u001b[39m 3.1.1     \u001b[32m√\u001b[39m \u001b[34mpurrr  \u001b[39m 0.3.2\n",
      "\u001b[32m√\u001b[39m \u001b[34mtibble \u001b[39m 2.1.2     \u001b[32m√\u001b[39m \u001b[34mdplyr  \u001b[39m 0.8.1\n",
      "\u001b[32m√\u001b[39m \u001b[34mtidyr  \u001b[39m 0.8.3     \u001b[32m√\u001b[39m \u001b[34mstringr\u001b[39m 1.4.0\n",
      "\u001b[32m√\u001b[39m \u001b[34mreadr  \u001b[39m 1.3.1     \u001b[32m√\u001b[39m \u001b[34mforcats\u001b[39m 0.4.0\n",
      "-- \u001b[1mConflicts\u001b[22m ------------------------------------------ tidyverse_conflicts() --\n",
      "\u001b[31mx\u001b[39m \u001b[34mdplyr\u001b[39m::\u001b[32mfilter()\u001b[39m masks \u001b[34mstats\u001b[39m::filter()\n",
      "\u001b[31mx\u001b[39m \u001b[34mdplyr\u001b[39m::\u001b[32mlag()\u001b[39m    masks \u001b[34mstats\u001b[39m::lag()\n"
     ]
    }
   ],
   "source": [
    "library('spdep')\n",
    "library('maptools')\n",
    "library(\"tidyverse\")"
   ]
  },
  {
   "cell_type": "code",
   "execution_count": 6,
   "metadata": {},
   "outputs": [
    {
     "name": "stderr",
     "output_type": "stream",
     "text": [
      "Warning message:\n",
      "\"readShapePoly is deprecated; use rgdal::readOGR or sf::st_read\""
     ]
    }
   ],
   "source": [
    "china_map <- readShapePoly('d:/down/map/province_2004', IDvar='AD2004')\n",
    "\n",
    "not_20000 <- !row.names(china_map) == '20000'\n",
    "china_map <- china_map[not_20000,]\n",
    "not_910000 <- !row.names(china_map) == '910000'\n",
    "china_map <- china_map[not_910000,]\n",
    "not_920000 <- !row.names(china_map) == '920000'\n",
    "china_map <- china_map[not_920000,]\n",
    "not_710000 <- !row.names(china_map) == '710000'\n",
    "china_map <- china_map[not_710000,]\n",
    "not_810000 <- !row.names(china_map) == '810000'\n",
    "china_map <- china_map[not_810000,]\n",
    "not_820000 <- !row.names(china_map) == '820000'\n",
    "china_map <- china_map[not_820000,]"
   ]
  },
  {
   "cell_type": "code",
   "execution_count": 13,
   "metadata": {},
   "outputs": [],
   "source": [
    "china_prov <- tibble(acode=as.character(china_map$AD2004), region=as.character(china_map$NAME2004))\n",
    "china_nb <- poly2nb(china_map, queen=TRUE)\n",
    "W <- nb2listw(china_nb, zero.policy=TRUE, style='B')"
   ]
  }
 ],
 "metadata": {
  "kernelspec": {
   "display_name": "R",
   "language": "R",
   "name": "ir"
  },
  "language_info": {
   "codemirror_mode": "r",
   "file_extension": ".r",
   "mimetype": "text/x-r-source",
   "name": "R",
   "pygments_lexer": "r",
   "version": "3.6.0"
  }
 },
 "nbformat": 4,
 "nbformat_minor": 2
}
