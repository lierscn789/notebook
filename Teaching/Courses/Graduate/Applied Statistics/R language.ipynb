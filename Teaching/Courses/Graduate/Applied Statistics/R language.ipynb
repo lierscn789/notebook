{
 "cells": [
  {
   "cell_type": "markdown",
   "metadata": {
    "Collapsed": "false"
   },
   "source": [
    "# R语言"
   ]
  },
  {
   "cell_type": "markdown",
   "metadata": {
    "Collapsed": "false"
   },
   "source": [
    "## R环境创建\n",
    "\n",
    "- 下载R软件包，点击[此处](https://www.r-project.org/)\n",
    "\n",
    "- 下载RStudio软件包，点击[此处](https://rstudio.com/)"
   ]
  },
  {
   "cell_type": "markdown",
   "metadata": {
    "Collapsed": "false"
   },
   "source": [
    "## 概率分布"
   ]
  },
  {
   "cell_type": "markdown",
   "metadata": {
    "Collapsed": "false"
   },
   "source": [
    "### 二项式分布\n",
    "\n",
    "- 查看文档命令 - help(dbinom)\n",
    "\n",
    "案例：掷双骰24次至少掷得一对6点的概率为多少？\n",
    "\n",
    "A：\n",
    "\n",
    "$P=P(Y>0)$\n",
    "$=1-P(Y=0)$\n",
    "$=1-\\left(\\begin{array}{c}{24} \\\\ {0}\\end{array}\\right)\\left(\\frac{1}{36}\\right)^{0}\\left(\\frac{35}{36}\\right)^{24}$\n",
    "$=1-\\left(\\frac{35}{36}\\right)^{24}$\n",
    "$=0.491$"
   ]
  },
  {
   "cell_type": "code",
   "execution_count": 3,
   "metadata": {
    "Collapsed": "false"
   },
   "outputs": [
    {
     "name": "stdout",
     "output_type": "stream",
     "text": [
      "[1] 0.4914039\n"
     ]
    }
   ],
   "source": [
    "# 掷双骰24次至少掷得一对6点的概率\n",
    "p <- 1 - dbinom(x=0, size=24, prob=1/36)\n",
    "print(p)"
   ]
  },
  {
   "cell_type": "markdown",
   "metadata": {
    "Collapsed": "false"
   },
   "source": [
    "**习题**\n",
    "\n",
    "两家影院竞争1000人的顾客源，假设每名顾客对两家影院并无好恶之分，且各人的选择相互独立，令$N$记每家影院的座位数。请问，为了保证因影院客满致使顾客离开的概率小于$1\\%$，$N$应为多少？"
   ]
  },
  {
   "cell_type": "code",
   "execution_count": 11,
   "metadata": {
    "Collapsed": "false"
   },
   "outputs": [
    {
     "name": "stdout",
     "output_type": "stream",
     "text": [
      "[1] 537\n"
     ]
    }
   ],
   "source": [
    "# 二项式分布求值\n",
    "p <- qbinom(p=0.99, size=1000, prob=0.5)\n",
    "print(p)"
   ]
  },
  {
   "cell_type": "markdown",
   "metadata": {
    "Collapsed": "false"
   },
   "source": [
    "### 正态分布\n",
    "\n",
    "- 查看文档命令 - help(dbnorm)"
   ]
  },
  {
   "cell_type": "code",
   "execution_count": 14,
   "metadata": {
    "Collapsed": "false"
   },
   "outputs": [
    {
     "name": "stdout",
     "output_type": "stream",
     "text": [
      "[1] 536.7828\n",
      "[1] 537\n"
     ]
    }
   ],
   "source": [
    "p <- qnorm(p=0.99, mean=500, sd=sqrt(250))\n",
    "print(p)\n",
    "print(round(p))"
   ]
  },
  {
   "cell_type": "markdown",
   "metadata": {
    "Collapsed": "false"
   },
   "source": [
    "## 使用R进行多元统计分析"
   ]
  },
  {
   "cell_type": "markdown",
   "metadata": {
    "Collapsed": "false"
   },
   "source": [
    "### t检验\n",
    "\n",
    "#### 单样本"
   ]
  },
  {
   "cell_type": "code",
   "execution_count": 13,
   "metadata": {
    "Collapsed": "false"
   },
   "outputs": [
    {
     "name": "stdout",
     "output_type": "stream",
     "text": [
      "[1] \"t value: 0.875408313038532\"\n",
      "[1] \"p value: 0.406866176567346\"\n"
     ]
    }
   ],
   "source": [
    "# to calculate t and p value by hand\n",
    "x <- c(4.20, 5.03, 5.86, 6.45, 7.38, 7.54, 8.46, 8.47, 9.87)\n",
    "mu <- 6.50\n",
    "\n",
    "# to calculate t value\n",
    "tvalue <- (mean(x) - mu) / (sd(x)/sqrt(length(x)))\n",
    "pvalue <- 2 * (1 - pt(tvalue, length(x) - 1))\n",
    "print(paste0(\"t value: \", tvalue))\n",
    "print(paste0(\"p value: \", pvalue))"
   ]
  },
  {
   "cell_type": "code",
   "execution_count": 14,
   "metadata": {
    "Collapsed": "false"
   },
   "outputs": [
    {
     "data": {
      "text/plain": [
       "\n",
       "\tOne Sample t-test\n",
       "\n",
       "data:  x\n",
       "t = 0.87541, df = 8, p-value = 0.4069\n",
       "alternative hypothesis: true mean is not equal to 6.5\n",
       "95 percent confidence interval:\n",
       " 5.635688 8.422090\n",
       "sample estimates:\n",
       "mean of x \n",
       " 7.028889 \n"
      ]
     },
     "metadata": {},
     "output_type": "display_data"
    }
   ],
   "source": [
    "library(MASS)\n",
    "\n",
    "t.test(x, mu=6.50)"
   ]
  },
  {
   "cell_type": "markdown",
   "metadata": {
    "Collapsed": "false"
   },
   "source": [
    "#### 双样本"
   ]
  },
  {
   "cell_type": "code",
   "execution_count": 22,
   "metadata": {
    "Collapsed": "false"
   },
   "outputs": [
    {
     "name": "stdout",
     "output_type": "stream",
     "text": [
      "[1] 254.0056\n",
      "[1] \"t value: -3.0445501225468\"\n",
      "[1] \"p value: 0.00697485661385505\"\n"
     ]
    }
   ],
   "source": [
    "# to calculate t and p value by hand\n",
    "x1 <- c(22, 34, 52, 62, 30, 40, 64, 84, 56, 59)\n",
    "x2 <- c(52, 71, 76, 54, 67, 83, 66, 90, 77, 84)\n",
    "n1 <- length(x1)\n",
    "n2 <- length(x2)\n",
    "\n",
    "Sp_square <- ((n1 - 1) * var(x1) + (n2 - 1) * var(x2))/ (n1 + n2 - 2)\n",
    "\n",
    "tvalue <- (mean(x1) - mean(x2)) / sqrt(Sp_square * (1/n1 + 1/n2))\n",
    "pvalue <- 2 * pt(tvalue, n1 + n2 - 2)\n",
    "print(paste0(\"t value: \", tvalue))\n",
    "print(paste0(\"p value: \", pvalue))"
   ]
  },
  {
   "cell_type": "code",
   "execution_count": 27,
   "metadata": {
    "Collapsed": "false"
   },
   "outputs": [
    {
     "data": {
      "text/plain": [
       "\n",
       "\tTwo Sample t-test\n",
       "\n",
       "data:  x1 and x2\n",
       "t = -3.0446, df = 18, p-value = 0.006975\n",
       "alternative hypothesis: true difference in means is not equal to 0\n",
       "95 percent confidence interval:\n",
       " -36.6743  -6.7257\n",
       "sample estimates:\n",
       "mean of x mean of y \n",
       "     50.3      72.0 \n"
      ]
     },
     "metadata": {},
     "output_type": "display_data"
    }
   ],
   "source": [
    "t.test(x1, x2, var.equal = T)"
   ]
  },
  {
   "cell_type": "code",
   "execution_count": 36,
   "metadata": {
    "Collapsed": "false"
   },
   "outputs": [
    {
     "name": "stdout",
     "output_type": "stream",
     "text": [
      " [1] 22 34 52 62 30 40 64 84 56 59 52 71 76 54 67 83 66 90 77 84\n",
      " [1] 0 0 0 0 0 0 0 0 0 0 1 1 1 1 1 1 1 1 1 1\n"
     ]
    }
   ],
   "source": [
    "x <- c(x1, x2)\n",
    "group <- rep(0:1, c(n1, n2))\n",
    "print(x)\n",
    "print(group)"
   ]
  },
  {
   "cell_type": "code",
   "execution_count": 38,
   "metadata": {
    "Collapsed": "false"
   },
   "outputs": [
    {
     "data": {
      "text/plain": [
       "\n",
       "Call:\n",
       "lm(formula = x ~ group)\n",
       "\n",
       "Residuals:\n",
       "   Min     1Q Median     3Q    Max \n",
       "-28.30 -11.80   2.85  11.18  33.70 \n",
       "\n",
       "Coefficients:\n",
       "            Estimate Std. Error t value Pr(>|t|)    \n",
       "(Intercept)   50.300      5.040   9.980 9.21e-09 ***\n",
       "group         21.700      7.127   3.045  0.00697 ** \n",
       "---\n",
       "Signif. codes:  0 '***' 0.001 '**' 0.01 '*' 0.05 '.' 0.1 ' ' 1\n",
       "\n",
       "Residual standard error: 15.94 on 18 degrees of freedom\n",
       "Multiple R-squared:  0.3399,\tAdjusted R-squared:  0.3032 \n",
       "F-statistic: 9.269 on 1 and 18 DF,  p-value: 0.006975\n"
      ]
     },
     "metadata": {},
     "output_type": "display_data"
    }
   ],
   "source": [
    "lmobj <- lm(x ~ group)\n",
    "summary(lmobj)"
   ]
  },
  {
   "cell_type": "markdown",
   "metadata": {
    "Collapsed": "false"
   },
   "source": [
    "### 方差分析"
   ]
  },
  {
   "cell_type": "code",
   "execution_count": 51,
   "metadata": {
    "Collapsed": "false"
   },
   "outputs": [
    {
     "name": "stdout",
     "output_type": "stream",
     "text": [
      "[1] \"means:  19.52\" \"means:  24.26\" \"means:  22.84\" \"means:  21.16\"\n",
      "\u001b[90m# A tibble: 20 x 2\u001b[39m\n",
      "       x group\n",
      "   \u001b[3m\u001b[90m<dbl>\u001b[39m\u001b[23m \u001b[3m\u001b[90m<fct>\u001b[39m\u001b[23m\n",
      "\u001b[90m 1\u001b[39m  18.5 1    \n",
      "\u001b[90m 2\u001b[39m  24   1    \n",
      "\u001b[90m 3\u001b[39m  17.2 1    \n",
      "\u001b[90m 4\u001b[39m  19.9 1    \n",
      "\u001b[90m 5\u001b[39m  18   1    \n",
      "\u001b[90m 6\u001b[39m  26.3 2    \n",
      "\u001b[90m 7\u001b[39m  25.3 2    \n",
      "\u001b[90m 8\u001b[39m  24   2    \n",
      "\u001b[90m 9\u001b[39m  21.2 2    \n",
      "\u001b[90m10\u001b[39m  24.5 2    \n",
      "\u001b[90m11\u001b[39m  20.6 3    \n",
      "\u001b[90m12\u001b[39m  25.2 3    \n",
      "\u001b[90m13\u001b[39m  20.8 3    \n",
      "\u001b[90m14\u001b[39m  24.7 3    \n",
      "\u001b[90m15\u001b[39m  22.9 3    \n",
      "\u001b[90m16\u001b[39m  25.4 4    \n",
      "\u001b[90m17\u001b[39m  19.9 4    \n",
      "\u001b[90m18\u001b[39m  22.6 4    \n",
      "\u001b[90m19\u001b[39m  17.5 4    \n",
      "\u001b[90m20\u001b[39m  20.4 4    \n"
     ]
    }
   ],
   "source": [
    "library(tidyverse)\n",
    "\n",
    "x1 <- c(18.5, 24.0, 17.2, 19.9, 18.0)\n",
    "x2 <- c(26.3, 25.3, 24.0, 21.2, 24.5)\n",
    "x3 <- c(20.6, 25.2, 20.8, 24.7, 22.9)\n",
    "x4 <- c(25.4, 19.9, 22.6, 17.5, 20.4)\n",
    "print(paste(\"means: \", c(mean(x1), mean(x2), mean(x3), mean(x4))))\n",
    "\n",
    "data <- tibble(\n",
    "    x = c(x1, x2, x3, x4),\n",
    "    group = factor(rep(1:4, c(length(x1), length(x2), length(x3), length(x4))))\n",
    ")\n",
    "print(data)"
   ]
  },
  {
   "cell_type": "code",
   "execution_count": 52,
   "metadata": {
    "Collapsed": "false"
   },
   "outputs": [
    {
     "data": {
      "text/plain": [
       "            Df Sum Sq Mean Sq F value Pr(>F)  \n",
       "group        3  63.29  21.095   3.462 0.0414 *\n",
       "Residuals   16  97.50   6.094                 \n",
       "---\n",
       "Signif. codes:  0 '***' 0.001 '**' 0.01 '*' 0.05 '.' 0.1 ' ' 1"
      ]
     },
     "metadata": {},
     "output_type": "display_data"
    }
   ],
   "source": [
    "aov_object <- aov(x ~ group, data)\n",
    "summary(aov_object)"
   ]
  },
  {
   "cell_type": "markdown",
   "metadata": {
    "Collapsed": "false"
   },
   "source": [
    "使用回归得到同样的结果"
   ]
  },
  {
   "cell_type": "code",
   "execution_count": 53,
   "metadata": {
    "Collapsed": "false"
   },
   "outputs": [
    {
     "data": {
      "text/plain": [
       "\n",
       "Call:\n",
       "lm(formula = x ~ group, data = data)\n",
       "\n",
       "Residuals:\n",
       "   Min     1Q Median     3Q    Max \n",
       "-3.660 -1.650 -0.100  1.545  4.480 \n",
       "\n",
       "Coefficients:\n",
       "            Estimate Std. Error t value Pr(>|t|)    \n",
       "(Intercept)   19.520      1.104  17.681 6.34e-12 ***\n",
       "group2         4.740      1.561   3.036  0.00787 ** \n",
       "group3         3.320      1.561   2.126  0.04938 *  \n",
       "group4         1.640      1.561   1.050  0.30913    \n",
       "---\n",
       "Signif. codes:  0 '***' 0.001 '**' 0.01 '*' 0.05 '.' 0.1 ' ' 1\n",
       "\n",
       "Residual standard error: 2.469 on 16 degrees of freedom\n",
       "Multiple R-squared:  0.3936,\tAdjusted R-squared:  0.2799 \n",
       "F-statistic: 3.462 on 3 and 16 DF,  p-value: 0.04137\n"
      ]
     },
     "metadata": {},
     "output_type": "display_data"
    }
   ],
   "source": [
    "lm_obj <- lm(x ~ group, data)\n",
    "summary(lm_obj)"
   ]
  }
 ],
 "metadata": {
  "kernelspec": {
   "display_name": "R",
   "language": "R",
   "name": "ir"
  },
  "language_info": {
   "codemirror_mode": "r",
   "file_extension": ".r",
   "mimetype": "text/x-r-source",
   "name": "R",
   "pygments_lexer": "r",
   "version": "3.6.1"
  }
 },
 "nbformat": 4,
 "nbformat_minor": 4
}
