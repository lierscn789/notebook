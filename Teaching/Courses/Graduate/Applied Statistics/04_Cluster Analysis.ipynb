{
 "cells": [
  {
   "cell_type": "markdown",
   "metadata": {
    "Collapsed": "false"
   },
   "source": [
    "# 聚类分析"
   ]
  },
  {
   "cell_type": "markdown",
   "metadata": {
    "Collapsed": "false"
   },
   "source": [
    "## 简介\n",
    "\n",
    "聚类并没有规范性的定义。\n",
    "\n",
    "一个类\n",
    "\n",
    "- 由一些相似（similar）个体（对象）组成\n",
    "- 一个类中的个体（对象）是相似的，不同类的对象则不相似\n",
    "\n",
    "<img src=\"./pic/cluster01.png\" width = 40% height = 40% />\n",
    "\n",
    "**聚类分析**\n",
    "\n",
    "- 聚类分析是一种探索性数据分析方法，用于把多变量的数据集分类到“自然(natural)”的类（组）中\n",
    "\n",
    "- 聚类分析是一种多元数据挖掘技术，其目的是基于一组用户选定的特征来对个体（对象）分类（组）\n",
    "\n",
    "**聚类与分类**\n",
    "\n",
    "- 分类问题中类（组）的数量是已知的，其目的是将一个新的对象分派给这些类（组）之一\n",
    "\n",
    "- 聚类对组的数量或组的结构不做任何假定，分类是在相似性或距离的基础上进行的"
   ]
  },
  {
   "cell_type": "markdown",
   "metadata": {
    "Collapsed": "false"
   },
   "source": [
    "## 一个案例\n",
    "\n",
    "5个抽样个体的食物（$X_{1}$）和衣服（$X_{2}$）的日均消费数据如下表所列。\n",
    "\n",
    "$$\\begin{array}{|c|c|}\\hline \\text { Person } & {X_{1}} & {X_{2}} \\\\ \\hline a & {2} & {4} \\\\ {b} & {8} & {2} \\\\ {c} & {9} & {3} \\\\ {d} & {1} & {5} \\\\ {e} & {8.5} & {1} \\\\ \\hline\\end{array}$$\n",
    "\n",
    "<img src=\"./pic/cluster02.png\" width = 30% height = 30% />\n",
    "\n",
    "**问题**\n",
    "\n",
    "- 如何来衡量个体间的相似性？\n",
    "\n",
    "- 类如何形成？\n",
    "\n",
    "- 类的数量是多少？"
   ]
  },
  {
   "cell_type": "markdown",
   "metadata": {
    "Collapsed": "false"
   },
   "source": [
    "## 相似性度量\n",
    "\n",
    "### 连续变量的相似性度量\n",
    "\n",
    "**欧几里得距离**\n",
    "\n",
    "两个p维观测值$\\mathbf{x}^{\\prime}=\\left[x_{1}, x_{2}, \\dots, x_{p}\\right]$和$\\mathbf{y}^{\\prime}=\\left[y_{1}, y_{2}, \\dots, y_{p}\\right]$之间的欧式距离（直线距离）为\n",
    "\n",
    "$$\\begin{aligned} d(\\mathbf{x}, \\mathbf{y}) &=\\sqrt{\\left(x_{1}-y_{1}\\right)^{2}+\\left(x_{2}-y_{2}\\right)^{2}+\\cdots+\\left(x_{p}-y_{p}\\right)^{2}} \\\\ &=\\sqrt{(\\mathbf{x}-y)^{\\prime}(\\mathbf{x}-y)} \\end{aligned}$$\n",
    "\n",
    "<img src=\"./pic/cluster03.png\" width = 25% height = 25% />\n",
    "\n",
    "<br>\n",
    "\n",
    "**曼哈顿（城市街区）距离**\n",
    "\n",
    "$$d(\\mathbf{x}, \\mathbf{y})=\\sum_{i=1}^{p}\\left|x_{i}-y_{i}\\right|$$\n",
    "\n",
    "<img src=\"./pic/cluster04.png\" width = 20% height = 20% />\n",
    "\n",
    "<br>\n",
    "\n",
    "**切比雪夫距离**\n",
    "\n",
    "$$d(\\mathbf{x}, \\mathbf{y})=\\max _{i}\\left(\\left|x_{i}-y_{i}\\right|\\right)$$\n",
    "\n",
    "<img src=\"./pic/cluster06.png\" width = 20% height = 20% />\n",
    "\n",
    "<img src=\"./pic/cluster05.png\" width = 25% height = 25% />\n",
    "\n",
    "<br>\n",
    "\n",
    "**闵可夫斯基（Minkowski）度量**\n",
    "\n",
    "$$d(\\mathbf{x}, \\mathbf{y})=\\left[\\sum_{i=1}^{p}\\left|x_{i}-y_{i}\\right|^{m}\\right]^{1 / m}$$\n",
    "\n",
    "其中\n",
    "\n",
    "- $m=1$, $d(x,y)$衡量的是“城市街区”距离\n",
    "- $m=2$, $d(x,y)$就成了欧式距离\n",
    "- $m \\rightarrow \\infty$, $d(x,y)$是切比雪夫距离\n",
    "\n",
    "<br>\n",
    "\n",
    "**距离度量的性质**\n",
    "\n",
    "- 对称性\n",
    "\n",
    "$$d\\left(\\mathbf{X}_{\\mathbf{i}}, \\mathbf{X}_{\\mathbf{j}}\\right)=d\\left(\\mathbf{X}_{\\mathbf{j}}, \\mathbf{X}_{\\mathbf{i}}\\right)$$\n",
    "\n",
    "- 非负性\n",
    "\n",
    "$$d\\left(\\mathbf{X}_{\\mathbf{i}}, \\mathbf{X}_{\\mathbf{j}}\\right) \\geq 0 $$\n",
    "\n",
    "- 同一性\n",
    "\n",
    "$$d\\left(\\mathbf{X}_{\\mathbf{i}}, \\mathbf{X}_{\\mathbf{j}}\\right)=0 \\text { if } \\mathbf{X}_{\\mathbf{i}}=\\mathbf{x}_{\\mathbf{j}}$$\n",
    "\n",
    "- 三角不等式\n",
    "\n",
    "$$d\\left(\\mathbf{X}_{\\mathbf{i}}, \\mathbf{X}_{\\mathbf{k}}\\right) \\leq d\\left(\\mathbf{X}_{\\mathbf{i}}, \\mathbf{X}_{\\mathbf{j}}\\right)+d\\left(\\mathbf{X}_{\\mathbf{j}}, \\mathbf{X}_{\\mathbf{k}}\\right)$$"
   ]
  },
  {
   "cell_type": "markdown",
   "metadata": {
    "Collapsed": "false"
   },
   "source": [
    "### 类别变量的相似性度量\n",
    "\n",
    "例如对于下列个体，已知其婚姻状态（Marital Status）和性别（Gender），如何衡量个体间的相似性？\n",
    "\n",
    "$$\\begin{array}{ccc}{\\text { 个体 }} & {\\text { 婚姻状态 }} & {\\text { 性别 }} \\\\ \\hline a & {\\text { 未婚 }} & {\\text { 女性 }} \\\\ {b} & {\\text { 已婚 }} & {\\text { 男性 }} \\\\ {c} & {\\text { 其他 }} & {\\text { 男性 }} \\\\ {d} & {\\text { 未婚 }} & {\\text { 女性 }}\\end{array}$$\n",
    "\n",
    "我们可以使用如下距离计算方法\n",
    "\n",
    "$$D_{a}(i, j)=1-\\frac{\\text { Number of matches }}{\\text { Number of attributes }}$$\n",
    "\n",
    "考虑到$1-1$配对可能是比$0-0$更强的相似性指标，因此可以考虑不同的权重。\n",
    "\n",
    "<img src=\"./pic/cluster07.png\" width = 70% height = 70% />\n",
    "\n",
    "<img src=\"./pic/cluster08.png\" width = 70% height = 70% />\n",
    "\n",
    "**习题**\n",
    "\n",
    "计算相似性系数的值。假定五个人具有以下特征\n",
    "\n",
    "\\begin{array}{ccccccc}{\\text { 个体 }} & {\\text { 身高（英寸） }} & {\\text { 体重（磅） }} & {\\text { 眼球颜色 }} & {\\text { 头发颜色 }} & {\\text { 优势手 }} & {\\text { 性别 }} \\\\ \n",
    "             \\hline 1 & 68 & 140 & {\\text {绿}} & {\\text {金}} & {\\text {右}} & {\\text { 女 }} \n",
    "             \\\\ 2 & 73 & 185 & {\\text {棕}} & {\\text {黑}} & {\\text {右}} & {\\text { 男 }} \n",
    "             \\\\ 3 & 67 & 165 & {\\text {蓝}} & {\\text {金}} & {\\text {右}} & {\\text { 男 }} \n",
    "             \\\\ 4 & 64 & 120 & {\\text {棕}} & {\\text {黑}} & {\\text {右}} & {\\text { 女 }} \n",
    "             \\\\ 5 & 76 & 210 & {\\text {棕}} & {\\text {黑}} & {\\text {左}} & {\\text { 男 }} \n",
    "\\end{array}\n",
    "\n",
    "**思考**\n",
    "\n",
    "如何来衡量语言的相似性\n",
    "\n",
    "<img src=\"./pic/cluster09.png\" width = 95% height = 95% />\n",
    "\n",
    "<br>\n",
    "\n",
    "<img src=\"./pic/cluster10.png\" width = 80% height = 80% />"
   ]
  },
  {
   "cell_type": "markdown",
   "metadata": {
    "Collapsed": "false"
   },
   "source": [
    "## 分层聚类方法（系统聚类方法）\n",
    "\n",
    "聚类分层法从单个对象开始，开始时有多少个对象就有多少聚类，将那些最相似的对象首先分组，然后将组与组根据它们之间的相似性进行合并，最后随着相似性不断下降，所有的组渐渐融合为一个聚类。\n",
    "\n",
    "**类间距离（相异性）**\n",
    "\n",
    "- 単连结（最小距离或最近邻近点）\n",
    "\n",
    "<img src=\"./pic/cluster11.png\" width = 40% height = 40% />\n",
    "\n",
    "- 完全连接（最大距离或最远邻近点）\n",
    "\n",
    "<img src=\"./pic/cluster12.png\" width = 40% height = 40% />\n",
    "\n",
    "- 平均连接\n",
    "\n",
    "<img src=\"./pic/cluster13.png\" width = 60% height = 60% />\n",
    "\n",
    "**习题**\n",
    "\n",
    "考虑下了距离矩阵，请用単连结和完全连接法进行聚类分析。\n",
    "\n",
    "<img src=\"./pic/cluster14.png\" width = 60% height = 60% />"
   ]
  },
  {
   "cell_type": "markdown",
   "metadata": {
    "Collapsed": "false"
   },
   "source": [
    "## 非分层聚类方法\n",
    "\n",
    "### $K$均值法\n",
    "\n",
    "最简单形式的算法包括以下三个步骤\n",
    "\n",
    "1. 将所有项目分成$K$个初始聚类\n",
    "2. 将项目表中的某个项目划入中心（均值）离它最近的聚类，对得到项目和失去项目的两个聚类重新计算它们的中心位置\n",
    "3. 重复步骤2，直到所有的点都不能再分配时为止\n",
    "\n",
    "**习题**\n",
    "\n",
    "用$K$均值法聚类\n",
    "\n",
    "$$\n",
    "\\begin{array}{c|cc}{\\text { Item }} & {x_{1}} & {x_{2}} \\\\ \\hline \\mathrm{A} & {5} & {3} \\\\ {\\mathrm{B}} & {-1} & {1} \\\\ {\\mathrm{C}} & {1} & {-2} \\\\ {\\mathrm{D}} & {-3} & {-2}\\end{array}\n",
    "$$"
   ]
  },
  {
   "cell_type": "markdown",
   "metadata": {
    "Collapsed": "false"
   },
   "source": [
    "**作业**\n",
    "\n",
    "1. 对三种处理收集了两种响应的观测值，观测值向量$\\left[\\begin{array}{l}{x_{1}} \\\\ {x_{2}}\\end{array}\\right]$为\n",
    "\n",
    "处理1：$\n",
    "\\left[\\begin{array}{c}{6} \\\\ {7}\\end{array}\\right] \\cdot\\left[\\begin{array}{c}{5} \\\\ {9}\\end{array}\\right],\\left[\\begin{array}{c}{8} \\\\ {6}\\end{array}\\right],\\left[\\begin{array}{c}{4} \\\\ {9}\\end{array}\\right],\\left[\\begin{array}{c}{7} \\\\ {9}\\end{array}\\right]\n",
    "$\n",
    "\n",
    "处理2：$\n",
    "\\left[\\begin{array}{l}{3} \\\\ {3}\\end{array}\\right],\\left[\\begin{array}{l}{1} \\\\ {6}\\end{array}\\right],\\left[\\begin{array}{l}{2} \\\\ {3}\\end{array}\\right]\n",
    "$\n",
    "\n",
    "处理3：$\n",
    "\\left[\\begin{array}{l}{2} \\\\ {3}\\end{array}\\right],\\left[\\begin{array}{l}{5} \\\\ {1}\\end{array}\\right],\\left[\\begin{array}{l}{3} \\\\ {1}\\end{array}\\right],\\left[\\begin{array}{l}{2} \\\\ {3}\\end{array}\\right]\n",
    "$\n",
    "\n",
    "构建单因子MANOVA表，并计算威尔克斯$\\lambda$统计量的值\n",
    "\n",
    "<br>\n",
    "\n",
    "2. 基于単连结和完全连接进行系统聚类分析。假定五个人具有以下特征\n",
    "\n",
    "\\begin{array}{ccccccc}{\\text { 个体 }} & {\\text { 身高（英寸） }} & {\\text { 体重（磅） }} & {\\text { 眼球颜色 }} & {\\text { 头发颜色 }} & {\\text { 优势手 }} & {\\text { 性别 }} \\\\ \n",
    "             \\hline 1 & 68 & 140 & {\\text {绿}} & {\\text {金}} & {\\text {右}} & {\\text { 女 }} \n",
    "             \\\\ 2 & 73 & 185 & {\\text {棕}} & {\\text {黑}} & {\\text {右}} & {\\text { 男 }} \n",
    "             \\\\ 3 & 67 & 165 & {\\text {蓝}} & {\\text {金}} & {\\text {右}} & {\\text { 男 }} \n",
    "             \\\\ 4 & 64 & 120 & {\\text {棕}} & {\\text {黑}} & {\\text {右}} & {\\text { 女 }} \n",
    "             \\\\ 5 & 76 & 210 & {\\text {棕}} & {\\text {黑}} & {\\text {左}} & {\\text { 男 }} \n",
    "\\end{array}\n",
    "\n",
    "3. 用$K$均值将下列四个项目分成$K=2$个聚类，从初始分组$(AB)$和$(CD)$开始\n",
    "\n",
    "<img src=\"./pic/cluster17.png\" width = 90% height = 90% />"
   ]
  }
 ],
 "metadata": {
  "kernel_info": {
   "name": "ir"
  },
  "kernelspec": {
   "display_name": "R",
   "language": "R",
   "name": "ir"
  },
  "language_info": {
   "codemirror_mode": "r",
   "file_extension": ".r",
   "mimetype": "text/x-r-source",
   "name": "R",
   "pygments_lexer": "r",
   "version": "3.6.1"
  },
  "nteract": {
   "version": "0.15.0"
  }
 },
 "nbformat": 4,
 "nbformat_minor": 4
}
