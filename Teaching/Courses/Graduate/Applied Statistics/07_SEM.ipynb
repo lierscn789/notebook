{
 "cells": [
  {
   "cell_type": "markdown",
   "metadata": {
    "Collapsed": "false"
   },
   "source": [
    "# 结构方程模型"
   ]
  },
  {
   "cell_type": "markdown",
   "metadata": {
    "Collapsed": "false"
   },
   "source": [
    "## 提要\n",
    "\n",
    "- 简介\n",
    "- 模型的结构和设定\n",
    "- 模型估计"
   ]
  },
  {
   "cell_type": "markdown",
   "metadata": {
    "Collapsed": "false"
   },
   "source": [
    "## 简介\n",
    "\n",
    "近年来，结构方程模型（structural equation modeling，SEM）作为统计分析的一般框架，被广泛地应用于社会科学的数据分析。**结构方程模型是基于变量的协方差矩阵来分析变量之间关系的一种统计方法，所以也称为协方差结构分析。**"
   ]
  },
  {
   "cell_type": "markdown",
   "metadata": {
    "Collapsed": "false"
   },
   "source": [
    "### 基本思想\n",
    "\n",
    "结构方程模型在估计一组观察变量（observed variables）与其代表的潜变量（latent variables）（或因子（factors））的关系的同时，分析各潜变量之间的关系。这样，潜变量之间的关系估计便不受测量误差（measurement errors）的影响。结构方程模型源于因子分析（factor analysis）和路径分析（path analysis）（或联立方程（simultaneous equations））。基于因子分析的测量模型（measurement model）与基于路径分析的结构模型（structural model）的整合，形成了一个数据分析的一般框架，叫做结构方程模型。"
   ]
  },
  {
   "cell_type": "markdown",
   "metadata": {
    "Collapsed": "false"
   },
   "source": [
    "### 基本特点\n",
    "\n",
    "- SEM具有理性先验性：SEM被视为一种验证性（confirmatory）而非探索性（exploratory）的统计方法\n",
    "\n",
    "- SEM同时处理测量与分析问题：主要的关键在于SEM将不可直接观察的概念，以潜变量的形式，利用观察变量的模型化分析加以估计\n",
    "\n",
    "- SEM以协方差的运用为核心：协方差有两种功能：其一是描述性的功能；其二是验证性的功能，用以反映出理论模型所导出的协方差与实际观测得到的协方差的差异\n",
    "\n",
    "- SEM适用于大样本的分析\n",
    "\n",
    "- SEM包含了许多不同的统计技术"
   ]
  },
  {
   "cell_type": "markdown",
   "metadata": {
    "Collapsed": "false"
   },
   "source": [
    "### 优势\n",
    "\n",
    "- SEM能同时处理多个因变量，而回归分析中，只能处理一个因变量\n",
    "\n",
    "- SEM容许自变量和因变量均包含测量误差，而回归分析只允许因变量存在测量误差，假定自变量没有误差\n",
    "\n",
    "- SEM同时估计因子结构和因子关系，因子间关系与因子的内部结构是可以互相影响\n",
    "\n",
    "- SEM容许更大弹性的测量模型，相比较而言，传统因子分析难以处理一个指标从属多个因子，或则考虑高阶因子等有比较复杂的从属关系的模型\n",
    "\n",
    "- SEM估计整个模型的拟合程度，相比较而言，传统的路径分析，只能估计每一条路径（变量间关系）的强弱"
   ]
  },
  {
   "cell_type": "markdown",
   "metadata": {
    "Collapsed": "false"
   },
   "source": [
    "### 步骤\n",
    "\n",
    "- 模型设定，根据理论研究或实践经验构建实证方程模型\n",
    "\n",
    "- 模型识别，识别设定模型的参数估计是否有唯一解\n",
    "\n",
    "- 模型估计，最常用的是最大似然估计法（MLE）\n",
    "\n",
    "- 模型评估，评估模型是否拟合数据\n",
    "\n",
    "- 模型修正，如果模型与数据拟合不好，则需要重新设定或修改模型"
   ]
  },
  {
   "cell_type": "markdown",
   "metadata": {
    "Collapsed": "false"
   },
   "source": [
    "## 模型的结构与设定"
   ]
  },
  {
   "cell_type": "markdown",
   "metadata": {
    "Collapsed": "false"
   },
   "source": [
    "### 基本概念\n",
    "\n",
    "**潜变量**\n",
    "\n",
    "从统计的角度，潜变量（latent variables）是不能被直接观察，但可以由观察变量（observable variables）推断出来的变量，例如幸福感，道德感，生活质量等。\n",
    "\n",
    "**内生变量和外生变量**\n",
    "\n",
    "内生变量（endogenous variables）是指模型中，会受到其他变量影响的变量。而外生变量（exogenous variables）是指模型中不受任何其他变量影响，但会影响其他变量的变量。\n"
   ]
  },
  {
   "cell_type": "markdown",
   "metadata": {
    "Collapsed": "false"
   },
   "source": [
    "### 结构模型的设定\n",
    "\n",
    "模型设定最直接的方法是通过Wright（1934）提出的路径图（path diagram）来描述研究者感兴趣的模型。路径图是结构方程模型的基础，它可以清晰地表达研究人员对于变量间关系的方程，并可直接转换成建模所需要的方程。\n",
    "\n",
    "**路径图的标识规则**\n",
    "\n",
    "- 长方形：观测变量\n",
    "\n",
    "- 椭圆：潜变量（因子）\n",
    "\n",
    "- 线条：变量直接的关系用线条表示，如果两个变量之间没有线条相连，则表示两者间没有直接关系。单向箭头表示有方向性的关系（因果关系），双向箭头表示变量间的关联，即相互影响。\n",
    "\n",
    "<img src=\"./pic/SEM01.png\" width = 60% height = 60% />"
   ]
  },
  {
   "cell_type": "markdown",
   "metadata": {
    "Collapsed": "false"
   },
   "source": [
    "<img src=\"./pic/SEM02.png\" width = 50% height = 50% />"
   ]
  },
  {
   "cell_type": "markdown",
   "metadata": {
    "Collapsed": "false"
   },
   "source": [
    "**McDonald and Clelland (1984)**\n",
    "\n",
    "McDonald and Clelland (1984) who collected data on the sentiments toward unions of Southern non-union textile laborers (n = 173).\n",
    "\n",
    "The path model consisted of five observed variables; the independent variables are the number of years worked in the textile mill (actually log of years, denoted simply as years) and worker age (age); the dependent variables are deference to managers (deference), support for labor activism (support), and sentiment toward unions (sentiment).\n",
    "\n",
    "Researcher’s theoretical perspective\n",
    "\n",
    "- Age and years are correlated\n",
    "- Age has a direct effect on deference and support\n",
    "- Deference has a direct effect on support\n",
    "- Years, deference, and support have a direct effect on sentiment\n",
    "- Deference, support, and sentiment each have an error term"
   ]
  },
  {
   "cell_type": "markdown",
   "metadata": {
    "Collapsed": "false"
   },
   "source": [
    "<img src=\"./pic/SEM03.png\" width = 50% height = 50% />"
   ]
  },
  {
   "cell_type": "markdown",
   "metadata": {
    "Collapsed": "false"
   },
   "source": [
    "**讨论**\n",
    "\n",
    "- 上述模型中的回归方程是什么？\n",
    "\n",
    "$$\n",
    "\\begin{array}{l}{\\text { deference }=(1) \\text { age }+\\text { error } 1} \\\\ {\\text { support }=(2) \\text { age }+(3) \\text { deference }+\\text { error } 2} \\\\ {\\text { sentiment }=(4) \\text { years }+(5) \\text { support }+(6) \\text { deference }+\\text { error } 3}\\end{array}\n",
    "$$\n",
    "\n",
    "- 上述模型中的自由参数有多少？\n",
    "\n",
    "$$\n",
    "\\begin{array}{l}{6 \\text { path coefficients }} \\\\ {3 \\text { equation error variances (for } 3 \\text { dependent variables) }} \\\\ {1 \\text { correlation among the independent variables }} \\\\ {2 \\text { independent variable variances. }}\\end{array}\n",
    "$$\n",
    "\n",
    "- 上述模型中所有的自由参数是否可以估计？\n",
    "\n",
    "The number of distinct values in the sample variance–covariance matrix is computed by\n",
    "\n",
    "$$\n",
    "[p(p+1)] / 2=[5(5+1)] / 2=15\n",
    "$$\n",
    "\n",
    "The degrees of freedom (df) for a path model is the difference between the number of distinct values and the number of free parameters.\n",
    "\n",
    "$$\n",
    "df=15-12=3\n",
    "$$"
   ]
  },
  {
   "cell_type": "markdown",
   "metadata": {
    "Collapsed": "false"
   },
   "source": [
    "### 结构模型的组成\n",
    "\n",
    "一般结构方程模型的组成：\n",
    "\n",
    "- 测量模型（measurement model）\n",
    "- 结构模型（structural model）"
   ]
  },
  {
   "cell_type": "markdown",
   "metadata": {
    "Collapsed": "false"
   },
   "source": [
    "<img src=\"./pic/SEM04.png\" width = 50% height = 50% />\n",
    "\n",
    "- 潜变量与观测变量的关联强度由lambda（$\\lambda$）参数表示，又称为因子载荷，所构成的模型即为测量模型\n",
    "- 外生和内生潜变量直接的关系以gamma（$\\gamma$）参数反映，内生潜变量直接的关系由beta（$\\beta$）参数反映，由$\\gamma$和$\\beta$参数所连结构成的模型即是结构模型。\n",
    "- delta（$\\delta$）与epsilon（$\\epsilon$）分别表示外生观测变量与内生观测变量被潜变量解释不完全的测量残差。\n",
    "- zeta（$\\zeta$）是内生潜变量无法被完全解释的估计误差"
   ]
  },
  {
   "cell_type": "markdown",
   "metadata": {
    "Collapsed": "false"
   },
   "source": [
    "## 模型估计与修正"
   ]
  },
  {
   "cell_type": "markdown",
   "metadata": {
    "Collapsed": "false"
   },
   "source": [
    "### 案例：一个CFA模型\n",
    "\n",
    "<img src=\"./pic/SEM05.png\" width = 50% height = 50% />\n",
    "\n",
    "对于两个观测变量$V_{1}$和$V_{2}$，其数学方程式为\n",
    "\n",
    "$$\n",
    "\\begin{array}{l}{V_{1}=\\lambda_{1} F_{1}+E_{1}} \\\\ {V_{2}=\\lambda_{2} F_{1}+E_{2}}\\end{array}\n",
    "$$\n",
    "\n",
    "可以得到两个观测变量的协方差为\n",
    "\n",
    "$$\n",
    "\\begin{aligned} \\operatorname{Cov}\\left(V_{1}, V_{2}\\right) &=\\operatorname{Cov}\\left(\\lambda_{1} F_{1}+E_{1}, \\lambda_{2} F_{1}+E_{2}\\right) \\\\ &=\\lambda_{1} \\lambda_{2} \\operatorname{Cov}\\left(F_{1}, F_{1}\\right)+\\lambda_{1} \\operatorname{Cov}\\left(F_{1}, E_{2}\\right)+\\lambda_{2} \\operatorname{Cov}\\left(E_{1}, F_{1}\\right)+\\operatorname{Cov}\\left(E_{1}, E_{2}\\right) \\\\ &=\\lambda_{1} \\lambda_{2} \\operatorname{Cov}\\left(F_{1}, F_{1}\\right)=\\lambda_{1} \\lambda_{2} \\operatorname{Var}\\left(F_{1}, F_{1}\\right)=\\lambda_{1} \\lambda_{2} \\end{aligned}\n",
    "$$\n",
    "\n",
    "对于$V_{1}$和$V_{4}$，其协方差为\n",
    "\n",
    "$$\n",
    "\\begin{aligned} \\operatorname{Cov}\\left(V_{1}, V_{4}\\right) &=\\operatorname{Cov}\\left(\\lambda_{1} F_{1}+E_{1}, \\lambda_{4} F_{2}+E_{4}\\right) \\\\ &=\\lambda_{1} \\lambda_{4} \\operatorname{Cov}\\left(F_{1}, F_{2}\\right)+\\lambda_{1} \\operatorname{Cov}\\left(F_{1}, E_{4}\\right)+\\lambda_{4} \\operatorname{Cov}\\left(E_{1}, F_{2}\\right)+\\operatorname{Cov}\\left(E_{1}, E_{4}\\right) \\\\ &=\\lambda_{1} \\lambda_{4} \\operatorname{Cov}\\left(F_{1}, F_{2}\\right)=\\lambda_{1} \\lambda_{4} \\phi_{21} \\end{aligned}\n",
    "$$\n",
    "\n",
    "$V_{1}$的方差为\n",
    "\n",
    "$$\n",
    "\\begin{aligned} \\operatorname{Var}\\left(V_{1}\\right) &=\\operatorname{Cov}\\left(\\lambda_{1} F_{1}+E_{1}, \\lambda_{1} F_{1}+E_{1}\\right) \\\\ &=\\lambda_{1}^{2} \\operatorname{Cov}\\left(F_{1}, F_{1}\\right)+\\lambda_{1} \\operatorname{Cov}\\left(F_{1}, E_{1}\\right)+\\lambda_{1} \\operatorname{Cov}\\left(E_{1}, F_{1}\\right)+\\operatorname{Cov}\\left(E_{1}, E_{1}\\right) \\\\ &=\\lambda_{1}^{2} \\operatorname{Var}\\left(F_{1}\\right)+\\operatorname{Var}\\left(E_{1}\\right)=\\lambda_{1}^{2}+\\theta_{1} \\end{aligned}\n",
    "$$\n",
    "\n",
    "因此可以计算一个由参数所导出的方差协方差矩阵$\\Sigma$\n",
    "\n",
    "$$\n",
    "\\Sigma=\\left(\\begin{array}{ccccc}{\\lambda_{1}^{2}+\\theta_{1}} & {} & {} & {} & {} \\\\ {\\lambda_{1} \\lambda_{2}} & {\\lambda_{2}^{2}+\\theta_{2}} & {} & {} & {} \\\\ {\\lambda_{1} \\lambda_{3}} & {\\lambda_{2} \\lambda_{3}} & {\\lambda_{3}^{2}+\\theta_{3}} & {} & {} \\\\ {\\lambda_{1} \\lambda_{4} \\phi_{21}} & {\\lambda_{2} \\lambda_{4} \\phi_{21}} & {\\lambda_{3} \\lambda_{4} \\phi_{21}} & {\\lambda_{4}^{2}+\\theta_{4}} & {} \\\\ {\\lambda_{1} \\lambda_{5} \\phi_{21}} & {\\lambda_{2} \\lambda_{5} \\phi_{21}} & {\\lambda_{3} \\lambda_{5} \\phi_{21}} & {\\lambda_{4} \\lambda_{5}} & {\\lambda_{5}^{2}+\\theta_{5}} \\\\ {\\lambda_{1} \\lambda_{6} \\phi_{21}} & {\\lambda_{2} \\lambda_{6} \\phi_{21}} & {\\lambda_{3} \\lambda_{6} \\phi_{21}} & {\\lambda_{4} \\lambda_{6}} & {\\lambda_{5} \\lambda_{6}} & {\\lambda_{6}^{2}+\\theta_{6}}\\end{array}\\right)\n",
    "$$\n",
    "\n",
    "这个由参数导出的矩阵，称为导出矩阵（reproduced matrix）。有样本测量得到的$6$个观测变量，其方差协方差阵称为$S$矩阵。"
   ]
  },
  {
   "cell_type": "markdown",
   "metadata": {
    "Collapsed": "false"
   },
   "source": [
    "### 参数估计策略\n",
    "\n",
    "结构方程模型估计与多元回归不同，它不是极小化因变量拟合值与观察值之间的差异，而是极小化样本方差/协方差与模型估计的方差/协方差之间的差异。结构方程模型分析的基本假设是\n",
    "\n",
    "$$\\Sigma = \\Sigma(\\theta)$$\n",
    "\n",
    "其中$\\Sigma(\\theta)$为模型估计的方差/协方差矩阵。模型估计的目标是找到一组模型参数$\\theta$，并使$\\Sigma - \\Sigma(\\theta)$最小化。\n",
    "\n",
    "**MLE**\n",
    "\n",
    "MLE是SEM分析最常用的参数估计方法。\n",
    "\n",
    "因为$\\Sigma$和$\\Sigma(\\theta)$均未知，因此实际上是最小化$S-\\hat{\\Sigma}$。模型估计过程须应用一种特殊拟合函数以尽可能地减少$S-\\hat{\\Sigma}$的差异。最常见的是似然函数\n",
    "\n",
    "$$F_{ML}(\\hat{\\theta}) = ln|\\hat{\\Sigma}| - ln|S| + tr(S\\hat{\\Sigma}^{-1}) - \\rho$$\n",
    "\n",
    "$F_{ML}$是对该差异函数的测量，称为最小差异函数。如果一个模型与数据完全拟合，其最小差异函数为零。除了ML方法，还有常见的估计方法包括：无加权最小二乘法（ULS），广义最小二乘法（GLS）等。\n",
    "\n",
    "需要较大的样本，才能使得正态分布假定恰当。"
   ]
  },
  {
   "cell_type": "markdown",
   "metadata": {
    "Collapsed": "false"
   },
   "source": [
    "### 模型的评价\n",
    "\n",
    "结构方程模型分析的一个重要特征是在零假设$\\Sigma = \\Sigma(\\theta)$的基础上，对整体模型拟合进行检验。多种方法可用于评估$S$和$\\hat{\\Sigma}$之间的接近程度，因此有多种模型拟合指数。\n",
    "\n",
    "- 绝对拟合指数\n",
    "\n",
    "评价模型估计的方差/协方差矩阵与观察方差/协方差矩阵之间的差异程度，例如模型卡方统计，拟合优度指数（GFI）等\n",
    "\n",
    "- 相对拟合指数\n",
    "\n",
    "通过比较设定模型与基准模型（数据拟合最差的模型），检查模型拟合相对基准模型的改善比例，例如规范拟合指数（NFI）增值你和指数（IFI）等\n",
    "\n",
    "- 信息标准指数\n",
    "\n",
    "从理论信息的角度评价模型拟合状况，例如AIC和BIC等\n",
    "\n",
    "<br>\n",
    "\n",
    "**模型卡方值$\\chi^{2}$**\n",
    "\n",
    "模型卡方是最早用于结构方程模型的拟合指数，定义为：\n",
    "\n",
    "$$\\chi^{2} = F_{ML}(N-1)$$\n",
    "\n",
    "此处我们希望卡方检验呈非显著性，即卡方值越小，模型拟合数据越好。卡方检验的明显不足在于：其一，卡方值定义为$N-1$倍的拟合函数，因此对样本量高度敏感；其二，如果样本量不是足够大，拟合函数可能不服从$\\chi^{2}$分布；其三，$\\chi^{2}$对变量是否为多元正态分布非常敏感；其四，$\\chi^{2}$随模型中变量数量的增加而增加。"
   ]
  },
  {
   "cell_type": "markdown",
   "metadata": {
    "Collapsed": "false"
   },
   "source": [
    "### 模型设定探索\n",
    "\n",
    "初始模型中常有设定不当之处，因而需要寻找模型拟合不良的可能原因，确定导致模型设定错误的因素，然后修正模型并用同一数据进行检验。该过程称为“模型设定探索”。\n",
    "\n",
    "**修正指数**\n",
    "\n",
    "为了改善数据拟合不良的初始模型，常使用**修正指数（modification indices，MI）**作为诊断指标来帮助修改模型设定。修正指数与模型的固定参数联系在一起。一个固定参数的MI值相当于自由度$df=1$的模型卡方值，就是说，如果将模型中某个受限制的固定参数改为自由参数，则模型卡方值将减少，减少值相当于为该参数的MI计值。\n",
    "\n",
    "**模型残差**\n",
    "\n",
    "检查模型拟合质量的另一重要方法是**模型残差**构方程模型分析中的残差是残差矩阵$S-\\hat{\\Sigma}$中的元素。残差取决于观察变量的度量单位，因此常将残差标准化。一个较大的标准化残差表示某个具体的方差或协方差在$S$与$\\hat{\\Sigma}$间的差异较大。一般来说，如果一个标准化残差大于$2.58$，可以认为该标准化残差较大。\n",
    "\n",
    "**模型修正**\n",
    "\n",
    "必须强调，修正模型应是“数据驱动（data-driven）”和“理论驱动（theory-driven）”相结合。我们不能以改善模型拟合度为目的而单纯地增加或删除参数。虽然我们的目的是找到一个统计上对实际数据拟合良好的模型，但**重要的是模型的所有参数估计都要有实际意义**。"
   ]
  }
 ],
 "metadata": {
  "kernelspec": {
   "display_name": "R",
   "language": "R",
   "name": "ir"
  },
  "language_info": {
   "codemirror_mode": "r",
   "file_extension": ".r",
   "mimetype": "text/x-r-source",
   "name": "R",
   "pygments_lexer": "r",
   "version": "3.6.1"
  }
 },
 "nbformat": 4,
 "nbformat_minor": 4
}
