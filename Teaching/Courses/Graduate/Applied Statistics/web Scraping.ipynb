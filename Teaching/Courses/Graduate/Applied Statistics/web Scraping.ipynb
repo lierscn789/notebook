{
 "cells": [
  {
   "cell_type": "markdown",
   "metadata": {
    "Collapsed": "false"
   },
   "source": [
    "# Python网络爬虫初步"
   ]
  },
  {
   "cell_type": "markdown",
   "metadata": {
    "Collapsed": "false"
   },
   "source": [
    "## 基础知识和准备\n",
    "\n",
    "### 概念与基础知识\n",
    "\n",
    "#### 超文本传输协议（HTTP）\n",
    "\n",
    "超文本传输协议（HTTP）是一个用于传输超媒体文档（例如 HTML）的应用层协议。它是为 Web 浏览器与 Web 服务器之间的通信而设计的，但也可以用于其他目的。\n",
    "\n",
    "HTTP 遵循经典的客户端-服务端模型，客户端打开一个连接以发出请求，然后等待它收到服务器端响应。HTTP 是无状态协议，这意味着服务器不会在两个请求之间保留任何数据（状态）。\n",
    "\n",
    "**HTTP首部（HTTP Header）**\n",
    "\n",
    "HTTP消息首部被用来描述资源信息，或是客户端和服务器的行为。\n",
    "\n",
    "**HTTP请求方法**\n",
    "\n",
    "可以使GET，POST方法来完成不同操作，同时也有一些其他的方法，如 OPTIONS，DELETE 和 TRACE。\n",
    "\n",
    "**HTTP状态返回码**\n",
    "\n",
    "HTTP响应状态代码指示特定HTTP请求是否已成功完成。例如200表示请求成功。\n",
    "\n",
    "<br>\n",
    "\n",
    "### Python相关库\n",
    "\n",
    "#### [Requests库](https://requests.kennethreitz.org/en/master/)\n",
    "\n",
    "Requests是一个优雅且简洁的HTTP库。\n",
    "\n",
    "安装使用如下命令\n",
    "\n",
    "```python\n",
    "pip install requests\n",
    "```\n",
    "\n",
    "<br>\n",
    "\n",
    "#### [Beautiful Soup](https://www.crummy.com/software/BeautifulSoup/bs4/doc/index.html)\n",
    "\n",
    "Beautiful Soup是用来从HTML或XML文件中提取数据的Python库。\n",
    "\n",
    "安装使用如下命令\n",
    "\n",
    "```python\n",
    "pip install beautifulsoup4\n",
    "```\n",
    "\n",
    "Beautiful Soup支持Python标准库中的HTML解析器，还支持一些第三方的解析器，其中最常用的是lxml。安装lxml解析器，使用如下命令\n",
    "\n",
    "```python\n",
    "pip install lxml\n",
    "```"
   ]
  },
  {
   "cell_type": "markdown",
   "metadata": {
    "Collapsed": "false"
   },
   "source": [
    "## 编写网络爬虫"
   ]
  },
  {
   "cell_type": "markdown",
   "metadata": {
    "Collapsed": "false"
   },
   "source": [
    "### 爬取第一个网页\n",
    "\n",
    "- 使用requests库的get()函数"
   ]
  },
  {
   "cell_type": "code",
   "execution_count": 119,
   "metadata": {
    "Collapsed": "false"
   },
   "outputs": [],
   "source": [
    "import requests\n",
    "\n",
    "r = requests.get('http://www.baidu.com')"
   ]
  },
  {
   "cell_type": "markdown",
   "metadata": {
    "Collapsed": "false"
   },
   "source": [
    "使用状态码查看是否爬取成功，如果返回200，就表示成功。"
   ]
  },
  {
   "cell_type": "code",
   "execution_count": 120,
   "metadata": {
    "Collapsed": "false"
   },
   "outputs": [
    {
     "data": {
      "text/plain": [
       "200"
      ]
     },
     "execution_count": 120,
     "metadata": {},
     "output_type": "execute_result"
    }
   ],
   "source": [
    "r.status_code"
   ]
  },
  {
   "cell_type": "markdown",
   "metadata": {
    "Collapsed": "false"
   },
   "source": [
    "查看爬取的内容，使用text属性。\n",
    "\n",
    "> 对于中文网页，如果是乱码，可以查看字符编码方式，并对此进行重新设置。"
   ]
  },
  {
   "cell_type": "code",
   "execution_count": 124,
   "metadata": {
    "Collapsed": "false"
   },
   "outputs": [
    {
     "data": {
      "text/plain": [
       "'<!DOCTYPE html>\\r\\n<!--STATUS OK--><html> <head><meta http-equiv=content-type content=text/html;charset=utf-8><meta http-equiv=X-UA-Compatible content=IE=Edge><meta content=always name=referrer><link rel=stylesheet type=text/css href=http://s1.bdstatic.com/r/www/cache/bdorz/baidu.min.css><title>百度一下，你就知道</title></head> <body link=#0000cc> <div id=wrapper> <div id=head> <div class=head_wrapper> <div class=s_form> <div class=s_form_wrapper> <div id=lg> <img hidefocus=true src=//www.baidu.com/img/bd_logo1.png width=270 height=129> </div> <form id=form name=f action=//www.baidu.com/s class=fm> <input type=hidden name=bdorz_come value=1> <input type=hidden name=ie value=utf-8> <input type=hidden name=f value=8> <input type=hidden name=rsv_bp value=1> <input type=hidden name=rsv_idx value=1> <input type=hidden name=tn value=baidu><span class=\"bg s_ipt_wr\"><input id=kw name=wd class=s_ipt value maxlength=255 autocomplete=off autofocus></span><span class=\"bg s_btn_wr\"><input type=submit id=su value=百度一下 class=\"bg s_btn\"></span> </form> </div> </div> <div id=u1> <a href=http://news.baidu.com name=tj_trnews class=mnav>新闻</a> <a href=http://www.hao123.com name=tj_trhao123 class=mnav>hao123</a> <a href=http://map.baidu.com name=tj_trmap class=mnav>地图</a> <a href=http://v.baidu.com name=tj_trvideo class=mnav>视频</a> <a href=http://tieba.baidu.com name=tj_trtieba class=mnav>贴吧</a> <noscript> <a href=http://www.baidu.com/bdorz/login.gif?login&amp;tpl=mn&amp;u=http%3A%2F%2Fwww.baidu.com%2f%3fbdorz_come%3d1 name=tj_login class=lb>登录</a> </noscript> <script>document.write(\\'<a href=\"http://www.baidu.com/bdorz/login.gif?login&tpl=mn&u=\\'+ encodeURIComponent(window.location.href+ (window.location.search === \"\" ? \"?\" : \"&\")+ \"bdorz_come=1\")+ \\'\" name=\"tj_login\" class=\"lb\">登录</a>\\');</script> <a href=//www.baidu.com/more/ name=tj_briicon class=bri style=\"display: block;\">更多产品</a> </div> </div> </div> <div id=ftCon> <div id=ftConw> <p id=lh> <a href=http://home.baidu.com>关于百度</a> <a href=http://ir.baidu.com>About Baidu</a> </p> <p id=cp>&copy;2017&nbsp;Baidu&nbsp;<a href=http://www.baidu.com/duty/>使用百度前必读</a>&nbsp; <a href=http://jianyi.baidu.com/ class=cp-feedback>意见反馈</a>&nbsp;京ICP证030173号&nbsp; <img src=//www.baidu.com/img/gs.gif> </p> </div> </div> </div> </body> </html>\\r\\n'"
      ]
     },
     "execution_count": 124,
     "metadata": {},
     "output_type": "execute_result"
    }
   ],
   "source": [
    "r.encoding = \"UTF-8\"\n",
    "r.text"
   ]
  },
  {
   "cell_type": "markdown",
   "metadata": {
    "Collapsed": "false"
   },
   "source": [
    "### 网页解析初步\n",
    "\n",
    "使用beautiful soup库进行HTML解析。\n",
    "\n"
   ]
  },
  {
   "cell_type": "code",
   "execution_count": 127,
   "metadata": {
    "Collapsed": "false"
   },
   "outputs": [],
   "source": [
    "from bs4 import BeautifulSoup\n",
    "\n",
    "soup = BeautifulSoup(r.text, 'lxml')"
   ]
  },
  {
   "cell_type": "code",
   "execution_count": 15,
   "metadata": {
    "Collapsed": "false"
   },
   "outputs": [
    {
     "name": "stdout",
     "output_type": "stream",
     "text": [
      "<title>百度一下，你就知道</title>\n",
      "百度一下，你就知道\n",
      "百度一下，你就知道\n",
      "['百度一下，你就知道']\n"
     ]
    }
   ],
   "source": [
    "print(soup.title)\n",
    "print(soup.title.string)\n",
    "print(soup.title.get_text())\n",
    "print(soup.title.contents)"
   ]
  },
  {
   "cell_type": "code",
   "execution_count": 41,
   "metadata": {
    "Collapsed": "false"
   },
   "outputs": [
    {
     "data": {
      "text/plain": [
       "<a class=\"mnav\" href=\"http://news.baidu.com\" name=\"tj_trnews\">新闻</a>"
      ]
     },
     "execution_count": 41,
     "metadata": {},
     "output_type": "execute_result"
    }
   ],
   "source": [
    "# to find links\n",
    "soup.a"
   ]
  },
  {
   "cell_type": "code",
   "execution_count": 23,
   "metadata": {
    "Collapsed": "false"
   },
   "outputs": [
    {
     "data": {
      "text/plain": [
       "[<a class=\"mnav\" href=\"http://news.baidu.com\" name=\"tj_trnews\">新闻</a>,\n",
       " <a class=\"mnav\" href=\"http://www.hao123.com\" name=\"tj_trhao123\">hao123</a>,\n",
       " <a class=\"mnav\" href=\"http://map.baidu.com\" name=\"tj_trmap\">地图</a>,\n",
       " <a class=\"mnav\" href=\"http://v.baidu.com\" name=\"tj_trvideo\">视频</a>,\n",
       " <a class=\"mnav\" href=\"http://tieba.baidu.com\" name=\"tj_trtieba\">贴吧</a>,\n",
       " <a class=\"lb\" href=\"http://www.baidu.com/bdorz/login.gif?login&amp;tpl=mn&amp;u=http%3A%2F%2Fwww.baidu.com%2f%3fbdorz_come%3d1\" name=\"tj_login\">登录</a>,\n",
       " <a class=\"bri\" href=\"//www.baidu.com/more/\" name=\"tj_briicon\" style=\"display: block;\">更多产品</a>,\n",
       " <a href=\"http://home.baidu.com\">关于百度</a>,\n",
       " <a href=\"http://ir.baidu.com\">About Baidu</a>,\n",
       " <a href=\"http://www.baidu.com/duty/\">使用百度前必读</a>,\n",
       " <a class=\"cp-feedback\" href=\"http://jianyi.baidu.com/\">意见反馈</a>]"
      ]
     },
     "execution_count": 23,
     "metadata": {},
     "output_type": "execute_result"
    }
   ],
   "source": [
    "# to find all links\n",
    "\n",
    "soup.find_all(\"a\")"
   ]
  },
  {
   "cell_type": "markdown",
   "metadata": {
    "Collapsed": "false"
   },
   "source": [
    "#### CSS选择器与网页元素提取\n",
    "\n",
    "使用.select()，它支持CSS选择器。\n",
    "\n",
    "CSS选择器参考手册，点击[此处](https://www.w3school.com.cn/cssref/css_selectors.asp)。"
   ]
  },
  {
   "cell_type": "code",
   "execution_count": 137,
   "metadata": {
    "Collapsed": "false"
   },
   "outputs": [
    {
     "data": {
      "text/plain": [
       "'http://news.baidu.com'"
      ]
     },
     "execution_count": 137,
     "metadata": {},
     "output_type": "execute_result"
    }
   ],
   "source": [
    "# to extract a link\n",
    "soup.select('[name=\"tj_trnews\"]')[0].attrs[\"href\"]"
   ]
  },
  {
   "cell_type": "code",
   "execution_count": 45,
   "metadata": {
    "Collapsed": "false"
   },
   "outputs": [
    {
     "name": "stdout",
     "output_type": "stream",
     "text": [
      "http://news.baidu.com\n",
      "http://www.hao123.com\n",
      "http://map.baidu.com\n",
      "http://v.baidu.com\n",
      "http://tieba.baidu.com\n",
      "http://www.baidu.com/bdorz/login.gif?login&tpl=mn&u=http%3A%2F%2Fwww.baidu.com%2f%3fbdorz_come%3d1\n",
      "//www.baidu.com/more/\n",
      "http://home.baidu.com\n",
      "http://ir.baidu.com\n",
      "http://www.baidu.com/duty/\n",
      "http://jianyi.baidu.com/\n"
     ]
    }
   ],
   "source": [
    "# to extract all links\n",
    "for item in soup.find_all(\"a\"):\n",
    "    print(item.attrs[\"href\"])"
   ]
  },
  {
   "cell_type": "markdown",
   "metadata": {
    "Collapsed": "false"
   },
   "source": [
    "### 案例：高德地图\n",
    "\n",
    "例如爬取上海的交通健康指数，点击[此处](https://report.amap.com/detail.do?city=310000)"
   ]
  },
  {
   "cell_type": "code",
   "execution_count": 138,
   "metadata": {
    "Collapsed": "false"
   },
   "outputs": [
    {
     "data": {
      "text/plain": [
       "[[1573563600000, 1.28],\n",
       " [1573567200000, 1.22],\n",
       " [1573570800000, 1.15],\n",
       " [1573574400000, 1.12],\n",
       " [1573578000000, 1.09],\n",
       " [1573581600000, 1.08],\n",
       " [1573585200000, 1.08],\n",
       " [1573588800000, 1.06],\n",
       " [1573592400000, 1.08],\n",
       " [1573596000000, 1.24],\n",
       " [1573599600000, 1.76],\n",
       " [1573603200000, 1.93],\n",
       " [1573606800000, 1.71],\n",
       " [1573610400000, 1.55],\n",
       " [1573614000000, 1.38],\n",
       " [1573617600000, 1.31],\n",
       " [1573621200000, 1.37],\n",
       " [1573624800000, 1.46],\n",
       " [1573628400000, 1.46],\n",
       " [1573632000000, 1.57],\n",
       " [1573635600000, 2.03],\n",
       " [1573639200000, 2.07],\n",
       " [1573642800000, 1.56]]"
      ]
     },
     "execution_count": 138,
     "metadata": {},
     "output_type": "execute_result"
    }
   ],
   "source": [
    "import json\n",
    "\n",
    "headers={\"User-Agent\" : \"Mozilla/5.0 (Windows; U; Windows NT 5.1; zh-CN; rv:1.9.1.6) \",\n",
    "  \"Accept\" : \"text/html,application/xhtml+xml,application/xml;q=0.9,*/*;q=0.8\",\n",
    "  \"Accept-Language\" : \"en-us\",\n",
    "  \"Connection\" : \"keep-alive\",\n",
    "  \"Accept-Charset\" : \"GB2312,utf-8;q=0.7,*;q=0.7\"}\n",
    "\n",
    "r = requests.get('https://report.amap.com/ajax/cityHourly.do?cityCode=110000&dataType=1', headers = headers)\n",
    "\n",
    "r.json()"
   ]
  },
  {
   "cell_type": "code",
   "execution_count": 139,
   "metadata": {
    "Collapsed": "false"
   },
   "outputs": [
    {
     "name": "stdout",
     "output_type": "stream",
     "text": [
      "2019-11-12 21:00:00 :  1.28\n",
      "2019-11-12 22:00:00 :  1.22\n",
      "2019-11-12 23:00:00 :  1.15\n",
      "2019-11-13 00:00:00 :  1.12\n",
      "2019-11-13 01:00:00 :  1.09\n",
      "2019-11-13 02:00:00 :  1.08\n",
      "2019-11-13 03:00:00 :  1.08\n",
      "2019-11-13 04:00:00 :  1.06\n",
      "2019-11-13 05:00:00 :  1.08\n",
      "2019-11-13 06:00:00 :  1.24\n",
      "2019-11-13 07:00:00 :  1.76\n",
      "2019-11-13 08:00:00 :  1.93\n",
      "2019-11-13 09:00:00 :  1.71\n",
      "2019-11-13 10:00:00 :  1.55\n",
      "2019-11-13 11:00:00 :  1.38\n",
      "2019-11-13 12:00:00 :  1.31\n",
      "2019-11-13 13:00:00 :  1.37\n",
      "2019-11-13 14:00:00 :  1.46\n",
      "2019-11-13 15:00:00 :  1.46\n",
      "2019-11-13 16:00:00 :  1.57\n",
      "2019-11-13 17:00:00 :  2.03\n",
      "2019-11-13 18:00:00 :  2.07\n",
      "2019-11-13 19:00:00 :  1.56\n"
     ]
    }
   ],
   "source": [
    "import time\n",
    "\n",
    "data = r.json()\n",
    "for item in data:\n",
    "    timearray = time.localtime(int(item[0]/1000))\n",
    "    otherStyleTime = time.strftime(\"%Y-%m-%d %H:%M:%S\", timearray)\n",
    "    print(otherStyleTime, \": \", item[1])"
   ]
  }
 ],
 "metadata": {
  "kernelspec": {
   "display_name": "Python 3",
   "language": "python",
   "name": "python3"
  },
  "language_info": {
   "codemirror_mode": {
    "name": "ipython",
    "version": 3
   },
   "file_extension": ".py",
   "mimetype": "text/x-python",
   "name": "python",
   "nbconvert_exporter": "python",
   "pygments_lexer": "ipython3",
   "version": "3.7.4"
  }
 },
 "nbformat": 4,
 "nbformat_minor": 4
}
