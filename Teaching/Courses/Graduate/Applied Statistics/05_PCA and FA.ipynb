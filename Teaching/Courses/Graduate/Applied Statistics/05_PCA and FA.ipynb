{
 "cells": [
  {
   "cell_type": "markdown",
   "metadata": {
    "Collapsed": "false"
   },
   "source": [
    "# 主成分和因子分析"
   ]
  },
  {
   "cell_type": "markdown",
   "metadata": {
    "Collapsed": "false",
    "toc-hr-collapsed": false
   },
   "source": [
    "## 主成分分析（Principle Component Analysis）\n",
    "\n",
    "### 一个案例\n",
    "\n",
    "主成分可视化案例，点击[此处](http://setosa.io/ev/principal-component-analysis/)\n",
    "\n",
    "<br>\n",
    "\n",
    "### 什么是主成分分析\n",
    "\n",
    "**基本思想**\n",
    "\n",
    "- **Reduce the dimensionality** of a data set in which there is a large number of **inter-related** variables while **retaining as much as possible the variation** in the original set of variables.\n",
    "\n",
    "- The reduction is achieved by **transforming the original variables to a new set of variables, “principal components”**, that are **uncorrelated** and ordered such that **the first few retains most of the variation** present in the data.\n",
    "\n",
    "**目标**\n",
    "\n",
    "- 降维（data reduction）\n",
    "\n",
    "- 分析$\\Sigma$（或$\\mathbf{S}$或$\\mathbf{R}$）的结构"
   ]
  },
  {
   "cell_type": "markdown",
   "metadata": {
    "Collapsed": "false",
    "toc-hr-collapsed": false
   },
   "source": [
    "### 基本设定\n",
    "\n",
    "假设我们有随机向量$\\mathbf{x}$\n",
    "\n",
    "$$\\mathbf{X}=\\left(\\begin{array}{c}{X_{1}} \\\\ {X_{2}} \\\\ {\\vdots} \\\\ {X_{p}}\\end{array}\\right)$$\n",
    "\n",
    "它的总体方差-协方差阵为\n",
    "\n",
    "$$\n",
    "\\operatorname{var}(\\mathbf{X})=\\Sigma=\\left(\\begin{array}{cccc}{\\sigma_{1}^{2}} & {\\sigma_{12}} & {\\cdots} & {\\sigma_{1 p}} \\\\ {\\sigma_{21}} & {\\sigma_{2}^{2}} & {\\cdots} & {\\sigma_{2 p}} \\\\ {\\vdots} & {\\vdots} & {\\ddots} & {\\vdots} \\\\ {\\sigma_{p 1}} & {\\sigma_{p 2}} & {\\cdots} & {\\sigma_{p}^{2}}\\end{array}\\right)\n",
    "$$\n",
    "\n",
    "考虑线性组合\n",
    "\n",
    "$$\n",
    "\\begin{aligned} Y_{1} &=e_{11} X_{1}+e_{12} X_{2}+\\cdots+e_{1 p} X_{p} \\\\ Y_{2} &=e_{21} X_{1}+e_{22} X_{2}+\\cdots+e_{2 p} X_{p} \\\\ & \\vdots \\\\ Y_{p} &=e_{p 1} X_{1}+e_{p 2} X_{2}+\\cdots+e_{p p} X_{p} \\end{aligned}\n",
    "$$\n",
    "\n",
    "系数向量表示为\n",
    "\n",
    "$$\n",
    "\\mathbf{e}_{i}=\\left(\\begin{array}{c}{e_{i 1}} \\\\ {e_{i 2}} \\\\ {\\vdots} \\\\ {e_{i p}}\\end{array}\\right)\n",
    "$$\n",
    "\n",
    "$Y_{i}$是$\\mathbf{x}$的线性组合，因此他的方差为\n",
    "\n",
    "$$\n",
    "\\operatorname{var}\\left(Y_{i}\\right)=\\sum_{k=1}^{p} \\sum_{l=1}^{p} e_{i k} e_{i l} \\sigma_{k l}=\\mathbf{e}_{i}^{\\prime} \\Sigma \\mathbf{e}_{i}\n",
    "$$\n",
    "\n",
    "协方差为\n",
    "\n",
    "$$\n",
    "\\operatorname{cov}\\left(Y_{i}, Y_{j}\\right)=\\sum_{k=1}^{p} \\sum_{l=1}^{p} e_{i k} e_{j l} \\sigma_{k l}=\\mathbf{e}_{i}^{\\prime} \\Sigma \\mathbf{e}_{j}\n",
    "$$\n",
    "\n",
    "**主成分**\n",
    "\n",
    "- 第一主成分 - 线性组合$e_{1}^{\\prime}X$，在$e_{1}^{\\prime}e_{1}=1$时，它使得$Var(e_{1}^{\\prime}X)$最大\n",
    "\n",
    "- 第二主成分 - 线性组合$e_{2}^{\\prime}X$，在$e_{2}^{\\prime}e_{2}=1$和$Cov(e_{1}^{\\prime}X, e_{2}^{\\prime}X)=0$时，它使得$Var(e_{2}^{\\prime}X)$最大\n",
    "\n",
    "- 第$i$个主成分 - 线性组合$e_{i}^{\\prime}X$，在$e_{i}^{\\prime}e_{i}=1$和$Cov(e_{i}^{\\prime}X, e_{k}^{\\prime}X)=0,(k<i)$时，它使得$Var(e_{i}^{\\prime}X)$最大\n",
    "\n",
    "<br>\n",
    "\n",
    "**提醒**\n",
    "\n",
    "- 主成分只依赖于方差-协方差阵或相关系数阵\n",
    "\n",
    "- 主成分不需要对于变量分布进行假定"
   ]
  },
  {
   "cell_type": "markdown",
   "metadata": {
    "Collapsed": "false"
   },
   "source": [
    "### 求解\n",
    "\n",
    "$\\max \\left(\\mathbf{e}^{\\prime} \\mathbf{\\Sigma} \\mathbf{e}\\right)$\n",
    "\n",
    "由于存在任意常数$c$，只要$|c|>1$，就能增加方差，即$\\operatorname{Var}(c Y_{1})=\\operatorname{Var}\\left(c \\mathbf{e}^{\\prime} \\mathbf{X}\\right)=c^{2} \\operatorname{Var}\\left(\\mathbf{e}^{\\prime} \\mathbf{X}\\right)$，因此问题可以转化为\n",
    "\n",
    "$$\n",
    "\\max _{\\mathbf{e}}\\left(\\frac{\\mathbf{e}^{\\prime} \\mathbf{\\Sigma} \\mathbf{e}}{\\mathbf{e}^{\\prime} \\mathbf{e}}\\right)=\\operatorname{Var}\\left(Y_{1}\\right)\n",
    "$$\n",
    "\n",
    "可得\n",
    "\n",
    "$$\n",
    "\\underbrace{\\Sigma}_{p \\times p} \\underbrace{\\mathbf{e}}_{p \\times 1}=\\underbrace{\\operatorname{Var}\\left(Y_{1}\\right)}_{\\text {scalar }} \\underbrace{\\mathbf{e}}_{p \\times 1}\n",
    "$$\n",
    "\n",
    "上述方程恰好可以通过特征根和特征向量求解。\n",
    "\n",
    "<br>\n",
    "\n",
    "**结论一**\n",
    "\n",
    "设$\\Sigma$是随机向量$\\mathbf{x}^{\\prime}=\\left(X_{1}, X_{2}, \\ldots, X_{p}\\right)$的协方差矩阵，它有特征值-特征向量对$\\left(\\lambda_{1}, \\mathbf{e}_{1}\\right),\\left(\\lambda_{2}, \\mathbf{e}_{2}\\right), \\ldots,\\left(\\lambda_{p}, \\mathbf{e}_{p}\\right)$，其中$\\lambda_{1} \\geq \\lambda_{2} \\geq \\cdots \\geq \\lambda_{p} \\geq 0$，则第$i$个主成分由\n",
    "\n",
    "$$Y_{i}=\\mathbf{e}_{i}^{\\prime} \\mathbf{X}=e_{i 1} X_{1}+e_{i 2} X_{2}+\\cdots+e_{i p} X_{p}$$\n",
    "\n",
    "给出，此时\n",
    "\n",
    "$$\n",
    "\\begin{aligned} \\operatorname{var}\\left(Y_{i}\\right)=\\mathbf{e}_{i}^{\\prime} \\mathbf{\\Sigma} \\mathbf{e}_{i} &=\\mathbf{e}_{i}^{\\prime}\\left(\\lambda_{i} \\mathbf{e}_{i}\\right) \\\\ &=\\lambda_{i} \\mathbf{e}_{i}^{\\prime} \\mathbf{e}_{i}=\\lambda_{i} \\end{aligned}\n",
    "$$\n",
    "\n",
    "对于$i \\neq k$，有\n",
    "\n",
    "$$\n",
    "\\operatorname{cov}\\left(Y_{i}, Y_{k}\\right)=\\mathbf{e}_{i} \\boldsymbol{\\Sigma} {\\mathbf{e}_{k}}=\\mathbf{e}_{i}^{\\prime}\\left(\\lambda_{k} \\mathbf{e}_{k}\\right)\n",
    "$$\n",
    "\n",
    "若假设$P=\\left[e_{1}, e_{2}, \\cdots, e_{p}\\right]$，因此$P^{\\prime} P=P P^{\\prime}=I$，因此\n",
    "\n",
    "$$\\mathbf{Y}=\\mathbf{P}^{\\prime} \\mathbf{X} \\Longrightarrow \\operatorname{cov}(\\mathbf{Y})=\\mathbf{\\Sigma}_{Y}=\\mathbf{P}^{\\prime} \\mathbf{\\Sigma} \\mathbf{P}=\\Lambda$$\n",
    "\n",
    "所以\n",
    "\n",
    "$$\\operatorname{tr}(\\Sigma)=\\operatorname{tr}\\left(P \\Lambda P^{\\prime}\\right)=\\operatorname{tr}\\left(\\Lambda P^{\\prime} P\\right)=\\operatorname{tr}(\\Lambda)=\\lambda_{1}+\\lambda_{2}+\\cdots+\\lambda_{p}$$\n",
    "\n",
    "\n",
    "\n",
    "**结论二**\n",
    "\n",
    "设$\\Sigma$是随机向量$\\mathbf{x}^{\\prime}=\\left(X_{1}, X_{2}, \\ldots, X_{p}\\right)$的协方差矩阵，它有特征值-特征向量对$\\left(\\lambda_{1}, \\mathbf{e}_{1}\\right),\\left(\\lambda_{2}, \\mathbf{e}_{2}\\right), \\ldots,\\left(\\lambda_{p}, \\mathbf{e}_{p}\\right)$，其中$\\lambda_{1} \\geq \\lambda_{2} \\geq \\cdots \\geq \\lambda_{p} \\geq 0$，设$Y_{1}=\\mathbf{e}_{1}^{\\prime} \\mathbf{X},Y_{2}=\\mathbf{e}_{2}^{\\prime} \\mathbf{X}, \\ldots Y_{p}=\\mathbf{e}_{p}^{\\prime} \\mathbf{X}$是主成分，则\n",
    "\n",
    "$$\\sigma_{11}+\\sigma_{22}+\\cdots+\\sigma_{p p}=\\sum_{i=1}^{p} \\sigma_{i i}=\\lambda_{1}+\\lambda_{2}+\\cdots+\\lambda_{p}=\\sum_{i=1}^{p} \\lambda_{i}$$\n",
    "\n",
    "这意味在旋转过程中着总平方和是不变的，对于总方差中属于第$k$个主成分（被第$k$个主成分所解释的）比例为\n",
    "\n",
    "$$\\frac{\\lambda_{k}}{\\lambda_{1}+\\lambda_{2}+\\cdots+\\lambda_{p}}=\\frac{\\lambda_{k}}{\\sum_{i=1}^{p} \\lambda_{i}} \\quad k=1, \\ldots, p$$\n",
    "\n",
    "**结论三**\n",
    "\n",
    "如果$Y_{1}=e_{1}^{\\prime} X, Y_{2}=e_{2}^{\\prime} X, \\cdots, Y_{p}=e_{p}^{\\prime} X$是从协方差矩阵$\\Sigma$所得到的的主成分，则\n",
    "\n",
    "$$\n",
    "\\begin{aligned} \\rho_{Y_{i}, X_{k}} &=\\frac{\\operatorname{Cov}\\left(Y_{i}, X_{k}\\right)}{\\sqrt{\\lambda_{i}} \\sqrt{\\sigma_{k k}}} \\\\ &=\\frac{\\operatorname{Cov}\\left(\\mathbf{e}_{i}^{\\prime} \\mathbf{X}, \\ell^{\\prime} \\mathbf{X})\\right.}{\\sqrt{\\lambda_{i}} \\sqrt{\\sigma_{k k}}} \\\\ &=\\frac{\\ell^{\\prime} \\mathbf{\\Sigma} e_{i}}{\\sqrt{\\lambda_{i}} \\sqrt{\\sigma_{k k}}} \\\\ &=\\frac{\\ell^{\\prime}\\left(\\lambda_{i} \\mathbf{e}_{i}\\right)}{\\sqrt{\\lambda_{i}} \\sqrt{\\sigma_{k k}}} \\\\ &=\\frac{e_{i k} \\sqrt{\\lambda_{i}}}{\\sqrt{\\sigma_{k k}}} \\end{aligned}\n",
    "$$\n",
    "\n",
    "是主成分$Y_{i}$和变量$X_{k}$之间的相关系数。"
   ]
  },
  {
   "cell_type": "markdown",
   "metadata": {
    "Collapsed": "false"
   },
   "source": [
    "**习题**\n",
    "\n",
    "设随机变量$X_{1}, X_{2}$和$X_{2}$有协方差矩阵\n",
    "\n",
    "$$\n",
    "\\Sigma=\\left[\\begin{array}{rrr}{1} & {-2} & {0} \\\\ {-2} & {5} & {0} \\\\ {0} & {0} & {2}\\end{array}\\right]\n",
    "$$\n",
    "\n",
    "其中特征值-特征向量对为\n",
    "\n",
    "$$\n",
    "\\begin{array}{ll}{\\lambda_{1}=5.83} & {e_{1}^{\\prime}=[0.383,-0.924,0]} \\\\ {\\lambda_{2}=2.00} & {e_{2}=[0,0,1]} \\\\ {\\lambda_{3}=0.17} & {e_{3}^{\\prime}=[0.924,0.383,0]}\\end{array}\n",
    "$$\n",
    "\n",
    "因此，主成分为\n",
    "\n",
    "$$\n",
    "\\begin{array}{l}{Y_{1}=e_{1}^{\\prime} X=0.383 X_{1}-0.924 X_{2}} \\\\ {Y_{2}=e_{2}^{\\prime} X=X_{3}} \\\\ {Y_{3}=e_{3}^{\\prime} X=0.924 X_{1}+0.383 X_{2}}\\end{array}\n",
    "$$\n",
    "\n",
    "第一主成分\n",
    "\n",
    "$$\n",
    "\\begin{aligned} \\operatorname{Var}\\left(Y_{1}\\right)=& \\operatorname{Var}\\left(0.383 X_{1}-0.924 X_{2}\\right) \\\\=& 0.383^{2} \\times \\operatorname{Var}\\left(X_{1}\\right)+(-0.924)^{2} \\times \\operatorname{Var}\\left(X_{2}\\right) \\\\ &+2 \\times 0.383 \\times(-0.924) \\times \\operatorname{Cov}\\left(X_{1}, X_{2}\\right) \\\\=& 0.147 \\times 1+0.854 \\times 5-0.708 \\times(-2) \\\\=& 5.83=\\lambda_{1} \\end{aligned}\n",
    "$$\n",
    "\n",
    "$$\n",
    "\\begin{aligned} \\operatorname{Cov}\\left(Y_{1}, Y_{2}\\right) &=\\operatorname{Cov}\\left(0.383 X_{1}-0.924 X_{2}, X_{3}\\right) \\\\ &=0.383 \\operatorname{Cov}\\left(X_{1}, X_{3}\\right)-0.924 \\operatorname{Cov}\\left(X_{2}, X_{3}\\right) \\\\ &=0.383 \\times 0-0.924 \\times 0=0 \\end{aligned}\n",
    "$$\n",
    "\n",
    "也容易看出\n",
    "\n",
    "$$\n",
    "\\sigma_{11}+\\sigma_{22}+\\sigma_{33}=1+5+2=\\lambda_{1}+\\lambda_{2}+\\lambda_{3}=5.83+2.00+0.17\n",
    "$$\n",
    "\n",
    "总方差中归因于第一主成分的比例为$\\lambda_{1} /\\left(\\lambda_{1}+\\lambda_{2}+\\lambda_{3}\\right)=5.83 / 8=0.73$，进一步，前两个主成分占总体方差的$(5.83+2) / 8=0.98$，因此前两个主成分代替原先的三个变量不会有什么信息损失。\n",
    "\n",
    "$$\n",
    "\\rho_{Y_{1},X_{1}}=\\frac{e_{11} \\sqrt{\\lambda_{1}}}{\\sqrt{\\sigma_{11}}}=\\frac{0.383 \\times \\sqrt{5.83}}{\\sqrt{1}}=0.925\n",
    "$$\n",
    "\n",
    "$$\n",
    "\\rho_{Y_{1}, X_{2}}=\\frac{e_{12} \\sqrt{\\lambda_{1}}}{\\sqrt{\\sigma_{22}}}=\\frac{-0.924 \\times \\sqrt{5.83}}{\\sqrt{5}}=-0.998\n",
    "$$"
   ]
  },
  {
   "cell_type": "markdown",
   "metadata": {
    "Collapsed": "false"
   },
   "source": [
    "### 从标准化变量得到主成分\n",
    "\n",
    "主成分也可以从标准化变量\n",
    "\n",
    "$$\n",
    "\\begin{array}{c}{Z_{1}=\\frac{\\left(X_{1}-\\mu_{1}\\right)}{\\sqrt{\\sigma_{11}}}} \\\\ {Z_{2}=\\frac{\\left(X_{2}-\\mu_{2}\\right)}{\\sqrt{\\sigma_{22}}}} \\\\ {\\vdots} \\\\ {Z_{p}=\\frac{\\left(X_{p}-\\mu_{p}\\right)}{\\sqrt{\\sigma_{p_{p}}}}}\\end{array}\n",
    "$$\n",
    "\n",
    "得到。\n",
    "\n",
    "**结论四**\n",
    "\n",
    "有$\\operatorname{Cov}(Z)=\\rho$的标准化变量$Z^{\\prime}=\\left[Z_{1}, Z_{2}, \\cdots, Z_{p}\\right]$的第$i$主成分由$Y_{i}=e_{i}^{\\prime} Z$给出，而且\n",
    "\n",
    "$$\\sum_{i=1}^{p} \\operatorname{Var}\\left(Y_{i}\\right)=\\sum_{i=1}^{p} \\operatorname{Var}\\left(Z_{i}\\right)=p$$\n",
    "\n",
    "$$\\rho_{Y_{i}, Z_{k}}=e_{i k} \\sqrt{\\lambda_{i}} \\quad i, k=1,2, \\cdots, p$$\n",
    "\n",
    "此时，$\\left(\\lambda_{1}, e_{1}\\right),\\left(\\lambda_{2}, e_{2}\\right), \\cdots,\\left(\\lambda_{p}, e_{p}\\right)$都是$\\rho$的特征值-特征向量对，且有$\\lambda_{1} \\geqslant \\lambda_{2} \\geqslant \\cdots \\geqslant \\lambda_{p} \\geqslant 0$。"
   ]
  },
  {
   "cell_type": "markdown",
   "metadata": {
    "Collapsed": "false"
   },
   "source": [
    "**习题**\n",
    "\n",
    "考虑协方差矩阵\n",
    "\n",
    "$$\n",
    "\\Sigma=\\left[\\begin{array}{cc}{1} & {4} \\\\ {4} & {100}\\end{array}\\right]\n",
    "$$\n",
    "\n",
    "和导出的相关矩阵\n",
    "\n",
    "$$\n",
    "\\rho=\\left[\\begin{array}{ll}{1} & {0.4} \\\\ {0.4} & {1}\\end{array}\\right]\n",
    "$$\n",
    "\n",
    "前者得到的特征值-特征向量对是\n",
    "\n",
    "$$\n",
    "\\begin{array}{ll}{\\lambda_{1}=100.16,} & {e_{1}^{\\prime}=[0.040,0.999]} \\\\ {\\lambda_{2}=0.84,} & {e_{2}^{\\prime}=[0.999,-0.040]}\\end{array}\n",
    "$$\n",
    "\n",
    "后者得到的特征值-特征向量对是\n",
    "\n",
    "$$\n",
    "\\begin{array}{ll}{\\lambda_{1}=1+\\rho=1.4,} & {e_{1}^{\\prime}=[0.707,0.707]} \\\\ {\\lambda_{2}=1-\\rho=0.6,} & {e_{2}^{\\prime}=[0.707,-0.707]}\\end{array}\n",
    "$$\n",
    "\n",
    "则相应的主成分分别为\n",
    "\n",
    "$$\n",
    "\\Sigma: \\quad \\begin{array}{l}{Y_{1}=0.040 X_{1}+0.999 X_{2}} \\\\ {Y_{2}=0.999 X_{1}-0.040 X_{2}}\\end{array}\n",
    "$$\n",
    "\n",
    "$$\n",
    "\\begin{aligned} Y_{1}=0.707 Z_{1}+0.707 Z_{2} &=0.707\\left(\\frac{X_{1}-\\mu_{1}}{1}\\right)+0.707\\left(\\frac{X_{2}-\\mu_{2}}{10}\\right) \\\\ &=0.707\\left(X_{1}-\\mu_{1}\\right)+0.0707\\left(X_{2}-\\mu_{2}\\right) \\\\ Y_{2}=0.707 Z_{1}-0.707 Z_{2} &=0.707\\left(\\frac{X_{1}-\\mu_{1}}{1}\\right)-0.707\\left(\\frac{X_{2}-\\mu_{2}}{10}\\right) \\\\ &=0.707\\left(X_{1}-\\mu_{1}\\right)-0.0707\\left(X_{2}-\\mu_{2}\\right) \\end{aligned}\n",
    "$$\n",
    "\n",
    "由于$X_{2}$的方差大，它完全控制了由$\\Sigma$确定的第一主成分，而且第一主成分解释的总体总方差的比例为\n",
    "\n",
    "$\\frac{\\lambda_{1}}{\\lambda_{1}+\\lambda_{2}}=\\frac{100.16}{101}=0.992$\n",
    "\n",
    "然而，当变量标准化后，所的变量确定的主成分的贡献却相同，我们有\n",
    "\n",
    "$$\n",
    "\\begin{array}{l}{\\rho_{Y_{1}, Z_{1}}=e_{11} \\sqrt{\\lambda_{1}}=0.707 \\times \\sqrt{1.4}=0.837} \\\\ {\\rho_{Y_{2}, Z_{1}}=e_{21} \\sqrt{\\lambda_{1}}=0.707 \\times \\sqrt{1.4}=0.837}\\end{array}\n",
    "$$\n",
    "\n",
    "以及\n",
    "\n",
    "$$\n",
    "\\frac{\\lambda_{1}}{p}=\\frac{1.4}{2}=0.7\n",
    "$$"
   ]
  },
  {
   "cell_type": "markdown",
   "metadata": {
    "Collapsed": "false"
   },
   "source": [
    "### 主成分个数\n",
    "\n",
    "主成分应该保留多少个成分？对此没有确定的回答。\n",
    "\n",
    "- 一种能帮助我们确定主成分合适个数的有用的视觉工具，就是所谓的崖底碎石图。\n",
    "\n",
    "- 特征值大于1的标准\n",
    "\n",
    "- 前$k$个主成分占比超过$80\\%$"
   ]
  },
  {
   "cell_type": "markdown",
   "metadata": {
    "Collapsed": "false"
   },
   "source": [
    "### 参考\n",
    "\n",
    "[In Depth: Principal Component Analysis](https://jakevdp.github.io/PythonDataScienceHandbook/05.09-principal-component-analysis.html)"
   ]
  },
  {
   "cell_type": "markdown",
   "metadata": {
    "Collapsed": "false",
    "toc-hr-collapsed": true
   },
   "source": [
    "## 因子分析（Factor Analysis）\n",
    "\n",
    "因子分析（factor analysis）是主成分分析的推广。它也是利用降维的思想，由研究原始变量相关矩阵内部的依赖关系出发，把一些具有错综复杂关系的变量归结为少数几个综合因子的一种多变量统计分析方法。因子分析的实质目的是，只要可能，就用几个潜在的但不能观测的随机变量取描述许多变量间的协方差关系，这些随机量叫做因子。\n",
    "\n",
    "因子分析的基本思想是根据相关性大小把原始变量分组，使得同组内的变量之间相关性较高，而不同组的变量间的相关性则较低。每组变量代表一个基本结构，并用一个不可观察的综合变量表示，这个基本结构就称为公共因子。对于某一具体问题，原始变量可以分解为两部分之和的形式，一部分是少数几个不可测的所谓公共因子的线性组合，另一部分是与公共因子无关的特殊因子。\n",
    "\n",
    "**目标**\n",
    "\n",
    "- 降维\n",
    "\n",
    "- 发现变量间的依赖关系"
   ]
  },
  {
   "cell_type": "markdown",
   "metadata": {
    "Collapsed": "false"
   },
   "source": [
    "### 一个案例\n",
    "\n",
    "一个学生在数学$X_{1}$、法语$X_{2}$和英语$X_{3}$上的成绩是可测量的，其相关系数阵是\n",
    "\n",
    "$$\n",
    "\\mathbf{R}=\\left[\\begin{array}{ccc}{1} & {0.67} & {0.64} \\\\ {} & {1} & {0.67} \\\\ {} & {} & {1}\\end{array}\\right]\n",
    "$$\n",
    "\n",
    "考虑如下模型\n",
    "\n",
    "$$\n",
    "X_{1}=l_{1} F+\\varepsilon_{1}, \\quad X_{2}=l_{2} F+\\varepsilon_{2}, \\quad X_{3}=l_{3} F+\\varepsilon_{3}\n",
    "$$\n",
    "\n",
    "其中是$F$是公共因子（一般能力），$l_{1},l_{2},l_{3}$是因子载荷（factor loadings），$\\varepsilon_{1}, \\varepsilon_{2}, \\varepsilon_{3}$是随机误差项。"
   ]
  },
  {
   "cell_type": "markdown",
   "metadata": {
    "Collapsed": "false"
   },
   "source": [
    "### 正交因子模型\n",
    "\n",
    "有$p$个成分的观测随机向量$X$，有均值$\\mu$和协方差矩阵$\\Sigma$，因子模型是\n",
    "\n",
    "$$\n",
    "X_{1}-\\mu_{1}=l_{11} F_{1}+l_{12} F_{2}+\\cdots+l_{1 m} F_{m}+\\varepsilon_{1}\n",
    "$$\n",
    "$$\n",
    "\\begin{array}{l}{X_{2}-\\mu_{2}=l_{21} F_{1}+l_{22} F_{2}+\\cdots+l_{2 m} F_{m}+\\varepsilon_{2}} \\\\ {\\vdots \\quad \\vdots} \\\\ {X_{p}-\\mu_{p}=l_{p 1} F_{1}+l_{p 2} F_{2}+\\cdots+l_{p m} F_{m}+\\varepsilon_{p}}\\end{array}\n",
    "$$\n",
    "\n",
    "或者写成矩阵形式\n",
    "\n",
    "$$\n",
    "\\underset{(p \\times 1)}{X - \\mu}=\\underset{(p \\times m)}{L} \\underset{(m \\times 1)}{F}+\\underset{(p \\times 1)}{\\varepsilon}\n",
    "$$\n",
    "\n",
    "称系数$l_{i j}$为第$i$个变量在第$j$个因子上的载荷，故矩阵$L$是因子载荷阵。我们设\n",
    "\n",
    "$$\n",
    "E(F)=\\underset{(m \\times 1)}{0}, \\quad \\operatorname{Cov}(F)=E\\left[F F^{\\prime}\\right]=\\underset{(m \\times m)}{I}\n",
    "$$\n",
    "\n",
    "$$\n",
    "E(\\boldsymbol{\\varepsilon})=\\underset{(p \\times 1)}{0}, \\quad \\operatorname{Cov}(\\boldsymbol{\\varepsilon})=E\\left[\\varepsilon \\varepsilon^{\\prime} \\right]=\\underset{(p, p)}{\\Psi}=\\left[\\begin{array}{cccc}{\\psi_{1}} & {0} & {\\cdots} & {0} \\\\ {0} & {\\psi_{2}} & {\\cdots} & {0} \\\\ {\\vdots} & {\\vdots} & {\\ddots} & {\\vdots} \\\\ {0} & {0} & {\\cdots} & {\\psi_{p}}\\end{array}\\right]\n",
    "$$\n",
    "\n",
    "且$F$和$\\varepsilon$独立，故\n",
    "\n",
    "$$\n",
    "\\operatorname{Cov}(\\boldsymbol{\\varepsilon}, F)=E\\left(\\boldsymbol{\\varepsilon} F^{\\prime}\\right)=\\underset{(p \\times m)}{0}\n",
    "$$\n",
    "\n",
    "满足上述条件的因子模型叫做正交因子模型。"
   ]
  },
  {
   "cell_type": "markdown",
   "metadata": {
    "Collapsed": "false"
   },
   "source": [
    "由于\n",
    "\n",
    "$$\n",
    "\\begin{aligned}(X-\\mu)(X-\\mu)^{\\prime} &=(L F+\\boldsymbol{\\varepsilon})(L F+\\boldsymbol{\\varepsilon})^{\\prime} \\\\ &=(L F+\\boldsymbol{\\varepsilon})\\left((L F)^{\\prime}+\\boldsymbol{\\varepsilon}^{\\prime}\\right) \\\\ &=L F(L F)^{\\prime}+\\boldsymbol{\\varepsilon}(L F)^{\\prime}+L F \\boldsymbol{\\varepsilon}^{\\prime}+ \\boldsymbol{\\varepsilon} \\boldsymbol{\\varepsilon}^{\\prime} \\end{aligned}\n",
    "$$\n",
    "\n",
    "因此\n",
    "\n",
    "$$\n",
    "\\begin{aligned} \\boldsymbol{\\Sigma} &=\\operatorname{Cov}(X)=E(X-\\boldsymbol{\\mu})(X-\\boldsymbol{\\mu})^{\\prime} \\\\ &=L E\\left(F F^{\\prime}\\right) L^{\\prime}+E\\left(\\boldsymbol{\\varepsilon} F^{\\prime}\\right) L^{\\prime}+L E\\left(F \\boldsymbol{\\varepsilon}^{\\prime}\\right)+E\\left(\\boldsymbol{\\varepsilon} \\varepsilon^{\\prime}\\right) \\\\ &=L L^{\\prime}+\\boldsymbol{\\Psi} \\end{aligned}\n",
    "$$\n",
    "\n",
    "即\n",
    "\n",
    "$$\\operatorname{Var}\\left(X_{i}\\right)=l_{i 1}^{2}+\\cdots+l_{i m}^{2}+\\psi_{i}$$\n",
    "\n",
    "$$\n",
    "\\operatorname{Cov}\\left(X_{i}, X_{k}\\right)=l_{i 1} l_{k 1}+\\cdots+l_{i m} l_{k m}\n",
    "$$\n",
    "\n",
    "而且有$(X-\\boldsymbol{\\mu}) F^{\\prime}=(L F+\\boldsymbol{\\varepsilon}) F^{\\prime}=L F F^{\\prime}+\\boldsymbol{\\varepsilon} F^{\\prime}$，所以$$\\operatorname{Cov}(X, F)=E(X-\\boldsymbol{\\mu}) F^{\\prime}=L E\\left(F F^{\\prime}\\right)+E\\left(\\boldsymbol{\\varepsilon} F^{\\prime}\\right)=L$$\n",
    "\n",
    "即$\\operatorname{Cov}\\left(X_{i}, F_{j}\\right)=l_{i j}$。\n",
    "\n",
    "<br>\n",
    "\n",
    "由$m$个公共因子贡献的第$i$个变量的方差部分，叫做第$i$个共性方差（或共同度），属于特殊因子的部分，称为特殊方差（或剩余方差）。用$h_{i}^{2}$记第$i$个共性方差，因此\n",
    "\n",
    "$$\n",
    "\\sigma_{i i}=\\underbrace{l_{i 1}^{2}+l_{i 2}^{2}+\\cdots+l_{i m}^{2}}_{\\text {Communality}}+\\underbrace{\\psi_{i}}_{\\text {Specific variance }}\n",
    "$$"
   ]
  },
  {
   "cell_type": "markdown",
   "metadata": {
    "Collapsed": "false"
   },
   "source": [
    "**习题**\n",
    "\n",
    "考虑协方差阵\n",
    "\n",
    "$$\n",
    "\\boldsymbol{\\Sigma}=\\left[\\begin{array}{cccc}{19} & {30} & {2} & {12} \\\\ {30} & {57} & {5} & {23} \\\\ {2} & {5} & {38} & {47} \\\\ {12} & {23} & {47} & {68}\\end{array}\\right]\n",
    "$$\n",
    "\n",
    "满足等式\n",
    "\n",
    "$$\n",
    "\\left[\\begin{array}{cccc}{19} & {30} & {2} & {12} \\\\ {30} & {57} & {5} & {23} \\\\ {2} & {5} & {38} & {47} \\\\ {12} & {23} & {47} & {68}\\end{array}\\right]=\\left[\\begin{array}{rr}{4} & {1} \\\\ {7} & {2} \\\\ {-1} & {6} \\\\ {1} & {8}\\end{array}\\right]\\left[\\begin{array}{rrrr}{4} & {7} & {-1} & {1} \\\\ {1} & {2} & {6} & {8}\\end{array}\\right]+\\left[\\begin{array}{cccc}{2} & {0} & {0} & {0} \\\\ {0} & {4} & {0} & {0} \\\\ {0} & {0} & {1} & {0} \\\\ {0} & {0} & {0} & {3}\\end{array}\\right]\n",
    "$$\n",
    "\n",
    "由于$\\Sigma=L L^{\\prime}+\\boldsymbol{\\Psi}$，所以\n",
    "\n",
    "$$\n",
    "L=\\left[\\begin{array}{ll}{l_{11}} & {l_{12}} \\\\ {l_{21}} & {l_{22}} \\\\ {l_{31}} & {l_{32}} \\\\ {l_{41}} & {l_{42}}\\end{array}\\right]=\\left[\\begin{array}{rr}{4} & {1} \\\\ {7} & {2} \\\\ {-1} & {6} \\\\ {1} & {8}\\end{array}\\right]\n",
    "$$\n",
    "\n",
    "$$\n",
    "\\Psi=\\left[\\begin{array}{cccc}{\\psi_{1}} & {0} & {0} & {0} \\\\ {0} & {\\psi_{2}} & {0} & {0} \\\\ {0} & {0} & {\\psi_{3}} & {0} \\\\ {0} & {0} & {0} & {\\psi_{4}}\\end{array}\\right]=\\left[\\begin{array}{cccc}{2} & {0} & {0} & {0} \\\\ {0} & {4} & {0} & {0} \\\\ {0} & {0} & {1} & {0} \\\\ {0} & {0} & {0} & {3}\\end{array}\\right]\n",
    "$$\n",
    "\n",
    "由此得到$X_{1}$的共性方差（共同度）是\n",
    "\n",
    "$$\n",
    "h_{1}^{2}=l_{11}^{2}+l_{12}^{2}=4^{2}+1^{2}=17\n",
    "$$\n",
    "\n",
    "而$X_{1}$的方差可分解为\n",
    "\n",
    "$$\n",
    "\\sigma_{11}=\\left(l_{11}^{2}+l_{12}^{2}\\right)+\\psi_{1}=h_{1}^{2}+\\psi_{1}=4^{2}+1^{2}+2=17+2\n",
    "$$"
   ]
  },
  {
   "cell_type": "markdown",
   "metadata": {
    "Collapsed": "false"
   },
   "source": [
    "### 正交变换\n",
    "\n",
    "令$T$是任一$m \\times m$正交矩阵，故$TT^{\\prime}=T^{\\prime} T=I$，那么表达式可以写为\n",
    "\n",
    "$$X-\\mu=L F+\\boldsymbol{\\varepsilon}=L T T^{\\prime} F+\\boldsymbol{\\varepsilon}=L^{*} F^{*}+\\boldsymbol{\\varepsilon}$$\n",
    "\n",
    "其中$L^{*}=L T$和$F^{*}=T^{\\prime} F$，由于\n",
    "\n",
    "$$E\\left(F^{*}\\right)=T^{\\prime} E(F)=\\mathbf{0}$$\n",
    "\n",
    "及\n",
    "\n",
    "$$\\operatorname{Cov}\\left(F^{*}\\right)=T^{\\prime} \\operatorname{Cov}(F) T=T^{\\prime} T=\\underset{(m \\times m)}{I}$$\n",
    "\n",
    "因此，这意味着要将载荷$L$和$L^{*}$区别开来是不可能的，这为“因子旋转”提供了基本理论。"
   ]
  },
  {
   "cell_type": "markdown",
   "metadata": {
    "Collapsed": "false"
   },
   "source": [
    "### 估计方法\n",
    "\n",
    "#### 主成分方法\n",
    "\n",
    "**谱分解**\n",
    "\n",
    "协方差矩阵$\\Sigma$的因子化分解，令$\\Sigma$有特征值-特征向量对$\\left(\\lambda_{i}, e_{i}\\right)$，$\\lambda_{1} \\geqslant \\lambda_{2} \\geqslant \\cdots \\geqslant \\lambda_{p} \\geqslant 0$，则\n",
    "\n",
    "$$\n",
    "\\Sigma=\\sum_{i=1}^{p} \\lambda_{i} \\mathbf{e}_{\\mathbf{i}} \\mathbf{e}_{\\mathbf{i}}^{\\prime} \\cong \\sum_{i=1}^{m} \\lambda_{i} \\mathbf{e}_{\\mathbf{i}} \\mathbf{e}_{\\mathbf{i}}^{\\prime}=\\left(\\sqrt{\\lambda_{1} \\mathbf{e}_{1}} \\sqrt{\\lambda_{2} \\mathbf{e}_{2}} \\quad \\ldots \\quad \\sqrt{\\lambda_{m}} \\mathbf{e}_{\\mathbf{m}}\\right)\\left(\\begin{array}{c}{\\sqrt{\\lambda_{1}} \\mathbf{e}_{1}^{\\prime}} \\\\ {\\sqrt{\\lambda_{2}} \\mathbf{e}_{2}^{\\prime}} \\\\ {\\vdots} \\\\ {\\sqrt{\\lambda_{m}} \\mathbf{e}_{\\mathbf{m}}^{\\prime}}\\end{array}\\right)=\\mathbf{L} \\mathbf{L}^{\\prime}\n",
    "$$\n",
    "\n",
    "即\n",
    "\n",
    "$$\n",
    "\\begin{aligned} \\boldsymbol{\\Sigma} & \\doteq L L^{\\prime}+\\boldsymbol{\\Psi} \\\\ &=\\left(\\sqrt{\\lambda_{1} \\mathbf{e}_{1}} \\sqrt{\\lambda_{2} \\mathbf{e}_{2}} \\quad \\ldots \\quad \\sqrt{\\lambda_{m}} \\mathbf{e}_{\\mathbf{m}}\\right)\\left(\\begin{array}{c}{\\sqrt{\\lambda_{1}} \\mathbf{e}_{1}^{\\prime}} \\\\ {\\sqrt{\\lambda_{2}} \\mathbf{e}_{2}^{\\prime}} \\\\ {\\vdots} \\\\ {\\sqrt{\\lambda_{m}} \\mathbf{e}_{\\mathbf{m}}^{\\prime}}\\end{array}\\right) + \\left[\\begin{array}{cccc}{\\psi_{1}} & {0} & {\\cdots} & {0} \\\\ {0} & {\\psi_{2}} & {\\cdots} & {0} \\\\ {\\vdots} & {\\vdots} & {\\ddots} & {\\vdots} \\\\ {0} & {0} & {\\cdots} & {\\psi_{p}}\\end{array}\\right]\\end{aligned}\n",
    "$$\n",
    "\n",
    "**因子模型的主成分解**\n",
    "\n",
    "样本协方差$S$的主成分因子分析是以它的特征值-特征向量对$\\left(\\hat{\\lambda}_{1}, \\hat{e}_{1}\\right),\\left(\\hat{\\lambda}_{2}, \\hat{e}_{2}\\right), \\cdots,\\left(\\hat{\\lambda}_{p}, \\hat{e}_{p}\\right)$来说明的，这里$\\hat{\\lambda}_{1} \\geqslant \\hat{\\lambda}_{2} \\geqslant \\cdots \\geqslant \\hat{\\lambda}_{p}$，令$m<p$是公共因子的个数，则所估计的因子载荷阵为\n",
    "\n",
    "$$\\widetilde{L}=\\left[\\sqrt{\\hat{\\lambda}_{1}} \\hat{e}_{1} \\sqrt{\\hat{\\lambda}_{2}} \\hat{e}_{2} \\quad \\cdots \\quad \\sqrt{\\hat{\\lambda}_{m}} \\hat{e}_{m}\\right]$$\n",
    "\n",
    "所估计的特殊方差由矩阵$\\boldsymbol{S}-\\widetilde{L} \\widetilde{L}^{\\prime}$的对角元得到，故\n",
    "\n",
    "$$\\widetilde{\\Psi}=\\left[\\begin{array}{cccc}{\\psi_{1}} & {0} & {\\cdots} & {0} \\\\ {0} & {\\widetilde{\\psi}_{2}} & {\\cdots} & {0} \\\\ {\\vdots} & {\\vdots} & {\\ddots} & {\\vdots} \\\\ {0} & {0} & {\\cdots} & {\\psi_{\\rho}}\\end{array}\\right]$$\n",
    "\n",
    "共同度的估计值为\n",
    "\n",
    "$$\\tilde{h}_{i}^{2}=\\tilde{l}_{i 1}^{2}+\\tilde{l}_{i 2}^{2}+\\cdots+\\tilde{l}_{i m}^{2}$$\n",
    "\n",
    "样本相关矩阵的主成分因子分析，可用$R$取代$S$来得到。\n",
    "\n",
    "<br>\n",
    "\n",
    "#### 极大似然估计法\n",
    "\n",
    "略"
   ]
  },
  {
   "cell_type": "markdown",
   "metadata": {
    "Collapsed": "false"
   },
   "source": [
    "### 因子旋转\n",
    "\n",
    "因子载荷的一个正交变换，称之为因子旋转。\n",
    "\n",
    "旋转的目标在于得到一个简单结构，它使得各变量在某单个因子上有高额载荷，而在其余因子上只有小到中等的载荷。然而得到这一简单结构，并不总是可能的。"
   ]
  },
  {
   "cell_type": "markdown",
   "metadata": {
    "Collapsed": "false"
   },
   "source": [
    "### 因子得分\n",
    "\n",
    "因子分析中，感兴趣的通常是因子模型的参数。然而，公共因子的估计值，称为因子得分，也是我们需要的。因子得分不是在通常意义下对未知参数的估计，相反的，它们是对不能观测的随机因子向量$F_{j}$的值的估计。因子得分的常用方法有加权最小二乘法和回归法。两种因子得分方法都有两个共同的要素：\n",
    "\n",
    "- 它们把估计的因子载荷和特殊方法当作真值处理\n",
    "\n",
    "- 它们涉及原始数据的线性变换，可能是作中心化或标准化"
   ]
  },
  {
   "cell_type": "markdown",
   "metadata": {
    "Collapsed": "false"
   },
   "source": [
    "### 主成分与因子分析\n",
    "\n",
    "- 因子分析的目的是要探查能对变量起解释作用的公共因子和特殊因子，主成分分析只是寻找能解释诸多变量绝大部分变异的几组彼此不相关的新变量（主成分）。\n",
    "- 因子分析把变量表示成各因子的线性组合；主成分分析把主成分表示成各变量的线性组合。\n",
    "- 主成分分析不需要专门假设，因子分析则需要。\n",
    "- 主成分分析中，当给定协方差或相关矩阵的特征根唯一时，主成分一般是固定的；而因子分析中因子不是固定的\n",
    "- 和主成分分析比较，由于因子分析可以使用旋转帮助解释因子，在解释方面更加有优势。"
   ]
  },
  {
   "cell_type": "markdown",
   "metadata": {
    "Collapsed": "false"
   },
   "source": [
    "### 参考\n",
    "\n",
    "[Factor Analysis with the Principal Component Method and R](https://aaronschlegel.me/factor-analysis-principal-component-method-r.html)"
   ]
  }
 ],
 "metadata": {
  "kernel_info": {
   "name": "ir"
  },
  "kernelspec": {
   "display_name": "R",
   "language": "R",
   "name": "ir"
  },
  "language_info": {
   "codemirror_mode": "r",
   "file_extension": ".r",
   "mimetype": "text/x-r-source",
   "name": "R",
   "pygments_lexer": "r",
   "version": "3.6.1"
  },
  "nteract": {
   "version": "0.15.0"
  }
 },
 "nbformat": 4,
 "nbformat_minor": 4
}
