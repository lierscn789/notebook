{
 "cells": [
  {
   "cell_type": "markdown",
   "metadata": {
    "Collapsed": "false"
   },
   "source": [
    "# 中级应用统计学 —— 简介"
   ]
  },
  {
   "cell_type": "markdown",
   "metadata": {
    "Collapsed": "false"
   },
   "source": [
    "## 课程简介\n",
    "\n",
    "### 教材\n",
    "\n",
    "**主要教材**\n",
    "\n",
    "- 何晓群，多元统计分析，2015，中国人民大学出版社\n",
    "- 约翰逊，实用多元统计分析，2008，清华大学出版社\n",
    "\n",
    "**参考教材**\n",
    "\n",
    "- 布拉德利等，计算机时代的统计推断，2019，机械工业出版社"
   ]
  },
  {
   "cell_type": "markdown",
   "metadata": {
    "Collapsed": "false"
   },
   "source": [
    "## 课程内容\n",
    "\n",
    "**基本模块**\n",
    "\n",
    "- 基础知识（线性代数和统计学）\n",
    "- 均值向量的推断\n",
    "- 多元线性回归模型\n",
    "- 主成分和因子分析\n",
    "- 聚类分析\n",
    "- 判别分析和Logit模型\n",
    "\n",
    "**拓展模块**\n",
    "\n",
    "- 机器学习\n",
    "- 神经网络*\n",
    "- 深度学习*\n",
    "\n",
    "\n",
    "**软件模块**\n",
    "\n",
    "- R语言统计编程\n",
    "- Python统计编程"
   ]
  },
  {
   "cell_type": "markdown",
   "metadata": {
    "Collapsed": "false"
   },
   "source": [
    "问题：请列举学习本课程的三个理由？"
   ]
  },
  {
   "cell_type": "markdown",
   "metadata": {
    "Collapsed": "false"
   },
   "source": [
    "**R和统计学**\n",
    "\n",
    "点击[此处](https://tinystats.github.io/teacups-giraffes-and-statistics/index.html)"
   ]
  },
  {
   "cell_type": "markdown",
   "metadata": {
    "Collapsed": "false"
   },
   "source": [
    "**实战**\n",
    "\n",
    "Kaggle，点击[此处](https://www.kaggle.com/)"
   ]
  },
  {
   "cell_type": "markdown",
   "metadata": {
    "Collapsed": "false"
   },
   "source": [
    "**案例：泰坦尼克号**\n",
    "\n",
    "Kaggle竞赛，点击[此处](https://www.kaggle.com/c/titanic/overview)\n",
    "\n",
    "R，点击[此处](https://trevorstephens.com/kaggle-titanic-tutorial/getting-started-with-r/)"
   ]
  }
 ],
 "metadata": {
  "kernelspec": {
   "display_name": "R",
   "language": "R",
   "name": "ir"
  },
  "language_info": {
   "codemirror_mode": "r",
   "file_extension": ".r",
   "mimetype": "text/x-r-source",
   "name": "R",
   "pygments_lexer": "r",
   "version": "3.6.1"
  }
 },
 "nbformat": 4,
 "nbformat_minor": 4
}
