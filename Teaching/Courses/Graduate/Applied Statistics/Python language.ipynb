{
 "cells": [
  {
   "cell_type": "markdown",
   "metadata": {},
   "source": [
    "# Python语言"
   ]
  },
  {
   "cell_type": "markdown",
   "metadata": {},
   "source": [
    "## Python环境创建\n",
    "\n",
    "- 下载Python软件包，点击[此处](https://www.python.org/)；或者点击[此处](https://www.anaconda.com/distribution/)\n",
    "\n",
    "- 安装jupyter，点击[此处](https://jupyter.org/install)"
   ]
  },
  {
   "cell_type": "markdown",
   "metadata": {},
   "source": [
    "## 使用Python进行多元统计分析\n",
    "\n",
    "使用numpy包，点击[https://numpy.org/]"
   ]
  },
  {
   "cell_type": "markdown",
   "metadata": {},
   "source": [
    "**习题**\n",
    "\n",
    "设一个$n=3$的随机样本取自二维正态总体，其数据矩阵为\n",
    "\n",
    "$$\\mathbf{X}=\\left[\\begin{array}{cc}{6} & {9} \\\\ {10} & {6} \\\\ {8} & {3}\\end{array}\\right]$$\n",
    "\n",
    "试对$\\mu_{0}^{\\prime}=[9,5]$计算$T^{2}$。"
   ]
  },
  {
   "cell_type": "code",
   "execution_count": 86,
   "metadata": {},
   "outputs": [
    {
     "name": "stdout",
     "output_type": "stream",
     "text": [
      "[[ 6  9]\n",
      " [10  6]\n",
      " [ 8  3]]\n",
      "\n",
      "Dim of Data:  (3, 2)\n",
      "\n",
      " [[9]\n",
      " [5]]\n",
      "\n",
      "Dim of Data:  (2, 1)\n"
     ]
    }
   ],
   "source": [
    "import numpy as np\n",
    "\n",
    "x = np.matrix([[6,9], [10,6], [8,3]])\n",
    "mu = np.matrix([9,5]).T\n",
    "\n",
    "print(x)\n",
    "print(\"\\nDim of Data: \", x.shape)\n",
    "\n",
    "print(\"\\n\", mu)\n",
    "print(\"\\nDim of Data: \", mu.shape)"
   ]
  },
  {
   "cell_type": "markdown",
   "metadata": {},
   "source": [
    "求解均值向量"
   ]
  },
  {
   "cell_type": "code",
   "execution_count": 89,
   "metadata": {},
   "outputs": [
    {
     "name": "stdout",
     "output_type": "stream",
     "text": [
      "[[8.]\n",
      " [6.]]\n",
      "\n",
      "Dim of Data:  (2, 1)\n"
     ]
    }
   ],
   "source": [
    "mean_x = np.mean(x, axis=0).T\n",
    "\n",
    "print(mean_x)\n",
    "print(\"\\nDim of Data: \", mean_x.shape)"
   ]
  },
  {
   "cell_type": "markdown",
   "metadata": {},
   "source": [
    "求解方差协方差矩阵$S$"
   ]
  },
  {
   "cell_type": "code",
   "execution_count": 92,
   "metadata": {},
   "outputs": [
    {
     "name": "stdout",
     "output_type": "stream",
     "text": [
      "[[ 4. -3.]\n",
      " [-3.  9.]]\n",
      "\n",
      "Dim of Data:  (2, 2)\n"
     ]
    }
   ],
   "source": [
    "S = np.cov(x, rowvar=False)\n",
    "\n",
    "print(S)\n",
    "print(\"\\nDim of Data: \", S.shape)"
   ]
  },
  {
   "cell_type": "markdown",
   "metadata": {},
   "source": [
    "求解$S^{-1}$"
   ]
  },
  {
   "cell_type": "code",
   "execution_count": 95,
   "metadata": {},
   "outputs": [
    {
     "name": "stdout",
     "output_type": "stream",
     "text": [
      "[[0.33333333 0.11111111]\n",
      " [0.11111111 0.14814815]]\n",
      "\n",
      "Dim of Data:  (2, 2)\n"
     ]
    }
   ],
   "source": [
    "inv_S = np.linalg.inv(S)\n",
    "\n",
    "print(inv_S)\n",
    "print(\"\\nDim of Data: \", inv_S.shape)"
   ]
  },
  {
   "cell_type": "markdown",
   "metadata": {},
   "source": [
    "计算$T^{2}$统计量"
   ]
  },
  {
   "cell_type": "code",
   "execution_count": 106,
   "metadata": {},
   "outputs": [
    {
     "data": {
      "text/plain": [
       "matrix([[0.77777778]])"
      ]
     },
     "execution_count": 106,
     "metadata": {},
     "output_type": "execute_result"
    }
   ],
   "source": [
    "T2 = len(x)*(mean_x-mu).T*inv_S*(mean_x-mu)\n",
    "T2"
   ]
  },
  {
   "cell_type": "code",
   "execution_count": 108,
   "metadata": {},
   "outputs": [
    {
     "data": {
      "text/plain": [
       "matrix([[0.77777778]])"
      ]
     },
     "execution_count": 108,
     "metadata": {},
     "output_type": "execute_result"
    }
   ],
   "source": [
    "T2 = len(x)*(mean_x-mu).T.dot(np.linalg.inv(np.cov(x.T))).dot(mean_x-mu)\n",
    "T2"
   ]
  }
 ],
 "metadata": {
  "kernelspec": {
   "display_name": "Python 3",
   "language": "python",
   "name": "python3"
  },
  "language_info": {
   "codemirror_mode": {
    "name": "ipython",
    "version": 3
   },
   "file_extension": ".py",
   "mimetype": "text/x-python",
   "name": "python",
   "nbconvert_exporter": "python",
   "pygments_lexer": "ipython3",
   "version": "3.7.4"
  }
 },
 "nbformat": 4,
 "nbformat_minor": 4
}
