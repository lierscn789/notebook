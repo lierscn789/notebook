{
 "cells": [
  {
   "cell_type": "markdown",
   "metadata": {
    "Collapsed": "false",
    "toc-hr-collapsed": true
   },
   "source": [
    "# 回归分析和Logistic模型\n",
    "\n",
    "## 主要内容\n",
    "\n",
    "- 回归分析\n",
    "- 定性数据分析（Logistic回归）"
   ]
  },
  {
   "cell_type": "markdown",
   "metadata": {
    "Collapsed": "false"
   },
   "source": [
    "## 回归分析\n",
    "\n",
    "### 因果效应\n",
    "\n",
    "Stock和Watson( 2007) 指出，**因果效应(casual effect)**可以定义为，在一个理想的随机化控制实验中，一个给定的行为或处理对某一结果的影响。\n",
    "\n",
    "研究者往往通过在回归方程中**引入足够多的控制变量**来构造一种类似于实验的环境，即**保持其他条件不变**，从而获得关注变量的净效应(Woodridge，2003; Stock，2010)。\n",
    "\n",
    "<br>\n",
    "\n",
    "### 简单线性回归\n",
    "\n",
    "关于 $y$ 和 $x$ 之间关系的一个简单方程\n",
    "\n",
    "$$y = \\beta_{0} + \\beta_{1}x + \\mu$$\n",
    "\n",
    "其中 $y$ 为因变量、被解释变量， $x$ 为自变量、解释变量， $\\mu$ 为误差项、干扰项， $\\beta_{0}$ 为截距参数， $\\beta_{1}$ 为斜率参数。\n",
    "\n",
    "**工资方程**\n",
    "\n",
    "一个人的工资水平与他的可测教育水平及其他非观测因素的关系为\n",
    "\n",
    "$$wage=\\beta_{0}+\\beta_{1}educ +\\mu$$\n",
    "\n",
    "**线性形式**\n",
    "\n",
    "线性意味着线性于参数，并且意味着不管 $x$ 的初始值为多少，它的任何一单位变化对 $y$ 的影响都是相同的。\n",
    "\n",
    "<br>\n",
    "\n",
    "#### 对于误差项的假设\n",
    "\n",
    "- 零均值假定 $E(\\mu) = 0$ —— 总是成立的\n",
    "- 零条件均值假定 $E(\\mu|x) = E(\\mu) = 0$\n",
    "\n",
    "**讨论**\n",
    "\n",
    "为什么不直接定义协方差和相关系数为零？\n",
    "\n",
    "$\\mu$ 和 $x$ 不相关，但可能与 $x$ 的函数相关，例如 $x^{2}$ . 例如存在随机变量 $X$ , $Y=X^{2}$ ，对于任何满足 $E(X)=0$ 且 $E(X^{3})=0$ 的随机变量 $X$ ，则有 $Cov(X,Y)=0$ .\n",
    "\n",
    "**讨论**\n",
    "\n",
    "假如 $\\mu$ 是天生能力，那么 $E(\\mu|x) = E(\\mu)$ 假定意味着，无论受教育程度如何，能力的平均水平都相同。 例如，若$E(abil|educ=9)$ 表示所有受过9年教育者的平均能力，$E(abil|educ=16)$ 表示所有受过16年教育者的平均能力，假定则要求两者相等。\n",
    "\n",
    "<br>\n",
    "\n",
    "#### 普通最小二乘法\n",
    "\n",
    "**样本回归函数**\n",
    "\n",
    "$$\\hat{y}_{i} = \\hat{\\beta_{0}}+\\hat{\\beta_{1}}x_{i}$$\n",
    "\n",
    "**最小化残差平方和**\n",
    "\n",
    "$$\\sum^{n}_{i=1} \\hat{\\mu}^{2}_{i} = \\sum^{n}_{i=1} (y_{i} - \\hat{\\beta_{0}} - \\hat{\\beta_{1}}x_{i})^{2}$$\n",
    "\n",
    "**OLS估计量**\n",
    "\n",
    "$$\\hat{\\beta_{1}} = \\frac{\\sum^{n}_{i=1} (x_{i}-\\bar{x})(y_{i}-\\bar{y})}{\\sum^{n}_{i=1} (x_{i}-\\bar{x})^{2}}$$\n",
    "\n",
    "$$\\hat{\\beta_{0}} = \\bar{y} - \\hat{\\beta_{1}}\\bar{x}$$\n",
    "\n",
    "**斜率估计值**\n",
    "\n",
    "$$\\Delta \\hat{y} = \\hat{\\beta}_{1} \\Delta x$$\n",
    "\n",
    "它告诉我们 $\\hat{y}$ 在 $x$ 变化一个单位时的变化量。\n",
    "\n",
    "<br>\n",
    "\n",
    "#### 拟合优度\n",
    "\n",
    "拟合优度是 $y$ 的样本波动中被 $x$ 解释的部分，用于概括OLS回归线对数据拟合得有多好，它的取值范围为0和1之间。\n",
    "\n",
    "$$R^{2} \\equiv SSE/SST \\equiv 1 - SSR/SST$$\n",
    "\n",
    "其中\n",
    "\n",
    "总平方和(SST) $SST \\equiv \\sum^{n}_{i=1} (y_{i}-\\bar{y})^{2}$\n",
    "\n",
    "解释平方和(SSE) $SSE \\equiv \\sum^{n}_{i=1} (\\hat{y_{i}}-\\bar{y})^{2}$\n",
    "\n",
    "残差平方和(SSR) $SSR \\equiv \\sum^{n}_{i=1} \\hat{\\mu}_{i}^{2}$\n",
    "\n",
    "它们符合 $SST = SSE + SSR$\n",
    "\n",
    "**讨论**\n",
    "\n",
    "在什么情况下 $R^{2}=1$ ？\n",
    "\n",
    "<br>\n",
    "\n",
    "#### OLS的无偏性\n",
    "\n",
    "利用假定SLR.1至SLR.4，对 $\\beta_{0}$ 和 $\\beta_{1}$ 的任何值，我们都有\n",
    "\n",
    "$$E(\\hat{\\beta_{0}}) = \\beta_{0},E(\\hat{\\beta_{1}}) = \\beta_{1}$$\n",
    "\n",
    "<br>\n",
    "\n",
    "#### OLS估计量的抽样方差\n",
    "\n",
    "在假定SLR.1至SLR.5下，以样本值 $\\{x_{1},x_{2},...,x_{n}\\}$ 为条件，有\n",
    "\n",
    "$$Var(\\hat{\\beta_{1}}) = \\frac{\\sigma^{2}}{\\sum^{n}_{i=1} (x_{i}-\\bar{x})^{2}} = \\sigma^{2} / SST_{x}$$\n",
    "\n",
    "** $\\sigma^{2}$ 的无偏估计**\n",
    "\n",
    "若回归标准误（SER）\n",
    "\n",
    "$$\\hat{\\sigma}^{2}=\\frac{1}{(n-2)} \\sum_{i=1}^{n} \\hat{u}_{i}^{2}=\\operatorname{SSR} /(n-2)$$\n",
    "\n",
    "在假定SLR.1至SLR.5下，有\n",
    "\n",
    "$$ E(\\hat{\\sigma^{2}}) = \\sigma^{2}$$\n",
    "\n",
    "<br>\n",
    "\n",
    "### 多元线性回归模型\n",
    "\n",
    "#### 含有$k$个自变量的模型\n",
    "\n",
    "一般的多元线性回归模型写成\n",
    "\n",
    "$$y=\\beta_{0}+\\beta_{1} x_{1}+\\beta_{2} x_{2}+\\beta_{3} x_{3}+\\ldots+\\beta_{k} x_{k}+\\mu$$\n",
    "\n",
    "一般多元回归模型的关键假定表示为\n",
    "\n",
    "$$\\mathrm{E}\\left(u | x_{1}, x_{2}, \\ldots, x_{k}\\right)=0$$\n",
    "\n",
    "<br>\n",
    "\n",
    "#### 多元线性回归模型的最小二乘估计量\n",
    "\n",
    "残差可以定义为\n",
    "\n",
    "$$e=y-X \\hat{\\beta}$$\n",
    "\n",
    "最小化残差平方和\n",
    "\n",
    "$$\\begin{aligned} e^{\\prime} e &=(y-X \\hat{\\beta})^{\\prime}(y-X \\hat{\\beta}) \\\\ &=y^{\\prime} y-\\hat{\\beta}^{\\prime} X^{\\prime} y-y^{\\prime} X \\hat{\\beta}+\\hat{\\beta}^{\\prime} X^{\\prime} X \\hat{\\beta} \\\\ &=y^{\\prime} y-2 \\hat{\\beta}^{\\prime} X^{\\prime} y+\\hat{\\beta}^{\\prime} X^{\\prime} X \\hat{\\beta} \\end{aligned}$$\n",
    "\n",
    "一阶条件\n",
    "\n",
    "$$\\frac{\\partial e^{\\prime} e}{\\partial \\hat{\\beta}}=-2 X^{\\prime} y+2 X^{\\prime} X \\hat{\\beta}=0$$\n",
    "\n",
    "OLS估计量\n",
    "\n",
    "$$\\hat{\\beta}=\\left(X^{\\prime} X\\right)^{-1} X^{\\prime} y$$\n",
    "\n",
    "<br>\n",
    "\n",
    "#### 对OLS回归方程的解释\n",
    "\n",
    "对于含有两个自变量的回归模型\n",
    "\n",
    "$$\\hat{y}=\\hat{\\beta}_{0}+\\hat{\\beta}_{1} x_{1}+\\hat{\\beta}_{2} x_{2}$$\n",
    "\n",
    "估计值$\\hat{\\beta}_{1}$和$\\hat{\\beta}_{2}$具有偏效应（partial effect）或其他条件不变的解释。从方程得到\n",
    "\n",
    "$$\\Delta \\hat{y}=\\hat{\\beta}_{1} \\Delta x_{1}+\\hat{\\beta}_{2} \\Delta x_{2}$$\n",
    "\n",
    "当$x_{2}$固定，即$\\Delta x_{2}=0$时，可以得到\n",
    "\n",
    "$$\\Delta \\hat{y}=\\hat{\\beta}_{1} \\Delta x_{1}$$\n",
    "\n",
    "<br>\n",
    "\n",
    "#### 多元回归中“保持其他因素不变”的含义\n",
    "\n",
    "多元回归分析使我们能在非实验环境中去做自然科学家在受控实验中所能做的事情：保持其他条件不变。\n",
    "\n",
    "<br>\n",
    "\n",
    "#### 高斯马尔科夫定理\n",
    "\n",
    "**多元线性回归模型假定**\n",
    "\n",
    "- MLR.1 线性于参数\n",
    "\n",
    "- MLR.2 随机抽样\n",
    "\n",
    "- MLR.3 不存在完全共线性 —— 没有一个自变量是常数，自变量之间也不存在严格的线性关系\n",
    "\n",
    "- MLR.4 零条件均值 $E(\\mu|x_{1},x_{2},...x_{k}) = 0$\n",
    "\n",
    "当满足假定MLR.4时，我们常说具有**外生解释变量**，否则，$x_{j}$就被称为**内生解释变量**。\n",
    "\n",
    "- MLR.5 同方差性 $Var(\\mu|x_{1},x_{2},...x_{k}) = \\sigma^{2}$\n",
    "\n",
    "**OLS的无偏性**\n",
    "\n",
    "在假定MLR.1至MLR.4下，下式对总体参数对$\\beta_{j}$的任意值都成立，\n",
    "\n",
    "$$E(\\hat{\\beta}_{j}) = \\beta_{j},j=0,1,...,k$$\n",
    "\n",
    "即OLS估计量是总体参数的无偏估计量。\n",
    "\n",
    "**高斯-马尔科夫定理**\n",
    "\n",
    "在假定MLR.1至MLR.5下，$\\hat{\\beta}_{0},\\hat{\\beta}_{1},...,\\hat{\\beta}_{k}$分别是$\\beta_{0},\\beta_{1},...,\\beta_{k}$的最优线性无偏估计量。\n",
    "\n",
    "<br>\n",
    "\n",
    "#### OLS估计量的抽样分布\n",
    "\n",
    "我们需要知道$\\hat{\\beta}_{j}$的抽样分布，所以需要对误差进行概率分布的假定。\n",
    "\n",
    "**假定MLR.6 (正态性)**\n",
    "\n",
    "总体误差$\\mu$独立于解释变量$X_{1}, X_{2}, \\ldots, X_{k}$，而且服从均值为零和方差为$\\sigma^{2}$的正态分布:$u \\sim \\text { Normal }\\left(0, \\sigma^{2}\\right)$。\n",
    "\n",
    "假定MLR.1到假定MLR.6被称为**经典线性模型（CLM）假定**。我们将这六个假定下的模型称为**经典线性模型**。\n",
    "\n",
    "总结CLM总体假定的一种简洁方法是\n",
    "\n",
    "$$y | \\mathbf{x} \\sim \\operatorname{Normal}\\left(\\beta_{0}+\\beta_{1} x_{1}+\\beta_{2} x_{2}+\\ldots+\\beta_{k} x_{k}, \\sigma^{2}\\right)$$\n",
    "\n",
    "<br>\n",
    "\n",
    "**定理4.1 正态抽样分布**\n",
    "\n",
    "在CLM假定MLR.1到MLR.6下，以自变量的样本值为条件，有\n",
    "\n",
    "$$\\hat{\\beta}_{j} \\sim \\text { Normal } \\beta_{j}, \\operatorname{Var}\\left(\\hat{\\beta}_{j}\\right) ]$$\n",
    "\n",
    "其中，$\\operatorname{Var}\\left(\\hat{\\beta}_{j}\\right)=\\frac{\\sigma^{2}}{\\operatorname{SST}_{j}\\left(1-R_{j}^{2}\\right)}$。因此\n",
    "\n",
    "$$\\left(\\hat{\\beta}_{j}-\\beta_{j}\\right) / \\operatorname{sd}\\left(\\hat{\\beta}_{j}\\right) \\sim \\text { Normal }(0,1)$$\n",
    "\n",
    "<br>\n",
    "\n",
    "#### 检验对单个总体参数的假设：$t$检验\n",
    "\n",
    "**定理4.2 标准化估计量的$t$分布**\n",
    "\n",
    "在CLM假定MLR.1到MLR.6下，\n",
    "\n",
    "$$\\left(\\hat{\\beta}_{j}-\\beta_{j}\\right) / \\operatorname{se}\\left(\\hat{\\beta}_{j}\\right) \\sim t_{n-k-1}=t_{d f}$$\n",
    "\n",
    "其中，$k+1$是总体模型$y=\\beta_{0}+\\beta_{1} x_{1}+\\ldots+\\beta_{k} x_{k}+\\mu$中未知参数的个数（$k$个斜率参数和截距$\\beta_{0}$），$n-k-1$是自由度（df）。\n",
    "\n",
    "<br>\n",
    "\n",
    "在多数应用中，我们主要的兴趣在于检验**原假设（null hypothesis）**\n",
    "\n",
    "$$\\mathrm{H}_{0} : \\beta_{j}=0$$\n",
    "\n",
    "对应的**$t$统计量**被定义为\n",
    "\n",
    "$$t_{\\hat{\\beta}_{j}} \\equiv \\hat{\\beta}_{j} / \\operatorname{se}\\left(\\hat{\\beta}_{j}\\right)$$\n",
    "\n",
    "<br>\n",
    "\n",
    "#### 对多个线性约束的检验：F检验\n",
    "\n",
    "**对排除性约束的检验**\n",
    "\n",
    "将具有$k$个自变量的**不受约束模型**写为\n",
    "\n",
    "$$y=\\beta_{0}+\\beta_{1} x_{1}+\\ldots+\\beta_{k} x_{k}+\\mu$$\n",
    "\n",
    "原假设为\n",
    "\n",
    "$$\\mathrm{H}_{0} : \\beta_{k-q+1}=0, \\ldots, \\beta_{k}=0$$\n",
    "\n",
    "则当我们施加在$H_{0}$下的约束时，**受约束模型**为\n",
    "\n",
    "$$y=\\beta_{0}+\\beta_{1} x_{1}+\\ldots+\\beta_{k-q} x_{k-q}+\\mu$$\n",
    "\n",
    "定义**$F$统计量**为\n",
    "\n",
    "$$F \\equiv \\frac{\\left(\\mathrm{SSR}_{r}-\\mathrm{SSR}_{u r}\\right) / q}{\\mathrm{SSR}_{u r} /(n-k-1)}$$\n",
    "\n",
    "其中，$\\mathrm{SSR}_{r}$是受约束模型的残差平方和，$\\mathrm{SSR}_{u r}$是不受约束模型的残差平方和，$q$是所施加的约束数。\n",
    "\n",
    "在$H_{0}$下,$F$统计量服从自由度为$(q, n-k-1)$的$F$随机变量的分布，可写为\n",
    "\n",
    "$$F \\sim F_{q, n-k-1}$$\n",
    "\n",
    "**$F$统计量的$R^{2}$型**\n",
    "\n",
    "$$F=\\frac{\\left(R_{u r}^{2}-R_{r}^{2}\\right) / q}{\\left(1-R_{u r}^{2}\\right) /(n-k-1)}=\\frac{\\left(R_{u r}^{2}-R_{r}^{2}\\right) / q}{\\left(1-R_{u r}^{2}\\right) / d f_{u r}}$$"
   ]
  },
  {
   "cell_type": "markdown",
   "metadata": {
    "Collapsed": "false",
    "toc-hr-collapsed": false
   },
   "source": [
    "## 定性数据分析\n",
    "\n",
    "### 线性概率模型（LPM模型）\n",
    "\n",
    "- 二值结果到处可见\n",
    "- 给定解释变量，实际上我们想要了解二值变量发生的概率\n",
    "\n",
    "我们可以使用线性概率模型（Linear Probability Model）\n",
    "\n",
    "$$E(y | x)=P(y=1 | x)=\\beta_{0}+\\beta_{1} x_{1}+\\beta_{2} x_{2}+\\ldots+\\beta_{k} x_{k}$$\n",
    "\n",
    "这里的参数我们解释为，$x$改变一个单位，$y$的响应概率变化$\\beta$。\n",
    "\n",
    "**例子**\n",
    "\n",
    "$$died_{i}=\\beta_{0}+\\beta_{1} age_{i}+\\mu_{i}$$\n",
    "\n",
    "我们知道LPM模型并不完全正确，对于线性模型，我们假设\n",
    "\n",
    "$$Y \\sim N\\left(\\beta_{0}+\\beta_{1} X_{1}+\\cdots+\\beta_{p} X_{p}, \\sigma^{2}\\right)$$\n",
    "\n",
    "很显然，$y$是一个二值变量，不可能服从正态分布，因此$\\mu$也不会服从正态分布。但是从另一个角度来看，它是一个有用的模型。"
   ]
  },
  {
   "cell_type": "code",
   "execution_count": 1,
   "metadata": {
    "Collapsed": "false"
   },
   "outputs": [
    {
     "name": "stdout",
     "output_type": "stream",
     "text": [
      "\n",
      "(Hosmer & Lemeshow data)\n",
      "\n",
      "\n",
      "\n",
      "Contains data from http://www.stata-press.com/data/r14/lbw.dta\n",
      "  obs:           189                          Hosmer & Lemeshow data\n",
      " vars:             6                          15 Jan 2014 05:01\n",
      "---------------------------------------------------------------------------------------------------------------------------------------------------------------------------------------------------------------------------------------------------------------\n",
      "              storage   display    value\n",
      "variable name   type    format     label      variable label\n",
      "---------------------------------------------------------------------------------------------------------------------------------------------------------------------------------------------------------------------------------------------------------------\n",
      "id              int     %8.0g                 identification code\n",
      "low             byte    %8.0g                 birthweight<2500g\n",
      "age             byte    %8.0g                 age of mother\n",
      "race            byte    %8.0g      race       race\n",
      "smoke           byte    %9.0g      smoke      smoked during pregnancy\n",
      "ht              byte    %8.0g                 has history of hypertension\n",
      "---------------------------------------------------------------------------------------------------------------------------------------------------------------------------------------------------------------------------------------------------------------\n",
      "Sorted by: \n",
      "     Note: Dataset has changed since last saved.\n"
     ]
    }
   ],
   "source": [
    "use http://www.stata-press.com/data/r14/lbw, clear\n",
    "keep id low age race smoke ht\n",
    "de"
   ]
  },
  {
   "cell_type": "code",
   "execution_count": 2,
   "metadata": {
    "Collapsed": "false"
   },
   "outputs": [
    {
     "name": "stdout",
     "output_type": "stream",
     "text": [
      "\n",
      "\n",
      "       race |      Freq.     Percent        Cum.\n",
      "------------+-----------------------------------\n",
      "      white |         96       50.79       50.79\n",
      "      black |         26       13.76       64.55\n",
      "      other |         67       35.45      100.00\n",
      "------------+-----------------------------------\n",
      "      Total |        189      100.00\n",
      "\n",
      "\n",
      "has history |\n",
      "         of |\n",
      "hypertensio |\n",
      "          n |      Freq.     Percent        Cum.\n",
      "------------+-----------------------------------\n",
      "          0 |        177       93.65       93.65\n",
      "          1 |         12        6.35      100.00\n",
      "------------+-----------------------------------\n",
      "      Total |        189      100.00\n"
     ]
    }
   ],
   "source": [
    "tab race\n",
    "tab ht"
   ]
  },
  {
   "cell_type": "code",
   "execution_count": 3,
   "metadata": {
    "Collapsed": "false"
   },
   "outputs": [
    {
     "name": "stdout",
     "output_type": "stream",
     "text": [
      "\n",
      "      Source |       SS           df       MS      Number of obs   =       189\n",
      "-------------+----------------------------------   F(5, 183)       =      3.97\n",
      "       Model |  3.97372302         5  .794744605   Prob > F        =    0.0019\n",
      "    Residual |  36.6082876       183  .200045287   R-squared       =    0.0979\n",
      "-------------+----------------------------------   Adj R-squared   =    0.0733\n",
      "       Total |  40.5820106       188  .215861758   Root MSE        =    .44726\n",
      "\n",
      "------------------------------------------------------------------------------\n",
      "         low |      Coef.   Std. Err.      t    P>|t|     [95% Conf. Interval]\n",
      "-------------+----------------------------------------------------------------\n",
      "         age |  -.0056931   .0063332    -0.90   0.370    -.0181887    .0068024\n",
      "             |\n",
      "        race |\n",
      "      black  |   .1843724   .1016153     1.81   0.071    -.0161158    .3848606\n",
      "      other  |   .1975286   .0771605     2.56   0.011       .04529    .3497673\n",
      "             |\n",
      "       smoke |   .2119033   .0713069     2.97   0.003     .0712139    .3525926\n",
      "          ht |   .2642362   .1339441     1.97   0.050    -.0000371    .5285094\n",
      "       _cons |   .2493361   .1690757     1.47   0.142    -.0842523    .5829244\n",
      "------------------------------------------------------------------------------\n"
     ]
    }
   ],
   "source": [
    "reg low age i.race smoke ht"
   ]
  },
  {
   "cell_type": "code",
   "execution_count": 4,
   "metadata": {
    "Collapsed": "false"
   },
   "outputs": [
    {
     "name": "stdout",
     "output_type": "stream",
     "text": [
      "\n",
      "\n",
      "\n",
      "\n",
      "     +--------------------------------------+\n",
      "     | age    race    smoke   ht       yhat |\n",
      "     |--------------------------------------|\n",
      "185. |  21   white   smoker    1   .6059195 |\n",
      "186. |  21   white   smoker    1   .6059195 |\n",
      "187. |  19   white   smoker    1   .6173058 |\n",
      "188. |  19   white   smoker    1   .6173058 |\n",
      "189. |  34   black   smoker    1    .716281 |\n",
      "     +--------------------------------------+\n",
      "\n",
      "\n",
      "     +------------------------------------------+\n",
      "     | age    race       smoke   ht        yhat |\n",
      "     |------------------------------------------|\n",
      "  1. |  45   white   nonsmoker    0   -.0068555 |\n",
      "  2. |  36   white   nonsmoker    0    .0443828 |\n",
      "  3. |  36   white   nonsmoker    0    .0443828 |\n",
      "  4. |  35   white   nonsmoker    0     .050076 |\n",
      "  5. |  33   white   nonsmoker    0    .0614623 |\n",
      "     +------------------------------------------+\n"
     ]
    }
   ],
   "source": [
    "predict yhat, xb\n",
    "\n",
    "sort yhat\n",
    "list age race smoke ht yhat in -5/L\n",
    "list age race smoke ht yhat in 1/5"
   ]
  },
  {
   "cell_type": "code",
   "execution_count": 5,
   "metadata": {
    "Collapsed": "false"
   },
   "outputs": [
    {
     "name": "stdout",
     "output_type": "stream",
     "text": [
      "\n",
      "(bin=13, start=-.00685546, width=.05562588)\n"
     ]
    },
    {
     "data": {
      "application/pdf": "[encoded data removed]",
      "image/svg+xml": [
       "<?xml version=\"1.0\" encoding=\"UTF-8\" standalone=\"no\"?>\n",
       "<!-- This is a Stata 16.0 generated SVG file (http://www.stata.com) -->\n",
       "\n",
       "<svg version=\"1.1\" width=\"600px\" height=\"436px\" viewBox=\"0 0 3960 2880\" xmlns=\"http://www.w3.org/2000/svg\" xmlns:xlink=\"http://www.w3.org/1999/xlink\">\n",
       "\t<desc>Stata Graph - Graph</desc>\n",
       "\t<rect x=\"0\" y=\"0\" width=\"3960\" height=\"2880\" style=\"fill:#EAF2F3;stroke:none\"/>\n",
       "\t<rect x=\"0.00\" y=\"0.00\" width=\"3959.88\" height=\"2880.00\" style=\"fill:#EAF2F3\"/>\n",
       "\t<rect x=\"2.88\" y=\"2.88\" width=\"3954.12\" height=\"2874.24\" style=\"fill:none;stroke:#EAF2F3;stroke-width:5.76\"/>\n",
       "\t<rect x=\"390.80\" y=\"100.86\" width=\"3468.22\" height=\"2388.33\" style=\"fill:#FFFFFF\"/>\n",
       "\t<rect x=\"393.68\" y=\"103.74\" width=\"3462.46\" height=\"2382.57\" style=\"fill:none;stroke:#FFFFFF;stroke-width:5.76\"/>\n",
       "\t<line x1=\"390.80\" y1=\"2489.19\" x2=\"3859.02\" y2=\"2489.19\" style=\"stroke:#EAF2F3;stroke-width:8.64\"/>\n",
       "\t<line x1=\"390.80\" y1=\"1714.24\" x2=\"3859.02\" y2=\"1714.24\" style=\"stroke:#EAF2F3;stroke-width:8.64\"/>\n",
       "\t<line x1=\"390.80\" y1=\"939.17\" x2=\"3859.02\" y2=\"939.17\" style=\"stroke:#EAF2F3;stroke-width:8.64\"/>\n",
       "\t<line x1=\"390.80\" y1=\"164.22\" x2=\"3859.02\" y2=\"164.22\" style=\"stroke:#EAF2F3;stroke-width:8.64\"/>\n",
       "\t<rect x=\"565.54\" y=\"2378.67\" width=\"222.63\" height=\"110.51\" style=\"fill:#CAC27E\"/>\n",
       "\t<rect x=\"569.86\" y=\"2382.99\" width=\"213.99\" height=\"101.87\" style=\"fill:none;stroke:#D7D29E;stroke-width:8.64\"/>\n",
       "\t<rect x=\"788.16\" y=\"1936.38\" width=\"222.75\" height=\"552.81\" style=\"fill:#CAC27E\"/>\n",
       "\t<rect x=\"792.48\" y=\"1940.70\" width=\"214.11\" height=\"544.17\" style=\"fill:none;stroke:#D7D29E;stroke-width:8.64\"/>\n",
       "\t<rect x=\"1010.91\" y=\"1641.47\" width=\"222.63\" height=\"847.71\" style=\"fill:#CAC27E\"/>\n",
       "\t<rect x=\"1015.23\" y=\"1645.79\" width=\"213.99\" height=\"839.07\" style=\"fill:none;stroke:#D7D29E;stroke-width:8.64\"/>\n",
       "\t<rect x=\"1233.54\" y=\"2415.43\" width=\"222.75\" height=\"73.76\" style=\"fill:#CAC27E\"/>\n",
       "\t<rect x=\"1237.86\" y=\"2419.75\" width=\"214.11\" height=\"65.12\" style=\"fill:none;stroke:#D7D29E;stroke-width:8.64\"/>\n",
       "\t<rect x=\"1456.29\" y=\"2415.43\" width=\"222.63\" height=\"73.76\" style=\"fill:#CAC27E\"/>\n",
       "\t<rect x=\"1460.61\" y=\"2419.75\" width=\"213.99\" height=\"65.12\" style=\"fill:none;stroke:#D7D29E;stroke-width:8.64\"/>\n",
       "\t<rect x=\"1678.92\" y=\"646.24\" width=\"222.75\" height=\"1842.94\" style=\"fill:#CAC27E\"/>\n",
       "\t<rect x=\"1683.24\" y=\"650.56\" width=\"214.11\" height=\"1834.30\" style=\"fill:none;stroke:#D7D29E;stroke-width:8.64\"/>\n",
       "\t<rect x=\"1901.67\" y=\"240.83\" width=\"222.75\" height=\"2248.36\" style=\"fill:#CAC27E\"/>\n",
       "\t<rect x=\"1905.99\" y=\"245.14\" width=\"214.11\" height=\"2239.72\" style=\"fill:none;stroke:#D7D29E;stroke-width:8.64\"/>\n",
       "\t<rect x=\"2124.42\" y=\"2452.31\" width=\"222.63\" height=\"36.88\" style=\"fill:#CAC27E\"/>\n",
       "\t<rect x=\"2128.74\" y=\"2456.63\" width=\"213.99\" height=\"28.24\" style=\"fill:none;stroke:#D7D29E;stroke-width:8.64\"/>\n",
       "\t<rect x=\"2347.04\" y=\"2415.43\" width=\"222.75\" height=\"73.76\" style=\"fill:#CAC27E\"/>\n",
       "\t<rect x=\"2351.36\" y=\"2419.75\" width=\"214.11\" height=\"65.12\" style=\"fill:none;stroke:#D7D29E;stroke-width:8.64\"/>\n",
       "\t<rect x=\"2569.79\" y=\"1899.50\" width=\"222.63\" height=\"589.69\" style=\"fill:#CAC27E\"/>\n",
       "\t<rect x=\"2574.11\" y=\"1903.82\" width=\"213.99\" height=\"581.05\" style=\"fill:none;stroke:#D7D29E;stroke-width:8.64\"/>\n",
       "\t<rect x=\"2792.42\" y=\"2157.52\" width=\"222.75\" height=\"331.66\" style=\"fill:#CAC27E\"/>\n",
       "\t<rect x=\"2796.74\" y=\"2161.84\" width=\"214.11\" height=\"323.02\" style=\"fill:none;stroke:#D7D29E;stroke-width:8.64\"/>\n",
       "\t<rect x=\"3015.17\" y=\"2341.79\" width=\"222.63\" height=\"147.39\" style=\"fill:#CAC27E\"/>\n",
       "\t<rect x=\"3019.49\" y=\"2346.11\" width=\"213.99\" height=\"138.75\" style=\"fill:none;stroke:#D7D29E;stroke-width:8.64\"/>\n",
       "\t<rect x=\"3237.80\" y=\"2452.31\" width=\"222.75\" height=\"36.88\" style=\"fill:#CAC27E\"/>\n",
       "\t<rect x=\"3242.11\" y=\"2456.63\" width=\"214.11\" height=\"28.24\" style=\"fill:none;stroke:#D7D29E;stroke-width:8.64\"/>\n",
       "\t<line x1=\"390.80\" y1=\"2489.19\" x2=\"390.80\" y2=\"100.86\" style=\"stroke:#000000;stroke-width:5.76\"/>\n",
       "\t<line x1=\"390.80\" y1=\"2489.19\" x2=\"350.83\" y2=\"2489.19\" style=\"stroke:#000000;stroke-width:5.76\"/>\n",
       "\t<text x=\"300.72\" y=\"2489.19\" style=\"font-family:'Helvetica';font-size:99.99px;fill:#000000\" transform=\"rotate(-90 300.72,2489.19)\" text-anchor=\"middle\">0</text>\n",
       "\t<line x1=\"390.80\" y1=\"1714.24\" x2=\"350.83\" y2=\"1714.24\" style=\"stroke:#000000;stroke-width:5.76\"/>\n",
       "\t<text x=\"300.72\" y=\"1714.24\" style=\"font-family:'Helvetica';font-size:99.99px;fill:#000000\" transform=\"rotate(-90 300.72,1714.24)\" text-anchor=\"middle\">2</text>\n",
       "\t<line x1=\"390.80\" y1=\"939.17\" x2=\"350.83\" y2=\"939.17\" style=\"stroke:#000000;stroke-width:5.76\"/>\n",
       "\t<text x=\"300.72\" y=\"939.17\" style=\"font-family:'Helvetica';font-size:99.99px;fill:#000000\" transform=\"rotate(-90 300.72,939.17)\" text-anchor=\"middle\">4</text>\n",
       "\t<line x1=\"390.80\" y1=\"164.22\" x2=\"350.83\" y2=\"164.22\" style=\"stroke:#000000;stroke-width:5.76\"/>\n",
       "\t<text x=\"300.72\" y=\"164.22\" style=\"font-family:'Helvetica';font-size:99.99px;fill:#000000\" transform=\"rotate(-90 300.72,164.22)\" text-anchor=\"middle\">6</text>\n",
       "\t<text x=\"190.71\" y=\"1294.96\" style=\"font-family:'Helvetica';font-size:99.99px;fill:#000000\" transform=\"rotate(-90 190.71,1294.96)\" text-anchor=\"middle\">Density</text>\n",
       "\t<line x1=\"390.80\" y1=\"2489.19\" x2=\"3859.02\" y2=\"2489.19\" style=\"stroke:#000000;stroke-width:5.76\"/>\n",
       "\t<line x1=\"592.89\" y1=\"2489.19\" x2=\"592.89\" y2=\"2529.16\" style=\"stroke:#000000;stroke-width:5.76\"/>\n",
       "\t<text x=\"592.89\" y=\"2619.14\" style=\"font-family:'Helvetica';font-size:99.99px;fill:#000000\" text-anchor=\"middle\">0</text>\n",
       "\t<line x1=\"1393.67\" y1=\"2489.19\" x2=\"1393.67\" y2=\"2529.16\" style=\"stroke:#000000;stroke-width:5.76\"/>\n",
       "\t<text x=\"1393.67\" y=\"2619.14\" style=\"font-family:'Helvetica';font-size:99.99px;fill:#000000\" text-anchor=\"middle\">.2</text>\n",
       "\t<line x1=\"2194.34\" y1=\"2489.19\" x2=\"2194.34\" y2=\"2529.16\" style=\"stroke:#000000;stroke-width:5.76\"/>\n",
       "\t<text x=\"2194.34\" y=\"2619.14\" style=\"font-family:'Helvetica';font-size:99.99px;fill:#000000\" text-anchor=\"middle\">.4</text>\n",
       "\t<line x1=\"2995.00\" y1=\"2489.19\" x2=\"2995.00\" y2=\"2529.16\" style=\"stroke:#000000;stroke-width:5.76\"/>\n",
       "\t<text x=\"2995.00\" y=\"2619.14\" style=\"font-family:'Helvetica';font-size:99.99px;fill:#000000\" text-anchor=\"middle\">.6</text>\n",
       "\t<line x1=\"3795.66\" y1=\"2489.19\" x2=\"3795.66\" y2=\"2529.16\" style=\"stroke:#000000;stroke-width:5.76\"/>\n",
       "\t<text x=\"3795.66\" y=\"2619.14\" style=\"font-family:'Helvetica';font-size:99.99px;fill:#000000\" text-anchor=\"middle\">.8</text>\n",
       "\t<text x=\"2124.91\" y=\"2729.16\" style=\"font-family:'Helvetica';font-size:99.99px;fill:#000000\" text-anchor=\"middle\">Linear prediction</text>\n",
       "</svg>\n"
      ],
      "text/html": [
       "                <iframe frameborder=\"0\" scrolling=\"no\" height=\"436\" width=\"600\"                srcdoc=\"<html><body>&lt;?xml version=&quot;1.0&quot; encoding=&quot;UTF-8&quot; standalone=&quot;no&quot;?&gt;\n",
       "&lt;!-- This is a Stata 16.0 generated SVG file (http://www.stata.com) --&gt;\n",
       "\n",
       "&lt;svg version=&quot;1.1&quot; width=&quot;600px&quot; height=&quot;436px&quot; viewBox=&quot;0 0 3960 2880&quot; xmlns=&quot;http://www.w3.org/2000/svg&quot; xmlns:xlink=&quot;http://www.w3.org/1999/xlink&quot;&gt;\n",
       "\t&lt;desc&gt;Stata Graph - Graph&lt;/desc&gt;\n",
       "\t&lt;rect x=&quot;0&quot; y=&quot;0&quot; width=&quot;3960&quot; height=&quot;2880&quot; style=&quot;fill:#EAF2F3;stroke:none&quot;/&gt;\n",
       "\t&lt;rect x=&quot;0.00&quot; y=&quot;0.00&quot; width=&quot;3959.88&quot; height=&quot;2880.00&quot; style=&quot;fill:#EAF2F3&quot;/&gt;\n",
       "\t&lt;rect x=&quot;2.88&quot; y=&quot;2.88&quot; width=&quot;3954.12&quot; height=&quot;2874.24&quot; style=&quot;fill:none;stroke:#EAF2F3;stroke-width:5.76&quot;/&gt;\n",
       "\t&lt;rect x=&quot;390.80&quot; y=&quot;100.86&quot; width=&quot;3468.22&quot; height=&quot;2388.33&quot; style=&quot;fill:#FFFFFF&quot;/&gt;\n",
       "\t&lt;rect x=&quot;393.68&quot; y=&quot;103.74&quot; width=&quot;3462.46&quot; height=&quot;2382.57&quot; style=&quot;fill:none;stroke:#FFFFFF;stroke-width:5.76&quot;/&gt;\n",
       "\t&lt;line x1=&quot;390.80&quot; y1=&quot;2489.19&quot; x2=&quot;3859.02&quot; y2=&quot;2489.19&quot; style=&quot;stroke:#EAF2F3;stroke-width:8.64&quot;/&gt;\n",
       "\t&lt;line x1=&quot;390.80&quot; y1=&quot;1714.24&quot; x2=&quot;3859.02&quot; y2=&quot;1714.24&quot; style=&quot;stroke:#EAF2F3;stroke-width:8.64&quot;/&gt;\n",
       "\t&lt;line x1=&quot;390.80&quot; y1=&quot;939.17&quot; x2=&quot;3859.02&quot; y2=&quot;939.17&quot; style=&quot;stroke:#EAF2F3;stroke-width:8.64&quot;/&gt;\n",
       "\t&lt;line x1=&quot;390.80&quot; y1=&quot;164.22&quot; x2=&quot;3859.02&quot; y2=&quot;164.22&quot; style=&quot;stroke:#EAF2F3;stroke-width:8.64&quot;/&gt;\n",
       "\t&lt;rect x=&quot;565.54&quot; y=&quot;2378.67&quot; width=&quot;222.63&quot; height=&quot;110.51&quot; style=&quot;fill:#CAC27E&quot;/&gt;\n",
       "\t&lt;rect x=&quot;569.86&quot; y=&quot;2382.99&quot; width=&quot;213.99&quot; height=&quot;101.87&quot; style=&quot;fill:none;stroke:#D7D29E;stroke-width:8.64&quot;/&gt;\n",
       "\t&lt;rect x=&quot;788.16&quot; y=&quot;1936.38&quot; width=&quot;222.75&quot; height=&quot;552.81&quot; style=&quot;fill:#CAC27E&quot;/&gt;\n",
       "\t&lt;rect x=&quot;792.48&quot; y=&quot;1940.70&quot; width=&quot;214.11&quot; height=&quot;544.17&quot; style=&quot;fill:none;stroke:#D7D29E;stroke-width:8.64&quot;/&gt;\n",
       "\t&lt;rect x=&quot;1010.91&quot; y=&quot;1641.47&quot; width=&quot;222.63&quot; height=&quot;847.71&quot; style=&quot;fill:#CAC27E&quot;/&gt;\n",
       "\t&lt;rect x=&quot;1015.23&quot; y=&quot;1645.79&quot; width=&quot;213.99&quot; height=&quot;839.07&quot; style=&quot;fill:none;stroke:#D7D29E;stroke-width:8.64&quot;/&gt;\n",
       "\t&lt;rect x=&quot;1233.54&quot; y=&quot;2415.43&quot; width=&quot;222.75&quot; height=&quot;73.76&quot; style=&quot;fill:#CAC27E&quot;/&gt;\n",
       "\t&lt;rect x=&quot;1237.86&quot; y=&quot;2419.75&quot; width=&quot;214.11&quot; height=&quot;65.12&quot; style=&quot;fill:none;stroke:#D7D29E;stroke-width:8.64&quot;/&gt;\n",
       "\t&lt;rect x=&quot;1456.29&quot; y=&quot;2415.43&quot; width=&quot;222.63&quot; height=&quot;73.76&quot; style=&quot;fill:#CAC27E&quot;/&gt;\n",
       "\t&lt;rect x=&quot;1460.61&quot; y=&quot;2419.75&quot; width=&quot;213.99&quot; height=&quot;65.12&quot; style=&quot;fill:none;stroke:#D7D29E;stroke-width:8.64&quot;/&gt;\n",
       "\t&lt;rect x=&quot;1678.92&quot; y=&quot;646.24&quot; width=&quot;222.75&quot; height=&quot;1842.94&quot; style=&quot;fill:#CAC27E&quot;/&gt;\n",
       "\t&lt;rect x=&quot;1683.24&quot; y=&quot;650.56&quot; width=&quot;214.11&quot; height=&quot;1834.30&quot; style=&quot;fill:none;stroke:#D7D29E;stroke-width:8.64&quot;/&gt;\n",
       "\t&lt;rect x=&quot;1901.67&quot; y=&quot;240.83&quot; width=&quot;222.75&quot; height=&quot;2248.36&quot; style=&quot;fill:#CAC27E&quot;/&gt;\n",
       "\t&lt;rect x=&quot;1905.99&quot; y=&quot;245.14&quot; width=&quot;214.11&quot; height=&quot;2239.72&quot; style=&quot;fill:none;stroke:#D7D29E;stroke-width:8.64&quot;/&gt;\n",
       "\t&lt;rect x=&quot;2124.42&quot; y=&quot;2452.31&quot; width=&quot;222.63&quot; height=&quot;36.88&quot; style=&quot;fill:#CAC27E&quot;/&gt;\n",
       "\t&lt;rect x=&quot;2128.74&quot; y=&quot;2456.63&quot; width=&quot;213.99&quot; height=&quot;28.24&quot; style=&quot;fill:none;stroke:#D7D29E;stroke-width:8.64&quot;/&gt;\n",
       "\t&lt;rect x=&quot;2347.04&quot; y=&quot;2415.43&quot; width=&quot;222.75&quot; height=&quot;73.76&quot; style=&quot;fill:#CAC27E&quot;/&gt;\n",
       "\t&lt;rect x=&quot;2351.36&quot; y=&quot;2419.75&quot; width=&quot;214.11&quot; height=&quot;65.12&quot; style=&quot;fill:none;stroke:#D7D29E;stroke-width:8.64&quot;/&gt;\n",
       "\t&lt;rect x=&quot;2569.79&quot; y=&quot;1899.50&quot; width=&quot;222.63&quot; height=&quot;589.69&quot; style=&quot;fill:#CAC27E&quot;/&gt;\n",
       "\t&lt;rect x=&quot;2574.11&quot; y=&quot;1903.82&quot; width=&quot;213.99&quot; height=&quot;581.05&quot; style=&quot;fill:none;stroke:#D7D29E;stroke-width:8.64&quot;/&gt;\n",
       "\t&lt;rect x=&quot;2792.42&quot; y=&quot;2157.52&quot; width=&quot;222.75&quot; height=&quot;331.66&quot; style=&quot;fill:#CAC27E&quot;/&gt;\n",
       "\t&lt;rect x=&quot;2796.74&quot; y=&quot;2161.84&quot; width=&quot;214.11&quot; height=&quot;323.02&quot; style=&quot;fill:none;stroke:#D7D29E;stroke-width:8.64&quot;/&gt;\n",
       "\t&lt;rect x=&quot;3015.17&quot; y=&quot;2341.79&quot; width=&quot;222.63&quot; height=&quot;147.39&quot; style=&quot;fill:#CAC27E&quot;/&gt;\n",
       "\t&lt;rect x=&quot;3019.49&quot; y=&quot;2346.11&quot; width=&quot;213.99&quot; height=&quot;138.75&quot; style=&quot;fill:none;stroke:#D7D29E;stroke-width:8.64&quot;/&gt;\n",
       "\t&lt;rect x=&quot;3237.80&quot; y=&quot;2452.31&quot; width=&quot;222.75&quot; height=&quot;36.88&quot; style=&quot;fill:#CAC27E&quot;/&gt;\n",
       "\t&lt;rect x=&quot;3242.11&quot; y=&quot;2456.63&quot; width=&quot;214.11&quot; height=&quot;28.24&quot; style=&quot;fill:none;stroke:#D7D29E;stroke-width:8.64&quot;/&gt;\n",
       "\t&lt;line x1=&quot;390.80&quot; y1=&quot;2489.19&quot; x2=&quot;390.80&quot; y2=&quot;100.86&quot; style=&quot;stroke:#000000;stroke-width:5.76&quot;/&gt;\n",
       "\t&lt;line x1=&quot;390.80&quot; y1=&quot;2489.19&quot; x2=&quot;350.83&quot; y2=&quot;2489.19&quot; style=&quot;stroke:#000000;stroke-width:5.76&quot;/&gt;\n",
       "\t&lt;text x=&quot;300.72&quot; y=&quot;2489.19&quot; style=&quot;font-family:&#x27;Helvetica&#x27;;font-size:99.99px;fill:#000000&quot; transform=&quot;rotate(-90 300.72,2489.19)&quot; text-anchor=&quot;middle&quot;&gt;0&lt;/text&gt;\n",
       "\t&lt;line x1=&quot;390.80&quot; y1=&quot;1714.24&quot; x2=&quot;350.83&quot; y2=&quot;1714.24&quot; style=&quot;stroke:#000000;stroke-width:5.76&quot;/&gt;\n",
       "\t&lt;text x=&quot;300.72&quot; y=&quot;1714.24&quot; style=&quot;font-family:&#x27;Helvetica&#x27;;font-size:99.99px;fill:#000000&quot; transform=&quot;rotate(-90 300.72,1714.24)&quot; text-anchor=&quot;middle&quot;&gt;2&lt;/text&gt;\n",
       "\t&lt;line x1=&quot;390.80&quot; y1=&quot;939.17&quot; x2=&quot;350.83&quot; y2=&quot;939.17&quot; style=&quot;stroke:#000000;stroke-width:5.76&quot;/&gt;\n",
       "\t&lt;text x=&quot;300.72&quot; y=&quot;939.17&quot; style=&quot;font-family:&#x27;Helvetica&#x27;;font-size:99.99px;fill:#000000&quot; transform=&quot;rotate(-90 300.72,939.17)&quot; text-anchor=&quot;middle&quot;&gt;4&lt;/text&gt;\n",
       "\t&lt;line x1=&quot;390.80&quot; y1=&quot;164.22&quot; x2=&quot;350.83&quot; y2=&quot;164.22&quot; style=&quot;stroke:#000000;stroke-width:5.76&quot;/&gt;\n",
       "\t&lt;text x=&quot;300.72&quot; y=&quot;164.22&quot; style=&quot;font-family:&#x27;Helvetica&#x27;;font-size:99.99px;fill:#000000&quot; transform=&quot;rotate(-90 300.72,164.22)&quot; text-anchor=&quot;middle&quot;&gt;6&lt;/text&gt;\n",
       "\t&lt;text x=&quot;190.71&quot; y=&quot;1294.96&quot; style=&quot;font-family:&#x27;Helvetica&#x27;;font-size:99.99px;fill:#000000&quot; transform=&quot;rotate(-90 190.71,1294.96)&quot; text-anchor=&quot;middle&quot;&gt;Density&lt;/text&gt;\n",
       "\t&lt;line x1=&quot;390.80&quot; y1=&quot;2489.19&quot; x2=&quot;3859.02&quot; y2=&quot;2489.19&quot; style=&quot;stroke:#000000;stroke-width:5.76&quot;/&gt;\n",
       "\t&lt;line x1=&quot;592.89&quot; y1=&quot;2489.19&quot; x2=&quot;592.89&quot; y2=&quot;2529.16&quot; style=&quot;stroke:#000000;stroke-width:5.76&quot;/&gt;\n",
       "\t&lt;text x=&quot;592.89&quot; y=&quot;2619.14&quot; style=&quot;font-family:&#x27;Helvetica&#x27;;font-size:99.99px;fill:#000000&quot; text-anchor=&quot;middle&quot;&gt;0&lt;/text&gt;\n",
       "\t&lt;line x1=&quot;1393.67&quot; y1=&quot;2489.19&quot; x2=&quot;1393.67&quot; y2=&quot;2529.16&quot; style=&quot;stroke:#000000;stroke-width:5.76&quot;/&gt;\n",
       "\t&lt;text x=&quot;1393.67&quot; y=&quot;2619.14&quot; style=&quot;font-family:&#x27;Helvetica&#x27;;font-size:99.99px;fill:#000000&quot; text-anchor=&quot;middle&quot;&gt;.2&lt;/text&gt;\n",
       "\t&lt;line x1=&quot;2194.34&quot; y1=&quot;2489.19&quot; x2=&quot;2194.34&quot; y2=&quot;2529.16&quot; style=&quot;stroke:#000000;stroke-width:5.76&quot;/&gt;\n",
       "\t&lt;text x=&quot;2194.34&quot; y=&quot;2619.14&quot; style=&quot;font-family:&#x27;Helvetica&#x27;;font-size:99.99px;fill:#000000&quot; text-anchor=&quot;middle&quot;&gt;.4&lt;/text&gt;\n",
       "\t&lt;line x1=&quot;2995.00&quot; y1=&quot;2489.19&quot; x2=&quot;2995.00&quot; y2=&quot;2529.16&quot; style=&quot;stroke:#000000;stroke-width:5.76&quot;/&gt;\n",
       "\t&lt;text x=&quot;2995.00&quot; y=&quot;2619.14&quot; style=&quot;font-family:&#x27;Helvetica&#x27;;font-size:99.99px;fill:#000000&quot; text-anchor=&quot;middle&quot;&gt;.6&lt;/text&gt;\n",
       "\t&lt;line x1=&quot;3795.66&quot; y1=&quot;2489.19&quot; x2=&quot;3795.66&quot; y2=&quot;2529.16&quot; style=&quot;stroke:#000000;stroke-width:5.76&quot;/&gt;\n",
       "\t&lt;text x=&quot;3795.66&quot; y=&quot;2619.14&quot; style=&quot;font-family:&#x27;Helvetica&#x27;;font-size:99.99px;fill:#000000&quot; text-anchor=&quot;middle&quot;&gt;.8&lt;/text&gt;\n",
       "\t&lt;text x=&quot;2124.91&quot; y=&quot;2729.16&quot; style=&quot;font-family:&#x27;Helvetica&#x27;;font-size:99.99px;fill:#000000&quot; text-anchor=&quot;middle&quot;&gt;Linear prediction&lt;/text&gt;\n",
       "&lt;/svg&gt;\n",
       "</body></html>\"></iframe>\n"
      ],
      "text/plain": [
       "This front-end cannot display the desired image type."
      ]
     },
     "metadata": {
      "image/svg+xml": {
       "height": 436,
       "width": 600
      },
      "text/html": {
       "height": 436,
       "width": 600
      }
     },
     "output_type": "display_data"
    },
    {
     "name": "stdout",
     "output_type": "stream",
     "text": [
      "\n",
      "\n",
      "\n",
      "\n",
      "    Variable |        Obs        Mean    Std. Dev.       Min        Max\n",
      "-------------+---------------------------------------------------------\n",
      "        yhat |        189    .3121693    .1453851  -.0068555    .716281\n"
     ]
    }
   ],
   "source": [
    "hist yhat\n",
    "su yhat"
   ]
  },
  {
   "cell_type": "markdown",
   "metadata": {
    "Collapsed": "false"
   },
   "source": [
    "LPM模型的另一个问题在于，$x$总是异方差的，即$\\operatorname{var}(y | \\mathbf{x})=p(\\mathbf{x})[1-p(\\mathbf{x})]$。当然我们可以使用稳健标准误来缓解这个问题。"
   ]
  },
  {
   "cell_type": "markdown",
   "metadata": {
    "Collapsed": "false",
    "toc-hr-collapsed": true
   },
   "source": [
    "### Logistic模型（Logit模型）"
   ]
  },
  {
   "cell_type": "markdown",
   "metadata": {
    "Collapsed": "false"
   },
   "source": [
    "#### 理解Logistic模型\n",
    "\n",
    "一种理解Logistic模型的方式，是基于对LPM模型的改进，建模如下\n",
    "\n",
    "$$p_{i}=P\\left(y_{i}=1 | X_{1}, \\ldots, X_{p}\\right)=F\\left(\\beta_{0}+\\beta_{1} X_{1}+\\cdots+\\beta_{p} X_{p}\\right)$$\n",
    "\n",
    "其中$F()$是累积分布函数，最常用的是逻辑斯蒂分布和标准正态累积分布函数。如果使用前者，就得到了Logistic模型，使用后者就得到了Probit模型。\n",
    "\n",
    "- Logistic函数为$\\pi=\\frac{e^{x}}{1+e^{x}}=\\frac{1}{1+e^{-x}}$，其中$x$是任意实数。\n",
    "- $\\pi(x)$被约束在$0$和$1$之间。"
   ]
  },
  {
   "cell_type": "code",
   "execution_count": 6,
   "metadata": {
    "Collapsed": "false"
   },
   "outputs": [
    {
     "data": {
      "application/pdf": "[encoded data removed]",
      "image/svg+xml": [
       "<?xml version=\"1.0\" encoding=\"UTF-8\" standalone=\"no\"?>\n",
       "<!-- This is a Stata 16.0 generated SVG file (http://www.stata.com) -->\n",
       "\n",
       "<svg version=\"1.1\" width=\"600px\" height=\"436px\" viewBox=\"0 0 3960 2880\" xmlns=\"http://www.w3.org/2000/svg\" xmlns:xlink=\"http://www.w3.org/1999/xlink\">\n",
       "\t<desc>Stata Graph - Graph</desc>\n",
       "\t<rect x=\"0\" y=\"0\" width=\"3960\" height=\"2880\" style=\"fill:#EAF2F3;stroke:none\"/>\n",
       "\t<rect x=\"0.00\" y=\"0.00\" width=\"3959.88\" height=\"2880.00\" style=\"fill:#EAF2F3\"/>\n",
       "\t<rect x=\"2.88\" y=\"2.88\" width=\"3954.12\" height=\"2874.24\" style=\"fill:none;stroke:#EAF2F3;stroke-width:5.76\"/>\n",
       "\t<rect x=\"390.80\" y=\"100.86\" width=\"3468.22\" height=\"2388.33\" style=\"fill:#FFFFFF\"/>\n",
       "\t<rect x=\"393.68\" y=\"103.74\" width=\"3462.46\" height=\"2382.57\" style=\"fill:none;stroke:#FFFFFF;stroke-width:5.76\"/>\n",
       "\t<line x1=\"390.80\" y1=\"2425.82\" x2=\"3859.02\" y2=\"2425.82\" style=\"stroke:#EAF2F3;stroke-width:8.64\"/>\n",
       "\t<line x1=\"390.80\" y1=\"1973.50\" x2=\"3859.02\" y2=\"1973.50\" style=\"stroke:#EAF2F3;stroke-width:8.64\"/>\n",
       "\t<line x1=\"390.80\" y1=\"1521.18\" x2=\"3859.02\" y2=\"1521.18\" style=\"stroke:#EAF2F3;stroke-width:8.64\"/>\n",
       "\t<line x1=\"390.80\" y1=\"1068.86\" x2=\"3859.02\" y2=\"1068.86\" style=\"stroke:#EAF2F3;stroke-width:8.64\"/>\n",
       "\t<line x1=\"390.80\" y1=\"616.54\" x2=\"3859.02\" y2=\"616.54\" style=\"stroke:#EAF2F3;stroke-width:8.64\"/>\n",
       "\t<line x1=\"390.80\" y1=\"164.22\" x2=\"3859.02\" y2=\"164.22\" style=\"stroke:#EAF2F3;stroke-width:8.64\"/>\n",
       "\t<path d=\" M454.04 2425.82 L465.30 2425.82 L476.44 2425.82 L487.57 2425.82 L498.84 2425.82 L509.97 2425.82 L521.11 2425.70 L532.25 2425.70 L543.51 2425.70 L554.65 2425.70 L565.78 2425.70 L577.05 2425.70 L588.18 2425.70 L599.32 2425.70 L610.58 2425.70 L621.72 2425.58 L632.86 2425.58 L644.12 2425.58 L655.26 2425.58 L666.39 2425.58 L677.65 2425.58 L688.79 2425.45 L699.93 2425.45 L711.07 2425.45 L722.33 2425.45 L733.47 2425.33 L744.60 2425.33 L755.87 2425.33 L767.00 2425.20 L778.14 2425.20 L789.40 2425.20 L800.54 2425.08 L811.68 2425.08 L822.94 2424.96 L834.08 2424.96 L845.21 2424.83 L856.35 2424.71 L867.61 2424.71 L878.75 2424.59 L889.89 2424.46 L901.15 2424.46 L912.28 2424.34 L923.42 2424.21 L934.68 2424.09 L945.82 2423.97 L956.96 2423.84 L968.22 2423.72 L979.36 2423.47 L990.50 2423.35 L1001.63 2423.22 L1012.89 2422.98 L1024.03 2422.85 L1035.17 2422.61 L1046.43 2422.36 L1057.57 2422.11 L1068.70 2421.86 L1079.97 2421.62 L1091.10 2421.24 L1102.24 2421.00 L1113.50 2420.63 L1124.64 2420.25 L1135.78 2419.88 L1147.04 2419.39 L1158.18 2419.02 L1169.31 2418.52 L1180.45 2418.03 L1191.71 2417.41 L1202.85 2416.91 L1213.99 2416.29 L1225.25 2415.55 L1236.39 2414.93 L1247.52 2414.07 L1258.79 2413.32 L1269.92 2412.46 L1281.06 2411.47 L1292.32 2410.48 L1303.46 2409.49 L1314.60 2408.37 L1325.73 2407.14 L1336.99 2405.90 L1348.13 2404.41 L1359.27 2403.05 L1370.53 2401.44 L1381.67 2399.71 L1392.81 2397.98 L1404.07 2396.00 L1415.20 2394.02 L1426.34 2391.79 L1437.60 2389.56 L1448.74 2387.09 L1459.88 2384.37 L1471.14 2381.64 L1482.28 2378.55 L1493.41 2375.46 L1504.55 2371.99 L1515.81 2368.40 L1526.95 2364.44 L1538.09 2360.36 L1549.35 2356.03 L1560.49 2351.32 L1571.63 2346.25 L1582.89 2341.05 L1594.02 2335.36 L1605.16 2329.42 L1616.42 2322.98 L1627.56 2316.18 L1638.70 2309.00 L1649.84 2301.45 L1661.10 2293.28 L1672.23 2284.74 L1683.37 2275.59 L1694.63 2265.93 L1705.77 2255.66 L1716.91 2244.77 L1728.17 2233.39 L1739.31 2221.26 L1750.44 2208.51 L1761.70 2194.90 L1772.84 2180.67 L1783.98 2165.69 L1795.24 2149.85 L1806.38 2133.27 L1817.52 2115.82 L1828.65 2097.50 L1839.91 2078.20 L1851.05 2058.15 L1862.19 2036.99 L1873.45 2014.96 L1884.59 1992.07 L1895.73 1968.06 L1906.99 1943.18 L1918.13 1917.32 L1929.26 1890.46 L1940.52 1862.62 L1951.66 1833.91 L1962.80 1804.21 L1973.94 1773.52 L1985.20 1742.08 L1996.34 1709.78 L2007.47 1676.62 L2018.73 1642.71 L2029.87 1608.18 L2041.01 1572.91 L2052.27 1537.15 L2063.41 1500.76 L2074.55 1464.01 L2085.81 1426.88 L2096.94 1389.38 L2108.08 1351.76 L2119.22 1314.02 L2130.48 1276.15 L2141.62 1238.40 L2152.76 1200.78 L2164.02 1163.29 L2175.15 1126.16 L2186.29 1089.41 L2197.55 1053.02 L2208.69 1017.26 L2219.83 981.99 L2231.09 947.34 L2242.23 913.55 L2253.36 880.39 L2264.63 848.09 L2275.76 816.53 L2286.90 785.96 L2298.04 756.26 L2309.30 727.55 L2320.44 699.70 L2331.57 672.85 L2342.84 646.99 L2353.97 621.99 L2365.11 598.10 L2376.37 575.08 L2387.51 553.06 L2398.65 532.02 L2409.91 511.85 L2421.05 492.66 L2432.18 474.35 L2443.32 456.90 L2454.58 440.19 L2465.72 424.48 L2476.86 409.38 L2488.12 395.15 L2499.26 381.66 L2510.39 368.91 L2521.65 356.78 L2532.79 345.27 L2543.93 334.51 L2555.19 324.24 L2566.33 314.58 L2577.47 305.42 L2588.73 296.89 L2599.86 288.72 L2611.00 281.05 L2622.14 273.87 L2633.40 267.18 L2644.54 260.75 L2655.68 254.81 L2666.94 249.12 L2678.07 243.80 L2689.21 238.84 L2700.47 234.14 L2711.61 229.81 L2722.75 225.60 L2734.01 221.77 L2745.15 218.18 L2756.28 214.71 L2767.42 211.50 L2778.68 208.53 L2789.82 205.68 L2800.96 203.08 L2812.22 200.61 L2823.36 198.25 L2834.49 196.15 L2845.76 194.05 L2856.89 192.19 L2868.03 190.33 L2879.29 188.72 L2890.43 187.12 L2901.57 185.63 L2912.83 184.27 L2923.97 183.03 L2935.10 181.79 L2946.24 180.68 L2957.50 179.57 L2968.64 178.58 L2979.78 177.71 L2991.04 176.84 L3002.18 175.98 L3013.31 175.24 L3024.57 174.49 L3035.71 173.87 L3046.85 173.26 L3058.11 172.64 L3069.25 172.14 L3080.39 171.65 L3091.52 171.15 L3102.78 170.66 L3113.92 170.29 L3125.06 169.91 L3136.32 169.54 L3147.46 169.17 L3158.59 168.80 L3169.86 168.55 L3180.99 168.31 L3192.13 168.06 L3203.39 167.81 L3214.53 167.56 L3225.67 167.32 L3236.80 167.07 L3248.07 166.94 L3259.20 166.82 L3270.34 166.57 L3281.60 166.45 L3292.74 166.33 L3303.88 166.20 L3315.14 166.08 L3326.28 165.95 L3337.41 165.83 L3348.68 165.71 L3359.81 165.58 L3370.95 165.58 L3382.21 165.46 L3393.35 165.34 L3404.49 165.34 L3415.62 165.21 L3426.89 165.21 L3438.02 165.09 L3449.16 165.09 L3460.42 164.96 L3471.56 164.96 L3482.70 164.84 L3493.96 164.84 L3505.09 164.84 L3516.23 164.72 L3527.49 164.72 L3538.63 164.72 L3549.77 164.72 L3560.91 164.59 L3572.17 164.59 L3583.30 164.59 L3594.44 164.59 L3605.70 164.59 L3616.84 164.47 L3627.98 164.47 L3639.24 164.47 L3650.38 164.47 L3661.51 164.47 L3672.78 164.47 L3683.91 164.47 L3695.05 164.47 L3706.31 164.35 L3717.45 164.35 L3728.59 164.35 L3739.72 164.35 L3750.99 164.35 L3762.12 164.35 L3773.26 164.35 L3784.52 164.35 L3795.66 164.35\" stroke-linejoin=\"round\" style=\"fill:none;stroke:#1A476F;stroke-width:8.64\"/>\n",
       "\t<line x1=\"390.80\" y1=\"2489.19\" x2=\"390.80\" y2=\"100.86\" style=\"stroke:#000000;stroke-width:5.76\"/>\n",
       "\t<line x1=\"390.80\" y1=\"2425.82\" x2=\"350.83\" y2=\"2425.82\" style=\"stroke:#000000;stroke-width:5.76\"/>\n",
       "\t<text x=\"300.72\" y=\"2425.82\" style=\"font-family:'Helvetica';font-size:99.99px;fill:#000000\" transform=\"rotate(-90 300.72,2425.82)\" text-anchor=\"middle\">0</text>\n",
       "\t<line x1=\"390.80\" y1=\"1973.50\" x2=\"350.83\" y2=\"1973.50\" style=\"stroke:#000000;stroke-width:5.76\"/>\n",
       "\t<text x=\"300.72\" y=\"1973.50\" style=\"font-family:'Helvetica';font-size:99.99px;fill:#000000\" transform=\"rotate(-90 300.72,1973.50)\" text-anchor=\"middle\">.2</text>\n",
       "\t<line x1=\"390.80\" y1=\"1521.18\" x2=\"350.83\" y2=\"1521.18\" style=\"stroke:#000000;stroke-width:5.76\"/>\n",
       "\t<text x=\"300.72\" y=\"1521.18\" style=\"font-family:'Helvetica';font-size:99.99px;fill:#000000\" transform=\"rotate(-90 300.72,1521.18)\" text-anchor=\"middle\">.4</text>\n",
       "\t<line x1=\"390.80\" y1=\"1068.86\" x2=\"350.83\" y2=\"1068.86\" style=\"stroke:#000000;stroke-width:5.76\"/>\n",
       "\t<text x=\"300.72\" y=\"1068.86\" style=\"font-family:'Helvetica';font-size:99.99px;fill:#000000\" transform=\"rotate(-90 300.72,1068.86)\" text-anchor=\"middle\">.6</text>\n",
       "\t<line x1=\"390.80\" y1=\"616.54\" x2=\"350.83\" y2=\"616.54\" style=\"stroke:#000000;stroke-width:5.76\"/>\n",
       "\t<text x=\"300.72\" y=\"616.54\" style=\"font-family:'Helvetica';font-size:99.99px;fill:#000000\" transform=\"rotate(-90 300.72,616.54)\" text-anchor=\"middle\">.8</text>\n",
       "\t<line x1=\"390.80\" y1=\"164.22\" x2=\"350.83\" y2=\"164.22\" style=\"stroke:#000000;stroke-width:5.76\"/>\n",
       "\t<text x=\"300.72\" y=\"164.22\" style=\"font-family:'Helvetica';font-size:99.99px;fill:#000000\" transform=\"rotate(-90 300.72,164.22)\" text-anchor=\"middle\">1</text>\n",
       "\t<text x=\"190.71\" y=\"1294.96\" style=\"font-family:'Helvetica';font-size:99.99px;fill:#000000\" transform=\"rotate(-90 190.71,1294.96)\" text-anchor=\"middle\">y</text>\n",
       "\t<line x1=\"390.80\" y1=\"2489.19\" x2=\"3859.02\" y2=\"2489.19\" style=\"stroke:#000000;stroke-width:5.76\"/>\n",
       "\t<line x1=\"454.16\" y1=\"2489.19\" x2=\"454.16\" y2=\"2529.16\" style=\"stroke:#000000;stroke-width:5.76\"/>\n",
       "\t<text x=\"454.16\" y=\"2619.14\" style=\"font-family:'Helvetica';font-size:99.99px;fill:#000000\" text-anchor=\"middle\">-10</text>\n",
       "\t<line x1=\"1289.47\" y1=\"2489.19\" x2=\"1289.47\" y2=\"2529.16\" style=\"stroke:#000000;stroke-width:5.76\"/>\n",
       "\t<text x=\"1289.47\" y=\"2619.14\" style=\"font-family:'Helvetica';font-size:99.99px;fill:#000000\" text-anchor=\"middle\">-5</text>\n",
       "\t<line x1=\"2124.91\" y1=\"2489.19\" x2=\"2124.91\" y2=\"2529.16\" style=\"stroke:#000000;stroke-width:5.76\"/>\n",
       "\t<text x=\"2124.91\" y=\"2619.14\" style=\"font-family:'Helvetica';font-size:99.99px;fill:#000000\" text-anchor=\"middle\">0</text>\n",
       "\t<line x1=\"2960.35\" y1=\"2489.19\" x2=\"2960.35\" y2=\"2529.16\" style=\"stroke:#000000;stroke-width:5.76\"/>\n",
       "\t<text x=\"2960.35\" y=\"2619.14\" style=\"font-family:'Helvetica';font-size:99.99px;fill:#000000\" text-anchor=\"middle\">5</text>\n",
       "\t<line x1=\"3795.66\" y1=\"2489.19\" x2=\"3795.66\" y2=\"2529.16\" style=\"stroke:#000000;stroke-width:5.76\"/>\n",
       "\t<text x=\"3795.66\" y=\"2619.14\" style=\"font-family:'Helvetica';font-size:99.99px;fill:#000000\" text-anchor=\"middle\">10</text>\n",
       "\t<text x=\"2124.91\" y=\"2729.16\" style=\"font-family:'Helvetica';font-size:99.99px;fill:#000000\" text-anchor=\"middle\">x</text>\n",
       "</svg>\n"
      ],
      "text/html": [
       "                <iframe frameborder=\"0\" scrolling=\"no\" height=\"436\" width=\"600\"                srcdoc=\"<html><body>&lt;?xml version=&quot;1.0&quot; encoding=&quot;UTF-8&quot; standalone=&quot;no&quot;?&gt;\n",
       "&lt;!-- This is a Stata 16.0 generated SVG file (http://www.stata.com) --&gt;\n",
       "\n",
       "&lt;svg version=&quot;1.1&quot; width=&quot;600px&quot; height=&quot;436px&quot; viewBox=&quot;0 0 3960 2880&quot; xmlns=&quot;http://www.w3.org/2000/svg&quot; xmlns:xlink=&quot;http://www.w3.org/1999/xlink&quot;&gt;\n",
       "\t&lt;desc&gt;Stata Graph - Graph&lt;/desc&gt;\n",
       "\t&lt;rect x=&quot;0&quot; y=&quot;0&quot; width=&quot;3960&quot; height=&quot;2880&quot; style=&quot;fill:#EAF2F3;stroke:none&quot;/&gt;\n",
       "\t&lt;rect x=&quot;0.00&quot; y=&quot;0.00&quot; width=&quot;3959.88&quot; height=&quot;2880.00&quot; style=&quot;fill:#EAF2F3&quot;/&gt;\n",
       "\t&lt;rect x=&quot;2.88&quot; y=&quot;2.88&quot; width=&quot;3954.12&quot; height=&quot;2874.24&quot; style=&quot;fill:none;stroke:#EAF2F3;stroke-width:5.76&quot;/&gt;\n",
       "\t&lt;rect x=&quot;390.80&quot; y=&quot;100.86&quot; width=&quot;3468.22&quot; height=&quot;2388.33&quot; style=&quot;fill:#FFFFFF&quot;/&gt;\n",
       "\t&lt;rect x=&quot;393.68&quot; y=&quot;103.74&quot; width=&quot;3462.46&quot; height=&quot;2382.57&quot; style=&quot;fill:none;stroke:#FFFFFF;stroke-width:5.76&quot;/&gt;\n",
       "\t&lt;line x1=&quot;390.80&quot; y1=&quot;2425.82&quot; x2=&quot;3859.02&quot; y2=&quot;2425.82&quot; style=&quot;stroke:#EAF2F3;stroke-width:8.64&quot;/&gt;\n",
       "\t&lt;line x1=&quot;390.80&quot; y1=&quot;1973.50&quot; x2=&quot;3859.02&quot; y2=&quot;1973.50&quot; style=&quot;stroke:#EAF2F3;stroke-width:8.64&quot;/&gt;\n",
       "\t&lt;line x1=&quot;390.80&quot; y1=&quot;1521.18&quot; x2=&quot;3859.02&quot; y2=&quot;1521.18&quot; style=&quot;stroke:#EAF2F3;stroke-width:8.64&quot;/&gt;\n",
       "\t&lt;line x1=&quot;390.80&quot; y1=&quot;1068.86&quot; x2=&quot;3859.02&quot; y2=&quot;1068.86&quot; style=&quot;stroke:#EAF2F3;stroke-width:8.64&quot;/&gt;\n",
       "\t&lt;line x1=&quot;390.80&quot; y1=&quot;616.54&quot; x2=&quot;3859.02&quot; y2=&quot;616.54&quot; style=&quot;stroke:#EAF2F3;stroke-width:8.64&quot;/&gt;\n",
       "\t&lt;line x1=&quot;390.80&quot; y1=&quot;164.22&quot; x2=&quot;3859.02&quot; y2=&quot;164.22&quot; style=&quot;stroke:#EAF2F3;stroke-width:8.64&quot;/&gt;\n",
       "\t&lt;path d=&quot; M454.04 2425.82 L465.30 2425.82 L476.44 2425.82 L487.57 2425.82 L498.84 2425.82 L509.97 2425.82 L521.11 2425.70 L532.25 2425.70 L543.51 2425.70 L554.65 2425.70 L565.78 2425.70 L577.05 2425.70 L588.18 2425.70 L599.32 2425.70 L610.58 2425.70 L621.72 2425.58 L632.86 2425.58 L644.12 2425.58 L655.26 2425.58 L666.39 2425.58 L677.65 2425.58 L688.79 2425.45 L699.93 2425.45 L711.07 2425.45 L722.33 2425.45 L733.47 2425.33 L744.60 2425.33 L755.87 2425.33 L767.00 2425.20 L778.14 2425.20 L789.40 2425.20 L800.54 2425.08 L811.68 2425.08 L822.94 2424.96 L834.08 2424.96 L845.21 2424.83 L856.35 2424.71 L867.61 2424.71 L878.75 2424.59 L889.89 2424.46 L901.15 2424.46 L912.28 2424.34 L923.42 2424.21 L934.68 2424.09 L945.82 2423.97 L956.96 2423.84 L968.22 2423.72 L979.36 2423.47 L990.50 2423.35 L1001.63 2423.22 L1012.89 2422.98 L1024.03 2422.85 L1035.17 2422.61 L1046.43 2422.36 L1057.57 2422.11 L1068.70 2421.86 L1079.97 2421.62 L1091.10 2421.24 L1102.24 2421.00 L1113.50 2420.63 L1124.64 2420.25 L1135.78 2419.88 L1147.04 2419.39 L1158.18 2419.02 L1169.31 2418.52 L1180.45 2418.03 L1191.71 2417.41 L1202.85 2416.91 L1213.99 2416.29 L1225.25 2415.55 L1236.39 2414.93 L1247.52 2414.07 L1258.79 2413.32 L1269.92 2412.46 L1281.06 2411.47 L1292.32 2410.48 L1303.46 2409.49 L1314.60 2408.37 L1325.73 2407.14 L1336.99 2405.90 L1348.13 2404.41 L1359.27 2403.05 L1370.53 2401.44 L1381.67 2399.71 L1392.81 2397.98 L1404.07 2396.00 L1415.20 2394.02 L1426.34 2391.79 L1437.60 2389.56 L1448.74 2387.09 L1459.88 2384.37 L1471.14 2381.64 L1482.28 2378.55 L1493.41 2375.46 L1504.55 2371.99 L1515.81 2368.40 L1526.95 2364.44 L1538.09 2360.36 L1549.35 2356.03 L1560.49 2351.32 L1571.63 2346.25 L1582.89 2341.05 L1594.02 2335.36 L1605.16 2329.42 L1616.42 2322.98 L1627.56 2316.18 L1638.70 2309.00 L1649.84 2301.45 L1661.10 2293.28 L1672.23 2284.74 L1683.37 2275.59 L1694.63 2265.93 L1705.77 2255.66 L1716.91 2244.77 L1728.17 2233.39 L1739.31 2221.26 L1750.44 2208.51 L1761.70 2194.90 L1772.84 2180.67 L1783.98 2165.69 L1795.24 2149.85 L1806.38 2133.27 L1817.52 2115.82 L1828.65 2097.50 L1839.91 2078.20 L1851.05 2058.15 L1862.19 2036.99 L1873.45 2014.96 L1884.59 1992.07 L1895.73 1968.06 L1906.99 1943.18 L1918.13 1917.32 L1929.26 1890.46 L1940.52 1862.62 L1951.66 1833.91 L1962.80 1804.21 L1973.94 1773.52 L1985.20 1742.08 L1996.34 1709.78 L2007.47 1676.62 L2018.73 1642.71 L2029.87 1608.18 L2041.01 1572.91 L2052.27 1537.15 L2063.41 1500.76 L2074.55 1464.01 L2085.81 1426.88 L2096.94 1389.38 L2108.08 1351.76 L2119.22 1314.02 L2130.48 1276.15 L2141.62 1238.40 L2152.76 1200.78 L2164.02 1163.29 L2175.15 1126.16 L2186.29 1089.41 L2197.55 1053.02 L2208.69 1017.26 L2219.83 981.99 L2231.09 947.34 L2242.23 913.55 L2253.36 880.39 L2264.63 848.09 L2275.76 816.53 L2286.90 785.96 L2298.04 756.26 L2309.30 727.55 L2320.44 699.70 L2331.57 672.85 L2342.84 646.99 L2353.97 621.99 L2365.11 598.10 L2376.37 575.08 L2387.51 553.06 L2398.65 532.02 L2409.91 511.85 L2421.05 492.66 L2432.18 474.35 L2443.32 456.90 L2454.58 440.19 L2465.72 424.48 L2476.86 409.38 L2488.12 395.15 L2499.26 381.66 L2510.39 368.91 L2521.65 356.78 L2532.79 345.27 L2543.93 334.51 L2555.19 324.24 L2566.33 314.58 L2577.47 305.42 L2588.73 296.89 L2599.86 288.72 L2611.00 281.05 L2622.14 273.87 L2633.40 267.18 L2644.54 260.75 L2655.68 254.81 L2666.94 249.12 L2678.07 243.80 L2689.21 238.84 L2700.47 234.14 L2711.61 229.81 L2722.75 225.60 L2734.01 221.77 L2745.15 218.18 L2756.28 214.71 L2767.42 211.50 L2778.68 208.53 L2789.82 205.68 L2800.96 203.08 L2812.22 200.61 L2823.36 198.25 L2834.49 196.15 L2845.76 194.05 L2856.89 192.19 L2868.03 190.33 L2879.29 188.72 L2890.43 187.12 L2901.57 185.63 L2912.83 184.27 L2923.97 183.03 L2935.10 181.79 L2946.24 180.68 L2957.50 179.57 L2968.64 178.58 L2979.78 177.71 L2991.04 176.84 L3002.18 175.98 L3013.31 175.24 L3024.57 174.49 L3035.71 173.87 L3046.85 173.26 L3058.11 172.64 L3069.25 172.14 L3080.39 171.65 L3091.52 171.15 L3102.78 170.66 L3113.92 170.29 L3125.06 169.91 L3136.32 169.54 L3147.46 169.17 L3158.59 168.80 L3169.86 168.55 L3180.99 168.31 L3192.13 168.06 L3203.39 167.81 L3214.53 167.56 L3225.67 167.32 L3236.80 167.07 L3248.07 166.94 L3259.20 166.82 L3270.34 166.57 L3281.60 166.45 L3292.74 166.33 L3303.88 166.20 L3315.14 166.08 L3326.28 165.95 L3337.41 165.83 L3348.68 165.71 L3359.81 165.58 L3370.95 165.58 L3382.21 165.46 L3393.35 165.34 L3404.49 165.34 L3415.62 165.21 L3426.89 165.21 L3438.02 165.09 L3449.16 165.09 L3460.42 164.96 L3471.56 164.96 L3482.70 164.84 L3493.96 164.84 L3505.09 164.84 L3516.23 164.72 L3527.49 164.72 L3538.63 164.72 L3549.77 164.72 L3560.91 164.59 L3572.17 164.59 L3583.30 164.59 L3594.44 164.59 L3605.70 164.59 L3616.84 164.47 L3627.98 164.47 L3639.24 164.47 L3650.38 164.47 L3661.51 164.47 L3672.78 164.47 L3683.91 164.47 L3695.05 164.47 L3706.31 164.35 L3717.45 164.35 L3728.59 164.35 L3739.72 164.35 L3750.99 164.35 L3762.12 164.35 L3773.26 164.35 L3784.52 164.35 L3795.66 164.35&quot; stroke-linejoin=&quot;round&quot; style=&quot;fill:none;stroke:#1A476F;stroke-width:8.64&quot;/&gt;\n",
       "\t&lt;line x1=&quot;390.80&quot; y1=&quot;2489.19&quot; x2=&quot;390.80&quot; y2=&quot;100.86&quot; style=&quot;stroke:#000000;stroke-width:5.76&quot;/&gt;\n",
       "\t&lt;line x1=&quot;390.80&quot; y1=&quot;2425.82&quot; x2=&quot;350.83&quot; y2=&quot;2425.82&quot; style=&quot;stroke:#000000;stroke-width:5.76&quot;/&gt;\n",
       "\t&lt;text x=&quot;300.72&quot; y=&quot;2425.82&quot; style=&quot;font-family:&#x27;Helvetica&#x27;;font-size:99.99px;fill:#000000&quot; transform=&quot;rotate(-90 300.72,2425.82)&quot; text-anchor=&quot;middle&quot;&gt;0&lt;/text&gt;\n",
       "\t&lt;line x1=&quot;390.80&quot; y1=&quot;1973.50&quot; x2=&quot;350.83&quot; y2=&quot;1973.50&quot; style=&quot;stroke:#000000;stroke-width:5.76&quot;/&gt;\n",
       "\t&lt;text x=&quot;300.72&quot; y=&quot;1973.50&quot; style=&quot;font-family:&#x27;Helvetica&#x27;;font-size:99.99px;fill:#000000&quot; transform=&quot;rotate(-90 300.72,1973.50)&quot; text-anchor=&quot;middle&quot;&gt;.2&lt;/text&gt;\n",
       "\t&lt;line x1=&quot;390.80&quot; y1=&quot;1521.18&quot; x2=&quot;350.83&quot; y2=&quot;1521.18&quot; style=&quot;stroke:#000000;stroke-width:5.76&quot;/&gt;\n",
       "\t&lt;text x=&quot;300.72&quot; y=&quot;1521.18&quot; style=&quot;font-family:&#x27;Helvetica&#x27;;font-size:99.99px;fill:#000000&quot; transform=&quot;rotate(-90 300.72,1521.18)&quot; text-anchor=&quot;middle&quot;&gt;.4&lt;/text&gt;\n",
       "\t&lt;line x1=&quot;390.80&quot; y1=&quot;1068.86&quot; x2=&quot;350.83&quot; y2=&quot;1068.86&quot; style=&quot;stroke:#000000;stroke-width:5.76&quot;/&gt;\n",
       "\t&lt;text x=&quot;300.72&quot; y=&quot;1068.86&quot; style=&quot;font-family:&#x27;Helvetica&#x27;;font-size:99.99px;fill:#000000&quot; transform=&quot;rotate(-90 300.72,1068.86)&quot; text-anchor=&quot;middle&quot;&gt;.6&lt;/text&gt;\n",
       "\t&lt;line x1=&quot;390.80&quot; y1=&quot;616.54&quot; x2=&quot;350.83&quot; y2=&quot;616.54&quot; style=&quot;stroke:#000000;stroke-width:5.76&quot;/&gt;\n",
       "\t&lt;text x=&quot;300.72&quot; y=&quot;616.54&quot; style=&quot;font-family:&#x27;Helvetica&#x27;;font-size:99.99px;fill:#000000&quot; transform=&quot;rotate(-90 300.72,616.54)&quot; text-anchor=&quot;middle&quot;&gt;.8&lt;/text&gt;\n",
       "\t&lt;line x1=&quot;390.80&quot; y1=&quot;164.22&quot; x2=&quot;350.83&quot; y2=&quot;164.22&quot; style=&quot;stroke:#000000;stroke-width:5.76&quot;/&gt;\n",
       "\t&lt;text x=&quot;300.72&quot; y=&quot;164.22&quot; style=&quot;font-family:&#x27;Helvetica&#x27;;font-size:99.99px;fill:#000000&quot; transform=&quot;rotate(-90 300.72,164.22)&quot; text-anchor=&quot;middle&quot;&gt;1&lt;/text&gt;\n",
       "\t&lt;text x=&quot;190.71&quot; y=&quot;1294.96&quot; style=&quot;font-family:&#x27;Helvetica&#x27;;font-size:99.99px;fill:#000000&quot; transform=&quot;rotate(-90 190.71,1294.96)&quot; text-anchor=&quot;middle&quot;&gt;y&lt;/text&gt;\n",
       "\t&lt;line x1=&quot;390.80&quot; y1=&quot;2489.19&quot; x2=&quot;3859.02&quot; y2=&quot;2489.19&quot; style=&quot;stroke:#000000;stroke-width:5.76&quot;/&gt;\n",
       "\t&lt;line x1=&quot;454.16&quot; y1=&quot;2489.19&quot; x2=&quot;454.16&quot; y2=&quot;2529.16&quot; style=&quot;stroke:#000000;stroke-width:5.76&quot;/&gt;\n",
       "\t&lt;text x=&quot;454.16&quot; y=&quot;2619.14&quot; style=&quot;font-family:&#x27;Helvetica&#x27;;font-size:99.99px;fill:#000000&quot; text-anchor=&quot;middle&quot;&gt;-10&lt;/text&gt;\n",
       "\t&lt;line x1=&quot;1289.47&quot; y1=&quot;2489.19&quot; x2=&quot;1289.47&quot; y2=&quot;2529.16&quot; style=&quot;stroke:#000000;stroke-width:5.76&quot;/&gt;\n",
       "\t&lt;text x=&quot;1289.47&quot; y=&quot;2619.14&quot; style=&quot;font-family:&#x27;Helvetica&#x27;;font-size:99.99px;fill:#000000&quot; text-anchor=&quot;middle&quot;&gt;-5&lt;/text&gt;\n",
       "\t&lt;line x1=&quot;2124.91&quot; y1=&quot;2489.19&quot; x2=&quot;2124.91&quot; y2=&quot;2529.16&quot; style=&quot;stroke:#000000;stroke-width:5.76&quot;/&gt;\n",
       "\t&lt;text x=&quot;2124.91&quot; y=&quot;2619.14&quot; style=&quot;font-family:&#x27;Helvetica&#x27;;font-size:99.99px;fill:#000000&quot; text-anchor=&quot;middle&quot;&gt;0&lt;/text&gt;\n",
       "\t&lt;line x1=&quot;2960.35&quot; y1=&quot;2489.19&quot; x2=&quot;2960.35&quot; y2=&quot;2529.16&quot; style=&quot;stroke:#000000;stroke-width:5.76&quot;/&gt;\n",
       "\t&lt;text x=&quot;2960.35&quot; y=&quot;2619.14&quot; style=&quot;font-family:&#x27;Helvetica&#x27;;font-size:99.99px;fill:#000000&quot; text-anchor=&quot;middle&quot;&gt;5&lt;/text&gt;\n",
       "\t&lt;line x1=&quot;3795.66&quot; y1=&quot;2489.19&quot; x2=&quot;3795.66&quot; y2=&quot;2529.16&quot; style=&quot;stroke:#000000;stroke-width:5.76&quot;/&gt;\n",
       "\t&lt;text x=&quot;3795.66&quot; y=&quot;2619.14&quot; style=&quot;font-family:&#x27;Helvetica&#x27;;font-size:99.99px;fill:#000000&quot; text-anchor=&quot;middle&quot;&gt;10&lt;/text&gt;\n",
       "\t&lt;text x=&quot;2124.91&quot; y=&quot;2729.16&quot; style=&quot;font-family:&#x27;Helvetica&#x27;;font-size:99.99px;fill:#000000&quot; text-anchor=&quot;middle&quot;&gt;x&lt;/text&gt;\n",
       "&lt;/svg&gt;\n",
       "</body></html>\"></iframe>\n"
      ],
      "text/plain": [
       "This front-end cannot display the desired image type."
      ]
     },
     "metadata": {
      "image/svg+xml": {
       "height": 436,
       "width": 600
      },
      "text/html": {
       "height": 436,
       "width": 600
      }
     },
     "output_type": "display_data"
    }
   ],
   "source": [
    "twoway function y=exp(x) / (1+ exp(x)), range(-10 10)"
   ]
  },
  {
   "cell_type": "markdown",
   "metadata": {
    "Collapsed": "false"
   },
   "source": [
    "#### 潜变量模型（Latent variable model）\n",
    "\n",
    "假设$y^{*}$是无法观测的变量（或潜变量），考虑\n",
    "\n",
    "$$y^{*}=\\beta_{0}+x\\beta+\\mu, y=1\\left[y^{*}>0\\right]$$\n",
    "\n",
    "其中$1[\\cdot]$是一个指示函数，当方括号内结果为真时它为$1$，否则为$0$。我们假设$\\mu$独立于$x$，且服从标准逻辑斯蒂分布或标准正态分布。因此，$\\mu$是以$0$为中心位置对称的，这意味着对于任何实数$z$，都有$1-F(-z)=F(z)$。\n",
    "\n",
    "我们可以推导$y$的反应概率\n",
    "\n",
    "$$\\begin{aligned} \\mathrm{P}(y=1 | \\mathbf{x}) &=\\mathrm{P}\\left(y^{*}>0 | \\mathbf{x}\\right)=\\mathrm{P}\\left[\\mu>-\\left(\\beta_{0}+\\mathbf{x} \\boldsymbol{\\beta}\\right) | \\mathbf{x}\\right] \\\\ &=1-F\\left[-\\left(\\beta_{0}+\\mathbf{x} \\boldsymbol{\\beta}\\right)\\right]=F\\left(\\beta_{0}+\\mathbf{x} \\boldsymbol{\\beta}\\right) \\end{aligned}$$\n",
    "\n",
    "\n",
    "**机会比率**\n",
    "\n",
    "$\\frac{p}{1-p}$定义为几率（odds），那么$\\log \\left(\\frac{p}{1-p}\\right)$就是几率的对数（log odds）或者logit。\n",
    "\n",
    "\n",
    "**对于logit模型和probit模型**\n",
    "\n",
    "- 两者没有本质差异\n",
    "- 解释回归系数基于不同的尺度\n",
    "- logistic模型可以使用几率把模型变成线性形式，但是probit模型不行\n",
    "- 无法像线性模型一样分解方差"
   ]
  },
  {
   "cell_type": "markdown",
   "metadata": {
    "Collapsed": "false"
   },
   "source": [
    "**案例：已婚妇女的劳动力市场参与率**"
   ]
  },
  {
   "cell_type": "code",
   "execution_count": 7,
   "metadata": {
    "Collapsed": "false"
   },
   "outputs": [
    {
     "name": "stdout",
     "output_type": "stream",
     "text": [
      "\n",
      "\n",
      "\n",
      "Contains data from MROZ.dta\n",
      "  obs:           753                          \n",
      " vars:            22                          2 Mar 1999 11:30\n",
      "---------------------------------------------------------------------------------------------------------------------------------------------------------------------------------------------------------------------------------------------------------------\n",
      "              storage   display    value\n",
      "variable name   type    format     label      variable label\n",
      "---------------------------------------------------------------------------------------------------------------------------------------------------------------------------------------------------------------------------------------------------------------\n",
      "inlf            byte    %9.0g                 =1 if in lab frce, 1975\n",
      "hours           int     %9.0g                 hours worked, 1975\n",
      "kidslt6         byte    %9.0g                 # kids < 6 years\n",
      "kidsge6         byte    %9.0g                 # kids 6-18\n",
      "age             byte    %9.0g                 woman's age in yrs\n",
      "educ            byte    %9.0g                 years of schooling\n",
      "wage            float   %9.0g                 est. wage from earn, hrs\n",
      "repwage         float   %9.0g                 rep. wage at interview in 1976\n",
      "hushrs          int     %9.0g                 hours worked by husband, 1975\n",
      "husage          byte    %9.0g                 husband's age\n",
      "huseduc         byte    %9.0g                 husband's years of schooling\n",
      "huswage         float   %9.0g                 husband's hourly wage, 1975\n",
      "faminc          float   %9.0g                 family income, 1975\n",
      "mtr             float   %9.0g                 fed. marg. tax rte facing woman\n",
      "motheduc        byte    %9.0g                 mother's years of schooling\n",
      "fatheduc        byte    %9.0g                 father's years of schooling\n",
      "unem            float   %9.0g                 unem. rate in county of resid.\n",
      "city            byte    %9.0g                 =1 if live in SMSA\n",
      "exper           byte    %9.0g                 actual labor mkt exper\n",
      "nwifeinc        float   %9.0g                 (faminc - wage*hours)/1000\n",
      "lwage           float   %9.0g                 log(wage)\n",
      "expersq         int     %9.0g                 exper^2\n",
      "---------------------------------------------------------------------------------------------------------------------------------------------------------------------------------------------------------------------------------------------------------------\n",
      "Sorted by: \n"
     ]
    }
   ],
   "source": [
    "use MROZ, clear\n",
    "de"
   ]
  },
  {
   "cell_type": "markdown",
   "metadata": {
    "Collapsed": "false"
   },
   "source": [
    "我们想要估计如下模型\n",
    "\n",
    "$$P\\left(i n l f_{i}=1 | \\text {nwifeinc}_{i}\\right)=\\Lambda\\left(\\beta_{0}+\\beta_{1} \\text {nwifeinc}_{i}\\right)$$\n",
    "\n",
    "这里使用$\\Lambda$表示使用logistic模型，如果用$\\phi$表示使用probit模型。同样的，模型也可以写为\n",
    "\n",
    "$$\\log \\left(\\frac{inlf_{i}}{1-inlf_{i}}\\right)=\\beta_{0}+\\beta_{1} \\text {nwifeinc}_{i}$$\n",
    "\n",
    "或\n",
    "\n",
    "$$\\operatorname{logit}\\left(inlf_{i}\\right)=\\beta_{0}+\\beta_{1} \\text {nwifeinc}_{i}$$"
   ]
  },
  {
   "cell_type": "code",
   "execution_count": 8,
   "metadata": {
    "Collapsed": "false"
   },
   "outputs": [
    {
     "name": "stdout",
     "output_type": "stream",
     "text": [
      "\n",
      "Logistic regression                             Number of obs     =        753\n",
      "                                                LR chi2(1)        =      10.44\n",
      "                                                Prob > chi2       =     0.0012\n",
      "Log likelihood = -509.65435                     Pseudo R2         =     0.0101\n",
      "\n",
      "------------------------------------------------------------------------------\n",
      "        inlf |      Coef.   Std. Err.      z    P>|z|     [95% Conf. Interval]\n",
      "-------------+----------------------------------------------------------------\n",
      "    nwifeinc |  -.0207569   .0065907    -3.15   0.002    -.0336744   -.0078394\n",
      "       _cons |   .6946059   .1521569     4.57   0.000      .396384    .9928279\n",
      "------------------------------------------------------------------------------\n"
     ]
    }
   ],
   "source": [
    "logit inlf nwifeinc, nolog"
   ]
  },
  {
   "cell_type": "markdown",
   "metadata": {
    "Collapsed": "false"
   },
   "source": [
    "$R^{2}$不再适用，因此我们可以使用预测准确百分比或者AIC和BIC进行模型比较。\n",
    "\n",
    "考虑不同的解释变量，例如构建一个虚拟变量$hsp$，教育（education）大于$12$时为$1$，否则为$0$。"
   ]
  },
  {
   "cell_type": "code",
   "execution_count": 9,
   "metadata": {
    "Collapsed": "false"
   },
   "outputs": [
    {
     "name": "stdout",
     "output_type": "stream",
     "text": [
      "\n",
      "\n",
      "(212 real changes made)\n",
      "\n",
      "\n",
      "Logistic regression                             Number of obs     =        753\n",
      "                                                LR chi2(1)        =      15.08\n",
      "                                                Prob > chi2       =     0.0001\n",
      "Log likelihood = -507.33524                     Pseudo R2         =     0.0146\n",
      "\n",
      "------------------------------------------------------------------------------\n",
      "        inlf |      Coef.   Std. Err.      z    P>|z|     [95% Conf. Interval]\n",
      "-------------+----------------------------------------------------------------\n",
      "         hsp |   .6504074   .1704773     3.82   0.000     .3162781    .9845368\n",
      "       _cons |   .0998982    .086094     1.16   0.246     -.068843    .2686393\n",
      "------------------------------------------------------------------------------\n"
     ]
    }
   ],
   "source": [
    "gen hsp = 0\n",
    "replace hsp = 1 if educ > 12 & educ ~= .\n",
    "logit inlf hsp, nolog"
   ]
  },
  {
   "cell_type": "markdown",
   "metadata": {
    "Collapsed": "false"
   },
   "source": [
    "对于教育程度超过高中程度的已婚女性，她们的进入劳动力市场的平均几率对数要比教育程度低于高中的女性高0.65。\n",
    "\n",
    "对于$hsp = 1$的女性，模型是$\\log \\left(\\frac{inlf_{hsp}}{1-inlf_{hsp}}\\right)=\\beta_{0}+\\beta_{1}$；对于$hsp = 0$的女性，模型是$\\log \\left(\\frac{inlf_{nohsp}}{1-inlf_{nohsp}}\\right)=\\beta_{0}$。两者的差异是\n",
    "\n",
    "$$\\log \\left(\\frac{inlf_{hsp}}{1-inlf_{hsp}}\\right) - \\log \\left(\\frac{inlf_{hsp}}{1-inlf_{hsp}}\\right) = \\beta_{1}$$\n",
    "\n",
    "这里有所谓的优势比（odds ratio）\n",
    "\n",
    "$$\\frac{\\frac{inlf_{hsp}}{1-inlf_{hsp}}}{\\frac{inlf_{nohsp}}{1-inlf_{nohsp}}}=e^{\\beta_{1}}$$\n",
    "\n",
    "在我们的例子中，由于$e^{.6504074} = 1.92$。所以教育程度超过高中相比低于高中的已婚女性，其进入劳动力市场的几率几乎是其两倍。这里要注意，如果陈述教育程度超过高中进入劳动力市场的概率是教育程度低于高中女性的两倍，那是错误的。优势比并不是相对概率。\n",
    "\n",
    "对于只有一个虚拟解释变量的模型，很容易计算进入劳动力市场的概率\n",
    "\n",
    "$$p=\\frac{e^{\\beta_{0}+\\beta_{1} x}}{1+e^{\\beta_{0}+\\beta_{1} x}}$$"
   ]
  },
  {
   "cell_type": "markdown",
   "metadata": {
    "Collapsed": "false"
   },
   "source": [
    "#### 解释回归结果\n",
    "\n",
    "对于连续变量$x_{j}$，它对于$p(\\mathbf{x})=\\mathrm{P}(y=1 | \\mathbf{x})$的偏效应可以通过偏导数得到\n",
    "\n",
    "$$\\frac{\\partial p(\\mathbf{x})}{\\partial x_{j}}=f\\left(\\beta_{0}+\\mathbf{x} \\boldsymbol{\\beta}\\right) \\beta_{j}$$\n",
    "\n",
    "其中$f(z) \\equiv \\frac{d F}{d z}(z)$\n",
    "\n",
    "- 均值的偏效应（Partial effect at the average，PEA）\n",
    "\n",
    "$$f\\left(\\hat{\\beta}_{0}+\\overline{\\mathbf{x}} \\hat{\\boldsymbol{\\beta}}\\right)=f\\left(\\hat{\\beta}_{0}+\\hat{\\beta}_{1} \\overline{x}_{1}+\\hat{\\beta}_{2} \\overline{x}_{2}+\\ldots+\\hat{\\beta}_{k} \\overline{x}_{k}\\right)$$\n",
    "\n",
    "- 平均偏效应（Average partial effect，APE；Average marginal effect，AME）\n",
    "\n",
    "$$n^{-1} \\sum_{i=1}^{n}\\left[f\\left(\\hat{\\beta}_{0}+\\mathbf{x}_{i} \\hat{\\boldsymbol{\\beta}}\\right) \\hat{\\beta}_{j}\\right]=\\left[n^{-1} \\sum_{i=1}^{n} f\\left(\\hat{\\beta}_{0}+\\mathbf{x}_{i} \\hat{\\boldsymbol{\\beta}}\\right)\\right] \\hat{\\beta}_{j}$$"
   ]
  },
  {
   "cell_type": "code",
   "execution_count": 10,
   "metadata": {
    "Collapsed": "false"
   },
   "outputs": [
    {
     "name": "stdout",
     "output_type": "stream",
     "text": [
      "\n",
      "\n",
      "      Source |       SS           df       MS      Number of obs   =       753\n",
      "-------------+----------------------------------   F(1, 751)       =     10.53\n",
      "       Model |  2.55461929         1  2.55461929   Prob > F        =    0.0012\n",
      "    Residual |  182.173136       751  .242574083   R-squared       =    0.0138\n",
      "-------------+----------------------------------   Adj R-squared   =    0.0125\n",
      "       Total |  184.727756       752  .245648611   Root MSE        =    .49252\n",
      "\n",
      "------------------------------------------------------------------------------\n",
      "        inlf |      Coef.   Std. Err.      t    P>|t|     [95% Conf. Interval]\n",
      "-------------+----------------------------------------------------------------\n",
      "    nwifeinc |  -.0050095   .0015437    -3.25   0.001    -.0080399   -.0019791\n",
      "       _cons |   .6692294   .0358837    18.65   0.000      .598785    .7396737\n",
      "------------------------------------------------------------------------------\n",
      "\n",
      "\n",
      "Logistic regression                             Number of obs     =        753\n",
      "                                                LR chi2(1)        =      10.44\n",
      "                                                Prob > chi2       =     0.0012\n",
      "Log likelihood = -509.65435                     Pseudo R2         =     0.0101\n",
      "\n",
      "------------------------------------------------------------------------------\n",
      "        inlf |      Coef.   Std. Err.      z    P>|z|     [95% Conf. Interval]\n",
      "-------------+----------------------------------------------------------------\n",
      "    nwifeinc |  -.0207569   .0065907    -3.15   0.002    -.0336744   -.0078394\n",
      "       _cons |   .6946059   .1521569     4.57   0.000      .396384    .9928279\n",
      "------------------------------------------------------------------------------\n",
      "\n",
      "\n",
      "Average marginal effects                        Number of obs     =        753\n",
      "Model VCE    : OIM\n",
      "\n",
      "Expression   : Pr(inlf), predict()\n",
      "dy/dx w.r.t. : nwifeinc\n",
      "\n",
      "------------------------------------------------------------------------------\n",
      "             |            Delta-method\n",
      "             |      dy/dx   Std. Err.      z    P>|z|     [95% Conf. Interval]\n",
      "-------------+----------------------------------------------------------------\n",
      "    nwifeinc |  -.0050217   .0015533    -3.23   0.001     -.008066   -.0019773\n",
      "------------------------------------------------------------------------------\n"
     ]
    }
   ],
   "source": [
    "reg inlf nwifeinc\n",
    "logit inlf nwifeinc, nolog\n",
    "margins, dydx(nwifeinc)"
   ]
  },
  {
   "cell_type": "code",
   "execution_count": 11,
   "metadata": {
    "Collapsed": "false"
   },
   "outputs": [
    {
     "name": "stdout",
     "output_type": "stream",
     "text": [
      "\n",
      "Logistic regression                             Number of obs     =        753\n",
      "                                                LR chi2(7)        =     226.22\n",
      "                                                Prob > chi2       =     0.0000\n",
      "Log likelihood = -401.76515                     Pseudo R2         =     0.2197\n",
      "\n",
      "------------------------------------------------------------------------------\n",
      "        inlf |      Coef.   Std. Err.      z    P>|z|     [95% Conf. Interval]\n",
      "-------------+----------------------------------------------------------------\n",
      "    nwifeinc |  -.0213452   .0084214    -2.53   0.011    -.0378509   -.0048394\n",
      "        educ |   .2211704   .0434396     5.09   0.000     .1360303    .3063105\n",
      "       exper |   .2058695   .0320569     6.42   0.000     .1430391    .2686999\n",
      "     expersq |  -.0031541   .0010161    -3.10   0.002    -.0051456   -.0011626\n",
      "         age |  -.0880244    .014573    -6.04   0.000     -.116587   -.0594618\n",
      "     kidslt6 |  -1.443354   .2035849    -7.09   0.000    -1.842373   -1.044335\n",
      "     kidsge6 |   .0601122   .0747897     0.80   0.422     -.086473    .2066974\n",
      "       _cons |   .4254524   .8603697     0.49   0.621    -1.260841    2.111746\n",
      "------------------------------------------------------------------------------\n"
     ]
    }
   ],
   "source": [
    "logit inlf nwifeinc educ exper expersq age kidslt6 kidsge6, nolog"
   ]
  },
  {
   "cell_type": "code",
   "execution_count": 12,
   "metadata": {
    "Collapsed": "false"
   },
   "outputs": [
    {
     "name": "stdout",
     "output_type": "stream",
     "text": [
      "\n",
      "(option pr assumed; Pr(inlf))\n",
      "\n",
      "\n",
      "(288 real changes made)\n",
      "\n",
      "\n",
      "     +----------------------------+\n",
      "     | inlf       yhat   predic~n |\n",
      "     |----------------------------|\n",
      "  1. |    1   .7006625          1 |\n",
      "  2. |    1   .7489941          1 |\n",
      "  3. |    1   .7020339          1 |\n",
      "  4. |    1   .7761773          1 |\n",
      "  5. |    1   .5811384          1 |\n",
      "     |----------------------------|\n",
      "  6. |    1   .8137575          1 |\n",
      "  7. |    1   .9251913          1 |\n",
      "  8. |    1   .8077061          1 |\n",
      "  9. |    1   .8493201          1 |\n",
      " 10. |    1   .9185783          1 |\n",
      "     |----------------------------|\n",
      " 11. |    1   .8903663          1 |\n",
      " 12. |    1   .7436225          1 |\n",
      " 13. |    1   .2306682          0 |\n",
      " 14. |    1   .7968954          1 |\n",
      " 15. |    1   .3794551          0 |\n",
      "     |----------------------------|\n",
      " 16. |    1   .7651187          1 |\n",
      " 17. |    1   .8775526          1 |\n",
      " 18. |    1   .6749568          1 |\n",
      " 19. |    1   .8680598          1 |\n",
      " 20. |    1   .8343231          1 |\n",
      "     +----------------------------+\n",
      "\n",
      "\n",
      "     +----------------------------+\n",
      "     | inlf       yhat   predic~n |\n",
      "     |----------------------------|\n",
      "700. |    0   .3367937          0 |\n",
      "701. |    0   .3370402          0 |\n",
      "702. |    0   .6591699          1 |\n",
      "703. |    0   .4790831          0 |\n",
      "704. |    0   .8245578          1 |\n",
      "     |----------------------------|\n",
      "705. |    0   .5532638          1 |\n",
      "706. |    0   .4161296          0 |\n",
      "707. |    0   .1115446          0 |\n",
      "708. |    0   .4533164          0 |\n",
      "709. |    0   .6604099          1 |\n",
      "     |----------------------------|\n",
      "710. |    0   .1990177          0 |\n",
      "711. |    0    .294213          0 |\n",
      "712. |    0   .6987322          1 |\n",
      "713. |    0   .2911048          0 |\n",
      "714. |    0   .1473276          0 |\n",
      "     |----------------------------|\n",
      "715. |    0   .0305256          0 |\n",
      "716. |    0   .3814531          0 |\n",
      "717. |    0   .5698256          1 |\n",
      "718. |    0    .433502          0 |\n",
      "719. |    0   .0880464          0 |\n",
      "     |----------------------------|\n",
      "720. |    0   .7705976          1 |\n",
      "     +----------------------------+\n"
     ]
    }
   ],
   "source": [
    "predict yhat\n",
    "\n",
    "gen prediction = 1\n",
    "replace prediction = 0 if yhat < 0.5\n",
    "\n",
    "l inlf yhat prediction in 1/20\n",
    "l inlf yhat prediction in 700/720"
   ]
  },
  {
   "cell_type": "code",
   "execution_count": 13,
   "metadata": {
    "Collapsed": "false"
   },
   "outputs": [
    {
     "name": "stdout",
     "output_type": "stream",
     "text": [
      "\n",
      "\n",
      "(554 real changes made)\n"
     ]
    }
   ],
   "source": [
    "gen correct = 0\n",
    "replace correct = 1 if inlf == prediction"
   ]
  },
  {
   "cell_type": "code",
   "execution_count": 14,
   "metadata": {
    "Collapsed": "false"
   },
   "outputs": [
    {
     "name": "stdout",
     "output_type": "stream",
     "text": [
      "\n",
      "    Variable |        Obs        Mean    Std. Dev.       Min        Max\n",
      "-------------+---------------------------------------------------------\n",
      "     correct |        753    .7357238    .4412401          0          1\n"
     ]
    }
   ],
   "source": [
    "su correct"
   ]
  }
 ],
 "metadata": {
  "kernelspec": {
   "display_name": "Stata",
   "language": "stata",
   "name": "stata"
  },
  "language_info": {
   "codemirror_mode": "stata",
   "file_extension": ".do",
   "mimetype": "text/x-stata",
   "name": "stata",
   "version": "15.1"
  }
 },
 "nbformat": 4,
 "nbformat_minor": 4
}
