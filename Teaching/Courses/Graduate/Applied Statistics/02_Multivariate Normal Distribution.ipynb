{
 "cells": [
  {
   "cell_type": "markdown",
   "metadata": {
    "Collapsed": "false"
   },
   "source": [
    "# 多元正态分布"
   ]
  },
  {
   "cell_type": "markdown",
   "metadata": {
    "Collapsed": "false"
   },
   "source": [
    "## 主要内容\n",
    "\n",
    "- 一元正态分布\n",
    "- 多元正态分布"
   ]
  },
  {
   "cell_type": "markdown",
   "metadata": {
    "Collapsed": "false"
   },
   "source": [
    "## 一元正态分布\n",
    "\n",
    "正态分布（也称高斯分布）在整个统计学中占据中心地位。\n",
    "\n",
    "期望$\\mu$和方差$\\sigma^{2}$的一元正态分布，有概率密度函数\n",
    "\n",
    "$$f(x)=\\frac{1}{\\sqrt{2 \\pi \\sigma^{2}}} e^{-[(x-\\mu) / \\sigma]^{2} / 2}, -\\infty<x<\\infty$$\n",
    "\n",
    "- 当$x=\\mu$，概率密度函数取最大值\n",
    "\n",
    "- $\\sigma^{2}$决定了分布的形状\n",
    "\n",
    "- 简写为$X \\sim N\\left(\\mu, \\sigma^{2}\\right)$\n",
    "\n",
    "<br>\n",
    "\n",
    "<img src=\"./pic/Normal_Distribution_PDF.svg\" width = 50% height = 50% />\n",
    "\n",
    "<br>\n",
    "\n",
    "**习题**\n",
    "\n",
    "两家影院竞争1000人的顾客源，假设每名顾客对两家影院并无好恶之分，且各人的选择相互独立，令$N$记每家影院的座位数。请问，为了保证因影院客满致使顾客离开的概率小于$1\\%$，$N$应为多少？"
   ]
  },
  {
   "cell_type": "markdown",
   "metadata": {
    "Collapsed": "false"
   },
   "source": [
    "## 多元正态分布\n",
    "\n",
    "若把\n",
    "\n",
    "$$\\left(\\frac{x-\\mu}{\\sigma}\\right)^{2}=(x-\\mu)\\left(\\sigma^{2}\\right)^{-1}(x-\\mu)$$\n",
    "\n",
    "拓展到$p \\times 1$变量向量上，则得到$p$元正态分布，其概率密度函数为\n",
    "\n",
    "$$f(\\mathbf{x})=\\frac{1}{(2 \\pi)^{p / 2}|\\Sigma|^{1 / 2}} e^{-(\\mathbf{X}-\\boldsymbol{\\mu})^{\\prime} \\Sigma^{-1}(\\mathbf{X}-\\boldsymbol{\\mu}) / 2}$$\n",
    "\n",
    "- 多元正态分布变量的任何子集都遵循多元正态分布\n",
    "\n",
    "- 多元正态分布变量的线性组合符合一元正态分布\n",
    "\n",
    "- 二次型$(\\mathbf{x}-\\mu)^{\\prime} \\Sigma^{-1}(\\mathbf{x}-\\mu)$称为马氏距离平方\n",
    "\n",
    "- 对于多元正态随机变量的线性组合\n",
    "$$Y=\\sum_{j=1}^{p} c_{j} X_{j}=\\mathbf{c}^{\\prime} \\mathbf{X}$$\n",
    "假设随机向量$X$符合多元正态分布，即\n",
    "$$\\mathbf{X} \\sim N(\\mu, \\Sigma)$$\n",
    "那么$Y$符合正态分布，其均值为\n",
    "$$\\mathbf{c}^{\\prime} \\mu=\\sum_{j=1}^{p} c_{j} \\mu_{j}$$\n",
    "其方差为\n",
    "$$\\mathbf{c}^{\\prime} \\Sigma \\mathbf{c}=\\sum_{j=1}^{p} \\sum_{k=1}^{p} c_{j} c_{k} \\sigma_{j k}$$\n",
    "即\n",
    "$$Y \\sim N\\left(\\mathbf{c}^{\\prime} \\mu, \\mathbf{c}^{\\prime} \\Sigma \\mathbf{c}\\right)$$\n",
    "\n",
    "<br>\n",
    "\n",
    "**习题**\n",
    "\n",
    "设$X$服从$\\mu^{\\prime}=[2,-3,1]$和\n",
    "\n",
    "$$\\Sigma=\\left[\\begin{array}{lll}{1} & {1} & {1} \\\\ {1} & {3} & {2} \\\\ {1} & {2} & {2}\\end{array}\\right]$$\n",
    "\n",
    "的$N_{3}(\\mu, \\Sigma)$，求$3 X_{1}-2 X_{2}+X_{3}$的分布"
   ]
  },
  {
   "cell_type": "markdown",
   "metadata": {
    "Collapsed": "false"
   },
   "source": [
    "## 二元正态分布\n",
    "\n",
    "两个变量符合二元正态分布，即\n",
    "\n",
    "$$\\left(\\begin{array}{c}{X_{1}} \\\\ {X_{2}}\\end{array}\\right) \\sim N\\left[\\left(\\begin{array}{c}{\\mu_{1}} \\\\ {\\mu_{2}}\\end{array}\\right),\\left(\\begin{array}{cc}{\\sigma_{1}^{2}} & {\\rho \\sigma_{1} \\sigma_{2}} \\\\ {\\rho \\sigma_{1} \\sigma_{2}} & {\\sigma_{2}^{2}}\\end{array}\\right)\\right]$$\n",
    "\n",
    "其概率密度函数为\n",
    "\n",
    "$$f\\left(x_{1}, x_{2}\\right)=\\frac{1}{2 \\pi \\sigma_{1} \\sigma_{2} \\sqrt{1-\\rho^{2}}} \\exp \\left\\{-\\frac{1}{2\\left(1-\\rho^{2}\\right)}\\left[\\left(\\frac{x_{1}-\\mu_{1}}{\\sigma_{1}}\\right)^{2}-2 \\rho\\left(\\frac{x_{1}-\\mu_{1}}{\\sigma_{1}}\\right)\\left(\\frac{x_{2}-\\mu_{2}}{\\sigma_{2}}\\right)+\\left(\\frac{x_{2}-\\mu_{2}}{\\sigma_{2}}\\right)^{2}\\right]\\right\\}$$\n",
    "\n",
    "**习题**\n",
    "\n",
    "设一个二元正态分布有$\\mu_{1}=1$，$\\mu_{2}=3$，$\\sigma^{2}_{1}=2$，$\\sigma^{2}_{2}=1$和$\\rho_{12}=-0.8$\n",
    "\n",
    "（1）写出二元正态密度\n",
    "\n",
    "（2）把平方统计距离的表达式$(x-\\mu)^{\\prime} \\Sigma^{-1}(x-\\mu)$写成$x_{1}$和$x_{2}$的二次函数"
   ]
  },
  {
   "cell_type": "markdown",
   "metadata": {
    "Collapsed": "false"
   },
   "source": [
    "## 多元正态分布的指数\n",
    "\n",
    "多元正态分布的指数部分$$(\\mathbf{x}-\\mu)^{\\prime} \\Sigma^{-1}(\\mathbf{x}-\\mu)$$\n",
    "\n",
    "它是中心在$\\mu$的椭球公式\n",
    "\n",
    "一些事实\n",
    "\n",
    "- 对任意特定常数$c$，满足$(\\mathbf{x}-\\mu)^{\\prime} \\Sigma^{-1}(\\mathbf{x}-\\mu)=c$的所有$x$具有相同的概率密度函数，因此具有一致的似然值\n",
    "\n",
    "- 随着$(\\mathbf{x}-\\mu)^{\\prime} \\Sigma^{-1}(\\mathbf{x}-\\mu)=c$的值增加，概率密度函数的值减少。随着$x$和$\\mu$的距离增加，$(\\mathbf{x}-\\mu)^{\\prime} \\Sigma^{-1}(\\mathbf{x}-\\mu)=c$的值也增加。\n",
    "\n",
    "- 随机变量$d^{2}=(\\mathbf{x}-\\mu)^{\\prime} \\Sigma^{-1}(\\mathbf{x}-\\mu)$符合自由度为$p$的卡方分布\n",
    "\n",
    "- $d^{2}=(\\mathbf{x}-\\mu)^{\\prime} \\Sigma^{-1}(\\mathbf{x}-\\mu)$称为马氏距离平方\n",
    "\n",
    "<br>\n",
    "\n",
    "关于马氏距离，点击[此处](https://www.theinformationlab.co.uk/2017/05/26/mahalanobis-distance/)"
   ]
  }
 ],
 "metadata": {
  "kernelspec": {
   "display_name": "R",
   "language": "R",
   "name": "ir"
  },
  "language_info": {
   "codemirror_mode": "r",
   "file_extension": ".r",
   "mimetype": "text/x-r-source",
   "name": "R",
   "pygments_lexer": "r",
   "version": "3.6.1"
  }
 },
 "nbformat": 4,
 "nbformat_minor": 4
}
