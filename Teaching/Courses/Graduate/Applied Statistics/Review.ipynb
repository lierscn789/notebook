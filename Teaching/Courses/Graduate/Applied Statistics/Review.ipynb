{
 "cells": [
  {
   "cell_type": "markdown",
   "metadata": {
    "Collapsed": "false"
   },
   "source": [
    "# 中级应用统计复习提纲"
   ]
  },
  {
   "cell_type": "markdown",
   "metadata": {
    "Collapsed": "false"
   },
   "source": [
    "## 参考题"
   ]
  },
  {
   "cell_type": "markdown",
   "metadata": {
    "Collapsed": "false"
   },
   "source": [
    "1. 设$X$服从$\\mu^{\\prime}=[-3,1,4]$和\n",
    "\n",
    "$$\\Sigma=\\left[\\begin{array}{rrr}{1} & {-2} & {0} \\\\ {-2} & {5} & {0} \\\\ {0} & {0} & {2}\\end{array}\\right]$$\n",
    "\n",
    "的$N_{3}(\\mu, \\Sigma)$，下列各对随机变量中哪几数对相互独立？请解释\n",
    "\n",
    "- $X_{1}$和$X_{2}$\n",
    "\n",
    "- $X_{2}$和$X_{3}$\n",
    "\n",
    "- $\\frac{X_{1}+X_{2}}{2}$和$X_{3}$\n",
    "\n",
    "- $X_{2}$和$X_{2}-\\frac{5}{2} X_{1}-X_{3}$"
   ]
  },
  {
   "cell_type": "markdown",
   "metadata": {
    "Collapsed": "false"
   },
   "source": [
    "2. 霍特林$T^{2}$统计量"
   ]
  },
  {
   "cell_type": "code",
   "execution_count": 28,
   "metadata": {
    "Collapsed": "false"
   },
   "outputs": [
    {
     "name": "stderr",
     "output_type": "stream",
     "text": [
      "Unrecognized file format. Try specifying with the format argument.\n",
      "\n",
      "Ambiguous file format ('.dat'), but attempting 'data.table::fread(\"C:/Sheldon/Geeker/jupiter/Notebook/Course/Applied Statistics/Data/T5-1.DAT\")'\n",
      "\n"
     ]
    },
    {
     "data": {
      "text/html": [
       "<table>\n",
       "<caption>A data.frame: 20 × 3</caption>\n",
       "<thead>\n",
       "\t<tr><th scope=col>x1</th><th scope=col>x2</th><th scope=col>x3</th></tr>\n",
       "\t<tr><th scope=col>&lt;dbl&gt;</th><th scope=col>&lt;dbl&gt;</th><th scope=col>&lt;dbl&gt;</th></tr>\n",
       "</thead>\n",
       "<tbody>\n",
       "\t<tr><td>3.7</td><td>48.5</td><td> 9.3</td></tr>\n",
       "\t<tr><td>5.7</td><td>65.1</td><td> 8.0</td></tr>\n",
       "\t<tr><td>3.8</td><td>47.2</td><td>10.9</td></tr>\n",
       "\t<tr><td>3.2</td><td>53.2</td><td>12.0</td></tr>\n",
       "\t<tr><td>3.1</td><td>55.5</td><td> 9.7</td></tr>\n",
       "\t<tr><td>4.6</td><td>36.1</td><td> 7.9</td></tr>\n",
       "\t<tr><td>2.4</td><td>24.8</td><td>14.0</td></tr>\n",
       "\t<tr><td>7.2</td><td>33.1</td><td> 7.6</td></tr>\n",
       "\t<tr><td>6.7</td><td>47.4</td><td> 8.5</td></tr>\n",
       "\t<tr><td>5.4</td><td>54.1</td><td>11.3</td></tr>\n",
       "\t<tr><td>3.9</td><td>36.9</td><td>12.7</td></tr>\n",
       "\t<tr><td>4.5</td><td>58.8</td><td>12.3</td></tr>\n",
       "\t<tr><td>3.5</td><td>27.8</td><td> 9.8</td></tr>\n",
       "\t<tr><td>4.5</td><td>40.2</td><td> 8.4</td></tr>\n",
       "\t<tr><td>1.5</td><td>13.5</td><td>10.1</td></tr>\n",
       "\t<tr><td>8.5</td><td>56.4</td><td> 7.1</td></tr>\n",
       "\t<tr><td>4.5</td><td>71.6</td><td> 8.2</td></tr>\n",
       "\t<tr><td>6.5</td><td>52.8</td><td>10.9</td></tr>\n",
       "\t<tr><td>4.1</td><td>44.1</td><td>11.2</td></tr>\n",
       "\t<tr><td>5.5</td><td>40.9</td><td> 9.4</td></tr>\n",
       "</tbody>\n",
       "</table>\n"
      ],
      "text/latex": [
       "A data.frame: 20 × 3\n",
       "\\begin{tabular}{r|lll}\n",
       " x1 & x2 & x3\\\\\n",
       " <dbl> & <dbl> & <dbl>\\\\\n",
       "\\hline\n",
       "\t 3.7 & 48.5 &  9.3\\\\\n",
       "\t 5.7 & 65.1 &  8.0\\\\\n",
       "\t 3.8 & 47.2 & 10.9\\\\\n",
       "\t 3.2 & 53.2 & 12.0\\\\\n",
       "\t 3.1 & 55.5 &  9.7\\\\\n",
       "\t 4.6 & 36.1 &  7.9\\\\\n",
       "\t 2.4 & 24.8 & 14.0\\\\\n",
       "\t 7.2 & 33.1 &  7.6\\\\\n",
       "\t 6.7 & 47.4 &  8.5\\\\\n",
       "\t 5.4 & 54.1 & 11.3\\\\\n",
       "\t 3.9 & 36.9 & 12.7\\\\\n",
       "\t 4.5 & 58.8 & 12.3\\\\\n",
       "\t 3.5 & 27.8 &  9.8\\\\\n",
       "\t 4.5 & 40.2 &  8.4\\\\\n",
       "\t 1.5 & 13.5 & 10.1\\\\\n",
       "\t 8.5 & 56.4 &  7.1\\\\\n",
       "\t 4.5 & 71.6 &  8.2\\\\\n",
       "\t 6.5 & 52.8 & 10.9\\\\\n",
       "\t 4.1 & 44.1 & 11.2\\\\\n",
       "\t 5.5 & 40.9 &  9.4\\\\\n",
       "\\end{tabular}\n"
      ],
      "text/markdown": [
       "\n",
       "A data.frame: 20 × 3\n",
       "\n",
       "| x1 &lt;dbl&gt; | x2 &lt;dbl&gt; | x3 &lt;dbl&gt; |\n",
       "|---|---|---|\n",
       "| 3.7 | 48.5 |  9.3 |\n",
       "| 5.7 | 65.1 |  8.0 |\n",
       "| 3.8 | 47.2 | 10.9 |\n",
       "| 3.2 | 53.2 | 12.0 |\n",
       "| 3.1 | 55.5 |  9.7 |\n",
       "| 4.6 | 36.1 |  7.9 |\n",
       "| 2.4 | 24.8 | 14.0 |\n",
       "| 7.2 | 33.1 |  7.6 |\n",
       "| 6.7 | 47.4 |  8.5 |\n",
       "| 5.4 | 54.1 | 11.3 |\n",
       "| 3.9 | 36.9 | 12.7 |\n",
       "| 4.5 | 58.8 | 12.3 |\n",
       "| 3.5 | 27.8 |  9.8 |\n",
       "| 4.5 | 40.2 |  8.4 |\n",
       "| 1.5 | 13.5 | 10.1 |\n",
       "| 8.5 | 56.4 |  7.1 |\n",
       "| 4.5 | 71.6 |  8.2 |\n",
       "| 6.5 | 52.8 | 10.9 |\n",
       "| 4.1 | 44.1 | 11.2 |\n",
       "| 5.5 | 40.9 |  9.4 |\n",
       "\n"
      ],
      "text/plain": [
       "   x1  x2   x3  \n",
       "1  3.7 48.5  9.3\n",
       "2  5.7 65.1  8.0\n",
       "3  3.8 47.2 10.9\n",
       "4  3.2 53.2 12.0\n",
       "5  3.1 55.5  9.7\n",
       "6  4.6 36.1  7.9\n",
       "7  2.4 24.8 14.0\n",
       "8  7.2 33.1  7.6\n",
       "9  6.7 47.4  8.5\n",
       "10 5.4 54.1 11.3\n",
       "11 3.9 36.9 12.7\n",
       "12 4.5 58.8 12.3\n",
       "13 3.5 27.8  9.8\n",
       "14 4.5 40.2  8.4\n",
       "15 1.5 13.5 10.1\n",
       "16 8.5 56.4  7.1\n",
       "17 4.5 71.6  8.2\n",
       "18 6.5 52.8 10.9\n",
       "19 4.1 44.1 11.2\n",
       "20 5.5 40.9  9.4"
      ]
     },
     "metadata": {},
     "output_type": "display_data"
    }
   ],
   "source": [
    "library(rio)\n",
    "library(ICSNP)\n",
    "\n",
    "data <- import(\"C:/Sheldon/Geeker/jupiter/Notebook/Course/Applied Statistics/Data/T5-1.DAT\")\n",
    "colnames(data) <- c(\"x1\", \"x2\", \"x3\")\n",
    "data"
   ]
  },
  {
   "cell_type": "code",
   "execution_count": 2,
   "metadata": {
    "Collapsed": "false"
   },
   "outputs": [
    {
     "data": {
      "text/plain": [
       "\n",
       "\tHotelling's one sample T2-test\n",
       "\n",
       "data:  data\n",
       "T.2 = 9.7388, df = 3, p-value = 0.02092\n",
       "alternative hypothesis: true location is not equal to c(4,50,10)\n"
      ]
     },
     "metadata": {},
     "output_type": "display_data"
    }
   ],
   "source": [
    "HotellingsT2(data, mu = c(4,50,10), test = \"chi\")"
   ]
  },
  {
   "cell_type": "code",
   "execution_count": 3,
   "metadata": {
    "Collapsed": "false"
   },
   "outputs": [
    {
     "name": "stdout",
     "output_type": "stream",
     "text": [
      "             [,1]       [,2]        [,3]       [,4]\n",
      " [1,]  0.83373317 -0.3903905 -0.61488122  0.1749748\n",
      " [2,]  2.25225573  1.1801048  2.27317034  5.0052908\n",
      " [3,]  1.16823174 -0.6026891 -1.72534734 -2.2278998\n",
      " [4,] -0.05573154  1.6608982  1.82422814  0.1152119\n",
      " [5,] -0.73504289  1.3159659  2.88942616  1.1193758\n",
      " [6,] -0.75397477  1.7770360  0.06667105  0.3790797\n",
      " [7,]  0.46259495 -0.6043826  0.02872780  1.4097582\n",
      " [8,]  0.97184932 -0.8775076 -1.48240512  0.1391167\n",
      " [9,] -1.04619827 -3.8874869 -1.95697425 -1.7233695\n",
      "[10,]  1.56007385  1.4355517  1.80825139 -2.2318104\n",
      "             [,1]       [,2]        [,3]       [,4]\n",
      " [1,] -0.57130450  1.8687055  0.79623707 -1.2925006\n",
      " [2,]  0.65828925 -0.2098623 -1.17302705  0.2725317\n",
      " [3,]  1.58594981 -1.2135294 -2.56178443 -0.4833842\n",
      " [4,]  0.82146587  2.5656863  3.16258232 -0.1791371\n",
      " [5,] -0.57744874 -1.6082604  0.06222988  0.2561550\n",
      " [6,] -0.14898337  0.9427560  0.71271414 -1.1736808\n",
      " [7,]  1.10042174  0.1521959  0.18015145  0.5463135\n",
      " [8,]  0.01534842 -0.5435572  2.75600920  1.6289989\n",
      " [9,] -1.30504435  1.1199048 -1.99603931  2.4056583\n",
      "[10,] -0.22298238  0.5689575 -2.20811717 -4.1047327\n"
     ]
    }
   ],
   "source": [
    "set.seed(123456)\n",
    "X <- rmvnorm(10, c(0, 0, 0, 0), diag(1:4))\n",
    "Y <- rmvnorm(10, c(0.5, 0.5, 0.5, 0.5), diag(1:4))\n",
    "Z <- rbind(X, Y)\n",
    "print(X)\n",
    "print(Y)"
   ]
  },
  {
   "cell_type": "code",
   "execution_count": 4,
   "metadata": {
    "Collapsed": "false"
   },
   "outputs": [
    {
     "data": {
      "text/plain": [
       "\n",
       "\tHotelling's two sample T2-test\n",
       "\n",
       "data:  X and Y\n",
       "T.2 = 0.27225, df1 = 4, df2 = 15, p-value = 0.8913\n",
       "alternative hypothesis: true location difference is not equal to c(0,0,0,0)\n"
      ]
     },
     "metadata": {},
     "output_type": "display_data"
    }
   ],
   "source": [
    "HotellingsT2(X, Y)"
   ]
  },
  {
   "cell_type": "markdown",
   "metadata": {
    "Collapsed": "false"
   },
   "source": [
    "3. 回归分析与方差分析"
   ]
  },
  {
   "cell_type": "code",
   "execution_count": 16,
   "metadata": {
    "Collapsed": "false"
   },
   "outputs": [
    {
     "name": "stdout",
     "output_type": "stream",
     "text": [
      " [1] \"wage\"     \"educ\"     \"exper\"    \"tenure\"   \"nonwhite\" \"female\"  \n",
      " [7] \"married\"  \"numdep\"   \"smsa\"     \"northcen\" \"south\"    \"west\"    \n",
      "[13] \"construc\" \"ndurman\"  \"trcommpu\" \"trade\"    \"services\" \"profserv\"\n",
      "[19] \"profocc\"  \"clerocc\"  \"servocc\"  \"lwage\"    \"expersq\"  \"tenursq\" \n",
      "[25] \"male\"     \"single\"   \"marrmale\" \"marrfem\"  \"singfem\"  \"singmale\"\n",
      "[1] 526  31\n"
     ]
    }
   ],
   "source": [
    "data <- import(\"C:/Sheldon/Geeker/jupiter/Notebook/Course/Applied Statistics/Data/wage1.dta\")\n",
    "print(colnames(data))\n",
    "data$group <- 1\n",
    "data$group[data$singfem==1] <- 2\n",
    "data$group[data$marrmale==1] <- 3\n",
    "data$group[data$marrfem==1] <- 4\n",
    "data$group <- factor(data$group)\n",
    "print(dim(data))"
   ]
  },
  {
   "cell_type": "code",
   "execution_count": 6,
   "metadata": {
    "Collapsed": "false"
   },
   "outputs": [
    {
     "data": {
      "text/plain": [
       "             Df Sum Sq Mean Sq F value Pr(>F)    \n",
       "group         3   1296   432.0   38.45 <2e-16 ***\n",
       "Residuals   522   5864    11.2                   \n",
       "---\n",
       "Signif. codes:  0 '***' 0.001 '**' 0.01 '*' 0.05 '.' 0.1 ' ' 1"
      ]
     },
     "metadata": {},
     "output_type": "display_data"
    }
   ],
   "source": [
    "aov_object <- aov(wage ~ group, data)\n",
    "summary(aov_object)"
   ]
  },
  {
   "cell_type": "code",
   "execution_count": 7,
   "metadata": {
    "Collapsed": "false"
   },
   "outputs": [
    {
     "data": {
      "text/plain": [
       "\n",
       "Call:\n",
       "lm(formula = wage ~ group, data = data)\n",
       "\n",
       "Residuals:\n",
       "    Min      1Q  Median      3Q     Max \n",
       "-5.7530 -1.7327 -0.9973  1.2566 17.0184 \n",
       "\n",
       "Coefficients:\n",
       "            Estimate Std. Error t value Pr(>|t|)    \n",
       "(Intercept)   5.1680     0.3614  14.299  < 2e-16 ***\n",
       "group2       -0.5564     0.4736  -1.175    0.241    \n",
       "group3        2.8150     0.4363   6.451 2.53e-10 ***\n",
       "group4       -0.6021     0.4645  -1.296    0.195    \n",
       "---\n",
       "Signif. codes:  0 '***' 0.001 '**' 0.01 '*' 0.05 '.' 0.1 ' ' 1\n",
       "\n",
       "Residual standard error: 3.352 on 522 degrees of freedom\n",
       "Multiple R-squared:  0.181,\tAdjusted R-squared:  0.1763 \n",
       "F-statistic: 38.45 on 3 and 522 DF,  p-value: < 2.2e-16\n"
      ]
     },
     "metadata": {},
     "output_type": "display_data"
    }
   ],
   "source": [
    "summary(lm(wage~group,data))"
   ]
  },
  {
   "cell_type": "markdown",
   "metadata": {
    "Collapsed": "false"
   },
   "source": [
    "多元方差分析（MANOVA）"
   ]
  },
  {
   "cell_type": "code",
   "execution_count": 22,
   "metadata": {
    "Collapsed": "false"
   },
   "outputs": [
    {
     "data": {
      "text/plain": [
       "           Df    Wilks approx F num Df den Df    Pr(>F)    \n",
       "Species     2 0.039878   292.56      4    292 < 2.2e-16 ***\n",
       "Residuals 147                                              \n",
       "---\n",
       "Signif. codes:  0 '***' 0.001 '**' 0.01 '*' 0.05 '.' 0.1 ' ' 1"
      ]
     },
     "metadata": {},
     "output_type": "display_data"
    }
   ],
   "source": [
    "my_data <- iris\n",
    "sepl <- iris$Sepal.Length\n",
    "petl <- iris$Petal.Length\n",
    "# MANOVA test\n",
    "res.man <- manova(cbind(Sepal.Length, Petal.Length) ~ Species, data = iris)\n",
    "summary(res.man, test=\"Wilks\")"
   ]
  },
  {
   "cell_type": "code",
   "execution_count": 26,
   "metadata": {
    "Collapsed": "false"
   },
   "outputs": [
    {
     "data": {
      "text/plain": [
       "          Df    Wilks approx F num Df den Df   Pr(>F)   \n",
       "g          2 0.038455   8.1989      4      8 0.006234 **\n",
       "Residuals  5                                            \n",
       "---\n",
       "Signif. codes:  0 '***' 0.001 '**' 0.01 '*' 0.05 '.' 0.1 ' ' 1"
      ]
     },
     "metadata": {},
     "output_type": "display_data"
    }
   ],
   "source": [
    "y1 <- c(9,6,9,0,2,3,1,2)\n",
    "y2 <- c(3,2,7,4,0,8,9,7)\n",
    "g <- factor(c(1,1,1,2,2,3,3,3))\n",
    "# MANOVA test\n",
    "manova_result <- manova(cbind(y1, y2) ~ g)\n",
    "summary(manova_result, test=\"Wilks\")"
   ]
  },
  {
   "cell_type": "markdown",
   "metadata": {
    "Collapsed": "false"
   },
   "source": [
    "4. 聚类分析\n",
    "\n",
    "<img src=\"./pic/cluster14.png\" width = 40% height = 40% />"
   ]
  },
  {
   "cell_type": "code",
   "execution_count": 50,
   "metadata": {
    "Collapsed": "false"
   },
   "outputs": [
    {
     "data": {
      "image/png": "[encoded data removed]",
      "text/plain": [
       "Plot with title \"Cluster Dendrogram\""
      ]
     },
     "metadata": {
      "image/png": {
       "height": 420,
       "width": 420
      },
      "text/plain": {
       "height": 420,
       "width": 420
      }
     },
     "output_type": "display_data"
    }
   ],
   "source": [
    "dist_m <- matrix(c(0,9,3,6,11,9,0,7,5,10,3,7,0,9,2,6,5,9,0,8,11,10,2,8,0),nrow=5)\n",
    "rownames(dist_m) <- c(1,2,3,4,5)\n",
    "colnames(dist_m) <- c(1,2,3,4,5)\n",
    "\n",
    "hc <- hclust(as.dist(dist_m,diag=TRUE), \"single\")\n",
    "plot(hc,hang = -1)"
   ]
  },
  {
   "cell_type": "code",
   "execution_count": 51,
   "metadata": {
    "Collapsed": "false"
   },
   "outputs": [
    {
     "data": {
      "image/png": "[encoded data removed]",
      "text/plain": [
       "Plot with title \"Cluster Dendrogram\""
      ]
     },
     "metadata": {
      "image/png": {
       "height": 420,
       "width": 420
      },
      "text/plain": {
       "height": 420,
       "width": 420
      }
     },
     "output_type": "display_data"
    }
   ],
   "source": [
    "hc <- hclust(as.dist(dist_m,diag=TRUE), \"complete\")\n",
    "plot(hc,hang = -1)"
   ]
  },
  {
   "cell_type": "markdown",
   "metadata": {
    "Collapsed": "false"
   },
   "source": [
    "$K$均值法聚类\n",
    "\n",
    "$$\n",
    "\\begin{array}{c|cc}{\\text { Item }} & {x_{1}} & {x_{2}} \\\\ \\hline \\mathrm{A} & {5} & {3} \\\\ {\\mathrm{B}} & {-1} & {1} \\\\ {\\mathrm{C}} & {1} & {-2} \\\\ {\\mathrm{D}} & {-3} & {-2}\\end{array}\n",
    "$$\n"
   ]
  },
  {
   "cell_type": "code",
   "execution_count": 66,
   "metadata": {
    "Collapsed": "false"
   },
   "outputs": [
    {
     "data": {
      "text/plain": [
       "K-means clustering with 2 clusters of sizes 3, 1\n",
       "\n",
       "Cluster means:\n",
       "  x1        x2\n",
       "1  1 -2.333333\n",
       "2  5  1.000000\n",
       "\n",
       "Clustering vector:\n",
       "A B C D \n",
       "2 1 1 1 \n",
       "\n",
       "Within cluster sum of squares by cluster:\n",
       "[1] 8.666667 0.000000\n",
       " (between_SS / total_SS =  70.1 %)\n",
       "\n",
       "Available components:\n",
       "\n",
       "[1] \"cluster\"      \"centers\"      \"totss\"        \"withinss\"     \"tot.withinss\"\n",
       "[6] \"betweenss\"    \"size\"         \"iter\"         \"ifault\"      "
      ]
     },
     "metadata": {},
     "output_type": "display_data"
    }
   ],
   "source": [
    "x <- matrix(c(5,3,-1,1,1,-2,-3,-2),nrow=4)\n",
    "colnames(x) <- c(\"x1\", \"x2\")\n",
    "rownames(x) <- c(\"A\", \"B\", \"C\", \"D\")\n",
    "\n",
    "(cl <- kmeans(x, 2))"
   ]
  },
  {
   "cell_type": "markdown",
   "metadata": {
    "Collapsed": "false"
   },
   "source": [
    "5. 主成分分析"
   ]
  },
  {
   "cell_type": "code",
   "execution_count": 98,
   "metadata": {
    "Collapsed": "false"
   },
   "outputs": [
    {
     "name": "stderr",
     "output_type": "stream",
     "text": [
      "Unrecognized file format. Try specifying with the format argument.\n",
      "\n",
      "Ambiguous file format ('.dat'), but attempting 'data.table::fread(\"C:/Sheldon/Geeker/jupiter/Notebook/Course/Applied Statistics/Data/T8-5.DAT\")'\n",
      "\n"
     ]
    },
    {
     "data": {
      "text/html": [
       "<table>\n",
       "<caption>A data.frame: 61 × 5</caption>\n",
       "<thead>\n",
       "\t<tr><th scope=col>x1</th><th scope=col>x2</th><th scope=col>x3</th><th scope=col>x4</th><th scope=col>x5</th></tr>\n",
       "\t<tr><th scope=col>&lt;dbl&gt;</th><th scope=col>&lt;dbl&gt;</th><th scope=col>&lt;dbl&gt;</th><th scope=col>&lt;dbl&gt;</th><th scope=col>&lt;dbl&gt;</th></tr>\n",
       "</thead>\n",
       "<tbody>\n",
       "\t<tr><td>2.67</td><td> 5.71</td><td>69.02</td><td>30.3</td><td>1.48</td></tr>\n",
       "\t<tr><td>2.25</td><td> 4.37</td><td>72.98</td><td>43.3</td><td>1.44</td></tr>\n",
       "\t<tr><td>3.12</td><td>10.27</td><td>64.94</td><td>32.0</td><td>2.11</td></tr>\n",
       "\t<tr><td>5.14</td><td> 7.44</td><td>71.29</td><td>24.5</td><td>1.85</td></tr>\n",
       "\t<tr><td>5.54</td><td> 9.25</td><td>74.94</td><td>31.0</td><td>2.23</td></tr>\n",
       "\t<tr><td>5.04</td><td> 4.84</td><td>53.61</td><td>48.2</td><td>1.60</td></tr>\n",
       "\t<tr><td>3.14</td><td> 4.82</td><td>67.00</td><td>37.6</td><td>1.52</td></tr>\n",
       "\t<tr><td>2.43</td><td> 2.40</td><td>67.20</td><td>36.8</td><td>1.40</td></tr>\n",
       "\t<tr><td>5.38</td><td> 4.30</td><td>83.03</td><td>19.7</td><td>2.07</td></tr>\n",
       "\t<tr><td>7.34</td><td> 2.73</td><td>72.60</td><td>24.5</td><td>1.42</td></tr>\n",
       "\t<tr><td>4.94</td><td> 4.66</td><td>64.32</td><td>27.7</td><td>1.42</td></tr>\n",
       "\t<tr><td>4.82</td><td> 4.26</td><td>82.64</td><td>20.3</td><td>1.46</td></tr>\n",
       "\t<tr><td>5.02</td><td> 4.17</td><td>84.25</td><td>20.6</td><td>1.42</td></tr>\n",
       "\t<tr><td>3.37</td><td> 1.00</td><td>69.93</td><td>16.4</td><td>1.17</td></tr>\n",
       "\t<tr><td>3.63</td><td> 6.40</td><td>70.31</td><td>29.0</td><td>2.00</td></tr>\n",
       "\t<tr><td>7.43</td><td> 6.00</td><td>70.53</td><td>37.7</td><td>1.44</td></tr>\n",
       "\t<tr><td>2.20</td><td>10.59</td><td>69.85</td><td>41.7</td><td>2.01</td></tr>\n",
       "\t<tr><td>7.16</td><td> 4.71</td><td>79.44</td><td>33.0</td><td>1.55</td></tr>\n",
       "\t<tr><td>6.33</td><td> 2.88</td><td>66.24</td><td>38.1</td><td>1.73</td></tr>\n",
       "\t<tr><td>2.57</td><td> 1.85</td><td>67.25</td><td>33.4</td><td>1.18</td></tr>\n",
       "\t<tr><td>6.38</td><td> 1.56</td><td>63.00</td><td>18.2</td><td>0.93</td></tr>\n",
       "\t<tr><td>5.34</td><td> 3.41</td><td>72.57</td><td>20.1</td><td>1.66</td></tr>\n",
       "\t<tr><td>4.87</td><td> 5.20</td><td>75.13</td><td>16.5</td><td>3.64</td></tr>\n",
       "\t<tr><td>2.04</td><td> 4.83</td><td>67.78</td><td>17.4</td><td>1.49</td></tr>\n",
       "\t<tr><td>5.48</td><td> 1.34</td><td>77.43</td><td>21.6</td><td>1.32</td></tr>\n",
       "\t<tr><td>7.77</td><td> 5.32</td><td>58.57</td><td>31.2</td><td>3.21</td></tr>\n",
       "\t<tr><td>6.29</td><td> 2.60</td><td>64.32</td><td>27.4</td><td>1.78</td></tr>\n",
       "\t<tr><td>6.38</td><td> 3.71</td><td>78.61</td><td>34.1</td><td>1.30</td></tr>\n",
       "\t<tr><td>5.76</td><td> 4.06</td><td>83.77</td><td>31.4</td><td>1.52</td></tr>\n",
       "\t<tr><td>6.03</td><td> 3.10</td><td>76.04</td><td>25.0</td><td>1.08</td></tr>\n",
       "\t<tr><td>...</td><td>...</td><td>...</td><td>...</td><td>...</td></tr>\n",
       "\t<tr><td>4.36</td><td> 1.67</td><td>65.43</td><td>23.7</td><td>1.07</td></tr>\n",
       "\t<tr><td>3.07</td><td> 2.00</td><td>68.03</td><td>26.2</td><td>1.19</td></tr>\n",
       "\t<tr><td>1.82</td><td> 1.13</td><td>49.50</td><td>21.9</td><td>1.62</td></tr>\n",
       "\t<tr><td>3.31</td><td> 0.94</td><td>74.75</td><td>26.5</td><td>1.12</td></tr>\n",
       "\t<tr><td>3.45</td><td> 0.72</td><td>65.99</td><td>22.0</td><td>1.20</td></tr>\n",
       "\t<tr><td>1.74</td><td> 0.97</td><td>60.24</td><td>22.0</td><td>1.17</td></tr>\n",
       "\t<tr><td>1.81</td><td> 1.54</td><td>70.05</td><td>24.4</td><td>1.00</td></tr>\n",
       "\t<tr><td>5.59</td><td> 1.66</td><td>77.96</td><td>17.1</td><td>1.30</td></tr>\n",
       "\t<tr><td>3.72</td><td> 1.69</td><td>82.40</td><td>16.3</td><td>1.52</td></tr>\n",
       "\t<tr><td>3.39</td><td> 1.24</td><td>67.17</td><td>27.7</td><td>1.03</td></tr>\n",
       "\t<tr><td>2.25</td><td> 2.80</td><td>70.81</td><td>23.4</td><td>1.14</td></tr>\n",
       "\t<tr><td>3.31</td><td> 1.30</td><td>71.30</td><td>19.2</td><td>1.21</td></tr>\n",
       "\t<tr><td>5.27</td><td> 1.20</td><td>73.08</td><td>30.3</td><td>1.35</td></tr>\n",
       "\t<tr><td>3.26</td><td> 1.02</td><td>74.36</td><td>16.5</td><td>1.23</td></tr>\n",
       "\t<tr><td>6.76</td><td> 1.53</td><td>78.37</td><td>22.6</td><td>1.33</td></tr>\n",
       "\t<tr><td>2.92</td><td> 4.42</td><td>58.50</td><td>68.5</td><td>2.25</td></tr>\n",
       "\t<tr><td>1.64</td><td>16.70</td><td>64.61</td><td>49.4</td><td>3.13</td></tr>\n",
       "\t<tr><td>1.36</td><td>14.26</td><td>66.42</td><td>22.5</td><td>2.80</td></tr>\n",
       "\t<tr><td>3.58</td><td> 3.38</td><td>65.57</td><td>26.1</td><td>1.31</td></tr>\n",
       "\t<tr><td>3.38</td><td> 2.17</td><td>66.10</td><td>22.6</td><td>1.44</td></tr>\n",
       "\t<tr><td>7.25</td><td> 1.16</td><td>78.52</td><td>23.6</td><td>1.50</td></tr>\n",
       "\t<tr><td>5.44</td><td> 2.93</td><td>73.59</td><td>22.3</td><td>1.65</td></tr>\n",
       "\t<tr><td>5.83</td><td> 4.47</td><td>77.33</td><td>26.2</td><td>2.16</td></tr>\n",
       "\t<tr><td>3.74</td><td> 2.26</td><td>79.70</td><td>20.2</td><td>1.58</td></tr>\n",
       "\t<tr><td>9.21</td><td> 2.36</td><td>74.58</td><td>21.8</td><td>1.72</td></tr>\n",
       "\t<tr><td>2.14</td><td> 6.30</td><td>86.54</td><td>17.4</td><td>2.80</td></tr>\n",
       "\t<tr><td>6.62</td><td> 4.79</td><td>78.84</td><td>20.0</td><td>2.33</td></tr>\n",
       "\t<tr><td>4.24</td><td> 5.82</td><td>71.39</td><td>27.1</td><td>1.69</td></tr>\n",
       "\t<tr><td>4.72</td><td> 4.71</td><td>78.01</td><td>20.6</td><td>1.55</td></tr>\n",
       "\t<tr><td>6.48</td><td> 4.93</td><td>74.23</td><td>20.9</td><td>1.98</td></tr>\n",
       "</tbody>\n",
       "</table>\n"
      ],
      "text/latex": [
       "A data.frame: 61 × 5\n",
       "\\begin{tabular}{r|lllll}\n",
       " x1 & x2 & x3 & x4 & x5\\\\\n",
       " <dbl> & <dbl> & <dbl> & <dbl> & <dbl>\\\\\n",
       "\\hline\n",
       "\t 2.67 &  5.71 & 69.02 & 30.3 & 1.48\\\\\n",
       "\t 2.25 &  4.37 & 72.98 & 43.3 & 1.44\\\\\n",
       "\t 3.12 & 10.27 & 64.94 & 32.0 & 2.11\\\\\n",
       "\t 5.14 &  7.44 & 71.29 & 24.5 & 1.85\\\\\n",
       "\t 5.54 &  9.25 & 74.94 & 31.0 & 2.23\\\\\n",
       "\t 5.04 &  4.84 & 53.61 & 48.2 & 1.60\\\\\n",
       "\t 3.14 &  4.82 & 67.00 & 37.6 & 1.52\\\\\n",
       "\t 2.43 &  2.40 & 67.20 & 36.8 & 1.40\\\\\n",
       "\t 5.38 &  4.30 & 83.03 & 19.7 & 2.07\\\\\n",
       "\t 7.34 &  2.73 & 72.60 & 24.5 & 1.42\\\\\n",
       "\t 4.94 &  4.66 & 64.32 & 27.7 & 1.42\\\\\n",
       "\t 4.82 &  4.26 & 82.64 & 20.3 & 1.46\\\\\n",
       "\t 5.02 &  4.17 & 84.25 & 20.6 & 1.42\\\\\n",
       "\t 3.37 &  1.00 & 69.93 & 16.4 & 1.17\\\\\n",
       "\t 3.63 &  6.40 & 70.31 & 29.0 & 2.00\\\\\n",
       "\t 7.43 &  6.00 & 70.53 & 37.7 & 1.44\\\\\n",
       "\t 2.20 & 10.59 & 69.85 & 41.7 & 2.01\\\\\n",
       "\t 7.16 &  4.71 & 79.44 & 33.0 & 1.55\\\\\n",
       "\t 6.33 &  2.88 & 66.24 & 38.1 & 1.73\\\\\n",
       "\t 2.57 &  1.85 & 67.25 & 33.4 & 1.18\\\\\n",
       "\t 6.38 &  1.56 & 63.00 & 18.2 & 0.93\\\\\n",
       "\t 5.34 &  3.41 & 72.57 & 20.1 & 1.66\\\\\n",
       "\t 4.87 &  5.20 & 75.13 & 16.5 & 3.64\\\\\n",
       "\t 2.04 &  4.83 & 67.78 & 17.4 & 1.49\\\\\n",
       "\t 5.48 &  1.34 & 77.43 & 21.6 & 1.32\\\\\n",
       "\t 7.77 &  5.32 & 58.57 & 31.2 & 3.21\\\\\n",
       "\t 6.29 &  2.60 & 64.32 & 27.4 & 1.78\\\\\n",
       "\t 6.38 &  3.71 & 78.61 & 34.1 & 1.30\\\\\n",
       "\t 5.76 &  4.06 & 83.77 & 31.4 & 1.52\\\\\n",
       "\t 6.03 &  3.10 & 76.04 & 25.0 & 1.08\\\\\n",
       "\t ... & ... & ... & ... & ...\\\\\n",
       "\t 4.36 &  1.67 & 65.43 & 23.7 & 1.07\\\\\n",
       "\t 3.07 &  2.00 & 68.03 & 26.2 & 1.19\\\\\n",
       "\t 1.82 &  1.13 & 49.50 & 21.9 & 1.62\\\\\n",
       "\t 3.31 &  0.94 & 74.75 & 26.5 & 1.12\\\\\n",
       "\t 3.45 &  0.72 & 65.99 & 22.0 & 1.20\\\\\n",
       "\t 1.74 &  0.97 & 60.24 & 22.0 & 1.17\\\\\n",
       "\t 1.81 &  1.54 & 70.05 & 24.4 & 1.00\\\\\n",
       "\t 5.59 &  1.66 & 77.96 & 17.1 & 1.30\\\\\n",
       "\t 3.72 &  1.69 & 82.40 & 16.3 & 1.52\\\\\n",
       "\t 3.39 &  1.24 & 67.17 & 27.7 & 1.03\\\\\n",
       "\t 2.25 &  2.80 & 70.81 & 23.4 & 1.14\\\\\n",
       "\t 3.31 &  1.30 & 71.30 & 19.2 & 1.21\\\\\n",
       "\t 5.27 &  1.20 & 73.08 & 30.3 & 1.35\\\\\n",
       "\t 3.26 &  1.02 & 74.36 & 16.5 & 1.23\\\\\n",
       "\t 6.76 &  1.53 & 78.37 & 22.6 & 1.33\\\\\n",
       "\t 2.92 &  4.42 & 58.50 & 68.5 & 2.25\\\\\n",
       "\t 1.64 & 16.70 & 64.61 & 49.4 & 3.13\\\\\n",
       "\t 1.36 & 14.26 & 66.42 & 22.5 & 2.80\\\\\n",
       "\t 3.58 &  3.38 & 65.57 & 26.1 & 1.31\\\\\n",
       "\t 3.38 &  2.17 & 66.10 & 22.6 & 1.44\\\\\n",
       "\t 7.25 &  1.16 & 78.52 & 23.6 & 1.50\\\\\n",
       "\t 5.44 &  2.93 & 73.59 & 22.3 & 1.65\\\\\n",
       "\t 5.83 &  4.47 & 77.33 & 26.2 & 2.16\\\\\n",
       "\t 3.74 &  2.26 & 79.70 & 20.2 & 1.58\\\\\n",
       "\t 9.21 &  2.36 & 74.58 & 21.8 & 1.72\\\\\n",
       "\t 2.14 &  6.30 & 86.54 & 17.4 & 2.80\\\\\n",
       "\t 6.62 &  4.79 & 78.84 & 20.0 & 2.33\\\\\n",
       "\t 4.24 &  5.82 & 71.39 & 27.1 & 1.69\\\\\n",
       "\t 4.72 &  4.71 & 78.01 & 20.6 & 1.55\\\\\n",
       "\t 6.48 &  4.93 & 74.23 & 20.9 & 1.98\\\\\n",
       "\\end{tabular}\n"
      ],
      "text/markdown": [
       "\n",
       "A data.frame: 61 × 5\n",
       "\n",
       "| x1 &lt;dbl&gt; | x2 &lt;dbl&gt; | x3 &lt;dbl&gt; | x4 &lt;dbl&gt; | x5 &lt;dbl&gt; |\n",
       "|---|---|---|---|---|\n",
       "| 2.67 |  5.71 | 69.02 | 30.3 | 1.48 |\n",
       "| 2.25 |  4.37 | 72.98 | 43.3 | 1.44 |\n",
       "| 3.12 | 10.27 | 64.94 | 32.0 | 2.11 |\n",
       "| 5.14 |  7.44 | 71.29 | 24.5 | 1.85 |\n",
       "| 5.54 |  9.25 | 74.94 | 31.0 | 2.23 |\n",
       "| 5.04 |  4.84 | 53.61 | 48.2 | 1.60 |\n",
       "| 3.14 |  4.82 | 67.00 | 37.6 | 1.52 |\n",
       "| 2.43 |  2.40 | 67.20 | 36.8 | 1.40 |\n",
       "| 5.38 |  4.30 | 83.03 | 19.7 | 2.07 |\n",
       "| 7.34 |  2.73 | 72.60 | 24.5 | 1.42 |\n",
       "| 4.94 |  4.66 | 64.32 | 27.7 | 1.42 |\n",
       "| 4.82 |  4.26 | 82.64 | 20.3 | 1.46 |\n",
       "| 5.02 |  4.17 | 84.25 | 20.6 | 1.42 |\n",
       "| 3.37 |  1.00 | 69.93 | 16.4 | 1.17 |\n",
       "| 3.63 |  6.40 | 70.31 | 29.0 | 2.00 |\n",
       "| 7.43 |  6.00 | 70.53 | 37.7 | 1.44 |\n",
       "| 2.20 | 10.59 | 69.85 | 41.7 | 2.01 |\n",
       "| 7.16 |  4.71 | 79.44 | 33.0 | 1.55 |\n",
       "| 6.33 |  2.88 | 66.24 | 38.1 | 1.73 |\n",
       "| 2.57 |  1.85 | 67.25 | 33.4 | 1.18 |\n",
       "| 6.38 |  1.56 | 63.00 | 18.2 | 0.93 |\n",
       "| 5.34 |  3.41 | 72.57 | 20.1 | 1.66 |\n",
       "| 4.87 |  5.20 | 75.13 | 16.5 | 3.64 |\n",
       "| 2.04 |  4.83 | 67.78 | 17.4 | 1.49 |\n",
       "| 5.48 |  1.34 | 77.43 | 21.6 | 1.32 |\n",
       "| 7.77 |  5.32 | 58.57 | 31.2 | 3.21 |\n",
       "| 6.29 |  2.60 | 64.32 | 27.4 | 1.78 |\n",
       "| 6.38 |  3.71 | 78.61 | 34.1 | 1.30 |\n",
       "| 5.76 |  4.06 | 83.77 | 31.4 | 1.52 |\n",
       "| 6.03 |  3.10 | 76.04 | 25.0 | 1.08 |\n",
       "| ... | ... | ... | ... | ... |\n",
       "| 4.36 |  1.67 | 65.43 | 23.7 | 1.07 |\n",
       "| 3.07 |  2.00 | 68.03 | 26.2 | 1.19 |\n",
       "| 1.82 |  1.13 | 49.50 | 21.9 | 1.62 |\n",
       "| 3.31 |  0.94 | 74.75 | 26.5 | 1.12 |\n",
       "| 3.45 |  0.72 | 65.99 | 22.0 | 1.20 |\n",
       "| 1.74 |  0.97 | 60.24 | 22.0 | 1.17 |\n",
       "| 1.81 |  1.54 | 70.05 | 24.4 | 1.00 |\n",
       "| 5.59 |  1.66 | 77.96 | 17.1 | 1.30 |\n",
       "| 3.72 |  1.69 | 82.40 | 16.3 | 1.52 |\n",
       "| 3.39 |  1.24 | 67.17 | 27.7 | 1.03 |\n",
       "| 2.25 |  2.80 | 70.81 | 23.4 | 1.14 |\n",
       "| 3.31 |  1.30 | 71.30 | 19.2 | 1.21 |\n",
       "| 5.27 |  1.20 | 73.08 | 30.3 | 1.35 |\n",
       "| 3.26 |  1.02 | 74.36 | 16.5 | 1.23 |\n",
       "| 6.76 |  1.53 | 78.37 | 22.6 | 1.33 |\n",
       "| 2.92 |  4.42 | 58.50 | 68.5 | 2.25 |\n",
       "| 1.64 | 16.70 | 64.61 | 49.4 | 3.13 |\n",
       "| 1.36 | 14.26 | 66.42 | 22.5 | 2.80 |\n",
       "| 3.58 |  3.38 | 65.57 | 26.1 | 1.31 |\n",
       "| 3.38 |  2.17 | 66.10 | 22.6 | 1.44 |\n",
       "| 7.25 |  1.16 | 78.52 | 23.6 | 1.50 |\n",
       "| 5.44 |  2.93 | 73.59 | 22.3 | 1.65 |\n",
       "| 5.83 |  4.47 | 77.33 | 26.2 | 2.16 |\n",
       "| 3.74 |  2.26 | 79.70 | 20.2 | 1.58 |\n",
       "| 9.21 |  2.36 | 74.58 | 21.8 | 1.72 |\n",
       "| 2.14 |  6.30 | 86.54 | 17.4 | 2.80 |\n",
       "| 6.62 |  4.79 | 78.84 | 20.0 | 2.33 |\n",
       "| 4.24 |  5.82 | 71.39 | 27.1 | 1.69 |\n",
       "| 4.72 |  4.71 | 78.01 | 20.6 | 1.55 |\n",
       "| 6.48 |  4.93 | 74.23 | 20.9 | 1.98 |\n",
       "\n"
      ],
      "text/plain": [
       "    x1   x2    x3    x4   x5  \n",
       "1   2.67  5.71 69.02 30.3 1.48\n",
       "2   2.25  4.37 72.98 43.3 1.44\n",
       "3   3.12 10.27 64.94 32.0 2.11\n",
       "4   5.14  7.44 71.29 24.5 1.85\n",
       "5   5.54  9.25 74.94 31.0 2.23\n",
       "6   5.04  4.84 53.61 48.2 1.60\n",
       "7   3.14  4.82 67.00 37.6 1.52\n",
       "8   2.43  2.40 67.20 36.8 1.40\n",
       "9   5.38  4.30 83.03 19.7 2.07\n",
       "10  7.34  2.73 72.60 24.5 1.42\n",
       "11  4.94  4.66 64.32 27.7 1.42\n",
       "12  4.82  4.26 82.64 20.3 1.46\n",
       "13  5.02  4.17 84.25 20.6 1.42\n",
       "14  3.37  1.00 69.93 16.4 1.17\n",
       "15  3.63  6.40 70.31 29.0 2.00\n",
       "16  7.43  6.00 70.53 37.7 1.44\n",
       "17  2.20 10.59 69.85 41.7 2.01\n",
       "18  7.16  4.71 79.44 33.0 1.55\n",
       "19  6.33  2.88 66.24 38.1 1.73\n",
       "20  2.57  1.85 67.25 33.4 1.18\n",
       "21  6.38  1.56 63.00 18.2 0.93\n",
       "22  5.34  3.41 72.57 20.1 1.66\n",
       "23  4.87  5.20 75.13 16.5 3.64\n",
       "24  2.04  4.83 67.78 17.4 1.49\n",
       "25  5.48  1.34 77.43 21.6 1.32\n",
       "26  7.77  5.32 58.57 31.2 3.21\n",
       "27  6.29  2.60 64.32 27.4 1.78\n",
       "28  6.38  3.71 78.61 34.1 1.30\n",
       "29  5.76  4.06 83.77 31.4 1.52\n",
       "30  6.03  3.10 76.04 25.0 1.08\n",
       "... ...  ...   ...   ...  ... \n",
       "32  4.36  1.67 65.43 23.7 1.07\n",
       "33  3.07  2.00 68.03 26.2 1.19\n",
       "34  1.82  1.13 49.50 21.9 1.62\n",
       "35  3.31  0.94 74.75 26.5 1.12\n",
       "36  3.45  0.72 65.99 22.0 1.20\n",
       "37  1.74  0.97 60.24 22.0 1.17\n",
       "38  1.81  1.54 70.05 24.4 1.00\n",
       "39  5.59  1.66 77.96 17.1 1.30\n",
       "40  3.72  1.69 82.40 16.3 1.52\n",
       "41  3.39  1.24 67.17 27.7 1.03\n",
       "42  2.25  2.80 70.81 23.4 1.14\n",
       "43  3.31  1.30 71.30 19.2 1.21\n",
       "44  5.27  1.20 73.08 30.3 1.35\n",
       "45  3.26  1.02 74.36 16.5 1.23\n",
       "46  6.76  1.53 78.37 22.6 1.33\n",
       "47  2.92  4.42 58.50 68.5 2.25\n",
       "48  1.64 16.70 64.61 49.4 3.13\n",
       "49  1.36 14.26 66.42 22.5 2.80\n",
       "50  3.58  3.38 65.57 26.1 1.31\n",
       "51  3.38  2.17 66.10 22.6 1.44\n",
       "52  7.25  1.16 78.52 23.6 1.50\n",
       "53  5.44  2.93 73.59 22.3 1.65\n",
       "54  5.83  4.47 77.33 26.2 2.16\n",
       "55  3.74  2.26 79.70 20.2 1.58\n",
       "56  9.21  2.36 74.58 21.8 1.72\n",
       "57  2.14  6.30 86.54 17.4 2.80\n",
       "58  6.62  4.79 78.84 20.0 2.33\n",
       "59  4.24  5.82 71.39 27.1 1.69\n",
       "60  4.72  4.71 78.01 20.6 1.55\n",
       "61  6.48  4.93 74.23 20.9 1.98"
      ]
     },
     "metadata": {},
     "output_type": "display_data"
    }
   ],
   "source": [
    "data <- import(\"C:/Sheldon/Geeker/jupiter/Notebook/Course/Applied Statistics/Data/T8-5.DAT\")\n",
    "colnames(data) <- c(\"x1\", \"x2\", \"x3\", \"x4\", \"x5\")\n",
    "data"
   ]
  },
  {
   "cell_type": "code",
   "execution_count": 105,
   "metadata": {
    "Collapsed": "false"
   },
   "outputs": [
    {
     "name": "stdout",
     "output_type": "stream",
     "text": [
      "                            PC1      PC2       PC3       PC4       PC5\n",
      "Standard deviation     1.411353 1.169413 0.9296006 0.7314787 0.4912604\n",
      "Proportion of Variance 0.398380 0.273510 0.1728300 0.1070100 0.0482700\n",
      "Cumulative Proportion  0.398380 0.671890 0.8447200 0.9517300 1.0000000\n"
     ]
    }
   ],
   "source": [
    "#PCA_result <- prcomp(data)\n",
    "PCA_result <- prcomp(data, center=TRUE, scale=TRUE)\n",
    "PCA_sum <- summary(PCA_result)\n",
    "print(PCA_sum$importance)"
   ]
  },
  {
   "cell_type": "code",
   "execution_count": 106,
   "metadata": {
    "Collapsed": "false"
   },
   "outputs": [
    {
     "name": "stdout",
     "output_type": "stream",
     "text": [
      "          PC1        PC2         PC3        PC4        PC5\n",
      "x1  0.2625829 -0.4629936  0.78390268 -0.2169291  0.2347882\n",
      "x2 -0.5933541 -0.3256442 -0.16407255  0.1446471  0.7028828\n",
      "x3  0.3256978 -0.6051419 -0.22487455  0.6628689 -0.1943206\n",
      "x4 -0.4792022  0.2524850  0.55070086  0.5716730 -0.2766497\n",
      "x5 -0.4932213 -0.4996473 -0.06882436 -0.4072024 -0.5801162\n"
     ]
    }
   ],
   "source": [
    "print(PCA_sum$rotation)"
   ]
  },
  {
   "cell_type": "code",
   "execution_count": 107,
   "metadata": {
    "Collapsed": "false"
   },
   "outputs": [
    {
     "data": {
      "image/png": "[encoded data removed]",
      "text/plain": [
       "Plot with title \"Screeplot of the first 7 PCs\""
      ]
     },
     "metadata": {
      "image/png": {
       "height": 420,
       "width": 420
      },
      "text/plain": {
       "height": 420,
       "width": 420
      }
     },
     "output_type": "display_data"
    }
   ],
   "source": [
    "screeplot(PCA_result, type = \"l\", npcs = 7, main = \"Screeplot of the first 7 PCs\")\n",
    "abline(h = 1, col=\"red\", lty=5)\n",
    "legend(\"topright\", legend=c(\"Eigenvalue = 1\"), col=c(\"red\"), lty=5, cex=0.6)"
   ]
  },
  {
   "cell_type": "markdown",
   "metadata": {
    "Collapsed": "false"
   },
   "source": [
    "6. 因子分析"
   ]
  },
  {
   "cell_type": "code",
   "execution_count": 108,
   "metadata": {
    "Collapsed": "false"
   },
   "outputs": [
    {
     "data": {
      "text/html": [
       "<table>\n",
       "<caption>A matrix: 5 × 5 of type dbl</caption>\n",
       "<tbody>\n",
       "\t<tr><td>1.00</td><td>0.02</td><td>0.96</td><td>0.42</td><td>0.01</td></tr>\n",
       "\t<tr><td>0.02</td><td>1.00</td><td>0.13</td><td>0.71</td><td>0.85</td></tr>\n",
       "\t<tr><td>0.96</td><td>0.13</td><td>1.00</td><td>0.50</td><td>0.11</td></tr>\n",
       "\t<tr><td>0.42</td><td>0.71</td><td>0.50</td><td>1.00</td><td>0.79</td></tr>\n",
       "\t<tr><td>0.01</td><td>0.85</td><td>0.11</td><td>0.79</td><td>1.00</td></tr>\n",
       "</tbody>\n",
       "</table>\n"
      ],
      "text/latex": [
       "A matrix: 5 × 5 of type dbl\n",
       "\\begin{tabular}{lllll}\n",
       "\t 1.00 & 0.02 & 0.96 & 0.42 & 0.01\\\\\n",
       "\t 0.02 & 1.00 & 0.13 & 0.71 & 0.85\\\\\n",
       "\t 0.96 & 0.13 & 1.00 & 0.50 & 0.11\\\\\n",
       "\t 0.42 & 0.71 & 0.50 & 1.00 & 0.79\\\\\n",
       "\t 0.01 & 0.85 & 0.11 & 0.79 & 1.00\\\\\n",
       "\\end{tabular}\n"
      ],
      "text/markdown": [
       "\n",
       "A matrix: 5 × 5 of type dbl\n",
       "\n",
       "| 1.00 | 0.02 | 0.96 | 0.42 | 0.01 |\n",
       "| 0.02 | 1.00 | 0.13 | 0.71 | 0.85 |\n",
       "| 0.96 | 0.13 | 1.00 | 0.50 | 0.11 |\n",
       "| 0.42 | 0.71 | 0.50 | 1.00 | 0.79 |\n",
       "| 0.01 | 0.85 | 0.11 | 0.79 | 1.00 |\n",
       "\n"
      ],
      "text/plain": [
       "     [,1] [,2] [,3] [,4] [,5]\n",
       "[1,] 1.00 0.02 0.96 0.42 0.01\n",
       "[2,] 0.02 1.00 0.13 0.71 0.85\n",
       "[3,] 0.96 0.13 1.00 0.50 0.11\n",
       "[4,] 0.42 0.71 0.50 1.00 0.79\n",
       "[5,] 0.01 0.85 0.11 0.79 1.00"
      ]
     },
     "metadata": {},
     "output_type": "display_data"
    }
   ],
   "source": [
    "cor_mat <- matrix(c(1,0.02,0.96,0.42,0.01,0.02,1,0.13,0.71,0.85,0.96,0.13,1,0.5,0.11,0.42,0.71,0.50,1,0.79,0.01,0.85,0.11,0.79,1),nrow=5)\n",
    "cor_mat"
   ]
  },
  {
   "cell_type": "code",
   "execution_count": 113,
   "metadata": {
    "Collapsed": "false"
   },
   "outputs": [
    {
     "data": {
      "text/plain": [
       "Principal Components Analysis\n",
       "Call: principal(r = cor_mat, nfactors = 2, rotate = \"none\", covar = TRUE)\n",
       "Standardized loadings (pattern matrix) based upon correlation matrix\n",
       "   PC1   PC2   h2    u2 com\n",
       "1 0.56  0.82 0.98 0.021 1.8\n",
       "2 0.78 -0.52 0.88 0.121 1.8\n",
       "3 0.65  0.75 0.98 0.024 2.0\n",
       "4 0.94 -0.10 0.89 0.107 1.0\n",
       "5 0.80 -0.54 0.93 0.068 1.8\n",
       "\n",
       "                       PC1  PC2\n",
       "SS loadings           2.85 1.81\n",
       "Proportion Var        0.57 0.36\n",
       "Cumulative Var        0.57 0.93\n",
       "Proportion Explained  0.61 0.39\n",
       "Cumulative Proportion 0.61 1.00\n",
       "\n",
       "Mean item complexity =  1.7\n",
       "Test of the hypothesis that 2 components are sufficient.\n",
       "\n",
       "The root mean square of the residuals (RMSR) is  0.03 \n",
       "\n",
       "Fit based upon off diagonal values = 1"
      ]
     },
     "metadata": {},
     "output_type": "display_data"
    }
   ],
   "source": [
    "library(psych)\n",
    "\n",
    "fa <- principal(cor_mat, nfactors=2, rotate=\"none\", covar = TRUE)\n",
    "fa"
   ]
  },
  {
   "cell_type": "code",
   "execution_count": 114,
   "metadata": {
    "Collapsed": "false"
   },
   "outputs": [
    {
     "data": {
      "text/plain": [
       "Principal Components Analysis\n",
       "Call: principal(r = cor_mat, nfactors = 2, rotate = \"varimax\", covar = TRUE)\n",
       "Standardized loadings (pattern matrix) based upon correlation matrix\n",
       "   RC1   RC2   h2    u2 com\n",
       "1 0.02  0.99 0.98 0.021 1.0\n",
       "2 0.94 -0.01 0.88 0.121 1.0\n",
       "3 0.13  0.98 0.98 0.024 1.0\n",
       "4 0.84  0.43 0.89 0.107 1.5\n",
       "5 0.97 -0.02 0.93 0.068 1.0\n",
       "\n",
       "                       RC1  RC2\n",
       "SS loadings           2.54 2.12\n",
       "Proportion Var        0.51 0.42\n",
       "Cumulative Var        0.51 0.93\n",
       "Proportion Explained  0.54 0.46\n",
       "Cumulative Proportion 0.54 1.00\n",
       "\n",
       "Mean item complexity =  1.1\n",
       "Test of the hypothesis that 2 components are sufficient.\n",
       "\n",
       "The root mean square of the residuals (RMSR) is  0.03 \n",
       "\n",
       "Fit based upon off diagonal values = 1"
      ]
     },
     "metadata": {},
     "output_type": "display_data"
    }
   ],
   "source": [
    "fa <- principal(cor_mat, nfactors=2, rotate=\"varimax\", covar = TRUE)\n",
    "fa"
   ]
  },
  {
   "cell_type": "markdown",
   "metadata": {
    "Collapsed": "false"
   },
   "source": [
    "7. Logistic模型"
   ]
  },
  {
   "cell_type": "code",
   "execution_count": 119,
   "metadata": {
    "Collapsed": "false"
   },
   "outputs": [
    {
     "data": {
      "text/plain": [
       "\n",
       "Call:\n",
       "lm(formula = inlf ~ hsp, data = data)\n",
       "\n",
       "Residuals:\n",
       "    Min      1Q  Median      3Q     Max \n",
       "-0.6793 -0.5250  0.3207  0.4750  0.4750 \n",
       "\n",
       "Coefficients:\n",
       "            Estimate Std. Error t value Pr(>|t|)    \n",
       "(Intercept)  0.52495    0.02111  24.864  < 2e-16 ***\n",
       "hsp1         0.15429    0.03979   3.878 0.000115 ***\n",
       "---\n",
       "Signif. codes:  0 '***' 0.001 '**' 0.01 '*' 0.05 '.' 0.1 ' ' 1\n",
       "\n",
       "Residual standard error: 0.4911 on 751 degrees of freedom\n",
       "Multiple R-squared:  0.01963,\tAdjusted R-squared:  0.01832 \n",
       "F-statistic: 15.04 on 1 and 751 DF,  p-value: 0.0001147\n"
      ]
     },
     "metadata": {},
     "output_type": "display_data"
    }
   ],
   "source": [
    "library(rio)\n",
    "\n",
    "data <- import(\"C:/Sheldon/Geeker/jupiter/Notebook/Course/Applied Statistics/Data/MROZ.DTA\")\n",
    "data$hsp <- factor(data$hsp)\n",
    "\n",
    "reg_model <- lm(inlf ~ hsp, data = data)\n",
    "summary(reg_model)"
   ]
  },
  {
   "cell_type": "code",
   "execution_count": 120,
   "metadata": {
    "Collapsed": "false"
   },
   "outputs": [
    {
     "data": {
      "text/plain": [
       "\n",
       "Call:\n",
       "glm(formula = inlf ~ hsp, family = \"binomial\", data = data)\n",
       "\n",
       "Deviance Residuals: \n",
       "    Min       1Q   Median       3Q      Max  \n",
       "-1.5080  -1.2201   0.8795   1.1353   1.1353  \n",
       "\n",
       "Coefficients:\n",
       "            Estimate Std. Error z value Pr(>|z|)    \n",
       "(Intercept)  0.09990    0.08609   1.160 0.245911    \n",
       "hsp1         0.65041    0.17048   3.815 0.000136 ***\n",
       "---\n",
       "Signif. codes:  0 '***' 0.001 '**' 0.01 '*' 0.05 '.' 0.1 ' ' 1\n",
       "\n",
       "(Dispersion parameter for binomial family taken to be 1)\n",
       "\n",
       "    Null deviance: 1029.7  on 752  degrees of freedom\n",
       "Residual deviance: 1014.7  on 751  degrees of freedom\n",
       "AIC: 1018.7\n",
       "\n",
       "Number of Fisher Scoring iterations: 4\n"
      ]
     },
     "metadata": {},
     "output_type": "display_data"
    }
   ],
   "source": [
    "logit_model <- glm(inlf ~ hsp, data = data, family = \"binomial\")\n",
    "summary(logit_model)"
   ]
  },
  {
   "cell_type": "markdown",
   "metadata": {
    "Collapsed": "false"
   },
   "source": [
    "对于$hsp = 1$的女性，模型是$\\log \\left(\\frac{inlf_{hsp}}{1-inlf_{hsp}}\\right)=\\beta_{0}+\\beta_{1}$；对于$hsp = 0$的女性，模型是$\\log \\left(\\frac{inlf_{nohsp}}{1-inlf_{nohsp}}\\right)=\\beta_{0}$。\n",
    "\n",
    "对于只有一个虚拟解释变量的模型，很容易计算进入劳动力市场的概率\n",
    "\n",
    "$$p=\\frac{e^{\\beta_{0}+\\beta_{1} x}}{1+e^{\\beta_{0}+\\beta_{1} x}}$$"
   ]
  },
  {
   "cell_type": "markdown",
   "metadata": {
    "Collapsed": "false"
   },
   "source": [
    "8. 结构方程模型"
   ]
  }
 ],
 "metadata": {
  "kernelspec": {
   "display_name": "R",
   "language": "R",
   "name": "ir"
  },
  "language_info": {
   "codemirror_mode": "r",
   "file_extension": ".r",
   "mimetype": "text/x-r-source",
   "name": "R",
   "pygments_lexer": "r",
   "version": "3.6.1"
  }
 },
 "nbformat": 4,
 "nbformat_minor": 4
}
