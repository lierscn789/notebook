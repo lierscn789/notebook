{
 "cells": [
  {
   "cell_type": "markdown",
   "metadata": {},
   "source": [
    "# 中级计量经济学复习\n",
    "---"
   ]
  },
  {
   "cell_type": "markdown",
   "metadata": {},
   "source": [
    "## 模型\n",
    "\n",
    "### 线性回归模型\n",
    "\n",
    "#### 横截面线性回归模型\n",
    "\n",
    "- 高斯马尔可夫定理\n",
    "\n",
    "- 内生性问题\n",
    "\n",
    "#### 时间序列回归模型\n",
    "\n",
    "- 平稳性/单位根检验\n",
    "\n",
    "- 线性回归模型\n",
    "\n",
    "- ARMA模型\n",
    "\n",
    "- 误差修正模型\n",
    "\n",
    "#### 面板数据回归模型\n",
    "\n",
    "- 固定效应估计量\n",
    "\n",
    "- 随机效应估计量\n",
    "\n",
    "- 双重差分法\n",
    "\n",
    "### 估计方法\n",
    "\n",
    "- OLS\n",
    "\n",
    "- MLE\n",
    "\n",
    "- 工具变量估计\n",
    "\n",
    "### 假设检验\n",
    "\n",
    "- t检验\n",
    "\n",
    "- F检验\n",
    "\n",
    "- 异方差检验\n",
    "\n",
    "- 自相关性检验\n",
    "\n",
    "### 非线性回归模型\n",
    "\n",
    "- Logit/Probit模型\n",
    "\n",
    "— 托宾模型、泊松模型、截取和断尾回归模型\n",
    "\n",
    "### 鲁宾因果框架\n",
    "\n",
    "- ATE和ATT\n",
    "\n",
    "- 匹配与倾向得分匹配\n",
    "\n",
    "- 断点回归设计"
   ]
  }
 ],
 "metadata": {
  "kernelspec": {
   "display_name": "Python 3",
   "language": "python",
   "name": "python3"
  },
  "language_info": {
   "codemirror_mode": {
    "name": "ipython",
    "version": 3
   },
   "file_extension": ".py",
   "mimetype": "text/x-python",
   "name": "python",
   "nbconvert_exporter": "python",
   "pygments_lexer": "ipython3",
   "version": "3.6.1"
  }
 },
 "nbformat": 4,
 "nbformat_minor": 2
}
