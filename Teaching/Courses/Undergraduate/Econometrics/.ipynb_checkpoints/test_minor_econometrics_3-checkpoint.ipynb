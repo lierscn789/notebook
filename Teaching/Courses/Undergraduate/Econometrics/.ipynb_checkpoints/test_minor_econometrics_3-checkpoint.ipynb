{
 "cells": [
  {
   "cell_type": "markdown",
   "metadata": {},
   "source": [
    "# 辅修计量经济学课程练习三\n",
    "---"
   ]
  },
  {
   "cell_type": "markdown",
   "metadata": {},
   "source": [
    "1.下列哪个条件不是OLS无偏性所必须的？（单选）\n",
    "\n",
    "A. 线性于参数\n",
    "\n",
    "B. 零条件均值\n",
    "\n",
    "C. 随机抽样\n",
    "\n",
    "D. 同方差性\n",
    "\n",
    "<br>\n",
    "\n",
    "案例分析：工资方程回归\n",
    "\n",
    "因变量$wage$是小时工资（用美元衡量），自变量$female$是表示女性的虚拟变量，女性取值为1，男性为0；$educ$是受教育程度，用受教育年数衡量；$married$是表示结婚与否的虚拟变量，已婚为1，未婚为0；$marrfem$是$married$和$female$的乘积，当然也是表示已婚女性的虚拟变量，若是已婚女性为1，否则为0；$singfem$是表示未婚女性的虚拟变量，若是未婚女性为1，否则为0；$marrmale$是表示已婚男性的虚拟变量，若是已婚男性为1，否则为0。\n",
    "\n",
    "<div align=center>\n",
    "<img src=\"./pic/w020.jpg\" width = \"45%\" />\n",
    "</div>\n",
    "\n",
    "请回答下列问题（注：运算用所能获得的最大精度，最终结果保留到小数点后三位）\n",
    "\n",
    "2.根据模型（1）的结果，男性的平均工资为\\_\\_\\_。（填空题）\n",
    "\n",
    "<br>\n",
    "\n",
    "3.根据模型（1）的结果，女性的平均工资为\\_\\_\\_。（填空题）\n",
    "\n",
    "<br>\n",
    "\n",
    "4.根据模型（2）的结果，受教育程度为10年的男性的平均工资为\\_\\_\\_。（填空题）\n",
    "\n",
    "<br>\n",
    "\n",
    "5.根据模型（2）的结果，受教育程度为20年的女性的平均工资为\\_\\_\\_。（填空题）\n",
    "\n",
    "<br>\n",
    "\n",
    "6.请填写上述回归表格中A的值（填空题）\n",
    "\n",
    "<br>\n",
    "\n",
    "7.请填写上述回归表格中B的值（填空题）\n",
    "\n",
    "<br>\n",
    "\n",
    "8.请填写上述回归表格中C的值（填空题）\n",
    "\n",
    "<br>\n",
    "\n",
    "9.请填写上述回归表格中D的值（填空题）\n",
    "\n",
    "<br>\n",
    "\n",
    "10.请填写上述回归表格中E的值（填空题）"
   ]
  },
  {
   "cell_type": "markdown",
   "metadata": {},
   "source": [
    "**扫码答题**\n",
    "\n",
    "<div align=center>\n",
    "<img src=\"./pic/test03.jpg\" width = \"35%\" />\n",
    "</div>"
   ]
  }
 ],
 "metadata": {
  "kernelspec": {
   "display_name": "Python 3",
   "language": "python",
   "name": "python3"
  },
  "language_info": {
   "codemirror_mode": {
    "name": "ipython",
    "version": 3
   },
   "file_extension": ".py",
   "mimetype": "text/x-python",
   "name": "python",
   "nbconvert_exporter": "python",
   "pygments_lexer": "ipython3",
   "version": "3.6.1"
  }
 },
 "nbformat": 4,
 "nbformat_minor": 2
}
