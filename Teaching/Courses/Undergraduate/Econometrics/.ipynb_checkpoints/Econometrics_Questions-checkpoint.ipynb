{
 "cells": [
  {
   "cell_type": "markdown",
   "metadata": {},
   "source": [
    "# 中级计量经济学例题\n",
    "---"
   ]
  },
  {
   "cell_type": "markdown",
   "metadata": {},
   "source": [
    "1.设$Y_{t}$服从平稳的AR(1)模型$Y_{t}=2.5+0.7Y_{t-1}+u_{t}$，其中$u$是白噪声，且$E(u)=0$，$var(u_{t})=9$\n",
    "\n",
    "(1) 计算$Y_{t}$均值和方差\n",
    "\n",
    "(2) 计算$Y_{t}$的前两阶自协方差\n",
    "\n",
    "(3) 计算$Y_{t}$的前两阶自相关\n",
    "\n",
    "\n",
    "2.对于$y=\\beta_{0}+\\beta_{1}x+u$，证明：$x$可以作为自己的工具变量，并且工具变量估计量和OLS估计量一样。"
   ]
  }
 ],
 "metadata": {
  "kernelspec": {
   "display_name": "Python 3",
   "language": "python",
   "name": "python3"
  },
  "language_info": {
   "codemirror_mode": {
    "name": "ipython",
    "version": 3
   },
   "file_extension": ".py",
   "mimetype": "text/x-python",
   "name": "python",
   "nbconvert_exporter": "python",
   "pygments_lexer": "ipython3",
   "version": "3.6.1"
  }
 },
 "nbformat": 4,
 "nbformat_minor": 2
}
