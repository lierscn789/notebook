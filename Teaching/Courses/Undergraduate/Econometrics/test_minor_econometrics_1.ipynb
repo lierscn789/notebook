{
 "cells": [
  {
   "cell_type": "markdown",
   "metadata": {},
   "source": [
    "# 辅修计量经济学课程练习一\n",
    "---"
   ]
  },
  {
   "cell_type": "markdown",
   "metadata": {},
   "source": [
    "1.1978-2015年间中国31个省市自治区实际人均GDP的平均增长率数据的类型是？（单选）\n",
    "\n",
    "A. 横截面数据\n",
    "\n",
    "B. 时间序列数据\n",
    "\n",
    "C. 混合横截面数据\n",
    "\n",
    "D. 面板数据\n",
    "\n",
    "<br>\n",
    "\n",
    "2.若解释变量之间的相关系数达到0.9，会使得OLS不再是BLUE。（判断）\n",
    "\n",
    "<br>\n",
    "\n",
    "3.当回归模型遗漏了一个重要变量，那么OLS估计量仍然是无偏的。（判断）\n",
    "\n",
    "<br>\n",
    "\n",
    "4.当回归模型添加了一个无关变量，那么OLS估计量仍然是无偏的。（判断）\n",
    "\n",
    "<br>\n",
    "\n",
    "\n",
    "案例分析：研发支出模型\n",
    "\n",
    "因变量$lrd$是研发（R&D）支出的对数，解释变量$lsales$是年销售额度量的对数，$profmarg$是利润率（即利润占销售额的百分比）。回归结果如下\n",
    "\n",
    "<div align=center>\n",
    "<img src=\"./pic/w018.jpg\" width = \"35%\" />\n",
    "</div>\n",
    "\n",
    "请回答下列问题（注：运算用所能获得的最大精度，最终结果保留到小数点后两位）\n",
    "\n",
    "5.请填写回归结果中A的值（填空题）\n",
    "\n",
    "<br>\n",
    "\n",
    "6.请填写回归结果中B的值（填空题）\n",
    "\n",
    "<br>\n",
    "\n",
    "7.请填写回归结果中C的值（填空题）\n",
    "\n",
    "<br>\n",
    "\n",
    "8.根据模型（3）的结果，保持利润率不变，销售额提高$1\\%$，则研发支出提高\\_\\_\\_$\\%$（填空题）\n",
    "\n",
    "<br>\n",
    "\n",
    "9.根据模型（3）的结果，保持销售额不变，利润率提高$1\\%$，则研发支出提高\\_\\_\\_$\\%$（填空题）\n",
    "\n",
    "<br>\n",
    "\n",
    "10.根据回归结果，对于原假设$H_{0}:\\beta_{lsales}=\\beta_{profmarg}=0$的$F$统计量的值为\\_\\_\\_。（填空题）"
   ]
  },
  {
   "cell_type": "markdown",
   "metadata": {},
   "source": [
    "**扫码答题**\n",
    "\n",
    "<div align=center>\n",
    "<img src=\"./pic/test01.jpg\" width = \"35%\" />\n",
    "</div>"
   ]
  }
 ],
 "metadata": {
  "kernelspec": {
   "display_name": "Python 3",
   "language": "python",
   "name": "python3"
  },
  "language_info": {
   "codemirror_mode": {
    "name": "ipython",
    "version": 3
   },
   "file_extension": ".py",
   "mimetype": "text/x-python",
   "name": "python",
   "nbconvert_exporter": "python",
   "pygments_lexer": "ipython3",
   "version": "3.6.1"
  }
 },
 "nbformat": 4,
 "nbformat_minor": 2
}
