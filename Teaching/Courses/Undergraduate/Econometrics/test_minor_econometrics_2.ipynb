{
 "cells": [
  {
   "cell_type": "markdown",
   "metadata": {},
   "source": [
    "# 辅修计量经济学课程练习二\n",
    "---"
   ]
  },
  {
   "cell_type": "markdown",
   "metadata": {},
   "source": [
    "1.回归模型在OLS估计后进行统计推断，一般假设误差项服从哪个分布？（单选）\n",
    "\n",
    "A. 正态分布\n",
    "\n",
    "B. $t$分布\n",
    "\n",
    "C. $F$分布\n",
    "\n",
    "D. $\\chi^{2}$分布\n",
    "\n",
    "<br>\n",
    "\n",
    "2.虚拟变量陷阱实质是完全多重共线性。（判断）\n",
    "\n",
    "<br>\n",
    "\n",
    "3.关于拟合优度$R^{2}$，下列哪些说法是正确的？（多选）\n",
    "\n",
    "A. 拟合优度的取值总是介于-1和1之间\n",
    "\n",
    "B. 若数据点都落在回归线上，那么拟合优度的取值为0\n",
    "\n",
    "C. 当模型中增加一个解释变量时，拟合优度不会减少\n",
    "\n",
    "D. 不能够用拟合优度比较因变量函数形式不同的回归模型\n",
    "\n",
    "<br>\n",
    "\n",
    "案例分析：研发支出模型\n",
    "\n",
    "因变量$rd$是研发（R&D）支出，解释变量$sales$是年销售额度量（以百万美元为单位），$salesbil$是年销售额度量（以十亿为单位），$salesbilsq$是$salesbil$的平方项，$lsalesbil$是$salesbil$的对数。回归结果如下\n",
    "\n",
    "<div align=center>\n",
    "<img src=\"./pic/w019.jpg\" width = \"50%\" />\n",
    "</div>\n",
    "\n",
    "请回答下列问题（注：运算用所能获得的最大精度，最终结果保留到小数点后两位）\n",
    "\n",
    "4.请填写回归结果中A的值（填空题）\n",
    "\n",
    "<br>\n",
    "\n",
    "5.请填写回归结果中B的值（填空题）\n",
    "\n",
    "<br>\n",
    "\n",
    "6.请填写回归结果中C的值（填空题）\n",
    "\n",
    "<br>\n",
    "\n",
    "7.请填写回归结果中D的值（填空题）\n",
    "\n",
    "<br>\n",
    "\n",
    "8.请填写回归结果中E的值（填空题）\n",
    "\n",
    "<br>\n",
    "\n",
    "9.请填写回归结果中F的值（填空题）\n",
    "\n",
    "<br>\n",
    "\n",
    "10.根据模型（3），$sales$对$rd$影响的转择点在$sales$取值为\\_\\_\\_时。（填空题）\n",
    "\n",
    "<br>"
   ]
  },
  {
   "cell_type": "markdown",
   "metadata": {},
   "source": [
    "**扫码答题**\n",
    "\n",
    "<div align=center>\n",
    "<img src=\"./pic/test02.jpg\" width = \"35%\" />\n",
    "</div>"
   ]
  }
 ],
 "metadata": {
  "kernelspec": {
   "display_name": "Python 3",
   "language": "python",
   "name": "python3"
  },
  "language_info": {
   "codemirror_mode": {
    "name": "ipython",
    "version": 3
   },
   "file_extension": ".py",
   "mimetype": "text/x-python",
   "name": "python",
   "nbconvert_exporter": "python",
   "pygments_lexer": "ipython3",
   "version": "3.6.1"
  }
 },
 "nbformat": 4,
 "nbformat_minor": 2
}
