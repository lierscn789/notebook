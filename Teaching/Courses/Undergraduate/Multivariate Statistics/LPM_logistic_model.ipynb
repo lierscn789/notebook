{
 "cells": [
  {
   "cell_type": "markdown",
   "metadata": {},
   "source": [
    "# LPM and Logistic/Probit Model\n",
    "---"
   ]
  },
  {
   "cell_type": "markdown",
   "metadata": {},
   "source": [
    "## Binary outcomes\n",
    "\n",
    "- Binary outcomes are everywhere\n",
    "\n",
    "- We typically want to understand what is the probability of the binary outcome given explanatory variables\n",
    "\n",
    "- We want to model the probability given covariates\n",
    "$$P(y=1 | x)=f(\\beta_{0}+\\beta_{1} x_{1}+\\cdots+\\beta_{p} x_{p})$$"
   ]
  },
  {
   "cell_type": "markdown",
   "metadata": {},
   "source": [
    "## Linear Probability Models\n",
    "\n",
    "We could actually use the linear model to do so.\n",
    "\n",
    "$$E(y | x)=P(y=1 | x)=\\beta_{0}+\\beta_{1} x_{1}+\\beta_{2} x_{2}+\\ldots+\\beta_{k} x_{k}+\\mu$$\n",
    "\n",
    "- If $y$ is an indicator or dummy variable, then $E[y|x]$ is the proportion of 1s given $x$, which we interpret as a probability of $y$ given $x$. \n",
    "\n",
    "- We can then interpret the parameters as the change in the probability of $y$ when $x$ changes by one unit or for a small change in $x$.\n",
    "\n",
    "**Example**\n",
    "\n",
    "For example, if we model\n",
    "\n",
    "$$died_{i}=\\beta_{0}+\\beta_{1} age_{i}+\\mu_{i}$$\n",
    "\n",
    "We could interpret $\\beta_{1}$ as the change in the probability of death for an additional year of age.\n",
    "\n",
    "<br>\n",
    "\n",
    "The problem is that **we know that this model is not entirely correct**. Recall that in the linear model we assume\n",
    "\n",
    "$$Y \\sim N\\left(\\beta_{0}+\\beta_{1} X_{1}+\\cdots+\\beta_{p} X_{p}, \\sigma^{2}\\right)$$\n",
    "\n",
    "That is, Y distributes normal **conditional on Xs**.\n",
    "\n",
    "Obviously, a 1/0 variable can’t distribute normal, and $\\mu$ can’t be normally distributed either.\n",
    "\n",
    "**The big picture**\n",
    "\n",
    "- The model is not correct but it is extremely useful as a first step for analyzing the data.\n",
    "\n",
    "- In particular, it is very useful because we can interpret the parameters in the probability scale, which is the scale of interest.\n",
    "\n",
    "- Remember that we only needed the normality assumption for\n",
    "inference."
   ]
  },
  {
   "cell_type": "markdown",
   "metadata": {},
   "source": [
    "**Example**"
   ]
  },
  {
   "cell_type": "code",
   "execution_count": 1,
   "metadata": {},
   "outputs": [],
   "source": [
    "import ipystata"
   ]
  },
  {
   "cell_type": "code",
   "execution_count": 2,
   "metadata": {},
   "outputs": [
    {
     "name": "stdout",
     "output_type": "stream",
     "text": [
      "\n",
      "D:\\github\\notebook\\Teaching\\Courses\\Undergraduate\\Econometrics\\data\n",
      "\n"
     ]
    }
   ],
   "source": [
    "%%stata\n",
    "\n",
    "cd \"D:\\github\\notebook\\Teaching\\Courses\\Undergraduate\\Econometrics\\data\""
   ]
  },
  {
   "cell_type": "code",
   "execution_count": 3,
   "metadata": {},
   "outputs": [
    {
     "name": "stdout",
     "output_type": "stream",
     "text": [
      "(Hosmer & Lemeshow data)\n",
      "\n",
      "Contains data from http://www.stata-press.com/data/r14/lbw.dta\n",
      "  obs:           189                          Hosmer & Lemeshow data\n",
      " vars:             6                          15 Jan 2014 05:01\n",
      " size:         1,323                          \n",
      "--------------------------------------------------------------------------------------------------\n",
      "              storage   display    value\n",
      "variable name   type    format     label      variable label\n",
      "--------------------------------------------------------------------------------------------------\n",
      "id              int     %8.0g                 identification code\n",
      "low             byte    %8.0g                 birthweight<2500g\n",
      "age             byte    %8.0g                 age of mother\n",
      "race            byte    %8.0g      race       race\n",
      "smoke           byte    %9.0g      smoke      smoked during pregnancy\n",
      "ht              byte    %8.0g                 has history of hypertension\n",
      "--------------------------------------------------------------------------------------------------\n",
      "Sorted by: \n",
      "     Note: Dataset has changed since last saved.\n",
      "\n"
     ]
    }
   ],
   "source": [
    "%%stata\n",
    "\n",
    "use http://www.stata-press.com/data/r14/lbw, clear\n",
    "keep id low age race smoke ht\n",
    "de"
   ]
  },
  {
   "cell_type": "code",
   "execution_count": 4,
   "metadata": {},
   "outputs": [
    {
     "name": "stdout",
     "output_type": "stream",
     "text": [
      "\n",
      "       race |      Freq.     Percent        Cum.\n",
      "------------+-----------------------------------\n",
      "      white |         96       50.79       50.79\n",
      "      black |         26       13.76       64.55\n",
      "      other |         67       35.45      100.00\n",
      "------------+-----------------------------------\n",
      "      Total |        189      100.00\n",
      "\n",
      "has history |\n",
      "         of |\n",
      "hypertensio |\n",
      "          n |      Freq.     Percent        Cum.\n",
      "------------+-----------------------------------\n",
      "          0 |        177       93.65       93.65\n",
      "          1 |         12        6.35      100.00\n",
      "------------+-----------------------------------\n",
      "      Total |        189      100.00\n",
      "\n"
     ]
    }
   ],
   "source": [
    "%%stata\n",
    "\n",
    "tab race\n",
    "tab ht"
   ]
  },
  {
   "cell_type": "code",
   "execution_count": 5,
   "metadata": {},
   "outputs": [
    {
     "name": "stdout",
     "output_type": "stream",
     "text": [
      "\n",
      "      Source |       SS           df       MS      Number of obs   =       189\n",
      "-------------+----------------------------------   F(5, 183)       =      3.97\n",
      "       Model |  3.97372302         5  .794744605   Prob > F        =    0.0019\n",
      "    Residual |  36.6082876       183  .200045287   R-squared       =    0.0979\n",
      "-------------+----------------------------------   Adj R-squared   =    0.0733\n",
      "       Total |  40.5820106       188  .215861758   Root MSE        =    .44726\n",
      "\n",
      "------------------------------------------------------------------------------\n",
      "         low |      Coef.   Std. Err.      t    P>|t|     [95% Conf. Interval]\n",
      "-------------+----------------------------------------------------------------\n",
      "         age |  -.0056931   .0063332    -0.90   0.370    -.0181887    .0068024\n",
      "             |\n",
      "        race |\n",
      "      black  |   .1843724   .1016153     1.81   0.071    -.0161158    .3848606\n",
      "      other  |   .1975286   .0771605     2.56   0.011       .04529    .3497673\n",
      "             |\n",
      "       smoke |   .2119033   .0713069     2.97   0.003     .0712139    .3525926\n",
      "          ht |   .2642362   .1339441     1.97   0.050    -.0000371    .5285094\n",
      "       _cons |   .2493361   .1690757     1.47   0.142    -.0842523    .5829244\n",
      "------------------------------------------------------------------------------\n",
      "\n"
     ]
    }
   ],
   "source": [
    "%%stata\n",
    "\n",
    "reg low age i.race smoke ht"
   ]
  },
  {
   "cell_type": "code",
   "execution_count": 6,
   "metadata": {},
   "outputs": [
    {
     "name": "stdout",
     "output_type": "stream",
     "text": [
      "\n",
      "     +--------------------------------------+\n",
      "     | age    race    smoke   ht       yhat |\n",
      "     |--------------------------------------|\n",
      "185. |  21   white   smoker    1   .6059195 |\n",
      "186. |  21   white   smoker    1   .6059195 |\n",
      "187. |  19   white   smoker    1   .6173058 |\n",
      "188. |  19   white   smoker    1   .6173058 |\n",
      "189. |  34   black   smoker    1    .716281 |\n",
      "     +--------------------------------------+\n",
      "\n",
      "     +------------------------------------------+\n",
      "     | age    race       smoke   ht        yhat |\n",
      "     |------------------------------------------|\n",
      "  1. |  45   white   nonsmoker    0   -.0068555 |\n",
      "  2. |  36   white   nonsmoker    0    .0443828 |\n",
      "  3. |  36   white   nonsmoker    0    .0443828 |\n",
      "  4. |  35   white   nonsmoker    0     .050076 |\n",
      "  5. |  33   white   nonsmoker    0    .0614623 |\n",
      "     +------------------------------------------+\n",
      "\n"
     ]
    }
   ],
   "source": [
    "%%stata\n",
    "\n",
    "predict yhat, xb\n",
    "\n",
    "sort yhat\n",
    "list age race smoke ht yhat in -5/L\n",
    "list age race smoke ht yhat in 1/5"
   ]
  },
  {
   "cell_type": "markdown",
   "metadata": {},
   "source": [
    "**Problems**\n",
    "\n",
    "- Probabilities need to be constrained to be between 0 and 1\n",
    "\n",
    "- Is this a big problem in this example?"
   ]
  },
  {
   "cell_type": "code",
   "execution_count": 7,
   "metadata": {},
   "outputs": [
    {
     "name": "stdout",
     "output_type": "stream",
     "text": [
      "(bin=13, start=-.00685546, width=.05562588)\n",
      "\n",
      "    Variable |        Obs        Mean    Std. Dev.       Min        Max\n",
      "-------------+---------------------------------------------------------\n",
      "        yhat |        189    .3121693    .1453851  -.0068555    .716281\n",
      "\n"
     ]
    },
    {
     "data": {
      "image/png": "[encoded data removed]",
      "text/plain": [
       "<IPython.core.display.Image object>"
      ]
     },
     "metadata": {
      "image/png": {
       "height": 400,
       "width": 500
      }
     },
     "output_type": "display_data"
    }
   ],
   "source": [
    "%%stata\n",
    "\n",
    "hist yhat\n",
    "su yhat"
   ]
  },
  {
   "cell_type": "markdown",
   "metadata": {},
   "source": [
    "- The variance of a 1/0 (binary) depends on the values of $x$ so there is always heteroskedasticity, $\\operatorname{var}(y | \\mathbf{x})=p(\\mathbf{x})[1-p(\\mathbf{x})]$. We know that we need this assumption for correct SEs and F tests. So we can correct SEs in LPMs using the robust option. Still, we do know that SEs are not totally correct because they do not distribute normal either, even is we somehow correct for heteroskedasticity."
   ]
  },
  {
   "cell_type": "markdown",
   "metadata": {},
   "source": [
    "**So why do we use LPMs?**\n",
    "\n",
    "- Not long ago, maybe 10 or 15 years ago, you couldn’t use other alternatives with large datasets (logistic, probit)\n",
    "\n",
    "- The main reason to keep using LPM as a first step in modeling, it’s because the coefficients are easy to interpret\n",
    "\n",
    "- In my experience, if the average of the outcome is not close to 0 or 1, not much difference between LPM or logit/probit (but SEs can change)\n",
    "\n",
    "- Not a lot of good reasons to present LPM results in papers anymore. Again, as a first step, LPM is great"
   ]
  },
  {
   "cell_type": "markdown",
   "metadata": {},
   "source": [
    "## Logistic or Logit model\n",
    "\n",
    "- There are many ways to arrive to **logistic regression**, which makes things confusing\n",
    "\n",
    "### One way to derive Logistic/Probit Model\n",
    "\n",
    "- One way is to think about imposing a restriction on the functional form so that probabilities are bounded between 0 and 1 regardless for all values of $x$\n",
    "\n",
    "- We can make p depend on a function of covariates $\\beta_{0}+\\beta_{1} X_{1}+\\cdots+\\beta_{p} X_{p}$, So we model\n",
    "\n",
    "$$p_{i}=P\\left(y_{i}=1 | X_{1}, \\ldots, X_{p}\\right)=F\\left(\\beta_{0}+\\beta_{1} X_{1}+\\cdots+\\beta_{p} X_{p}\\right)$$\n",
    "\n",
    "- $F()$ is usually a cumulative distribution function. The most common are the logistic distribution and the standard normal cumulative distribution function\n",
    "\n",
    "- If we use a logistic distribution function we arrive to the **logistic regression model**; if we use a standard normal cumulative density function, we arrive to the **probit model**\n",
    "\n",
    "- Logistic response function, $\\pi=\\frac{e^{x}}{1+e^{x}}=\\frac{1}{1+e^{-x}}$, where $x$ is any real number\n",
    "\n",
    "- $\\pi(x)$ is then restricted to be between 0 and 1"
   ]
  },
  {
   "cell_type": "code",
   "execution_count": 8,
   "metadata": {},
   "outputs": [
    {
     "data": {
      "image/png": "[encoded data removed]",
      "text/plain": [
       "<IPython.core.display.Image object>"
      ]
     },
     "metadata": {
      "image/png": {
       "height": 400,
       "width": 500
      }
     },
     "output_type": "display_data"
    }
   ],
   "source": [
    "%%stata\n",
    "\n",
    "twoway function y=exp(x) / (1+ exp(x)), range(-10 10)"
   ]
  },
  {
   "cell_type": "markdown",
   "metadata": {},
   "source": [
    "- Notice a couple of things. If we use a model like the logistic response function, then it is not possible that the effect of x on π is linear; the effect depends on the value of x\n",
    "\n",
    "- $\\frac{p}{1-p}$ are defined as the odds, an $\\log \\left(\\frac{p}{1-p}\\right)$ are the \"log odds\" or the just the logit"
   ]
  },
  {
   "cell_type": "markdown",
   "metadata": {},
   "source": [
    "### Yet another way - latent variable model\n",
    "\n",
    "Let $y^{*}$ be an unobserved, or latent, variable, and suppose that\n",
    "\n",
    "$$y^{*}=\\beta_{0}+x\\beta+\\mu, y=1\\left[y^{*}>0\\right]$$\n",
    "\n",
    "where we introduce the notation $1[\\cdot]$ to define a binary outcome. \n",
    "\n",
    "- The function $1[\\cdot]$ is called the indicator function, which takes on the value one if the event in brackets is true, and zero otherwise. Therefore, $y$ is one if $y^{*}>0$, and $y$ is zero if $y^{*} \\leq 0$. \n",
    "\n",
    "- We assume that $\\mu$ is independent of $x$ and that $\\mu$ either has the standard logistic distribution or the standard normal distribution. \n",
    "\n",
    "- In either case, $\\mu$ is symmetrically distributed about zero, which means that $1-F(-z)=F(z)$ for all real numbers $z$. \n",
    "\n",
    "We can derive the response probability for $y$\n",
    "\n",
    "$$\\begin{aligned} \\mathrm{P}(y=1 | \\mathbf{x}) &=\\mathrm{P}\\left(y^{*}>0 | \\mathbf{x}\\right)=\\mathrm{P}\\left[\\mu>-\\left(\\beta_{0}+\\mathbf{x} \\boldsymbol{\\beta}\\right) | \\mathbf{x}\\right] \\\\ &=1-F\\left[-\\left(\\beta_{0}+\\mathbf{x} \\boldsymbol{\\beta}\\right)\\right]=F\\left(\\beta_{0}+\\mathbf{x} \\boldsymbol{\\beta}\\right) \\end{aligned}$$"
   ]
  },
  {
   "cell_type": "markdown",
   "metadata": {},
   "source": [
    "**Big picture**\n",
    "\n",
    "- Not a big difference (in the probability scale) between probit and logit; it’s use is \"cultural.\" If you are an economist you run probit models; for the rest of the world, there is the logistic model\n",
    "\n",
    "- IMPORTANT: There is a big difference in terms of interpreting a regression output because the coefficients are estimated in different scales\n",
    "\n",
    "- In the logistic model the effect of a covariate can be made linear in terms of the odds-ratio; you can’t do the same in probit models\n",
    "\n",
    "- There is no decomposing variance; now we are in a non-linear world"
   ]
  },
  {
   "cell_type": "markdown",
   "metadata": {},
   "source": [
    "### Maximum Likelihood Estimation\n",
    "\n",
    "**Bernoulli example**\n",
    "\n",
    "- Suppose that we know that the following numbers were simulated using a Bernoulli distribution: 0 0 0 1 1 1 0 1 1 1\n",
    "    \n",
    "- We can denote by $y_{1}, y_{2}, \\dots, y_{10}$\n",
    "\n",
    "- Recall that the pdf of a Bernoulli random variable is $f(y ; p)=p^{y}(1-p)^{1-y}$, where $y \\in\\{0,1\\}$. The probability of 1 is $p$ while the probability of 0 is $(1 − p)$\n",
    "\n",
    "- We want to figure out what is the $\\hat{p}$ we used to generate those numbers\n",
    "\n",
    "- The probability of the first number will be given by $p^{y_{1}}(1-p)^{1-y_{1}}$ the probability of the second by $p^{y_{2}}(1-p)^{1-y_{2}}$ and so on..\n",
    "\n",
    "- If we assume that the numbers above are independent, the joint probability of seeing all 10 numbers will be given by the multiplication of the individual probabilities\n",
    "\n",
    "- We use the product symbol $\\prod$, For example, $\\prod_{i=1}^{2} x_{i}=x_{1} * x_{2}$\n",
    "\n",
    "- So we can write the joint probability or the likelihood (L) of seeing those 10 numbers as:\n",
    "\n",
    "$$L(p)=\\prod_{i=1}^{10} p^{y_{i}}(1-p)^{1-y_{i}}$$\n",
    "\n",
    "- Remember that we are trying to find the $\\hat{p}$ that was used to generate the 10 numbers. In other words, we want to find the $p$ that maximizes the likelihood function $L(p)$ (we use $\\hat{p}$ because that’s the optimal one)\n",
    "\n",
    "- Said another way we want to find the $\\hat{p}$ that makes the joint likelihood of seeing those numbers as high as possible\n",
    "\n",
    "- Sounds like calculus... We can take the derivative of $L(p)$ with respect to $p$ and set it to zero to find the optimal $\\hat{p}$\n",
    "\n",
    "- We take the log to simplify taking the derivative; the log function is a monotonic transformation, it won’t change the optimal $\\hat{p}$ value\n",
    "\n",
    "- We will use several properties of the log, in particular:\n",
    "\n",
    "$$\\log \\left(x^{a} y^{b}\\right)=\\log \\left(x^{a}\\right)+\\log \\left(y^{b}\\right)=a * \\log (x)+b * \\log (y)$$\n",
    "\n",
    "- The advantage of taking the log is that the multiplication becomes a summation. So now we have:\n",
    "\n",
    "$$\\ln L(p)=\\sum_{i=1}^{n} y_{i} \\ln (p)+\\sum_{i=1}^{n}\\left(1-y_{i}\\right) \\ln (1-p)$$\n",
    "\n",
    "$$\\ln L(p)=n \\overline{y} \\ln (p)+(n-n \\overline{y}) \\ln (1-p)$$\n",
    "\n",
    "- This looks a lot easier; all we have to do is take $\\frac{d \\ln (p)}{d p}$, set it to zero, and solve for $p$ (I made it more general, $n = 10$)\n",
    "\n",
    "$$\\frac{d \\ln (p)}{d p}=\\frac{n \\overline{y}}{p}-\\frac{(n-n \\overline{y})}{(1-p)}=0$$\n",
    "\n",
    "- After solving, we’ll find that $\\hat{p}\\left(y_{i}\\right)=\\overline{y}=\\sum_{i=1}^{n} \\frac{y_{i}}{n}$\n",
    "\n",
    "- So that’s the MLE estimator. This is saying more or less the obvious: our best guess for the $p$ that generated the data is the proportion of 1s, in this case $p = 0.6$"
   ]
  },
  {
   "cell_type": "markdown",
   "metadata": {},
   "source": [
    "**Normal example**\n",
    "\n",
    "What about if we do the same but now we have numbers like\n",
    "\n",
    "90.46561\n",
    "\n",
    "105.1319\n",
    "\n",
    "117.5445\n",
    "\n",
    "102.7179\n",
    "\n",
    "102.7788\n",
    "\n",
    "107.6234\n",
    "\n",
    "94.87266\n",
    "\n",
    "95.48918\n",
    "\n",
    "75.63886\n",
    "\n",
    "87.40594\n",
    "\n",
    "I tell you that they were simulated from a normal distribution with parameters $\\mu$ and $\\sigma^{2}$. The numbers are independent. Your job is to come up with the best guess of the two parameters.\n",
    "\n",
    "- As before, we know that formula for the pdf of a normal and because the observations are independent we multiply the densities:\n",
    "\n",
    "$$L\\left(\\mu, \\sigma^{2}\\right)=\\prod_{i=1}^{n} \\frac{1}{\\sqrt{2 \\pi \\sigma^{2}}} \\exp \\left(\\frac{-\\left(y_{i}-\\mu\\right)^{2}}{2 \\sigma^{2}}\\right)$$\n",
    "\n",
    "- Remember the rules of exponents. We can write the likelihood as:\n",
    "\n",
    "$$L\\left(\\mu, \\sigma^{2}\\right)=\\left(\\frac{1}{\\sqrt{2 \\pi \\sigma^{2}}}\\right)^{n} \\exp \\left(-\\frac{1}{2 \\sigma^{2}} \\sum_{i=1}^{n}\\left(y_{i}-\\mu\\right)^{2}\\right)$$\n",
    "\n",
    "- As before, we can simplify the problem by taking the ln to help us take the derivatives. After taking the ln, we have:\n",
    "\n",
    "$$\\ln L\\left(\\mu, \\sigma^{2}\\right)=-\\frac{n}{2} \\ln \\left(2 \\pi \\sigma^{2}\\right)-\\frac{1}{2 \\sigma^{2}} \\sum_{i=1}^{n}\\left(y_{i}-\\mu\\right)^{2}$$\n",
    "\n",
    "- All we have left is to take the derivative with respect to our two unknowns, $\\mu$ and $\\sigma^{2}$ and set them to zero. Let’s start with $\\mu$:\n",
    "\n",
    "$$\\frac{\\partial \\ln \\left(L\\left(\\mu, \\sigma^{2}\\right)\\right)}{\\partial \\mu}=2 \\frac{1}{2 \\sigma^{2}} \\sum_{i=1}^{n}\\left(y_{i}-\\mu\\right)=0$$\n",
    "\n",
    "- The above expression reduces to\n",
    "\n",
    "$$\\sum_{i=1}^{n}\\left(y_{i}-\\hat{\\mu}\\right)=0$$\n",
    "\n",
    "- Solving, we find that $\\hat{\\mu}=\\frac{\\sum_{i=1}^{n} y_{i}}{n}=\\overline{y}$, In other words, our best guess is just the mean of the numbers\n",
    "\n",
    "- We can also figure out the variance by taking the derivative with respect to $\\sigma^{2}$. We will find that $\\hat{\\sigma}^{2}=\\frac{\\sum_{i=1}^{n}\\left(y_{i}-\\hat{\\mu}\\right)^{2}}{n}$\n",
    "\n",
    "- We know that this formula is biased. We need to divide by (n − 1) instead\n",
    "\n",
    "- We just figured out that the best guess is to calculate the sample mean and sample variance"
   ]
  },
  {
   "cell_type": "markdown",
   "metadata": {},
   "source": [
    "**Linear regression**\n",
    "\n",
    "- What about if I told you that the number I generated is a linear function of one variable, say, $x_{1}$? \n",
    "\n",
    "- Now we want to find the parameters $\\beta_{0}$, $\\beta_{1}$, $\\sigma^{2}$ that maximize the likelihood function\n",
    "\n",
    "- The likelihood function is now:\n",
    "\n",
    "$$L\\left(\\beta_{0}, \\beta_{1}, \\sigma^{2}\\right)=\\frac{1}{\\sqrt{2 \\pi \\sigma^{2}}} \\exp \\left(-\\frac{1}{2 \\sigma^{2}} \\sum_{i=1}^{n}\\left(y_{i}-\\beta_{0}-\\beta_{1} x_{1 i}\\right)^{2}\\right)$$\n",
    "\n",
    "- The ln likelihood is\n",
    "\n",
    "$$\\ln L\\left(\\mu, \\sigma^{2}\\right)=-\\frac{n}{2} \\ln \\left(2 \\pi \\sigma^{2}\\right)-\\frac{1}{2 \\sigma^{2}} \\sum_{i=1}^{n}\\left(y_{i}-\\beta_{0}-\\beta_{1} x_{1 i}\\right)^{2}$$\n",
    "\n",
    "- If we take the derivatives with respect to $\\beta_{0}$ and $\\beta_{1}$ we will find exactly the same first order conditions as we did with OLS. For example, with respect to $\\beta_{1}$:\n",
    "\n",
    "$$\\sum_{i=1}^{n} x_{1}\\left(y_{i}-\\beta_{0}-\\beta_{1} x_{1}\\right)=0$$\n",
    "\n",
    "- The MLE estimate of $\\sigma^{2}$ will be biased but we divide by $(n-p-1)$ instead \n",
    "\n",
    "- MLE is much more general than OLS. You will use MLE for logit, Probit, Poisson, mixture models...\n",
    "\n",
    "- AIC and BIC to compare non-nested models are based on the log likelihood function"
   ]
  },
  {
   "cell_type": "markdown",
   "metadata": {},
   "source": [
    "### MM(Method of Moments)\n",
    "\n",
    "**MLE**\n",
    "\n",
    "- ML estimators use assumptions about the specific families of distributions for the random variables to derive an objective function\n",
    "\n",
    "- We maximize this objective function to select the parameters that are most likely to have generated the observed data\n",
    "\n",
    "**GMM(Generalize Method of Moments)**\n",
    "\n",
    "- GMM estimators use assumptions about the moments of the random variables to derive an objective function\n",
    "\n",
    "- The assumed moments of the random variables are known as the population moments\n",
    "\n",
    "- The data provide the sample moments\n",
    "\n",
    "- We minimize the objective function to select the parameters that yield the smallest differences between the population moments and the sample moments\n",
    "\n",
    "- For each assumed population moment, we obtain a population moment condition\n",
    "\n",
    "- For each population moment condition, there is a sample moment condition\n",
    "\n",
    "- In the method of moments (MM), we have the same number of sample moment conditions as we have parameters\n",
    "\n",
    "- In the generalized method of moments (GMM), we more sample moment conditions than we have parameters\n",
    "\n",
    "<br>\n",
    "\n",
    "#### Population Mean\n",
    "\n",
    "- We estimate the mean of a distribution by the sample, the variance by the sample variance, etc\n",
    "\n",
    "- We want to estimate $\\mu=E[y]$\n",
    "\n",
    "- The population moment condition is $E[y]-\\mu=0$\n",
    "\n",
    "- The sample moment condition is $(1 / N) \\sum_{i=1}^{N} y_{i}-\\mu=0$\n",
    "\n",
    "- Our estimator is obtained by solving the sample moment condition for the parameter\n",
    "\n",
    "- Estimators that solve sample moment equations to produce estimates are called method-of-moments (MM) estimators. This method dates back to Pearson (1895)\n",
    "\n",
    "<br>\n",
    "\n",
    "#### Ordinary least squares (OLS) is an MM estimator\n",
    "\n",
    "- We know that OLS estimates the parameters of the condtional expectation of $y_{i}=\\mathbf{x}_{i} \\boldsymbol{\\beta}+\\epsilon_{i}$ under the assumption that $E[\\epsilon | \\mathbf{x}]=0$\n",
    "\n",
    "- Standard probability theory implies that $E[\\epsilon | \\mathbf{x}]=0 \\Rightarrow E[\\mathbf{x} \\epsilon]=\\mathbf{0}$\n",
    "\n",
    "- So the population moment conditions for OLS are $E[\\mathbf{x}(y-\\mathbf{x} \\boldsymbol{\\beta})]=\\mathbf{0}$\n",
    "\n",
    "- The corresponding sample moment condtions are $(1 / N) \\sum_{i=1}^{N} \\mathbf{x}_{i}\\left(y_{i}-\\mathbf{x}_{i} \\boldsymbol{\\beta}\\right)=\\mathbf{0}$\n",
    "\n",
    "- Solving for $\\beta$ yields $\\widehat{\\boldsymbol{\\beta}}_{O L S}=\\left(\\sum_{i=1}^{N} \\mathbf{x}_{i}^{\\prime} \\mathbf{x}_{i}\\right)^{-1} \\sum_{i=1}^{N} \\mathbf{x}_{i}^{\\prime} y_{i}$"
   ]
  },
  {
   "cell_type": "markdown",
   "metadata": {},
   "source": [
    "### Logistic Model\n",
    "\n",
    "**Example: married wome’s labor force participation**\n",
    "\n",
    "Women’s labor force participation (inlf); main predictor is \"extra\" money in family."
   ]
  },
  {
   "cell_type": "code",
   "execution_count": 9,
   "metadata": {},
   "outputs": [
    {
     "name": "stdout",
     "output_type": "stream",
     "text": [
      "\n",
      "Contains data from MROZ.dta\n",
      "  obs:           753                          \n",
      " vars:            22                          2 Mar 1999 11:30\n",
      " size:        36,897                          \n",
      "--------------------------------------------------------------------------------------------------\n",
      "              storage   display    value\n",
      "variable name   type    format     label      variable label\n",
      "--------------------------------------------------------------------------------------------------\n",
      "inlf            byte    %9.0g                 =1 if in lab frce, 1975\n",
      "hours           int     %9.0g                 hours worked, 1975\n",
      "kidslt6         byte    %9.0g                 # kids < 6 years\n",
      "kidsge6         byte    %9.0g                 # kids 6-18\n",
      "age             byte    %9.0g                 woman's age in yrs\n",
      "educ            byte    %9.0g                 years of schooling\n",
      "wage            float   %9.0g                 est. wage from earn, hrs\n",
      "repwage         float   %9.0g                 rep. wage at interview in 1976\n",
      "hushrs          int     %9.0g                 hours worked by husband, 1975\n",
      "husage          byte    %9.0g                 husband's age\n",
      "huseduc         byte    %9.0g                 husband's years of schooling\n",
      "huswage         float   %9.0g                 husband's hourly wage, 1975\n",
      "faminc          float   %9.0g                 family income, 1975\n",
      "mtr             float   %9.0g                 fed. marg. tax rte facing woman\n",
      "motheduc        byte    %9.0g                 mother's years of schooling\n",
      "fatheduc        byte    %9.0g                 father's years of schooling\n",
      "unem            float   %9.0g                 unem. rate in county of resid.\n",
      "city            byte    %9.0g                 =1 if live in SMSA\n",
      "exper           byte    %9.0g                 actual labor mkt exper\n",
      "nwifeinc        float   %9.0g                 (faminc - wage*hours)/1000\n",
      "lwage           float   %9.0g                 log(wage)\n",
      "expersq         int     %9.0g                 exper^2\n",
      "--------------------------------------------------------------------------------------------------\n",
      "Sorted by: \n",
      "\n"
     ]
    }
   ],
   "source": [
    "%%stata\n",
    "\n",
    "use MROZ, clear\n",
    "de"
   ]
  },
  {
   "cell_type": "markdown",
   "metadata": {},
   "source": [
    "- We want to estimate the following model:\n",
    "\n",
    "$$P\\left(i n l f_{i}=1 | \\text {nwifeinc}_{i}\\right)=\\Lambda\\left(\\beta_{0}+\\beta_{1} \\text {nwifeinc}_{i}\\right)$$\n",
    "\n",
    "By convention, when we write capital lambda, $\\Lambda$, we imply a logistic model ($\\Lambda$ is not a non-linear function). When we write phi, $\\phi$, we imply a probit model.\n",
    "\n",
    "- The other common way of writing the logistic model is:\n",
    "\n",
    "$$\\log \\left(\\frac{inlf_{i}}{1-inlf_{i}}\\right)=\\beta_{0}+\\beta_{1} \\text {nwifeinc}_{i}$$\n",
    "\n",
    "or\n",
    "\n",
    "$$\\operatorname{logit}\\left(inlf_{i}\\right)=\\beta_{0}+\\beta_{1} \\text {nwifeinc}_{i}$$"
   ]
  },
  {
   "cell_type": "code",
   "execution_count": 10,
   "metadata": {},
   "outputs": [
    {
     "name": "stdout",
     "output_type": "stream",
     "text": [
      "\n",
      "Logistic regression                             Number of obs     =        753\n",
      "                                                LR chi2(1)        =      10.44\n",
      "                                                Prob > chi2       =     0.0012\n",
      "Log likelihood = -509.65435                     Pseudo R2         =     0.0101\n",
      "\n",
      "------------------------------------------------------------------------------\n",
      "        inlf |      Coef.   Std. Err.      z    P>|z|     [95% Conf. Interval]\n",
      "-------------+----------------------------------------------------------------\n",
      "    nwifeinc |  -.0207569   .0065907    -3.15   0.002    -.0336744   -.0078394\n",
      "       _cons |   .6946059   .1521569     4.57   0.000      .396384    .9928279\n",
      "------------------------------------------------------------------------------\n",
      "\n"
     ]
    }
   ],
   "source": [
    "%%stata\n",
    "\n",
    "logit inlf nwifeinc, nolog"
   ]
  },
  {
   "cell_type": "markdown",
   "metadata": {},
   "source": [
    "A one thousand increase in \"extra\" income decreases the log-odds of participating in the labor force by 0.021. And it’s statistically significant (p-value = 0.002). Same Wald test as before: $−.0207569/.0065907 = −3.1494227$. The difference is that the it’s not t-student distributed but normally distributed."
   ]
  },
  {
   "cell_type": "markdown",
   "metadata": {},
   "source": [
    "**What about that Pseudo $R^{2}$?**\n",
    "\n",
    "- We can’t partition variance into explained and unexplained as before so we don’t have a nice $R^{2}$\n",
    "\n",
    "- But one way to come up with a measure of fit is to use the likelihood function to compare the current model to the model without any explanatory variable (the null model)\n",
    "\n",
    "- Psuedo $R^{2}$ is not a measure of how good the model is at prediction; just how better it fits compared to null model. I don’t think that calling it pseudo $R^{2}$ is a good idea\n",
    "\n",
    "- Comparing the log-likelihood of models is a way of comparing goodness of fit. If nested, we have the a test (LRT); if not nested, we have BIC or AIC\n",
    "\n",
    "<br>\n",
    "\n",
    "**Example Continued, Let’s try a different predictor**\n",
    "\n",
    "We will estimate $\\log \\left(\\frac{inlf_{i}}{1-inlf_{i}}\\right)=\\beta_{0}+\\beta_{1} h s p_{i}$, where hsp if education $> 12$"
   ]
  },
  {
   "cell_type": "code",
   "execution_count": 11,
   "metadata": {},
   "outputs": [
    {
     "name": "stdout",
     "output_type": "stream",
     "text": [
      "\n",
      "(212 real changes made)\n",
      "\n",
      "Logistic regression                             Number of obs     =        753\n",
      "                                                LR chi2(1)        =      15.08\n",
      "                                                Prob > chi2       =     0.0001\n",
      "Log likelihood = -507.33524                     Pseudo R2         =     0.0146\n",
      "\n",
      "------------------------------------------------------------------------------\n",
      "        inlf |      Coef.   Std. Err.      z    P>|z|     [95% Conf. Interval]\n",
      "-------------+----------------------------------------------------------------\n",
      "         hsp |   .6504074   .1704773     3.82   0.000     .3162781    .9845368\n",
      "       _cons |   .0998982    .086094     1.16   0.246     -.068843    .2686393\n",
      "------------------------------------------------------------------------------\n",
      "\n"
     ]
    }
   ],
   "source": [
    "%%stata\n",
    "\n",
    "gen hsp = 0\n",
    "replace hsp = 1 if educ > 12 & educ ~= .\n",
    "logit inlf hsp, nolog"
   ]
  },
  {
   "cell_type": "markdown",
   "metadata": {},
   "source": [
    "- The log-odds of entering the labor force is 0.65 higher for those with more than high school education compared to those with high-school completed or less than high-school.\n",
    "\n",
    "- Let’s do our usual math to make sense of coefficients. For those with $hsp = 1$, the model is $\\log \\left(\\frac{inlf_{hsp}}{1-inlf_{hsp}}\\right)=\\beta_{0}+\\beta_{1}$, For those with $hsp = 0$, the model is $\\log \\left(\\frac{inlf_{nohsp}}{1-inlf_{nohsp}}\\right)=\\beta_{0}$. The difference of the two is \n",
    "\n",
    "$$\\log \\left(\\frac{inlf_{hsp}}{1-inlf_{hsp}}\\right) - \\log \\left(\\frac{inlf_{hsp}}{1-inlf_{hsp}}\\right) = \\beta_{1}$$\n",
    "\n",
    "- Then the (in)famous odds-ratio\n",
    "\n",
    "$$\\frac{\\frac{inlf_{hsp}}{1-inlf_{hsp}}}{\\frac{inlf_{nohsp}}{1-inlf_{nohsp}}}=e^{\\beta_{1}}$$\n",
    "\n",
    "In our example, $e^{.6504074} = 1.92$. So the odds of entering the labor force is almost twice as high for those with more than high school education compare to those without. That’s the way most reporters would report this finding. And it’s correct.\n",
    "\n",
    "- The problem is that we would then interpret this as saying that the probability of entering the labor force is twice as high for those with more than high school. That interpretation is wrong. Odds ratios are NOT relative risks or relative probabilities.\n",
    "\n",
    "- With only a dummy variable as predictor we can very easily calculate the probabilities. Remember, we are modeling $\\log \\left(\\frac{p}{1-p}\\right)=\\beta_{0}+\\beta_{1} x$. We also know that we can solve for p:\n",
    "\n",
    "$$p=\\frac{e^{\\beta_{0}+\\beta_{1} x}}{1+e^{\\beta_{0}+\\beta_{1} x}}$$\n",
    "\n",
    "So we can calculate the probability for those with more than high school education and the probability for those with less"
   ]
  },
  {
   "cell_type": "markdown",
   "metadata": {},
   "source": [
    "**Big Picture**\n",
    "\n",
    "- A ratio of odds is hard to interpret at best. At worse, it is misleading\n",
    "\n",
    "- We tend to think of them as a ratio of probabilities, but they are NOT\n",
    "\n",
    "**Example: Back to the continuous case**\n",
    "\n",
    "- Let’s go back to the model $\\log \\left(\\frac{inlf_{i}}{1-inlf_{i}}\\right)=\\beta_{0}+\\beta_{1} \\text {nwifeinc}_{i}$. We can also take $e^{\\beta_{1}}$. In this case, $\\exp (-.0207569)=.97945704$.\n",
    "\n",
    "- A thousand dollars of extra income decreases the odds of participating in the labor force by a factor of 0.98\n",
    "\n",
    "- Again, same issue. We can also solve for p or inlf in this case but not as easy as before because nwifeinc is continous\n",
    "\n",
    "- We could take, as with the linear model, the derivative of p with respect to nwifeinc, but we know that it’s non-linear so there is not a single effect; it depends on the values of nwifeinc\n",
    "\n",
    "**interpretation**\n",
    "\n",
    "If $x_{j}$ is a roughly continuous variable, its partial effect on $p(\\mathbf{x})=\\mathrm{P}(y=1 | \\mathbf{x})$ is obtained from the partial derivative.\n",
    "\n",
    "$$\\frac{\\partial p(\\mathbf{x})}{\\partial x_{j}}=f\\left(\\beta_{0}+\\mathbf{x} \\boldsymbol{\\beta}\\right) \\beta_{j}$$\n",
    "\n",
    "Where $f(z) \\equiv \\frac{d F}{d z}(z)$\n",
    "\n",
    "- Partial effect at the average (PEA)\n",
    "\n",
    "$$f\\left(\\hat{\\beta}_{0}+\\overline{\\mathbf{x}} \\hat{\\boldsymbol{\\beta}}\\right)=f\\left(\\hat{\\beta}_{0}+\\hat{\\beta}_{1} \\overline{x}_{1}+\\hat{\\beta}_{2} \\overline{x}_{2}+\\ldots+\\hat{\\beta}_{k} \\overline{x}_{k}\\right)$$\n",
    "\n",
    "- Average partial effect (APE) or Average marginal effect (AME)\n",
    "\n",
    "$$n^{-1} \\sum_{i=1}^{n}\\left[f\\left(\\hat{\\beta}_{0}+\\mathbf{x}_{i} \\hat{\\boldsymbol{\\beta}}\\right) \\hat{\\beta}_{j}\\right]=\\left[n^{-1} \\sum_{i=1}^{n} f\\left(\\hat{\\beta}_{0}+\\mathbf{x}_{i} \\hat{\\boldsymbol{\\beta}}\\right)\\right] \\hat{\\beta}_{j}$$"
   ]
  },
  {
   "cell_type": "code",
   "execution_count": 12,
   "metadata": {},
   "outputs": [
    {
     "name": "stdout",
     "output_type": "stream",
     "text": [
      "\n",
      "Average marginal effects                        Number of obs     =        753\n",
      "Model VCE    : OIM\n",
      "\n",
      "Expression   : Pr(inlf), predict()\n",
      "dy/dx w.r.t. : nwifeinc\n",
      "\n",
      "------------------------------------------------------------------------------\n",
      "             |            Delta-method\n",
      "             |      dy/dx   Std. Err.      z    P>|z|     [95% Conf. Interval]\n",
      "-------------+----------------------------------------------------------------\n",
      "    nwifeinc |  -.0050217   .0015533    -3.23   0.001     -.008066   -.0019773\n",
      "------------------------------------------------------------------------------\n",
      "\n"
     ]
    }
   ],
   "source": [
    "%%stata\n",
    "\n",
    "qui logit inlf nwifeinc, nolog\n",
    "margins, dydx(nwifeinc)"
   ]
  },
  {
   "cell_type": "markdown",
   "metadata": {},
   "source": [
    "### Summary\n",
    "\n",
    "- Main difficulty with logistic models is to interpret parameters\n",
    "\n",
    "- We estimate models in log-odds scale, we can easily convert coefficients into odds ratios but we really care about probabilities because a ratio of odds is not that informative\n",
    "\n",
    "- With more covariates, we just add our usual \"holding other factors constant\" or \"taking into account other factors\""
   ]
  },
  {
   "cell_type": "markdown",
   "metadata": {},
   "source": [
    "### Homework\n",
    "\n",
    "Due by 11:35 AM Monday, June 17\n",
    "\n",
    "Let grad be a dummy variable for whether a student-athlete at a large university graduates in five years. Let hsGPA and SAT be high school grade point average and SAT score, respectively. Let study be the number of hours spent per week in an organized study hall. Suppose that, using data on 420 student-athletes, the following logit model is obtained:\n",
    "\n",
    "$$\\hat{\\mathrm{P}}(g r a d=1 | h s G P A, S A T, s t u d y)=\\Lambda(-1.17+.24 h s G P A+.00058 S A T+ .073 \\text { study })$$\n",
    "\n",
    "where $\\Lambda(z)=\\exp (z) /[1+\\exp (z)]$  is the logit function. Holding hsGPA fixed at 3.0 and SAT fixed at 1,200, compute the estimated difference in the graduation probability for someone who spent 10 hours per week in study hall and someone who spent 5 hours per week."
   ]
  }
 ],
 "metadata": {
  "kernelspec": {
   "display_name": "Python 3",
   "language": "python",
   "name": "python3"
  },
  "language_info": {
   "codemirror_mode": {
    "name": "ipython",
    "version": 3
   },
   "file_extension": ".py",
   "mimetype": "text/x-python",
   "name": "python",
   "nbconvert_exporter": "python",
   "pygments_lexer": "ipython3",
   "version": "3.7.3"
  }
 },
 "nbformat": 4,
 "nbformat_minor": 2
}
