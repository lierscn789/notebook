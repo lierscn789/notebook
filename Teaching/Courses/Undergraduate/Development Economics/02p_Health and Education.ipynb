{
 "cells": [
  {
   "cell_type": "markdown",
   "metadata": {},
   "source": [
    "# 健康、教育与经济发展"
   ]
  },
  {
   "cell_type": "markdown",
   "metadata": {},
   "source": [
    "## 健康\n",
    "\n",
    "世界卫生组织将健康定义为一种精神、体质与社会福利的完善状态，而不仅仅是无疾病。\n",
    "\n",
    "### 健康的指标\n",
    "\n",
    "- 死亡率\n",
    "\n",
    "- 预期寿命\n"
   ]
  },
  {
   "cell_type": "markdown",
   "metadata": {},
   "source": [
    "### 健康与经济增长的关系\n",
    "\n",
    "<img src=\"./pic/healthandeconomics.png\" width = 70% height = 70% />"
   ]
  },
  {
   "cell_type": "markdown",
   "metadata": {},
   "source": [
    "## 教育\n",
    "\n",
    "### 教育的模式与趋势\n",
    "\n",
    "<img src=\"./pic/educationalattainment.jpg\" width = 60% height = 60% />\n",
    "\n",
    "<img src=\"./pic/yearsofschooling.jpg\" width = 60% height = 60% />\n",
    "\n",
    "<img src=\"./pic/schoolattainmentbygender.jpg\" width = 60% height = 60% />\n",
    "\n",
    "### 教育的益处\n",
    "\n",
    "- 学校教育的私人收益\n",
    "\n",
    "<img src=\"./pic/return to schooling 01.jpg\" width = 60% height = 60% />\n",
    "\n",
    "- 学校教育的社会收益\n",
    "\n",
    "<img src=\"./pic/return to schooling 02.jpg\" width = 60% height = 60% />\n",
    "\n",
    "### 使教育更有成效\n",
    "\n",
    "- 投资不足\n",
    "\n",
    "- 配置不当\n",
    "\n",
    "- 不仅是钱的问题"
   ]
  },
  {
   "cell_type": "markdown",
   "metadata": {},
   "source": [
    "**问题**\n",
    "\n",
    "中国教育回报率是多少？\n",
    "\n",
    "中国当前教育存在的问题是什么？"
   ]
  }
 ],
 "metadata": {
  "kernelspec": {
   "display_name": "R",
   "language": "R",
   "name": "ir"
  },
  "language_info": {
   "codemirror_mode": "r",
   "file_extension": ".r",
   "mimetype": "text/x-r-source",
   "name": "R",
   "pygments_lexer": "r",
   "version": "3.6.1"
  }
 },
 "nbformat": 4,
 "nbformat_minor": 4
}
