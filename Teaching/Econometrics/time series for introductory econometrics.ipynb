{
 "cells": [
  {
   "cell_type": "markdown",
   "metadata": {},
   "source": [
    "## 动态完备模型和无序列相关\n",
    "\n",
    "$$E(y_{t}|x_{t},y_{t-1},x_{t-1},...)=E(y_{t}|x_{t})$$"
   ]
  },
  {
   "cell_type": "code",
   "execution_count": 1,
   "metadata": {},
   "outputs": [],
   "source": [
    "import ipystata"
   ]
  },
  {
   "cell_type": "markdown",
   "metadata": {},
   "source": [
    "### 例11.8 生育方程"
   ]
  },
  {
   "cell_type": "code",
   "execution_count": 4,
   "metadata": {},
   "outputs": [],
   "source": [
    "%%stata\n",
    "use http://fmwww.bc.edu/ec-p/data/wooldridge/fertil3, clear"
   ]
  },
  {
   "cell_type": "code",
   "execution_count": 6,
   "metadata": {},
   "outputs": [
    {
     "name": "stdout",
     "output_type": "stream",
     "text": [
      "        time variable:  t, 1 to 72\n",
      "                delta:  1 unit\n",
      "\n",
      "      Source |       SS           df       MS      Number of obs   =        69\n",
      "-------------+----------------------------------   F(3, 65)        =      6.56\n",
      "       Model |  293.259833         3  97.7532778   Prob > F        =    0.0006\n",
      "    Residual |   968.19996        65   14.895384   R-squared       =    0.2325\n",
      "-------------+----------------------------------   Adj R-squared   =    0.1971\n",
      "       Total |  1261.45979        68  18.5508793   Root MSE        =    3.8595\n",
      "\n",
      "------------------------------------------------------------------------------\n",
      "        cgfr |      Coef.   Std. Err.      t    P>|t|     [95% Conf. Interval]\n",
      "-------------+----------------------------------------------------------------\n",
      "         cpe |  -.0362021   .0267737    -1.35   0.181     -.089673    .0172687\n",
      "       cpe_1 |  -.0139706    .027554    -0.51   0.614    -.0689997    .0410584\n",
      "       cpe_2 |   .1099896   .0268797     4.09   0.000     .0563071    .1636721\n",
      "       _cons |  -.9636787   .4677599    -2.06   0.043     -1.89786   -.0294976\n",
      "------------------------------------------------------------------------------\n",
      "\n"
     ]
    }
   ],
   "source": [
    "%%stata\n",
    "\n",
    "tsset t\n",
    "reg cgfr cpe cpe_1 cpe_2"
   ]
  },
  {
   "cell_type": "markdown",
   "metadata": {},
   "source": [
    "检验模型的自相关性\n",
    "$$e_{t}=\\alpha_{0} + \\alpha_{1}e_{t-1} + \\mu$$"
   ]
  },
  {
   "cell_type": "code",
   "execution_count": 8,
   "metadata": {},
   "outputs": [
    {
     "name": "stdout",
     "output_type": "stream",
     "text": [
      "(3 missing values generated)\n",
      "\n",
      "      Source |       SS           df       MS      Number of obs   =        68\n",
      "-------------+----------------------------------   F(1, 66)        =      6.12\n",
      "       Model |  82.0925528         1  82.0925528   Prob > F        =    0.0160\n",
      "    Residual |  885.696538        66  13.4196445   R-squared       =    0.0848\n",
      "-------------+----------------------------------   Adj R-squared   =    0.0710\n",
      "       Total |   967.78909        67  14.4446133   Root MSE        =    3.6633\n",
      "\n",
      "------------------------------------------------------------------------------\n",
      "          e1 |      Coef.   Std. Err.      t    P>|t|     [95% Conf. Interval]\n",
      "-------------+----------------------------------------------------------------\n",
      "          e1 |\n",
      "         L1. |   .2918091   .1179825     2.47   0.016     .0562495    .5273687\n",
      "             |\n",
      "       _cons |   .0180209   .4442522     0.04   0.968    -.8689571     .904999\n",
      "------------------------------------------------------------------------------\n",
      "\n"
     ]
    }
   ],
   "source": [
    "%%stata\n",
    "predict e1, r\n",
    "reg e1 L1.e1"
   ]
  },
  {
   "cell_type": "code",
   "execution_count": 9,
   "metadata": {},
   "outputs": [
    {
     "name": "stdout",
     "output_type": "stream",
     "text": [
      "\n",
      "      Source |       SS           df       MS      Number of obs   =        69\n",
      "-------------+----------------------------------   F(4, 64)        =      7.46\n",
      "       Model |  401.286124         4  100.321531   Prob > F        =    0.0001\n",
      "    Residual |   860.17367        64  13.4402136   R-squared       =    0.3181\n",
      "-------------+----------------------------------   Adj R-squared   =    0.2755\n",
      "       Total |  1261.45979        68  18.5508793   Root MSE        =    3.6661\n",
      "\n",
      "------------------------------------------------------------------------------\n",
      "        cgfr |      Coef.   Std. Err.      t    P>|t|     [95% Conf. Interval]\n",
      "-------------+----------------------------------------------------------------\n",
      "         cpe |  -.0454721   .0256417    -1.77   0.081    -.0966972     .005753\n",
      "       cpe_1 |    .002064   .0267776     0.08   0.939    -.0514303    .0555584\n",
      "       cpe_2 |   .1051346   .0255904     4.11   0.000      .054012    .1562572\n",
      "      cgfr_1 |   .3002422   .1059034     2.84   0.006     .0886757    .5118086\n",
      "       _cons |  -.7021595   .4537988    -1.55   0.127    -1.608727    .2044079\n",
      "------------------------------------------------------------------------------\n",
      "\n"
     ]
    }
   ],
   "source": [
    "%%stata\n",
    "\n",
    "reg cgfr cpe cpe_1 cpe_2 cgfr_1"
   ]
  },
  {
   "cell_type": "code",
   "execution_count": 10,
   "metadata": {},
   "outputs": [
    {
     "name": "stdout",
     "output_type": "stream",
     "text": [
      "(3 missing values generated)\n",
      "\n",
      "      Source |       SS           df       MS      Number of obs   =        68\n",
      "-------------+----------------------------------   F(1, 66)        =      0.05\n",
      "       Model |  .602872517         1  .602872517   Prob > F        =    0.8303\n",
      "    Residual |  859.393992        66  13.0211211   R-squared       =    0.0007\n",
      "-------------+----------------------------------   Adj R-squared   =   -0.0144\n",
      "       Total |  859.996865        67  12.8357741   Root MSE        =    3.6085\n",
      "\n",
      "------------------------------------------------------------------------------\n",
      "          e2 |      Coef.   Std. Err.      t    P>|t|     [95% Conf. Interval]\n",
      "-------------+----------------------------------------------------------------\n",
      "          e2 |\n",
      "         L1. |   .0265497   .1233876     0.22   0.830    -.2198015     .272901\n",
      "             |\n",
      "       _cons |   .0069969   .4376105     0.02   0.987    -.8667207    .8807145\n",
      "------------------------------------------------------------------------------\n",
      "\n"
     ]
    }
   ],
   "source": [
    "%%stata\n",
    "predict e2, r\n",
    "reg e2 L1.e2"
   ]
  }
 ],
 "metadata": {
  "kernelspec": {
   "display_name": "Python 3",
   "language": "python",
   "name": "python3"
  },
  "language_info": {
   "codemirror_mode": {
    "name": "ipython",
    "version": 3
   },
   "file_extension": ".py",
   "mimetype": "text/x-python",
   "name": "python",
   "nbconvert_exporter": "python",
   "pygments_lexer": "ipython3",
   "version": "3.6.1"
  }
 },
 "nbformat": 4,
 "nbformat_minor": 2
}
