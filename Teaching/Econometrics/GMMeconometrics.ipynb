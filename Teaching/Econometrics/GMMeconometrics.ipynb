{
 "cells": [
  {
   "cell_type": "markdown",
   "metadata": {},
   "source": [
    "## GMM估计"
   ]
  },
  {
   "cell_type": "markdown",
   "metadata": {},
   "source": [
    "### What is GMM?\n",
    "\n",
    "The generalize method of moments (GMM) is a general framework for deriving estimators\n",
    "\n",
    "GMM estimators use assumptions about the moments of the random variables to derive an objective function\n",
    "\n",
    "- The assumed moments of the random variables are known as the population moments\n",
    "- The data provide the sample moments\n",
    "- We minimize the objective function to select the parameters that yield the smallest differences between the population moments and the sample moments"
   ]
  },
  {
   "cell_type": "markdown",
   "metadata": {},
   "source": [
    "### MM and GMM\n",
    "\n",
    "In the method of moments (MM), we have the same number of sample moment conditions as we have parameters\n",
    "\n",
    "In the generalized method of moments (GMM), we more sample moment conditions than we have parameters"
   ]
  },
  {
   "cell_type": "markdown",
   "metadata": {},
   "source": [
    "### OLS is an MM estimator\n",
    "\n",
    "We know that OLS estimates the parameters of the condtional expectation of\n",
    "\n",
    "$$y_{i} = x_{i} \\beta + \\mu_{i}$$ \n",
    "\n",
    "under the assumption that $E[\\mu | x] = 0$\n",
    "\n",
    "The population moment conditions for OLS are\n",
    "$$E(x \\mu) = E[x(y-x \\beta)]=0$$\n",
    "\n",
    "The corresponding sample moment conditions are\n",
    "$$(1/N) \\sum_{i=1}^{N} x_{i}(y_{i} - x_{i} \\beta) = 0$$\n",
    "\n",
    "Solving for $\\beta$ yields\n",
    "$$\\hat{\\beta}_{OLS} = (\\sum_{i=1}^{N} x_{i}^{\\prime} x_{i})^{-1} \\sum_{i=1}^{N} x_{i}^{\\prime} y_{i}$$"
   ]
  },
  {
   "cell_type": "markdown",
   "metadata": {},
   "source": [
    "### Generalized method-of-moments (GMM)\n",
    "\n",
    "The MM only works when the number of moment conditions equals the number of parameters to estimate\n",
    "\n",
    "Generalized method-of-moments (GMM) estimators choose the estimates that minimize a quadratic form of the moment conditions"
   ]
  },
  {
   "cell_type": "markdown",
   "metadata": {},
   "source": [
    "### Definition of GMM estimator\n",
    "\n",
    "Our research question implies q population moment conditions\n",
    "\n",
    "$$E[m(w_{i},\\theta)] = 0$$\n",
    "\n",
    "- m is q × 1 vector of functions whose expected values are zero in the population\n",
    "- $w_{i}$ is the data on person i\n",
    "- $\\theta$ is k × 1 vector of parmeters, k ≤ q\n",
    "\n",
    "The sample moments that correspond to the population moments are\n",
    "\n",
    "$$\\bar{m}(\\theta) = (1/N)\\sum_{i=1}^{N} m(w_{i},\\theta)$$\n",
    "\n",
    "When k < q, the GMM choses the parameters that are as close as possible to solving the over-identified system of moment equations\n",
    "\n",
    "$$\\hat{\\theta}_{GMM} = arg min_{\\theta} \\ \\ \\bar{m}(\\theta)^{\\prime} W \\bar{m}(\\theta)$$"
   ]
  },
  {
   "cell_type": "markdown",
   "metadata": {},
   "source": [
    "### Some properties of the GMM estimator\n",
    "\n",
    "$$\\hat{\\theta}_{GMM} = arg min_{\\theta} \\ \\ \\bar{m}(\\theta)^{\\prime} W \\bar{m}(\\theta)$$\n",
    "\n",
    "W only affects the efficiency of the GMM estimator\n",
    "\n",
    "- Setting $W = I$ yields consistent, but inefficent estimates\n",
    "- Setting $W = Cov[\\bar{m}(\\theta)]^{-1}$ yields an efficient GMM estimator\n",
    "- We can take multiple steps to get an efficient GMM estimator"
   ]
  },
  {
   "cell_type": "code",
   "execution_count": 1,
   "metadata": {},
   "outputs": [],
   "source": [
    "import ipystata"
   ]
  },
  {
   "cell_type": "code",
   "execution_count": 7,
   "metadata": {},
   "outputs": [
    {
     "name": "stdout",
     "output_type": "stream",
     "text": [
      "(1978 Automobile Data)\n",
      "\n",
      "      Source |       SS           df       MS      Number of obs   =        74\n",
      "-------------+----------------------------------   F(2, 71)        =     43.09\n",
      "       Model |  1339.68678         2  669.843392   Prob > F        =    0.0000\n",
      "    Residual |  1103.77268        71   15.546094   R-squared       =    0.5483\n",
      "-------------+----------------------------------   Adj R-squared   =    0.5355\n",
      "       Total |  2443.45946        73  33.4720474   Root MSE        =    3.9429\n",
      "\n",
      "------------------------------------------------------------------------------\n",
      "         mpg |      Coef.   Std. Err.      t    P>|t|     [95% Conf. Interval]\n",
      "-------------+----------------------------------------------------------------\n",
      "  gear_ratio |   3.032884   1.372978     2.21   0.030     .2952433    5.770524\n",
      "        turn |  -.7330502   .1424009    -5.15   0.000     -1.01699   -.4491108\n",
      "       _cons |   41.21801   8.990711     4.58   0.000     23.29104    59.14498\n",
      "------------------------------------------------------------------------------\n",
      "\n"
     ]
    }
   ],
   "source": [
    "%%stata\n",
    "\n",
    "sysuse auto\n",
    "\n",
    "* linear regression\n",
    "regress mpg gear_ratio turn"
   ]
  },
  {
   "cell_type": "code",
   "execution_count": 4,
   "metadata": {},
   "outputs": [
    {
     "name": "stdout",
     "output_type": "stream",
     "text": [
      ".  gmm (mpg - {b1}*gear_ratio - {b2}*turn - {b0}), instruments(gear_ratio turn)\n",
      "\n",
      "Step 1\n",
      "Iteration 0:   GMM criterion Q(b) =  471.67875  \n",
      "Iteration 1:   GMM criterion Q(b) =  3.058e-21  \n",
      "Iteration 2:   GMM criterion Q(b) =  2.545e-31  \n",
      "\n",
      "Step 2\n",
      "Iteration 0:   GMM criterion Q(b) =  1.691e-32  \n",
      "Iteration 1:   GMM criterion Q(b) =  1.691e-32  (backed up)\n",
      "\n",
      "note: model is exactly identified\n",
      "\n",
      "GMM estimation \n",
      "\n",
      "Number of parameters =   3\n",
      "Number of moments    =   3\n",
      "Initial weight matrix: Unadjusted                 Number of obs   =         74\n",
      "GMM weight matrix:     Robust\n",
      "\n",
      "------------------------------------------------------------------------------\n",
      "             |               Robust\n",
      "             |      Coef.   Std. Err.      z    P>|z|     [95% Conf. Interval]\n",
      "-------------+----------------------------------------------------------------\n",
      "         /b1 |   3.032884   1.501664     2.02   0.043     .0896757    5.976092\n",
      "         /b2 |  -.7330502    .117972    -6.21   0.000    -.9642711   -.5018293\n",
      "         /b0 |   41.21801   8.396739     4.91   0.000     24.76071    57.67532\n",
      "------------------------------------------------------------------------------\n",
      "Instruments for equation 1: gear_ratio turn _cons\n",
      "\n"
     ]
    }
   ],
   "source": [
    "%%stata\n",
    "\n",
    "gmm (mpg - {b1}*gear_ratio - {b2}*turn - {b0}), instruments(gear_ratio turn)"
   ]
  },
  {
   "cell_type": "code",
   "execution_count": 8,
   "metadata": {},
   "outputs": [
    {
     "name": "stdout",
     "output_type": "stream",
     "text": [
      "\n",
      "Instrumental variables (2SLS) regression          Number of obs   =         74\n",
      "                                                  Wald chi2(2)    =      90.94\n",
      "                                                  Prob > chi2     =     0.0000\n",
      "                                                  R-squared       =     0.4656\n",
      "                                                  Root MSE        =     4.2007\n",
      "\n",
      "------------------------------------------------------------------------------\n",
      "         mpg |      Coef.   Std. Err.      z    P>|z|     [95% Conf. Interval]\n",
      "-------------+----------------------------------------------------------------\n",
      "        turn |  -1.246426   .2012157    -6.19   0.000    -1.640801   -.8520502\n",
      "  gear_ratio |  -.3146499   1.697806    -0.19   0.853    -3.642288    3.012988\n",
      "       _cons |   71.66502    12.3775     5.79   0.000     47.40556    95.92447\n",
      "------------------------------------------------------------------------------\n",
      "Instrumented:  turn\n",
      "Instruments:   gear_ratio weight length headroom\n",
      "\n"
     ]
    }
   ],
   "source": [
    "%%stata\n",
    "\n",
    "* Two-stage least squares (same as ivregress 2sls)\n",
    " ivregress 2sls mpg gear_ratio (turn = weight length headroom)"
   ]
  },
  {
   "cell_type": "code",
   "execution_count": 9,
   "metadata": {},
   "outputs": [
    {
     "name": "stdout",
     "output_type": "stream",
     "text": [
      ".  gmm (mpg - {b1}*turn - {b2}*gear_ratio - {b0}), instruments(gear_ratio weight length headr\n",
      "Step 1\n",
      "Iteration 0:   GMM criterion Q(b) =  475.42283  \n",
      "Iteration 1:   GMM criterion Q(b) =  .16100633  \n",
      "Iteration 2:   GMM criterion Q(b) =  .16100633  \n",
      "\n",
      "GMM estimation \n",
      "\n",
      "Number of parameters =   3\n",
      "Number of moments    =   5\n",
      "Initial weight matrix: Unadjusted                 Number of obs   =         74\n",
      "\n",
      "------------------------------------------------------------------------------\n",
      "             |               Robust\n",
      "             |      Coef.   Std. Err.      z    P>|z|     [95% Conf. Interval]\n",
      "-------------+----------------------------------------------------------------\n",
      "         /b1 |  -1.246426   .1970566    -6.33   0.000    -1.632649   -.8602019\n",
      "         /b2 |  -.3146499   1.863079    -0.17   0.866    -3.966217    3.336917\n",
      "         /b0 |   71.66502   12.68722     5.65   0.000     46.79853    96.53151\n",
      "------------------------------------------------------------------------------\n",
      "Instruments for equation 1: gear_ratio weight length headroom _cons\n",
      "\n"
     ]
    }
   ],
   "source": [
    "%%stata\n",
    "\n",
    "gmm (mpg - {b1}*turn - {b2}*gear_ratio - {b0}), instruments(gear_ratio weight length headroom) onestep"
   ]
  }
 ],
 "metadata": {
  "kernelspec": {
   "display_name": "Python 3",
   "language": "python",
   "name": "python3"
  },
  "language_info": {
   "codemirror_mode": {
    "name": "ipython",
    "version": 3
   },
   "file_extension": ".py",
   "mimetype": "text/x-python",
   "name": "python",
   "nbconvert_exporter": "python",
   "pygments_lexer": "ipython3",
   "version": "3.6.1"
  }
 },
 "nbformat": 4,
 "nbformat_minor": 2
}
