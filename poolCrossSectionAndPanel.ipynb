{
 "cells": [
  {
   "cell_type": "markdown",
   "metadata": {},
   "source": [
    "## 混合横截面和面板数据回归"
   ]
  },
  {
   "cell_type": "code",
   "execution_count": 3,
   "metadata": {},
   "outputs": [],
   "source": [
    "import ipystata"
   ]
  },
  {
   "cell_type": "markdown",
   "metadata": {},
   "source": [
    "### 跨时独立横截面的混合\n",
    "\n",
    "例13.2 教育回报和工资中性别差异的变化"
   ]
  },
  {
   "cell_type": "code",
   "execution_count": 6,
   "metadata": {},
   "outputs": [],
   "source": [
    "%%stata\n",
    "\n",
    "use http://fmwww.bc.edu/ec-p/data/wooldridge/cps78_85"
   ]
  },
  {
   "cell_type": "code",
   "execution_count": 10,
   "metadata": {},
   "outputs": [
    {
     "name": "stdout",
     "output_type": "stream",
     "text": [
      "\n",
      "     +----------------------------------------------+\n",
      "     |  lwage   y85   educ   exper   union   female |\n",
      "     |----------------------------------------------|\n",
      "  1. |  1.215     0     12       8       0        0 |\n",
      "  2. | 1.6094     0     12      30       1        1 |\n",
      "  3. | 2.1401     0      6      38       1        0 |\n",
      "  4. | 2.0732     0     12      19       1        0 |\n",
      "  5. |  1.649     0     12      11       0        0 |\n",
      "     +----------------------------------------------+\n",
      "\n"
     ]
    }
   ],
   "source": [
    "%%stata\n",
    "\n",
    "l lwage y85 edu exper union female in 1/5"
   ]
  },
  {
   "cell_type": "code",
   "execution_count": 11,
   "metadata": {},
   "outputs": [
    {
     "name": "stdout",
     "output_type": "stream",
     "text": [
      "\n",
      "      Source |       SS           df       MS      Number of obs\n",
      "-------------+----------------------------------   F(8, 1075)   \n",
      "       Model |  135.992074         8  16.9990092   Prob > F     \n",
      "    Residual |  183.099094     1,075  .170324738   R-squared    \n",
      "-------------+----------------------------------   Adj R-squared\n",
      "       Total |  319.091167     1,083   .29463635   Root MSE     \n",
      "----------------------------------------------------------------\n",
      "       lwage |      Coef.   Std. Err.      t    P>|t|     [95% C\n",
      "-------------+--------------------------------------------------\n",
      "         y85 |   .1178062   .1237817     0.95   0.341     -.1250\n",
      "        educ |   .0747209   .0066764    11.19   0.000     .06162\n",
      "     y85educ |   .0184605   .0093542     1.97   0.049      .0001\n",
      "       exper |   .0295843   .0035673     8.29   0.000     .02258\n",
      "     expersq |  -.0003994   .0000775    -5.15   0.000    -.00055\n",
      "       union |   .2021319   .0302945     6.67   0.000     .14268\n",
      "      female |  -.3167086   .0366215    -8.65   0.000    -.38856\n",
      "      y85fem |    .085052    .051309     1.66   0.098    -.01562\n",
      "       _cons |   .4589329   .0934485     4.91   0.000     .27557\n",
      "----------------------------------------------------------------\n",
      "\n"
     ]
    }
   ],
   "source": [
    "%%stata\n",
    "\n",
    "reg lwage y85 educ y85educ exper expersq union female y85fem"
   ]
  },
  {
   "cell_type": "markdown",
   "metadata": {},
   "source": [
    "### 利用混合横截面作政策分析\n",
    "\n",
    "$$y = \\beta_{0} + \\delta_{0}d2 + \\beta_{1}dT + \\delta_{1}d2 \\cdot dT + other factors$$ \n",
    "\n",
    "例13.3 垃圾焚化炉的区位对住房价格的影响"
   ]
  },
  {
   "cell_type": "code",
   "execution_count": 12,
   "metadata": {},
   "outputs": [],
   "source": [
    "%%stata\n",
    "\n",
    "use http://fmwww.bc.edu/ec-p/data/wooldridge/kielmc"
   ]
  },
  {
   "cell_type": "code",
   "execution_count": 16,
   "metadata": {},
   "outputs": [
    {
     "name": "stdout",
     "output_type": "stream",
     "text": [
      "\n",
      "(est1 stored)\n",
      "\n",
      "(est2 stored)\n",
      "\n",
      "(est3 stored)\n",
      "\n",
      "------------------------------------------------------------\n",
      "                      (1)             (2)             (3)   \n",
      "                   rprice          rprice          rprice   \n",
      "------------------------------------------------------------\n",
      "nearinc          -30688.3***     -18824.4***     -18824.4***\n",
      "                  (-5.27)         (-3.97)         (-3.86)   \n",
      "\n",
      "y81                                               18790.3***\n",
      "                                                   (4.64)   \n",
      "\n",
      "y81nrinc                                         -11863.9   \n",
      "                                                  (-1.59)   \n",
      "\n",
      "_cons            101307.5***      82517.2***      82517.2***\n",
      "                  (32.75)         (31.09)         (30.26)   \n",
      "------------------------------------------------------------\n",
      "N                     142             179             321   \n",
      "adj. R-sq           0.159           0.076           0.166   \n",
      "------------------------------------------------------------\n",
      "t statistics in parentheses\n",
      "* p<0.05, ** p<0.01, *** p<0.001\n",
      "\n"
     ]
    }
   ],
   "source": [
    "%%stata\n",
    "\n",
    "eststo clear\n",
    "eststo: quietly reg rprice nearinc if year==1981\n",
    "eststo: quietly reg rprice nearinc if year==1978\n",
    "eststo: quietly reg rprice nearinc y81 y81nrinc\n",
    "esttab, ar2"
   ]
  },
  {
   "cell_type": "markdown",
   "metadata": {},
   "source": [
    "### 面板数据回归\n",
    "\n",
    "假设面板数据模型\n",
    "$$y_{it} = \\beta_{1}x_{it} + \\alpha_{i} + \\mu_{it}$$\n",
    "\n",
    "- 一阶差分估计量\n",
    "- 固定效应估计量\n",
    "- 随机效应估计量"
   ]
  },
  {
   "cell_type": "markdown",
   "metadata": {},
   "source": [
    "例14.4 使用面板数据的一个工资方程"
   ]
  },
  {
   "cell_type": "code",
   "execution_count": 17,
   "metadata": {},
   "outputs": [],
   "source": [
    "%%stata\n",
    "\n",
    "use http://fmwww.bc.edu/ec-p/data/wooldridge/wagepan"
   ]
  },
  {
   "cell_type": "code",
   "execution_count": 21,
   "metadata": {},
   "outputs": [
    {
     "name": "stdout",
     "output_type": "stream",
     "text": [
      "       panel variable:  nr (strongly balanced)\n",
      "        time variable:  year, 1980 to 1987\n",
      "                delta:  1 unit\n",
      "\n",
      "(est1 stored)\n",
      "\n",
      "(est2 stored)\n",
      "\n",
      "(est3 stored)\n",
      "\n",
      "------------------------------------------------------------\n",
      "                      (1)             (2)             (3)   \n",
      "                    lwage           lwage           lwage   \n",
      "------------------------------------------------------------\n",
      "educ               0.0913***       0.0919***                \n",
      "                  (17.44)          (8.62)                   \n",
      "\n",
      "black              -0.139***       -0.139**                 \n",
      "                  (-5.90)         (-2.92)                   \n",
      "\n",
      "hisp               0.0160          0.0217                   \n",
      "                   (0.77)          (0.51)                   \n",
      "\n",
      "exper              0.0672***        0.106***                \n",
      "                   (4.91)          (6.88)                   \n",
      "\n",
      "expersq          -0.00241**      -0.00472***     -0.00519***\n",
      "                  (-2.94)         (-6.85)         (-7.36)   \n",
      "\n",
      "married             0.108***       0.0640***       0.0467*  \n",
      "                   (6.90)          (3.81)          (2.55)   \n",
      "\n",
      "union               0.182***        0.106***       0.0800***\n",
      "                  (10.63)          (5.94)          (4.14)   \n",
      "\n",
      "d81                0.0583          0.0405           0.151***\n",
      "                   (1.92)          (1.64)          (6.89)   \n",
      "\n",
      "d82                0.0628          0.0309           0.253***\n",
      "                   (1.89)          (0.96)         (10.36)   \n",
      "\n",
      "d83                0.0620          0.0203           0.354***\n",
      "                   (1.69)          (0.49)         (12.12)   \n",
      "\n",
      "d84                0.0905*         0.0431           0.490***\n",
      "                   (2.26)          (0.84)         (13.53)   \n",
      "\n",
      "d85                 0.109*         0.0578           0.617***\n",
      "                   (2.52)          (0.94)         (13.65)   \n",
      "\n",
      "d86                 0.142**        0.0919           0.765***\n",
      "                   (3.06)          (1.29)         (13.64)   \n",
      "\n",
      "d87                 0.174***        0.135           0.925***\n",
      "                   (3.52)          (1.66)         (13.45)   \n",
      "\n",
      "_cons              0.0921          0.0236           1.426***\n",
      "                   (1.18)          (0.16)         (77.75)   \n",
      "------------------------------------------------------------\n",
      "N                    4360            4360            4360   \n",
      "------------------------------------------------------------\n",
      "t statistics in parentheses\n",
      "* p<0.05, ** p<0.01, *** p<0.001\n",
      "\n"
     ]
    }
   ],
   "source": [
    "%%stata\n",
    "\n",
    "xtset nr year\n",
    "eststo clear\n",
    "eststo: quietly reg lwage educ black hisp exper expersq married union d81-d87\n",
    "eststo: quietly xtreg lwage educ black hisp exper expersq married union d81-d87, re\n",
    "eststo: quietly xtreg lwage expersq married union d81-d87, fe\n",
    "esttab"
   ]
  }
 ],
 "metadata": {
  "kernelspec": {
   "display_name": "Python 3",
   "language": "python",
   "name": "python3"
  },
  "language_info": {
   "codemirror_mode": {
    "name": "ipython",
    "version": 3
   },
   "file_extension": ".py",
   "mimetype": "text/x-python",
   "name": "python",
   "nbconvert_exporter": "python",
   "pygments_lexer": "ipython3",
   "version": "3.6.1"
  }
 },
 "nbformat": 4,
 "nbformat_minor": 2
}
